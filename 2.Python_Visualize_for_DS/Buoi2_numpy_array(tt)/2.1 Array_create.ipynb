{
 "cells": [
  {
   "cell_type": "code",
   "execution_count": 1,
   "id": "0860b9ea-15e1-4032-b3ff-f59d3e0bd841",
   "metadata": {},
   "outputs": [],
   "source": [
    "import numpy as np"
   ]
  },
  {
   "cell_type": "code",
   "execution_count": 2,
   "id": "0a797d73-ddec-4190-bc9b-defc147e9132",
   "metadata": {},
   "outputs": [
    {
     "data": {
      "text/plain": [
       "array([0, 1, 2, 3, 4, 5, 6, 7, 8, 9])"
      ]
     },
     "execution_count": 2,
     "metadata": {},
     "output_type": "execute_result"
    }
   ],
   "source": [
    "arr_1 = np.arange(10) #Phát sinh mảng từ 0 đến 9\n",
    "arr_1"
   ]
  },
  {
   "cell_type": "code",
   "execution_count": 3,
   "id": "649f53df-435c-4a86-ae5f-63cff198c65d",
   "metadata": {},
   "outputs": [
    {
     "data": {
      "text/plain": [
       "array([ 1,  2,  3,  4,  5,  6,  7,  8,  9, 10, 11, 12, 13, 14, 15, 16, 17,\n",
       "       18, 19])"
      ]
     },
     "execution_count": 3,
     "metadata": {},
     "output_type": "execute_result"
    }
   ],
   "source": [
    "arr_1 = np.arange(1,20) #Mảng từ 1 - 19\n",
    "arr_1"
   ]
  },
  {
   "cell_type": "code",
   "execution_count": 4,
   "id": "31c4b3b6-d9ed-4ca7-9e0a-a2aaef86420c",
   "metadata": {},
   "outputs": [
    {
     "data": {
      "text/plain": [
       "array([0, 2, 4, 6, 8])"
      ]
     },
     "execution_count": 4,
     "metadata": {},
     "output_type": "execute_result"
    }
   ],
   "source": [
    "arr_1 = np.arange(0,10,2) #0 - 8 với step là 2\n",
    "arr_1"
   ]
  },
  {
   "cell_type": "code",
   "execution_count": 5,
   "id": "f505de82-2b87-4761-97c5-ce714760f152",
   "metadata": {},
   "outputs": [
    {
     "data": {
      "text/plain": [
       "array([1, 4, 6])"
      ]
     },
     "execution_count": 5,
     "metadata": {},
     "output_type": "execute_result"
    }
   ],
   "source": [
    "arr_2 = np.asarray((1,4,6)) #Truyền vào tuple để tạo array\n",
    "arr_2"
   ]
  },
  {
   "cell_type": "code",
   "execution_count": 6,
   "id": "1a2d1a7d-806f-4366-bf72-ac5b9f7205ec",
   "metadata": {},
   "outputs": [
    {
     "data": {
      "text/plain": [
       "array([[1, 1],\n",
       "       [1, 1],\n",
       "       [1, 1]])"
      ]
     },
     "execution_count": 6,
     "metadata": {},
     "output_type": "execute_result"
    }
   ],
   "source": [
    "arr_3 = np.ones((3,2),dtype=int) #Tạo ma trận 1, gồm 3 dòng và 2 cột\n",
    "arr_3"
   ]
  },
  {
   "cell_type": "code",
   "execution_count": 7,
   "id": "974abfa2-e082-4b92-af65-da9bfd64883b",
   "metadata": {},
   "outputs": [
    {
     "data": {
      "text/plain": [
       "array([[0., 0.],\n",
       "       [0., 0.],\n",
       "       [0., 0.],\n",
       "       [0., 0.],\n",
       "       [0., 0.]])"
      ]
     },
     "execution_count": 7,
     "metadata": {},
     "output_type": "execute_result"
    }
   ],
   "source": [
    "arr_4 = np.zeros((5,2)) #Tạo ma trận 0 với 5 dòng 2 cột\n",
    "arr_4"
   ]
  },
  {
   "cell_type": "code",
   "execution_count": 8,
   "id": "affb6d60-3444-4a65-b4d2-0f4fd9edeef8",
   "metadata": {},
   "outputs": [
    {
     "data": {
      "text/plain": [
       "array([ 1.  , 13.25, 25.5 , 37.75, 50.  ])"
      ]
     },
     "execution_count": 8,
     "metadata": {},
     "output_type": "execute_result"
    }
   ],
   "source": [
    "arr_5 = np.linspace(1,50,5) #Tạo ma trận gồm 5 phần tử, đầu là 1, cuối là 50, chênh lệch của các phần tử bằng nhau\n",
    "arr_5"
   ]
  },
  {
   "cell_type": "code",
   "execution_count": 9,
   "id": "8057d8bf-c50f-45ca-aaa4-a53d1aeebb38",
   "metadata": {},
   "outputs": [
    {
     "data": {
      "text/plain": [
       "array([ 1. , 10.8, 20.6, 30.4, 40.2])"
      ]
     },
     "execution_count": 9,
     "metadata": {},
     "output_type": "execute_result"
    }
   ],
   "source": [
    "arr_6 = np.linspace(1,50,5,endpoint=False) #Cũng giống cái trên, nhưng không lấy endpoint là 50\n",
    "arr_6"
   ]
  },
  {
   "cell_type": "code",
   "execution_count": 10,
   "id": "7bfc48f0-12a6-4277-a00b-70ba18e6a894",
   "metadata": {},
   "outputs": [
    {
     "data": {
      "text/plain": [
       "(array([ 1.  , 10.75, 20.5 , 30.25, 40.  ]), 9.75)"
      ]
     },
     "execution_count": 10,
     "metadata": {},
     "output_type": "execute_result"
    }
   ],
   "source": [
    "arr_7 = np.linspace(1,40,5,retstep=True) #Cũng giống linspace thường, trả về giá trị bước nhảy giữa các phần tử\n",
    "arr_7"
   ]
  },
  {
   "cell_type": "code",
   "execution_count": 11,
   "id": "d359d929-e3f1-4098-951b-5631a03156d7",
   "metadata": {},
   "outputs": [
    {
     "data": {
      "text/plain": [
       "array([[2, 9, 4, 3],\n",
       "       [6, 4, 9, 5],\n",
       "       [5, 8, 9, 1]])"
      ]
     },
     "execution_count": 11,
     "metadata": {},
     "output_type": "execute_result"
    }
   ],
   "source": [
    "arr_8 = np.random.randint(10,size=(3,4)) #Tạo ma trận 3 dòng 4 cột, mỗi phân tử  số nguyên ngẫu nhiên từ 0-9 số \n",
    "arr_8"
   ]
  },
  {
   "cell_type": "code",
   "execution_count": 12,
   "id": "67006919-9a94-4bf6-8883-db6ada0b4b70",
   "metadata": {},
   "outputs": [
    {
     "data": {
      "text/plain": [
       "array([[0.60889413, 0.32031624],\n",
       "       [0.8078073 , 0.4142662 ],\n",
       "       [0.47306101, 0.30185451]])"
      ]
     },
     "execution_count": 12,
     "metadata": {},
     "output_type": "execute_result"
    }
   ],
   "source": [
    "arr_9 = np.random.rand(3,2) #Tạo mtr 3 dòng 2 cột, mỗi phần tử ngẫu nhiên từ 0 đến 1 (float)\n",
    "arr_9"
   ]
  },
  {
   "cell_type": "code",
   "execution_count": 13,
   "id": "ecf87607-fa63-410a-b487-0d3a8c5d2279",
   "metadata": {},
   "outputs": [
    {
     "name": "stdout",
     "output_type": "stream",
     "text": [
      "[15 16 17 18 19 20 21 22 23 24]\n"
     ]
    },
    {
     "data": {
      "text/plain": [
       "(10,)"
      ]
     },
     "execution_count": 13,
     "metadata": {},
     "output_type": "execute_result"
    }
   ],
   "source": [
    "arr_10 = np.arange(15,25)\n",
    "print(arr_10)\n",
    "arr_10.shape #Trả về tuple (số hàng, số cột) chứa thông tin về số hàng và cột của array đó"
   ]
  },
  {
   "cell_type": "code",
   "execution_count": 14,
   "id": "43d8e010-580d-4362-88c0-f457f8973d5c",
   "metadata": {},
   "outputs": [
    {
     "name": "stdout",
     "output_type": "stream",
     "text": [
      "[[16 19 18  1]\n",
      " [17 12 17  3]\n",
      " [11 11 16 10]\n",
      " [17 16 10 17]\n",
      " [ 4  5  2  6]]\n"
     ]
    },
    {
     "data": {
      "text/plain": [
       "(5, 4)"
      ]
     },
     "execution_count": 14,
     "metadata": {},
     "output_type": "execute_result"
    }
   ],
   "source": [
    "arr_11 = np.random.randint(20,size=(5,4))\n",
    "print(arr_11)\n",
    "arr_11.shape"
   ]
  },
  {
   "cell_type": "code",
   "execution_count": 15,
   "id": "ea35e652-d895-4a91-8f9a-05032fbd01eb",
   "metadata": {},
   "outputs": [
    {
     "data": {
      "text/plain": [
       "array([54, 49, 48, 60, 17])"
      ]
     },
     "execution_count": 15,
     "metadata": {},
     "output_type": "execute_result"
    }
   ],
   "source": [
    "arr_11.sum(axis=1) #Tổng theo hàng"
   ]
  },
  {
   "cell_type": "code",
   "execution_count": 16,
   "id": "43fd1133-eff7-476e-a6a7-1e528ecd531c",
   "metadata": {},
   "outputs": [
    {
     "data": {
      "text/plain": [
       "array([65, 63, 63, 37])"
      ]
     },
     "execution_count": 16,
     "metadata": {},
     "output_type": "execute_result"
    }
   ],
   "source": [
    "arr_11.sum(axis=0) #Tổng theo cột"
   ]
  },
  {
   "cell_type": "code",
   "execution_count": 18,
   "id": "20b004c1-9f83-471e-894e-1e502e8f642d",
   "metadata": {},
   "outputs": [
    {
     "name": "stdout",
     "output_type": "stream",
     "text": [
      "[ 0  1  2  3  4  5  6  7  8  9 10 11]\n",
      "[[ 0  1  2  3]\n",
      " [ 4  5  6  7]\n",
      " [ 8  9 10 11]]\n"
     ]
    }
   ],
   "source": [
    "arr_1 = np.arange(12)\n",
    "print(arr_1)\n",
    "\n",
    "arr_2 = arr_1.reshape(3,4) #Từ arr_1, reshape lại để tạo ma trận arr_2 (3 dòng, 4 cột)\n",
    "print(arr_2)"
   ]
  },
  {
   "cell_type": "code",
   "execution_count": 20,
   "id": "3c5d30e0-155e-4335-b88e-1c2c72df70c5",
   "metadata": {},
   "outputs": [
    {
     "data": {
      "text/plain": [
       "array([[0, 1],\n",
       "       [4, 5]])"
      ]
     },
     "execution_count": 20,
     "metadata": {},
     "output_type": "execute_result"
    }
   ],
   "source": [
    "arr_2[:2,:2] #Tham chiếu đến hàng và cột mong muốn"
   ]
  },
  {
   "cell_type": "code",
   "execution_count": 21,
   "id": "14b81912-57e3-4692-a184-fb7b36f1412c",
   "metadata": {},
   "outputs": [
    {
     "data": {
      "text/plain": [
       "array([[1, 2, 3],\n",
       "       [5, 6, 7]])"
      ]
     },
     "execution_count": 21,
     "metadata": {},
     "output_type": "execute_result"
    }
   ],
   "source": [
    "arr_2[:2,1:]"
   ]
  },
  {
   "cell_type": "code",
   "execution_count": 22,
   "id": "7cbeefae-e29f-4db8-b36f-695073577e97",
   "metadata": {},
   "outputs": [
    {
     "name": "stdout",
     "output_type": "stream",
     "text": [
      "[ 0  1  2  3  4  5  6  7  8  9 10 11]\n",
      "3.452052529534663\n"
     ]
    }
   ],
   "source": [
    "print(arr_1)\n",
    "print(np.std(arr_1)) #Tính độ lệch chuẩn của các dữ liệu trong arr_1"
   ]
  },
  {
   "cell_type": "code",
   "execution_count": 27,
   "id": "6dd5030b-fe54-4236-96b8-edc8000f3ef9",
   "metadata": {},
   "outputs": [
    {
     "name": "stdout",
     "output_type": "stream",
     "text": [
      "[[ 0  1  2  3  4  5]\n",
      " [ 6  7  8  9 10 11]]\n",
      "[[1. 1.]\n",
      " [1. 1.]]\n"
     ]
    }
   ],
   "source": [
    "arr_ex = arr_1.reshape(2,6)\n",
    "print(arr_ex)\n",
    "print(np.corrcoef(arr_ex[0],arr_ex[1])) #Tính hệ số tương quan giữa các phần tử trong arr_ex[0] và arr_ex[1]\n",
    "                                        #kết quả trả về  là [[coreff 0-0 = 1, corref 0-1], \n",
    "                                        #                     [corref 1-0, coref1-1 = 1]]"
   ]
  },
  {
   "cell_type": "code",
   "execution_count": null,
   "id": "ce8aebbf-393e-4ee9-b3ce-90ce55a74027",
   "metadata": {},
   "outputs": [],
   "source": []
  }
 ],
 "metadata": {
  "kernelspec": {
   "display_name": "Python 3 (ipykernel)",
   "language": "python",
   "name": "python3"
  },
  "language_info": {
   "codemirror_mode": {
    "name": "ipython",
    "version": 3
   },
   "file_extension": ".py",
   "mimetype": "text/x-python",
   "name": "python",
   "nbconvert_exporter": "python",
   "pygments_lexer": "ipython3",
   "version": "3.10.12"
  }
 },
 "nbformat": 4,
 "nbformat_minor": 5
}
