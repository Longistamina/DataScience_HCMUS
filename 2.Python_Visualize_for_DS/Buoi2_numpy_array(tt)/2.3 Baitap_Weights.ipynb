{
 "cells": [
  {
   "cell_type": "code",
   "execution_count": 1,
   "id": "81e43191-eb14-406e-83b2-3ca6769cbf5c",
   "metadata": {},
   "outputs": [],
   "source": [
    "import numpy as np"
   ]
  },
  {
   "cell_type": "code",
   "execution_count": 2,
   "id": "94a19287-2af5-48a3-b195-2bcbe991aa68",
   "metadata": {},
   "outputs": [],
   "source": [
    "f = open('weights_1.txt') #Khối lượng cầu thủ bóng chày, đơn vị pounds\n",
    "data_w = f.read()\n",
    "f.close\n",
    "\n",
    "lst_w = eval(data_w)\n",
    "arr_lbs = np.array(lst_w)"
   ]
  },
  {
   "cell_type": "code",
   "execution_count": 3,
   "id": "55d7133e-8ea9-45ee-8e4b-b2b2300343f6",
   "metadata": {},
   "outputs": [
    {
     "data": {
      "text/plain": [
       "array([180, 215, 210, ..., 205, 190, 195])"
      ]
     },
     "execution_count": 3,
     "metadata": {},
     "output_type": "execute_result"
    }
   ],
   "source": [
    "arr_lbs"
   ]
  },
  {
   "cell_type": "code",
   "execution_count": 4,
   "id": "c14c303a-2969-4b4c-b956-f165d932f056",
   "metadata": {},
   "outputs": [
    {
     "name": "stdout",
     "output_type": "stream",
     "text": [
      "[81.64656 97.52228 95.25432 ... 92.98636 86.18248 88.45044]\n"
     ]
    }
   ],
   "source": [
    "#Chuyển đổi sang kg (*0.453592)\n",
    "arr_kg = arr_lbs*0.453592\n",
    "print(arr_kg)"
   ]
  },
  {
   "cell_type": "code",
   "execution_count": 6,
   "id": "b6f125fd-af15-41c6-90c4-da6419339141",
   "metadata": {},
   "outputs": [
    {
     "data": {
      "text/plain": [
       "(1015,)"
      ]
     },
     "execution_count": 6,
     "metadata": {},
     "output_type": "execute_result"
    }
   ],
   "source": [
    "#shape arr_kg\n",
    "arr_kg.shape"
   ]
  },
  {
   "cell_type": "code",
   "execution_count": 7,
   "id": "631d1cf7-66d0-4a36-a18b-f682dc28cc47",
   "metadata": {},
   "outputs": [
    {
     "data": {
      "text/plain": [
       "array([ 81.64656 ,  97.52228 ,  95.25432 ,  95.25432 ,  85.275296,\n",
       "        79.832192,  94.800728,  90.7184  , 104.779752,  81.64656 ])"
      ]
     },
     "execution_count": 7,
     "metadata": {},
     "output_type": "execute_result"
    }
   ],
   "source": [
    "#10 ptu dau\n",
    "arr_kg[:10]"
   ]
  },
  {
   "cell_type": "code",
   "execution_count": 8,
   "id": "4a6f824e-2b98-4944-a7cf-dfff604b81c7",
   "metadata": {},
   "outputs": [
    {
     "data": {
      "text/plain": [
       "array([104.32616,  86.18248,  99.79024,  81.64656,  92.98636,  86.18248,\n",
       "        81.64656,  92.98636,  86.18248,  88.45044])"
      ]
     },
     "execution_count": 8,
     "metadata": {},
     "output_type": "execute_result"
    }
   ],
   "source": [
    "#10 ptu cuoi\n",
    "arr_kg[-10:]"
   ]
  },
  {
   "cell_type": "code",
   "execution_count": 11,
   "id": "e3904f46-63b6-4958-8b70-7100d8fa345b",
   "metadata": {},
   "outputs": [
    {
     "name": "stdout",
     "output_type": "stream",
     "text": [
      "mean weight kg: 91.33019058916256\n",
      "median weight kg: 90.7184\n",
      "min weight kg: 68.0388\n",
      "max weight kg: 131.54167999999999\n"
     ]
    }
   ],
   "source": [
    "#Thống kê\n",
    "print('mean weight kg:',arr_kg.mean())\n",
    "print('median weight kg:',np.median(arr_kg))\n",
    "print('min weight kg:',arr_kg.min())\n",
    "print('max weight kg:',arr_kg.max())"
   ]
  },
  {
   "cell_type": "code",
   "execution_count": 12,
   "id": "fcab10f1-2ce0-4a87-83b8-8a222583912e",
   "metadata": {},
   "outputs": [
    {
     "data": {
      "text/plain": [
       "array([ 68.0388  ,  68.0388  ,  68.0388  , ..., 122.46984 , 126.098576,\n",
       "       131.54168 ])"
      ]
     },
     "execution_count": 12,
     "metadata": {},
     "output_type": "execute_result"
    }
   ],
   "source": [
    "#sort tang\n",
    "np.sort(arr_kg)"
   ]
  },
  {
   "cell_type": "code",
   "execution_count": 13,
   "id": "f6d4ff1e-dd36-4e71-b3ae-f9cf57628d89",
   "metadata": {},
   "outputs": [
    {
     "data": {
      "text/plain": [
       "array([131.54168 , 126.098576, 122.46984 , ...,  68.0388  ,  68.0388  ,\n",
       "        68.0388  ])"
      ]
     },
     "execution_count": 13,
     "metadata": {},
     "output_type": "execute_result"
    }
   ],
   "source": [
    "#sort giam\n",
    "np.sort(arr_kg)[::-1]"
   ]
  },
  {
   "cell_type": "code",
   "execution_count": null,
   "id": "4893d5fd-84e6-4f6d-88c2-7c8e510aeb16",
   "metadata": {},
   "outputs": [],
   "source": []
  }
 ],
 "metadata": {
  "kernelspec": {
   "display_name": "Python 3 (ipykernel)",
   "language": "python",
   "name": "python3"
  },
  "language_info": {
   "codemirror_mode": {
    "name": "ipython",
    "version": 3
   },
   "file_extension": ".py",
   "mimetype": "text/x-python",
   "name": "python",
   "nbconvert_exporter": "python",
   "pygments_lexer": "ipython3",
   "version": "3.10.12"
  }
 },
 "nbformat": 4,
 "nbformat_minor": 5
}
