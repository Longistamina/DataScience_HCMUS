{
 "cells": [
  {
   "cell_type": "code",
   "execution_count": 1,
   "id": "dd466204-472e-430b-b7f2-876db8acb91f",
   "metadata": {},
   "outputs": [],
   "source": [
    "#series: 1D array\n",
    "#Data frame: 2D array\n",
    "#Panel: 3D array (ít dùng)\n",
    "\n",
    "import numpy as np\n",
    "import pandas as pd"
   ]
  },
  {
   "cell_type": "code",
   "execution_count": 2,
   "id": "94be5ecb-9aa0-4252-a986-90cbc2fa3cda",
   "metadata": {},
   "outputs": [],
   "source": [
    "#tao series\n",
    "ser_diem = pd.Series([7.8,6.7,9.2,8.3,5.4])"
   ]
  },
  {
   "cell_type": "code",
   "execution_count": 3,
   "id": "455b2b96-bef9-4564-a3af-bef90a01d831",
   "metadata": {},
   "outputs": [
    {
     "data": {
      "text/plain": [
       "pandas.core.series.Series"
      ]
     },
     "execution_count": 3,
     "metadata": {},
     "output_type": "execute_result"
    }
   ],
   "source": [
    "type(ser_diem)"
   ]
  },
  {
   "cell_type": "code",
   "execution_count": 4,
   "id": "0dbdacce-7393-4380-9837-ae0737ab6e36",
   "metadata": {},
   "outputs": [
    {
     "data": {
      "text/plain": [
       "0    7.8\n",
       "1    6.7\n",
       "2    9.2\n",
       "3    8.3\n",
       "4    5.4\n",
       "dtype: float64"
      ]
     },
     "execution_count": 4,
     "metadata": {},
     "output_type": "execute_result"
    }
   ],
   "source": [
    "ser_diem"
   ]
  },
  {
   "cell_type": "code",
   "execution_count": 5,
   "id": "c123be19-09ff-4f44-a6b5-27ddfbabf96f",
   "metadata": {},
   "outputs": [],
   "source": [
    "#Bên trái là index, bên phải là value\n",
    "#Có hai loại index là index số  và index nhãn (lable)"
   ]
  },
  {
   "cell_type": "code",
   "execution_count": 6,
   "id": "668533f4-49f5-4f75-9991-4bcdbd51eb67",
   "metadata": {},
   "outputs": [],
   "source": [
    "ser_diem2 = pd.Series([7.8,6.7,9.2,8.3,5.4], index=['A01','A02','B01','B02','B03']) #Tạo index lable cho các value"
   ]
  },
  {
   "cell_type": "code",
   "execution_count": 7,
   "id": "26855587-b1da-4f10-b086-27ee175dd54d",
   "metadata": {},
   "outputs": [
    {
     "data": {
      "text/plain": [
       "A01    7.8\n",
       "A02    6.7\n",
       "B01    9.2\n",
       "B02    8.3\n",
       "B03    5.4\n",
       "dtype: float64"
      ]
     },
     "execution_count": 7,
     "metadata": {},
     "output_type": "execute_result"
    }
   ],
   "source": [
    "ser_diem2"
   ]
  },
  {
   "cell_type": "code",
   "execution_count": 8,
   "id": "098ef5cc-a420-488c-80a9-26473991eb68",
   "metadata": {},
   "outputs": [
    {
     "data": {
      "text/plain": [
       "8.3"
      ]
     },
     "execution_count": 8,
     "metadata": {},
     "output_type": "execute_result"
    }
   ],
   "source": [
    "ser_diem2['B02']"
   ]
  },
  {
   "cell_type": "code",
   "execution_count": 13,
   "id": "09579481-807a-45c5-8669-f4a8fd86616e",
   "metadata": {},
   "outputs": [
    {
     "name": "stderr",
     "output_type": "stream",
     "text": [
      "/tmp/ipykernel_17325/185321358.py:1: FutureWarning: Series.__getitem__ treating keys as positions is deprecated. In a future version, integer keys will always be treated as labels (consistent with DataFrame behavior). To access a value by position, use `ser.iloc[pos]`\n",
      "  ser_diem2[0] #Khi cập nhật index lable thì index số mặc định vẫn còn chứ không mất đi\n"
     ]
    },
    {
     "data": {
      "text/plain": [
       "7.8"
      ]
     },
     "execution_count": 13,
     "metadata": {},
     "output_type": "execute_result"
    }
   ],
   "source": [
    "ser_diem2[0] #Khi cập nhật index lable thì index số mặc định vẫn còn chứ không mất đi"
   ]
  },
  {
   "cell_type": "code",
   "execution_count": 14,
   "id": "2df3ee91-0635-4126-aa69-08d9dc54a608",
   "metadata": {},
   "outputs": [
    {
     "data": {
      "text/plain": [
       "A01    7.8\n",
       "A02    6.7\n",
       "B01    9.2\n",
       "dtype: float64"
      ]
     },
     "execution_count": 14,
     "metadata": {},
     "output_type": "execute_result"
    }
   ],
   "source": [
    "ser_diem2.head(3) #Xem 3 dòng đầu của ser_diem2"
   ]
  },
  {
   "cell_type": "code",
   "execution_count": 12,
   "id": "9f59e9ad-d330-48ae-8583-ab9a52afe95f",
   "metadata": {},
   "outputs": [
    {
     "data": {
      "text/plain": [
       "A02    6.7\n",
       "B01    9.2\n",
       "B02    8.3\n",
       "B03    5.4\n",
       "dtype: float64"
      ]
     },
     "execution_count": 12,
     "metadata": {},
     "output_type": "execute_result"
    }
   ],
   "source": [
    "ser_diem2.tail(4) #Xem 4 dòng cuối của ser_diem2"
   ]
  },
  {
   "cell_type": "code",
   "execution_count": 15,
   "id": "10a09794-f3b4-4cc8-a079-165470558b15",
   "metadata": {},
   "outputs": [
    {
     "data": {
      "text/plain": [
       "(5,)"
      ]
     },
     "execution_count": 15,
     "metadata": {},
     "output_type": "execute_result"
    }
   ],
   "source": [
    "ser_diem2.shape #Xem số  dimension (5,)là một chiều, chứa 5 giá trị"
   ]
  },
  {
   "cell_type": "code",
   "execution_count": 16,
   "id": "72b99b63-bb6d-4b9c-abd9-736aa37a9d57",
   "metadata": {},
   "outputs": [
    {
     "data": {
      "text/plain": [
       "5"
      ]
     },
     "execution_count": 16,
     "metadata": {},
     "output_type": "execute_result"
    }
   ],
   "source": [
    "ser_diem2.size #Xem kích thước của ser_diem2"
   ]
  },
  {
   "cell_type": "code",
   "execution_count": 17,
   "id": "dba85f27-d3b2-479c-88d7-8faeb11c6b7c",
   "metadata": {},
   "outputs": [],
   "source": [
    "#Có thể tạo series từ array (của numpy) hoặc từ dictionary (của python mặc định)"
   ]
  },
  {
   "cell_type": "code",
   "execution_count": 18,
   "id": "bd5bd88b-5f70-4a82-ad65-dae8668ce1c3",
   "metadata": {},
   "outputs": [],
   "source": [
    "ser_diem2['A01'] = 7.6 #Sửa giá trị có lable tương ứng\n",
    "ser_diem2['C01'] = 3.2 #Nếu lable đã có thì sửa giá trị, còn chưa có thì thêm vào cuối ser"
   ]
  },
  {
   "cell_type": "code",
   "execution_count": 19,
   "id": "ffd92e01-ef77-48b5-a2ed-18f6e4f1478f",
   "metadata": {},
   "outputs": [
    {
     "data": {
      "text/plain": [
       "A01    7.6\n",
       "A02    6.7\n",
       "B01    9.2\n",
       "B02    8.3\n",
       "B03    5.4\n",
       "C01    3.2\n",
       "dtype: float64"
      ]
     },
     "execution_count": 19,
     "metadata": {},
     "output_type": "execute_result"
    }
   ],
   "source": [
    "ser_diem2"
   ]
  },
  {
   "cell_type": "code",
   "execution_count": 23,
   "id": "43264da4-b588-48d9-b993-dba6f825af57",
   "metadata": {},
   "outputs": [
    {
     "data": {
      "text/plain": [
       "A02    6.7\n",
       "B01    9.2\n",
       "B02    8.3\n",
       "B03    5.4\n",
       "C01    3.2\n",
       "dtype: float64"
      ]
     },
     "execution_count": 23,
     "metadata": {},
     "output_type": "execute_result"
    }
   ],
   "source": [
    "ser_diem2.drop('A01') #Xoá một phần tử  có index tương ứng"
   ]
  },
  {
   "cell_type": "code",
   "execution_count": 24,
   "id": "d2a303d3-7077-4213-bb3c-bc0f67ba240d",
   "metadata": {},
   "outputs": [
    {
     "data": {
      "text/plain": [
       "A01    7.6\n",
       "A02    6.7\n",
       "B03    5.4\n",
       "C01    3.2\n",
       "dtype: float64"
      ]
     },
     "execution_count": 24,
     "metadata": {},
     "output_type": "execute_result"
    }
   ],
   "source": [
    "ser_diem2.drop(['B01','B02']) #Xoá nhiều phần tử"
   ]
  },
  {
   "cell_type": "code",
   "execution_count": 25,
   "id": "f706ecd8-2276-473f-8baf-6f837c107a8e",
   "metadata": {},
   "outputs": [
    {
     "data": {
      "text/plain": [
       "[7.6, 6.7, 9.2, 8.3, 5.4, 3.2]"
      ]
     },
     "execution_count": 25,
     "metadata": {},
     "output_type": "execute_result"
    }
   ],
   "source": [
    "ser_diem2.tolist() #Convert thành list, có đóng mở ngoặc vì đây là method"
   ]
  },
  {
   "cell_type": "code",
   "execution_count": 27,
   "id": "90d595f0-d953-4196-882e-1ab3a7383345",
   "metadata": {},
   "outputs": [
    {
     "data": {
      "text/plain": [
       "array([7.6, 6.7, 9.2, 8.3, 5.4, 3.2])"
      ]
     },
     "execution_count": 27,
     "metadata": {},
     "output_type": "execute_result"
    }
   ],
   "source": [
    "ser_diem2.values #convert thành array, không đóng mở ngoặc vì đây chỉ là propety (thuộc tính) "
   ]
  },
  {
   "cell_type": "code",
   "execution_count": 29,
   "id": "8376a03b-bcd4-4812-add7-fba3dbbbc3e3",
   "metadata": {},
   "outputs": [],
   "source": [
    "ser_diemNew = ser_diem.map(lambda x: x+0.5) #Dùng map() để  biến đổi series theo hàm lambda được định nghĩa"
   ]
  },
  {
   "cell_type": "code",
   "execution_count": 30,
   "id": "f2f8be8b-6e60-4373-a252-dfec12a26e4c",
   "metadata": {},
   "outputs": [
    {
     "data": {
      "text/plain": [
       "0    8.3\n",
       "1    7.2\n",
       "2    9.7\n",
       "3    8.8\n",
       "4    5.9\n",
       "dtype: float64"
      ]
     },
     "execution_count": 30,
     "metadata": {},
     "output_type": "execute_result"
    }
   ],
   "source": [
    "ser_diemNew"
   ]
  },
  {
   "cell_type": "code",
   "execution_count": 34,
   "id": "a66e41b7-4183-45eb-9d08-b9185fa064b4",
   "metadata": {},
   "outputs": [],
   "source": [
    "ser_note = np.where(ser_diem>=5,\"Dau\",\"Rot\")\n",
    "df = pd.DataFrame({'diem':ser_diem, 'note':ser_note}) #Tạo data frame dưới dạng dictionary"
   ]
  },
  {
   "cell_type": "code",
   "execution_count": 35,
   "id": "6e942e36-ed13-4913-915b-f4fb88bb1cc8",
   "metadata": {},
   "outputs": [
    {
     "data": {
      "text/html": [
       "<div>\n",
       "<style scoped>\n",
       "    .dataframe tbody tr th:only-of-type {\n",
       "        vertical-align: middle;\n",
       "    }\n",
       "\n",
       "    .dataframe tbody tr th {\n",
       "        vertical-align: top;\n",
       "    }\n",
       "\n",
       "    .dataframe thead th {\n",
       "        text-align: right;\n",
       "    }\n",
       "</style>\n",
       "<table border=\"1\" class=\"dataframe\">\n",
       "  <thead>\n",
       "    <tr style=\"text-align: right;\">\n",
       "      <th></th>\n",
       "      <th>diem</th>\n",
       "      <th>note</th>\n",
       "    </tr>\n",
       "  </thead>\n",
       "  <tbody>\n",
       "    <tr>\n",
       "      <th>0</th>\n",
       "      <td>7.8</td>\n",
       "      <td>Dau</td>\n",
       "    </tr>\n",
       "    <tr>\n",
       "      <th>1</th>\n",
       "      <td>6.7</td>\n",
       "      <td>Dau</td>\n",
       "    </tr>\n",
       "    <tr>\n",
       "      <th>2</th>\n",
       "      <td>9.2</td>\n",
       "      <td>Dau</td>\n",
       "    </tr>\n",
       "    <tr>\n",
       "      <th>3</th>\n",
       "      <td>8.3</td>\n",
       "      <td>Dau</td>\n",
       "    </tr>\n",
       "    <tr>\n",
       "      <th>4</th>\n",
       "      <td>5.4</td>\n",
       "      <td>Dau</td>\n",
       "    </tr>\n",
       "  </tbody>\n",
       "</table>\n",
       "</div>"
      ],
      "text/plain": [
       "   diem note\n",
       "0   7.8  Dau\n",
       "1   6.7  Dau\n",
       "2   9.2  Dau\n",
       "3   8.3  Dau\n",
       "4   5.4  Dau"
      ]
     },
     "execution_count": 35,
     "metadata": {},
     "output_type": "execute_result"
    }
   ],
   "source": [
    "df"
   ]
  },
  {
   "cell_type": "code",
   "execution_count": 36,
   "id": "90cad218-a64a-4a7e-a80e-8f601fd0bdde",
   "metadata": {},
   "outputs": [
    {
     "data": {
      "text/plain": [
       "count    5.000000\n",
       "mean     7.480000\n",
       "std      1.472073\n",
       "min      5.400000\n",
       "25%      6.700000\n",
       "50%      7.800000\n",
       "75%      8.300000\n",
       "max      9.200000\n",
       "dtype: float64"
      ]
     },
     "execution_count": 36,
     "metadata": {},
     "output_type": "execute_result"
    }
   ],
   "source": [
    "ser_diem.describe() #Xuất ra một số thống kê mô tả đơn giản"
   ]
  },
  {
   "cell_type": "code",
   "execution_count": null,
   "id": "9f3dbd22-0b26-4b21-b881-4d1916640c3a",
   "metadata": {},
   "outputs": [],
   "source": []
  }
 ],
 "metadata": {
  "kernelspec": {
   "display_name": "Python 3 (ipykernel)",
   "language": "python",
   "name": "python3"
  },
  "language_info": {
   "codemirror_mode": {
    "name": "ipython",
    "version": 3
   },
   "file_extension": ".py",
   "mimetype": "text/x-python",
   "name": "python",
   "nbconvert_exporter": "python",
   "pygments_lexer": "ipython3",
   "version": "3.10.12"
  }
 },
 "nbformat": 4,
 "nbformat_minor": 5
}
