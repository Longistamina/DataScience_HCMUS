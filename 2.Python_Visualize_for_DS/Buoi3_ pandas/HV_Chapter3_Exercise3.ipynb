{
 "cells": [
  {
   "cell_type": "markdown",
   "metadata": {
    "id": "lfebXTZHg4-Z"
   },
   "source": [
    "## Chapter 3 - Exercise 3: Thao tác trên mảng nhiều chiều, và đối chiếu với kết quả cho trước:"
   ]
  },
  {
   "cell_type": "code",
   "execution_count": 1,
   "metadata": {
    "id": "grYgdpFrg4-n"
   },
   "outputs": [],
   "source": [
    "import numpy as np"
   ]
  },
  {
   "cell_type": "code",
   "execution_count": 4,
   "metadata": {
    "id": "8PlLPdhkg4-o"
   },
   "outputs": [
    {
     "name": "stdout",
     "output_type": "stream",
     "text": [
      "[[ True  True  True]\n",
      " [ True  True  True]\n",
      " [ True  True  True]]\n"
     ]
    }
   ],
   "source": [
    "# Câu 1: Tạo array arr có kích thước 3x3 với tất cả các giá trị đều là True. \n",
    "arr = np.ones((3,3))\n",
    "arr = arr.astype(bool)\n",
    "# Hiển thị các phần tử của array arr\n",
    "print(arr)"
   ]
  },
  {
   "cell_type": "code",
   "execution_count": 5,
   "metadata": {},
   "outputs": [
    {
     "name": "stdout",
     "output_type": "stream",
     "text": [
      "[[ True  True  True]\n",
      " [ True  True  True]\n",
      " [ True  True  True]]\n"
     ]
    }
   ],
   "source": [
    "# Câu 1: Tạo array arr có kích thước 3x3 với tất cả các giá trị đều là True. \n",
    "arr = np.ones((3,3), dtype=bool)\n",
    "# Hiển thị các phần tử của array arr\n",
    "print(arr)"
   ]
  },
  {
   "cell_type": "markdown",
   "metadata": {
    "id": "6kog8mqpg4-p"
   },
   "source": [
    "<details>\n",
    "  <summary>Nhấn vào đây để xem kết quả!</summary>\n",
    "  <pre>[[ True  True  True]\n",
    " [ True  True  True]\n",
    " [ True  True  True]]\n",
    "</pre>\n",
    "  \n",
    "</details>"
   ]
  },
  {
   "cell_type": "code",
   "execution_count": 9,
   "metadata": {
    "id": "MYEm08dbg4-p"
   },
   "outputs": [
    {
     "name": "stdout",
     "output_type": "stream",
     "text": [
      "[0 1 2 3 4 5 6 7 8]\n",
      "[[0 1 2]\n",
      " [3 4 5]\n",
      " [6 7 8]]\n",
      "[[2 1 0]\n",
      " [5 4 3]\n",
      " [8 7 6]]\n"
     ]
    }
   ],
   "source": [
    "# Câu 2: Cho array arr_1D = np.array([0, 1, 2, 3, 4, 5, 6, 7, 8]). \n",
    "arr_1D = np.array([0, 1, 2, 3, 4, 5, 6, 7, 8])\n",
    "print(arr_1D)\n",
    "# Hãy chuyển thành array 2 chiều có kích thước 3x3 và lưu vào arr_2D.\n",
    "arr_2D = arr_1D.reshape(3,3)\n",
    "# Xem danh sách các phần tử của arr_2D. \n",
    "print(arr_2D)\n",
    "# Trong arr_2D. Chuyển cột 1 sang cột 3 và ngược lại. => Xem lại danh sách các phần tử của arr_2D\n",
    "arr_2D = arr_2D[:, [2,1,0]]\n",
    "print(arr_2D)"
   ]
  },
  {
   "cell_type": "markdown",
   "metadata": {
    "id": "l-D3Kdl9g4-q"
   },
   "source": [
    "<details>\n",
    "  <summary>Nhấn vào đây để xem kết quả!</summary>\n",
    "  <pre>[0 1 2 3 4 5 6 7 8]\n",
    "arr_2D: \n",
    "[[0 1 2]\n",
    " [3 4 5]\n",
    " [6 7 8]]\n",
    "arr_2D sau khi chuyển cột: \n",
    "[[2 1 0]\n",
    " [5 4 3]\n",
    " [8 7 6]]\n",
    "</pre>\n",
    "  \n",
    "</details>"
   ]
  },
  {
   "cell_type": "code",
   "execution_count": null,
   "metadata": {
    "id": "kPntKXtFg4-q"
   },
   "outputs": [],
   "source": [
    "# Câu 3: Sử dụng array arr_2D của câu 2 (sau khi đổi thứ tự cột), chuyển dòng 1 sang dòng 2 và ngược lại \n",
    "\n",
    "# Xem lại danh sách các phần tử của arr_2D\n"
   ]
  },
  {
   "cell_type": "markdown",
   "metadata": {
    "id": "Qm52aqbVg4-r"
   },
   "source": [
    "<details>\n",
    "  <summary>Nhấn vào đây để xem kết quả!</summary>\n",
    "  <pre>[[5 4 3]\n",
    " [2 1 0]\n",
    " [8 7 6]]\n",
    "</pre>\n",
    "  \n",
    "</details>"
   ]
  },
  {
   "cell_type": "code",
   "execution_count": null,
   "metadata": {
    "id": "VyaBW4rng4-r"
   },
   "outputs": [],
   "source": [
    "# Câu 4: Sử dụng array arr_2D của câu 3, Đảo ngược các dòng của array arr_2D \n",
    "\n",
    "# Xem lại danh sách các phần tử của arr_2D\n"
   ]
  },
  {
   "cell_type": "markdown",
   "metadata": {
    "id": "-7RxfGQLg4-s"
   },
   "source": [
    "<details>\n",
    "  <summary>Nhấn vào đây để xem kết quả!</summary>\n",
    "  <pre>[[8 7 6]\n",
    " [2 1 0]\n",
    " [5 4 3]]\n",
    "</pre>\n",
    "  \n",
    "</details>"
   ]
  },
  {
   "cell_type": "code",
   "execution_count": null,
   "metadata": {
    "id": "_LzZ_f4Rg4-s"
   },
   "outputs": [],
   "source": [
    "# Câu 5: Sử dụng array arr_2D của câu 4, Đảo ngược các cột của array arr_2D => Xem lại danh sách các phần tử của arr_2D\n"
   ]
  },
  {
   "cell_type": "markdown",
   "metadata": {
    "id": "pwzxFqEeg4-t"
   },
   "source": [
    "<details>\n",
    "  <summary>Nhấn vào đây để xem kết quả!</summary>\n",
    "  <pre>[[6 7 8]\n",
    " [0 1 2]\n",
    " [3 4 5]]\n",
    "</pre>\n",
    "  \n",
    "</details>"
   ]
  },
  {
   "cell_type": "code",
   "execution_count": null,
   "metadata": {
    "id": "6Qcat7ALg4-t"
   },
   "outputs": [],
   "source": [
    "# Câu 6: Cho arr_2D_null = np.array([[1, 2, 3], [np.NaN, 5, 6], [7, np.NaN, 9], [4, 5, 6]]),\n",
    "\n",
    "# Kiểm tra xem trong array có giá trị rỗng nào không? \n"
   ]
  },
  {
   "cell_type": "markdown",
   "metadata": {
    "id": "Hk3jNQbqg4-t"
   },
   "source": [
    "<details>\n",
    "  <summary>Nhấn vào đây để xem kết quả!</summary>\n",
    "  <pre>[[ 1.  2.  3.]\n",
    " [nan  5.  6.]\n",
    " [ 7. nan  9.]\n",
    " [ 4.  5.  6.]]\n",
    "array có giá trị rỗng\n",
    "</pre>\n",
    "  \n",
    "</details>"
   ]
  },
  {
   "cell_type": "code",
   "execution_count": null,
   "metadata": {
    "id": "eJ8DBZNdg4-u"
   },
   "outputs": [],
   "source": [
    "# Câu 7: Sử dụng array arr_2D_null của câu 6, thay thế giá trị null bằng 0 => Xem lại danh sách các phần tử của arr_2D_null\n",
    "\n"
   ]
  },
  {
   "cell_type": "markdown",
   "metadata": {
    "id": "f_TcVbWHg4-u"
   },
   "source": [
    "<details>\n",
    "  <summary>Nhấn vào đây để xem kết quả!</summary>\n",
    "  <pre>Before:\n",
    "[[ 1.  2.  3.]\n",
    " [nan  5.  6.]\n",
    " [ 7. nan  9.]\n",
    " [ 4.  5.  6.]]\n",
    "After:\n",
    "[[1. 2. 3.]\n",
    " [0. 5. 6.]\n",
    " [7. 0. 9.]\n",
    " [4. 5. 6.]]\n",
    "</pre>\n",
    "  \n",
    "</details>"
   ]
  }
 ],
 "metadata": {
  "colab": {
   "name": "HV_Chapter3_Exercise3.ipynb",
   "provenance": []
  },
  "kernelspec": {
   "display_name": "Python 3",
   "language": "python",
   "name": "python3"
  },
  "language_info": {
   "codemirror_mode": {
    "name": "ipython",
    "version": 3
   },
   "file_extension": ".py",
   "mimetype": "text/x-python",
   "name": "python",
   "nbconvert_exporter": "python",
   "pygments_lexer": "ipython3",
   "version": "3.9.2"
  }
 },
 "nbformat": 4,
 "nbformat_minor": 1
}
