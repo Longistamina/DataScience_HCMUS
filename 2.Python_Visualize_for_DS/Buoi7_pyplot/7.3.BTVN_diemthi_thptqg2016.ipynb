{
 "cells": [
  {
   "cell_type": "code",
   "execution_count": 74,
   "id": "54e65e5c-1ff5-4add-9af2-dbce99d10a79",
   "metadata": {},
   "outputs": [],
   "source": [
    "import numpy as np\n",
    "import pandas as pd\n",
    "import matplotlib.pyplot as plt"
   ]
  },
  {
   "cell_type": "code",
   "execution_count": 75,
   "id": "ff461f99-0824-49c1-8d63-a96f6d74a411",
   "metadata": {},
   "outputs": [
    {
     "data": {
      "text/html": [
       "<div>\n",
       "<style scoped>\n",
       "    .dataframe tbody tr th:only-of-type {\n",
       "        vertical-align: middle;\n",
       "    }\n",
       "\n",
       "    .dataframe tbody tr th {\n",
       "        vertical-align: top;\n",
       "    }\n",
       "\n",
       "    .dataframe thead th {\n",
       "        text-align: right;\n",
       "    }\n",
       "</style>\n",
       "<table border=\"1\" class=\"dataframe\">\n",
       "  <thead>\n",
       "    <tr style=\"text-align: right;\">\n",
       "      <th></th>\n",
       "      <th>SOBAODANH</th>\n",
       "      <th>HO_TEN</th>\n",
       "      <th>NGAY_SINH</th>\n",
       "      <th>TEN_CUMTHI</th>\n",
       "      <th>GIOI_TINH</th>\n",
       "      <th>DIEM_THI</th>\n",
       "    </tr>\n",
       "  </thead>\n",
       "  <tbody>\n",
       "    <tr>\n",
       "      <th>0</th>\n",
       "      <td>18000001</td>\n",
       "      <td>DƯƠNG VIỆT AN</td>\n",
       "      <td>12/03/1998</td>\n",
       "      <td>Sở GDĐT Bắc Giang</td>\n",
       "      <td>Nam</td>\n",
       "      <td>Toán:   2.00   Ngữ văn:   5.50   Lịch sử:   3....</td>\n",
       "    </tr>\n",
       "    <tr>\n",
       "      <th>1</th>\n",
       "      <td>18000002</td>\n",
       "      <td>ĐỖ VĂN AN</td>\n",
       "      <td>9/12/1998</td>\n",
       "      <td>Sở GDĐT Bắc Giang</td>\n",
       "      <td>Nam</td>\n",
       "      <td>Toán:   5.50   Ngữ văn:   5.25   Địa lí:   5.5...</td>\n",
       "    </tr>\n",
       "    <tr>\n",
       "      <th>2</th>\n",
       "      <td>18000003</td>\n",
       "      <td>ĐỖ XUÂN AN</td>\n",
       "      <td>12/08/1997</td>\n",
       "      <td>Sở GDĐT Bắc Giang</td>\n",
       "      <td>Nam</td>\n",
       "      <td>Toán:   4.50   Ngữ văn:   5.50   Địa lí:   3.7...</td>\n",
       "    </tr>\n",
       "    <tr>\n",
       "      <th>3</th>\n",
       "      <td>18000004</td>\n",
       "      <td>ĐẶNG PHÚC AN</td>\n",
       "      <td>19/03/1998</td>\n",
       "      <td>Sở GDĐT Bắc Giang</td>\n",
       "      <td>Nữ</td>\n",
       "      <td>Toán:   3.00   Ngữ văn:   6.00   Địa lí:   5.5...</td>\n",
       "    </tr>\n",
       "    <tr>\n",
       "      <th>4</th>\n",
       "      <td>18000005</td>\n",
       "      <td>ĐẶNG VĂN AN</td>\n",
       "      <td>25/10/1998</td>\n",
       "      <td>Sở GDĐT Bắc Giang</td>\n",
       "      <td>Nam</td>\n",
       "      <td>Toán:   2.25   Ngữ văn:   4.75   Địa lí:   5.2...</td>\n",
       "    </tr>\n",
       "  </tbody>\n",
       "</table>\n",
       "</div>"
      ],
      "text/plain": [
       "  SOBAODANH         HO_TEN   NGAY_SINH         TEN_CUMTHI GIOI_TINH  \\\n",
       "0  18000001  DƯƠNG VIỆT AN  12/03/1998  Sở GDĐT Bắc Giang       Nam   \n",
       "1  18000002      ĐỖ VĂN AN   9/12/1998  Sở GDĐT Bắc Giang       Nam   \n",
       "2  18000003     ĐỖ XUÂN AN  12/08/1997  Sở GDĐT Bắc Giang       Nam   \n",
       "3  18000004   ĐẶNG PHÚC AN  19/03/1998  Sở GDĐT Bắc Giang        Nữ   \n",
       "4  18000005    ĐẶNG VĂN AN  25/10/1998  Sở GDĐT Bắc Giang       Nam   \n",
       "\n",
       "                                            DIEM_THI  \n",
       "0  Toán:   2.00   Ngữ văn:   5.50   Lịch sử:   3....  \n",
       "1  Toán:   5.50   Ngữ văn:   5.25   Địa lí:   5.5...  \n",
       "2  Toán:   4.50   Ngữ văn:   5.50   Địa lí:   3.7...  \n",
       "3  Toán:   3.00   Ngữ văn:   6.00   Địa lí:   5.5...  \n",
       "4  Toán:   2.25   Ngữ văn:   4.75   Địa lí:   5.2...  "
      ]
     },
     "execution_count": 75,
     "metadata": {},
     "output_type": "execute_result"
    }
   ],
   "source": [
    "thptqg = pd.read_csv('Diemthi_thpt_quocgia_2016.csv')\n",
    "\n",
    "thptqg.head()"
   ]
  },
  {
   "cell_type": "code",
   "execution_count": 76,
   "id": "ad9424ea-ca6f-4eb5-825a-0ffed51392a3",
   "metadata": {},
   "outputs": [
    {
     "data": {
      "text/plain": [
       "34826"
      ]
     },
     "execution_count": 76,
     "metadata": {},
     "output_type": "execute_result"
    }
   ],
   "source": [
    "thptqg.shape[0]"
   ]
  },
  {
   "cell_type": "code",
   "execution_count": 6,
   "id": "38180136-9027-40d3-9843-b62559e79d13",
   "metadata": {},
   "outputs": [],
   "source": [
    "#------------------------RÚT TRÍCH ĐIỂM TOÁN VĂN ANH RA THEO TÊN HỌC SINH, TẠO THÀNH DATAFRAME RỒI VẼ--------------#"
   ]
  },
  {
   "cell_type": "code",
   "execution_count": 7,
   "id": "fa3f2d80-82a3-447e-ad11-aacbdc2d4835",
   "metadata": {},
   "outputs": [],
   "source": [
    "DIEM_TOAN =[]\n",
    "DIEM_VAN = []\n",
    "DIEM_ANH = []"
   ]
  },
  {
   "cell_type": "code",
   "execution_count": 8,
   "id": "f2eef7ec-d742-48a8-8c35-be0fd265d621",
   "metadata": {},
   "outputs": [],
   "source": [
    "for i in range(thptqg.shape[0]): \n",
    "    list_diem_hs = thptqg['DIEM_THI'][i].split() #Dò từng hàng, lấy giá trị ở cột DIEM_THI, rồi split chuỗi ra theo dấu phân cách là ' ' \n",
    "    if 'Toán:' not in list_diem_hs:\n",
    "        DIEM_TOAN.append(np.NaN)                 #Nếu hs không có điểm toán thì để là NaN\n",
    "    else:\n",
    "        j=list_diem_hs.index('Toán:')           #Nếu hs có điểm thì dò index điểm Toán trong list, rồi thêm vào list DIEM_TOAN\n",
    "        DIEM_TOAN.append(float(list_diem_hs[j+1]))\n",
    "    \n",
    "    if 'văn:' not in list_diem_hs:\n",
    "        DIEM_VAN.append(np.NaN)\n",
    "    else:\n",
    "        j=list_diem_hs.index('văn:')            #Dò điểm Ngữ Văn\n",
    "        DIEM_VAN.append(float(list_diem_hs[j+1]))\n",
    "                \n",
    "    if 'Anh:' not in list_diem_hs:\n",
    "        DIEM_ANH.append(np.NaN)\n",
    "    else:\n",
    "        j = list_diem_hs.index('Anh:')            #Dò điểm Tiếng Anh\n",
    "        DIEM_ANH.append(float(list_diem_hs[j+1]))"
   ]
  },
  {
   "cell_type": "code",
   "execution_count": 9,
   "id": "5ca5aadb-5873-4ff7-b833-d3a0d56d5fbc",
   "metadata": {},
   "outputs": [
    {
     "data": {
      "text/plain": [
       "34826"
      ]
     },
     "execution_count": 9,
     "metadata": {},
     "output_type": "execute_result"
    }
   ],
   "source": [
    "len(DIEM_TOAN)"
   ]
  },
  {
   "cell_type": "code",
   "execution_count": 10,
   "id": "ec3636ef-09d8-4fd8-bf6f-d3d8d3ab6203",
   "metadata": {},
   "outputs": [
    {
     "data": {
      "text/plain": [
       "34826"
      ]
     },
     "execution_count": 10,
     "metadata": {},
     "output_type": "execute_result"
    }
   ],
   "source": [
    "len(DIEM_ANH)"
   ]
  },
  {
   "cell_type": "code",
   "execution_count": 11,
   "id": "9cc8cd83-6042-458b-a9bd-9b2cf4edd8f4",
   "metadata": {},
   "outputs": [
    {
     "data": {
      "text/plain": [
       "34826"
      ]
     },
     "execution_count": 11,
     "metadata": {},
     "output_type": "execute_result"
    }
   ],
   "source": [
    "len(DIEM_VAN)"
   ]
  },
  {
   "cell_type": "code",
   "execution_count": 12,
   "id": "4fa1cdd4-e440-456c-967c-27c942b01de7",
   "metadata": {},
   "outputs": [],
   "source": [
    "#Tạo dataframe thptqg_TVA chỉ chứa điểm Toán, Văn và Anh\n",
    "thptqg_TVA = thptqg.drop(labels='DIEM_THI', axis=1) #axis=1 để nó hiểu đó là label cho cột chứ không phải cho hàng\n",
    "\n",
    "thptqg_TVA['DIEM_TOAN'] = DIEM_TOAN\n",
    "thptqg_TVA['DIEM_VAN'] = DIEM_VAN\n",
    "thptqg_TVA['DIEM_ANH'] = DIEM_ANH\n"
   ]
  },
  {
   "cell_type": "code",
   "execution_count": 13,
   "id": "fcbe7527-02f9-47ae-8b90-940b2eb99500",
   "metadata": {},
   "outputs": [
    {
     "data": {
      "text/html": [
       "<div>\n",
       "<style scoped>\n",
       "    .dataframe tbody tr th:only-of-type {\n",
       "        vertical-align: middle;\n",
       "    }\n",
       "\n",
       "    .dataframe tbody tr th {\n",
       "        vertical-align: top;\n",
       "    }\n",
       "\n",
       "    .dataframe thead th {\n",
       "        text-align: right;\n",
       "    }\n",
       "</style>\n",
       "<table border=\"1\" class=\"dataframe\">\n",
       "  <thead>\n",
       "    <tr style=\"text-align: right;\">\n",
       "      <th></th>\n",
       "      <th>SOBAODANH</th>\n",
       "      <th>HO_TEN</th>\n",
       "      <th>NGAY_SINH</th>\n",
       "      <th>TEN_CUMTHI</th>\n",
       "      <th>GIOI_TINH</th>\n",
       "      <th>DIEM_TOAN</th>\n",
       "      <th>DIEM_VAN</th>\n",
       "      <th>DIEM_ANH</th>\n",
       "    </tr>\n",
       "  </thead>\n",
       "  <tbody>\n",
       "    <tr>\n",
       "      <th>0</th>\n",
       "      <td>18000001</td>\n",
       "      <td>DƯƠNG VIỆT AN</td>\n",
       "      <td>12/03/1998</td>\n",
       "      <td>Sở GDĐT Bắc Giang</td>\n",
       "      <td>Nam</td>\n",
       "      <td>2.00</td>\n",
       "      <td>5.50</td>\n",
       "      <td>NaN</td>\n",
       "    </tr>\n",
       "    <tr>\n",
       "      <th>1</th>\n",
       "      <td>18000002</td>\n",
       "      <td>ĐỖ VĂN AN</td>\n",
       "      <td>9/12/1998</td>\n",
       "      <td>Sở GDĐT Bắc Giang</td>\n",
       "      <td>Nam</td>\n",
       "      <td>5.50</td>\n",
       "      <td>5.25</td>\n",
       "      <td>3.68</td>\n",
       "    </tr>\n",
       "    <tr>\n",
       "      <th>2</th>\n",
       "      <td>18000003</td>\n",
       "      <td>ĐỖ XUÂN AN</td>\n",
       "      <td>12/08/1997</td>\n",
       "      <td>Sở GDĐT Bắc Giang</td>\n",
       "      <td>Nam</td>\n",
       "      <td>4.50</td>\n",
       "      <td>5.50</td>\n",
       "      <td>2.25</td>\n",
       "    </tr>\n",
       "    <tr>\n",
       "      <th>3</th>\n",
       "      <td>18000004</td>\n",
       "      <td>ĐẶNG PHÚC AN</td>\n",
       "      <td>19/03/1998</td>\n",
       "      <td>Sở GDĐT Bắc Giang</td>\n",
       "      <td>Nữ</td>\n",
       "      <td>3.00</td>\n",
       "      <td>6.00</td>\n",
       "      <td>1.50</td>\n",
       "    </tr>\n",
       "    <tr>\n",
       "      <th>4</th>\n",
       "      <td>18000005</td>\n",
       "      <td>ĐẶNG VĂN AN</td>\n",
       "      <td>25/10/1998</td>\n",
       "      <td>Sở GDĐT Bắc Giang</td>\n",
       "      <td>Nam</td>\n",
       "      <td>2.25</td>\n",
       "      <td>4.75</td>\n",
       "      <td>2.00</td>\n",
       "    </tr>\n",
       "    <tr>\n",
       "      <th>5</th>\n",
       "      <td>18000006</td>\n",
       "      <td>HÀ THỊ AN</td>\n",
       "      <td>22/06/1998</td>\n",
       "      <td>Sở GDĐT Bắc Giang</td>\n",
       "      <td>Nữ</td>\n",
       "      <td>5.75</td>\n",
       "      <td>5.50</td>\n",
       "      <td>3.55</td>\n",
       "    </tr>\n",
       "    <tr>\n",
       "      <th>6</th>\n",
       "      <td>18000007</td>\n",
       "      <td>HÀ THỊ AN</td>\n",
       "      <td>23/04/1997</td>\n",
       "      <td>Sở GDĐT Bắc Giang</td>\n",
       "      <td>Nữ</td>\n",
       "      <td>1.75</td>\n",
       "      <td>5.25</td>\n",
       "      <td>1.75</td>\n",
       "    </tr>\n",
       "    <tr>\n",
       "      <th>7</th>\n",
       "      <td>18000008</td>\n",
       "      <td>HỨA VĂN AN</td>\n",
       "      <td>25/05/1998</td>\n",
       "      <td>Sở GDĐT Bắc Giang</td>\n",
       "      <td>Nam</td>\n",
       "      <td>2.00</td>\n",
       "      <td>4.75</td>\n",
       "      <td>1.13</td>\n",
       "    </tr>\n",
       "    <tr>\n",
       "      <th>8</th>\n",
       "      <td>18000009</td>\n",
       "      <td>HOÀNG VĂN AN</td>\n",
       "      <td>22/02/1998</td>\n",
       "      <td>Sở GDĐT Bắc Giang</td>\n",
       "      <td>Nam</td>\n",
       "      <td>3.75</td>\n",
       "      <td>5.00</td>\n",
       "      <td>2.75</td>\n",
       "    </tr>\n",
       "    <tr>\n",
       "      <th>9</th>\n",
       "      <td>18000010</td>\n",
       "      <td>LA VĂN AN</td>\n",
       "      <td>19/08/1998</td>\n",
       "      <td>Sở GDĐT Bắc Giang</td>\n",
       "      <td>Nam</td>\n",
       "      <td>3.50</td>\n",
       "      <td>5.00</td>\n",
       "      <td>2.13</td>\n",
       "    </tr>\n",
       "  </tbody>\n",
       "</table>\n",
       "</div>"
      ],
      "text/plain": [
       "  SOBAODANH         HO_TEN   NGAY_SINH         TEN_CUMTHI GIOI_TINH  \\\n",
       "0  18000001  DƯƠNG VIỆT AN  12/03/1998  Sở GDĐT Bắc Giang       Nam   \n",
       "1  18000002      ĐỖ VĂN AN   9/12/1998  Sở GDĐT Bắc Giang       Nam   \n",
       "2  18000003     ĐỖ XUÂN AN  12/08/1997  Sở GDĐT Bắc Giang       Nam   \n",
       "3  18000004   ĐẶNG PHÚC AN  19/03/1998  Sở GDĐT Bắc Giang        Nữ   \n",
       "4  18000005    ĐẶNG VĂN AN  25/10/1998  Sở GDĐT Bắc Giang       Nam   \n",
       "5  18000006      HÀ THỊ AN  22/06/1998  Sở GDĐT Bắc Giang        Nữ   \n",
       "6  18000007      HÀ THỊ AN  23/04/1997  Sở GDĐT Bắc Giang        Nữ   \n",
       "7  18000008     HỨA VĂN AN  25/05/1998  Sở GDĐT Bắc Giang       Nam   \n",
       "8  18000009   HOÀNG VĂN AN  22/02/1998  Sở GDĐT Bắc Giang       Nam   \n",
       "9  18000010      LA VĂN AN  19/08/1998  Sở GDĐT Bắc Giang       Nam   \n",
       "\n",
       "   DIEM_TOAN  DIEM_VAN  DIEM_ANH  \n",
       "0       2.00      5.50       NaN  \n",
       "1       5.50      5.25      3.68  \n",
       "2       4.50      5.50      2.25  \n",
       "3       3.00      6.00      1.50  \n",
       "4       2.25      4.75      2.00  \n",
       "5       5.75      5.50      3.55  \n",
       "6       1.75      5.25      1.75  \n",
       "7       2.00      4.75      1.13  \n",
       "8       3.75      5.00      2.75  \n",
       "9       3.50      5.00      2.13  "
      ]
     },
     "execution_count": 13,
     "metadata": {},
     "output_type": "execute_result"
    }
   ],
   "source": [
    "thptqg_TVA.head(10)"
   ]
  },
  {
   "cell_type": "code",
   "execution_count": 14,
   "id": "7bb3730d-e27a-44d4-9dc4-16a1d9e0bc51",
   "metadata": {},
   "outputs": [
    {
     "data": {
      "text/plain": [
       "SOBAODANH        0\n",
       "HO_TEN           0\n",
       "NGAY_SINH        0\n",
       "TEN_CUMTHI       0\n",
       "GIOI_TINH        0\n",
       "DIEM_TOAN      326\n",
       "DIEM_VAN       932\n",
       "DIEM_ANH      4626\n",
       "dtype: int64"
      ]
     },
     "execution_count": 14,
     "metadata": {},
     "output_type": "execute_result"
    }
   ],
   "source": [
    "thptqg_TVA.isnull().sum() #Kiểm tra các giá trị NaN"
   ]
  },
  {
   "cell_type": "code",
   "execution_count": 15,
   "id": "57018e38-cf32-493e-876c-ce4349f82b4a",
   "metadata": {},
   "outputs": [
    {
     "data": {
      "text/plain": [
       "TEN_CUMTHI\n",
       "Trường Đại học Công nghiệp Tp. HCM    14410\n",
       "Sở GDĐT Bắc Giang                     10730\n",
       "Sở GDĐT Hoà Bình                       6029\n",
       "Sở GDĐT Thừa Thiên -Huế                3657\n",
       "Name: count, dtype: int64"
      ]
     },
     "execution_count": 15,
     "metadata": {},
     "output_type": "execute_result"
    }
   ],
   "source": [
    "thptqg_TVA.TEN_CUMTHI.value_counts() #Đếm các tên cụm thi"
   ]
  },
  {
   "cell_type": "code",
   "execution_count": 16,
   "id": "4547be22-8268-4be2-a9e4-41d394fc2422",
   "metadata": {},
   "outputs": [],
   "source": [
    "#Thay các giá trị NaN bằng điểm trung bình theo cụm thi. \n",
    "#Ví dụ môn Toán có 326 NaN, thì thay 326 NaN đó bằng điểm trung bình tính theo các cụm thi như Bắc Giang, HCM, Hoà Bình,...\n",
    "thptqg_TVA['DIEM_TOAN'] = thptqg_TVA['DIEM_TOAN'].fillna(thptqg_TVA.groupby('TEN_CUMTHI')['DIEM_TOAN'].transform('mean'))\n",
    "\n",
    "thptqg_TVA['DIEM_VAN']=thptqg_TVA['DIEM_VAN'].fillna(thptqg_TVA.groupby('TEN_CUMTHI')['DIEM_VAN'].transform('mean'))\n",
    "\n",
    "thptqg_TVA['DIEM_ANH']=thptqg_TVA['DIEM_ANH'].fillna(thptqg_TVA.groupby('TEN_CUMTHI')['DIEM_ANH'].transform('mean'))"
   ]
  },
  {
   "cell_type": "code",
   "execution_count": 17,
   "id": "5c7f0254-9555-4960-a276-95eefc0ece55",
   "metadata": {},
   "outputs": [
    {
     "data": {
      "text/html": [
       "<div>\n",
       "<style scoped>\n",
       "    .dataframe tbody tr th:only-of-type {\n",
       "        vertical-align: middle;\n",
       "    }\n",
       "\n",
       "    .dataframe tbody tr th {\n",
       "        vertical-align: top;\n",
       "    }\n",
       "\n",
       "    .dataframe thead th {\n",
       "        text-align: right;\n",
       "    }\n",
       "</style>\n",
       "<table border=\"1\" class=\"dataframe\">\n",
       "  <thead>\n",
       "    <tr style=\"text-align: right;\">\n",
       "      <th></th>\n",
       "      <th>SOBAODANH</th>\n",
       "      <th>HO_TEN</th>\n",
       "      <th>NGAY_SINH</th>\n",
       "      <th>TEN_CUMTHI</th>\n",
       "      <th>GIOI_TINH</th>\n",
       "      <th>DIEM_TOAN</th>\n",
       "      <th>DIEM_VAN</th>\n",
       "      <th>DIEM_ANH</th>\n",
       "    </tr>\n",
       "  </thead>\n",
       "  <tbody>\n",
       "    <tr>\n",
       "      <th>0</th>\n",
       "      <td>18000001</td>\n",
       "      <td>DƯƠNG VIỆT AN</td>\n",
       "      <td>12/03/1998</td>\n",
       "      <td>Sở GDĐT Bắc Giang</td>\n",
       "      <td>Nam</td>\n",
       "      <td>2.00</td>\n",
       "      <td>5.50</td>\n",
       "      <td>2.669664</td>\n",
       "    </tr>\n",
       "    <tr>\n",
       "      <th>1</th>\n",
       "      <td>18000002</td>\n",
       "      <td>ĐỖ VĂN AN</td>\n",
       "      <td>9/12/1998</td>\n",
       "      <td>Sở GDĐT Bắc Giang</td>\n",
       "      <td>Nam</td>\n",
       "      <td>5.50</td>\n",
       "      <td>5.25</td>\n",
       "      <td>3.680000</td>\n",
       "    </tr>\n",
       "    <tr>\n",
       "      <th>2</th>\n",
       "      <td>18000003</td>\n",
       "      <td>ĐỖ XUÂN AN</td>\n",
       "      <td>12/08/1997</td>\n",
       "      <td>Sở GDĐT Bắc Giang</td>\n",
       "      <td>Nam</td>\n",
       "      <td>4.50</td>\n",
       "      <td>5.50</td>\n",
       "      <td>2.250000</td>\n",
       "    </tr>\n",
       "    <tr>\n",
       "      <th>3</th>\n",
       "      <td>18000004</td>\n",
       "      <td>ĐẶNG PHÚC AN</td>\n",
       "      <td>19/03/1998</td>\n",
       "      <td>Sở GDĐT Bắc Giang</td>\n",
       "      <td>Nữ</td>\n",
       "      <td>3.00</td>\n",
       "      <td>6.00</td>\n",
       "      <td>1.500000</td>\n",
       "    </tr>\n",
       "    <tr>\n",
       "      <th>4</th>\n",
       "      <td>18000005</td>\n",
       "      <td>ĐẶNG VĂN AN</td>\n",
       "      <td>25/10/1998</td>\n",
       "      <td>Sở GDĐT Bắc Giang</td>\n",
       "      <td>Nam</td>\n",
       "      <td>2.25</td>\n",
       "      <td>4.75</td>\n",
       "      <td>2.000000</td>\n",
       "    </tr>\n",
       "    <tr>\n",
       "      <th>5</th>\n",
       "      <td>18000006</td>\n",
       "      <td>HÀ THỊ AN</td>\n",
       "      <td>22/06/1998</td>\n",
       "      <td>Sở GDĐT Bắc Giang</td>\n",
       "      <td>Nữ</td>\n",
       "      <td>5.75</td>\n",
       "      <td>5.50</td>\n",
       "      <td>3.550000</td>\n",
       "    </tr>\n",
       "    <tr>\n",
       "      <th>6</th>\n",
       "      <td>18000007</td>\n",
       "      <td>HÀ THỊ AN</td>\n",
       "      <td>23/04/1997</td>\n",
       "      <td>Sở GDĐT Bắc Giang</td>\n",
       "      <td>Nữ</td>\n",
       "      <td>1.75</td>\n",
       "      <td>5.25</td>\n",
       "      <td>1.750000</td>\n",
       "    </tr>\n",
       "    <tr>\n",
       "      <th>7</th>\n",
       "      <td>18000008</td>\n",
       "      <td>HỨA VĂN AN</td>\n",
       "      <td>25/05/1998</td>\n",
       "      <td>Sở GDĐT Bắc Giang</td>\n",
       "      <td>Nam</td>\n",
       "      <td>2.00</td>\n",
       "      <td>4.75</td>\n",
       "      <td>1.130000</td>\n",
       "    </tr>\n",
       "    <tr>\n",
       "      <th>8</th>\n",
       "      <td>18000009</td>\n",
       "      <td>HOÀNG VĂN AN</td>\n",
       "      <td>22/02/1998</td>\n",
       "      <td>Sở GDĐT Bắc Giang</td>\n",
       "      <td>Nam</td>\n",
       "      <td>3.75</td>\n",
       "      <td>5.00</td>\n",
       "      <td>2.750000</td>\n",
       "    </tr>\n",
       "    <tr>\n",
       "      <th>9</th>\n",
       "      <td>18000010</td>\n",
       "      <td>LA VĂN AN</td>\n",
       "      <td>19/08/1998</td>\n",
       "      <td>Sở GDĐT Bắc Giang</td>\n",
       "      <td>Nam</td>\n",
       "      <td>3.50</td>\n",
       "      <td>5.00</td>\n",
       "      <td>2.130000</td>\n",
       "    </tr>\n",
       "  </tbody>\n",
       "</table>\n",
       "</div>"
      ],
      "text/plain": [
       "  SOBAODANH         HO_TEN   NGAY_SINH         TEN_CUMTHI GIOI_TINH  \\\n",
       "0  18000001  DƯƠNG VIỆT AN  12/03/1998  Sở GDĐT Bắc Giang       Nam   \n",
       "1  18000002      ĐỖ VĂN AN   9/12/1998  Sở GDĐT Bắc Giang       Nam   \n",
       "2  18000003     ĐỖ XUÂN AN  12/08/1997  Sở GDĐT Bắc Giang       Nam   \n",
       "3  18000004   ĐẶNG PHÚC AN  19/03/1998  Sở GDĐT Bắc Giang        Nữ   \n",
       "4  18000005    ĐẶNG VĂN AN  25/10/1998  Sở GDĐT Bắc Giang       Nam   \n",
       "5  18000006      HÀ THỊ AN  22/06/1998  Sở GDĐT Bắc Giang        Nữ   \n",
       "6  18000007      HÀ THỊ AN  23/04/1997  Sở GDĐT Bắc Giang        Nữ   \n",
       "7  18000008     HỨA VĂN AN  25/05/1998  Sở GDĐT Bắc Giang       Nam   \n",
       "8  18000009   HOÀNG VĂN AN  22/02/1998  Sở GDĐT Bắc Giang       Nam   \n",
       "9  18000010      LA VĂN AN  19/08/1998  Sở GDĐT Bắc Giang       Nam   \n",
       "\n",
       "   DIEM_TOAN  DIEM_VAN  DIEM_ANH  \n",
       "0       2.00      5.50  2.669664  \n",
       "1       5.50      5.25  3.680000  \n",
       "2       4.50      5.50  2.250000  \n",
       "3       3.00      6.00  1.500000  \n",
       "4       2.25      4.75  2.000000  \n",
       "5       5.75      5.50  3.550000  \n",
       "6       1.75      5.25  1.750000  \n",
       "7       2.00      4.75  1.130000  \n",
       "8       3.75      5.00  2.750000  \n",
       "9       3.50      5.00  2.130000  "
      ]
     },
     "execution_count": 17,
     "metadata": {},
     "output_type": "execute_result"
    }
   ],
   "source": [
    "thptqg_TVA.head(10)"
   ]
  },
  {
   "cell_type": "code",
   "execution_count": 18,
   "id": "a176b9f7-19e9-4305-a55f-27c0338fa51e",
   "metadata": {},
   "outputs": [],
   "source": [
    "#-----------------------------VẼ BIỂU ĐỒ  CỘT LIỀN ĐỂ  THỂ HIỆN ĐIỂM TB TOÁN VĂN ANH THEO TỪNG CỤM THI--------------#"
   ]
  },
  {
   "cell_type": "code",
   "execution_count": 27,
   "id": "efd5a731-eae6-4f23-ac0e-5d55bfa6c354",
   "metadata": {},
   "outputs": [
    {
     "data": {
      "text/html": [
       "<div>\n",
       "<style scoped>\n",
       "    .dataframe tbody tr th:only-of-type {\n",
       "        vertical-align: middle;\n",
       "    }\n",
       "\n",
       "    .dataframe tbody tr th {\n",
       "        vertical-align: top;\n",
       "    }\n",
       "\n",
       "    .dataframe thead th {\n",
       "        text-align: right;\n",
       "    }\n",
       "</style>\n",
       "<table border=\"1\" class=\"dataframe\">\n",
       "  <thead>\n",
       "    <tr style=\"text-align: right;\">\n",
       "      <th></th>\n",
       "      <th>DIEM_TOAN</th>\n",
       "      <th>DIEM_VAN</th>\n",
       "      <th>DIEM_ANH</th>\n",
       "    </tr>\n",
       "    <tr>\n",
       "      <th>TEN_CUMTHI</th>\n",
       "      <th></th>\n",
       "      <th></th>\n",
       "      <th></th>\n",
       "    </tr>\n",
       "  </thead>\n",
       "  <tbody>\n",
       "    <tr>\n",
       "      <th>Sở GDĐT Bắc Giang</th>\n",
       "      <td>3.914950</td>\n",
       "      <td>5.062745</td>\n",
       "      <td>2.669664</td>\n",
       "    </tr>\n",
       "    <tr>\n",
       "      <th>Sở GDĐT Hoà Bình</th>\n",
       "      <td>3.190559</td>\n",
       "      <td>4.977855</td>\n",
       "      <td>2.758185</td>\n",
       "    </tr>\n",
       "    <tr>\n",
       "      <th>Sở GDĐT Thừa Thiên -Huế</th>\n",
       "      <td>3.923577</td>\n",
       "      <td>4.567786</td>\n",
       "      <td>2.826335</td>\n",
       "    </tr>\n",
       "    <tr>\n",
       "      <th>Trường Đại học Công nghiệp Tp. HCM</th>\n",
       "      <td>4.994128</td>\n",
       "      <td>4.904637</td>\n",
       "      <td>3.485547</td>\n",
       "    </tr>\n",
       "  </tbody>\n",
       "</table>\n",
       "</div>"
      ],
      "text/plain": [
       "                                    DIEM_TOAN  DIEM_VAN  DIEM_ANH\n",
       "TEN_CUMTHI                                                       \n",
       "Sở GDĐT Bắc Giang                    3.914950  5.062745  2.669664\n",
       "Sở GDĐT Hoà Bình                     3.190559  4.977855  2.758185\n",
       "Sở GDĐT Thừa Thiên -Huế              3.923577  4.567786  2.826335\n",
       "Trường Đại học Công nghiệp Tp. HCM   4.994128  4.904637  3.485547"
      ]
     },
     "execution_count": 27,
     "metadata": {},
     "output_type": "execute_result"
    }
   ],
   "source": [
    "draw = thptqg_TVA.groupby('TEN_CUMTHI')[['DIEM_TOAN','DIEM_VAN','DIEM_ANH']].mean() #Tạo dữ liệu phù hợp để  vẽ\n",
    "draw"
   ]
  },
  {
   "cell_type": "code",
   "execution_count": 38,
   "id": "b8b1276d-1571-4501-8e80-2378edbe5940",
   "metadata": {},
   "outputs": [
    {
     "data": {
      "text/plain": [
       "array([0, 1, 2, 3])"
      ]
     },
     "execution_count": 38,
     "metadata": {},
     "output_type": "execute_result"
    }
   ],
   "source": [
    "x = np.arange(draw.shape[0]) #Tạo chuỗi x chứa giá trị toạ độ\n",
    "x"
   ]
  },
  {
   "cell_type": "code",
   "execution_count": 41,
   "id": "3eac5362-4416-4785-b8a2-ea8e81dddabf",
   "metadata": {},
   "outputs": [],
   "source": [
    "w = 0.2 #Độ rộng các cột là 0.35"
   ]
  },
  {
   "cell_type": "code",
   "execution_count": 61,
   "id": "9b468013-e331-4e97-9e92-5338b7275737",
   "metadata": {},
   "outputs": [
    {
     "data": {
      "image/png": "[encoded data removed]",
      "text/plain": [
       "<Figure size 640x480 with 1 Axes>"
      ]
     },
     "metadata": {},
     "output_type": "display_data"
    }
   ],
   "source": [
    "fig,ax = plt.subplots() #Tạo hai object là fig(figure) và ax(axes)\n",
    "\n",
    "#plt.figure(figsize=(15,10))\n",
    "\n",
    "ax.bar(x-w,draw['DIEM_TOAN'], width=w, label='Toán', color='r', edgecolor='black')\n",
    "ax.bar(x,draw['DIEM_VAN'], width=w, label='Ngữ văn', color='blue', edgecolor='black')\n",
    "ax.bar(x+w,draw['DIEM_VAN'], width=w, label='Anh văn', color='green', edgecolor='black')\n",
    "\n",
    "ax.set_xticks(x)\n",
    "ax.set_xticklabels(draw.index, rotation=20) #Đặt lại tên cho trục x\n",
    "ax.set_xlabel('CỤM THI',size=15)\n",
    "\n",
    "ax.set_ylim(0,11)\n",
    "ax.set_ylabel('ĐIỂM TRUNG BÌNH',size=15)\n",
    "\n",
    "ax.set_title('ĐIỂM THI THPTQG 2016 TRUNG BÌNH BA MÔN TOÁN-VĂN-ANH THEO CỤM THI', color='r')\n",
    "ax.legend(title='Chú thích',bbox_to_anchor=(1.25,1.0)) #bbox_to_anchor để điều chỉnh vị trí của ô chú thích\n",
    "\n",
    "plt.show()"
   ]
  },
  {
   "cell_type": "code",
   "execution_count": 4,
   "id": "f3e44964-1ab5-4a52-81cc-37edddf9998b",
   "metadata": {},
   "outputs": [],
   "source": [
    "#---------------------------------------SỬA THEO THẦY--------------------------------------------#"
   ]
  },
  {
   "cell_type": "code",
   "execution_count": null,
   "id": "46d50838-2533-4508-81f1-0b3f13d92a11",
   "metadata": {},
   "outputs": [],
   "source": [
    "#-------Thử với 1 học sinh--------#"
   ]
  },
  {
   "cell_type": "code",
   "execution_count": 77,
   "id": "79319527-fac7-4108-97c7-d825d2e68652",
   "metadata": {},
   "outputs": [
    {
     "data": {
      "text/plain": [
       "'Toán:   2.00   Ngữ văn:   5.50   Lịch sử:   3.00   Địa lí:   5.00'"
      ]
     },
     "execution_count": 77,
     "metadata": {},
     "output_type": "execute_result"
    }
   ],
   "source": [
    "thptqg.loc[0,'DIEM_THI'] #Xem điểm thi của thí sinh đầu tiên"
   ]
  },
  {
   "cell_type": "code",
   "execution_count": 79,
   "id": "74c87e22-9106-46b6-bd5c-bc8e14b5d86f",
   "metadata": {},
   "outputs": [
    {
     "data": {
      "text/plain": [
       "['Toán:',\n",
       " ' 2.00',\n",
       " ' Ngữ văn:',\n",
       " ' 5.50',\n",
       " ' Lịch sử:',\n",
       " ' 3.00',\n",
       " ' Địa lí:',\n",
       " ' 5.00']"
      ]
     },
     "execution_count": 79,
     "metadata": {},
     "output_type": "execute_result"
    }
   ],
   "source": [
    "lst0 = thptqg.loc[0,'DIEM_THI'].split(' '*2) #Nhận thấy tên môn và điểm cách nhau 2-3 kỹ tự khoảng trắng ' '\n",
    "                                               #Nên phân cắt chuỗi này thành các chuỗi nhỏ hơn, đơn vị phân cách là ' '*2\n",
    "lst0"
   ]
  },
  {
   "cell_type": "code",
   "execution_count": 80,
   "id": "3b22b4eb-f05b-4615-91dd-e1140bdaf8d0",
   "metadata": {},
   "outputs": [],
   "source": [
    "ten_mon = []\n",
    "so_diem = []\n",
    "\n",
    "for i in range(len(lst0)):\n",
    "    if i%2 == 0: #Nhận thấy tên môn có số  index chẵn, nên thấy index chẵn thì cho phần tử đó vào lst_mon\n",
    "        ten_mon.append(lst0[i].strip().rstrip(':')) #rstrip() để bỏ dấu hai chấm\n",
    "    else: #Ngược lại, điểm số có index lẻ, nên nếu thấy index lẻ thì cho phần tử đó vào lst_diem\n",
    "        so_diem.append(lst0[i].strip())"
   ]
  },
  {
   "cell_type": "code",
   "execution_count": 81,
   "id": "11359fac-eeef-4e94-85e0-a845af68783c",
   "metadata": {},
   "outputs": [
    {
     "data": {
      "text/plain": [
       "['Toán', 'Ngữ văn', 'Lịch sử', 'Địa lí']"
      ]
     },
     "execution_count": 81,
     "metadata": {},
     "output_type": "execute_result"
    }
   ],
   "source": [
    "ten_mon"
   ]
  },
  {
   "cell_type": "code",
   "execution_count": 82,
   "id": "e7ea4f1f-4624-482a-bc3e-f6cbb6d87dd4",
   "metadata": {},
   "outputs": [
    {
     "data": {
      "text/plain": [
       "['2.00', '5.50', '3.00', '5.00']"
      ]
     },
     "execution_count": 82,
     "metadata": {},
     "output_type": "execute_result"
    }
   ],
   "source": [
    "so_diem"
   ]
  },
  {
   "cell_type": "code",
   "execution_count": 83,
   "id": "74a50dbb-29ce-4841-967a-d7d4037cb2a8",
   "metadata": {},
   "outputs": [
    {
     "data": {
      "text/html": [
       "<div>\n",
       "<style scoped>\n",
       "    .dataframe tbody tr th:only-of-type {\n",
       "        vertical-align: middle;\n",
       "    }\n",
       "\n",
       "    .dataframe tbody tr th {\n",
       "        vertical-align: top;\n",
       "    }\n",
       "\n",
       "    .dataframe thead th {\n",
       "        text-align: right;\n",
       "    }\n",
       "</style>\n",
       "<table border=\"1\" class=\"dataframe\">\n",
       "  <thead>\n",
       "    <tr style=\"text-align: right;\">\n",
       "      <th></th>\n",
       "      <th>mon</th>\n",
       "      <th>diem</th>\n",
       "    </tr>\n",
       "  </thead>\n",
       "  <tbody>\n",
       "    <tr>\n",
       "      <th>0</th>\n",
       "      <td>Toán</td>\n",
       "      <td>2.00</td>\n",
       "    </tr>\n",
       "    <tr>\n",
       "      <th>1</th>\n",
       "      <td>Ngữ văn</td>\n",
       "      <td>5.50</td>\n",
       "    </tr>\n",
       "    <tr>\n",
       "      <th>2</th>\n",
       "      <td>Lịch sử</td>\n",
       "      <td>3.00</td>\n",
       "    </tr>\n",
       "    <tr>\n",
       "      <th>3</th>\n",
       "      <td>Địa lí</td>\n",
       "      <td>5.00</td>\n",
       "    </tr>\n",
       "  </tbody>\n",
       "</table>\n",
       "</div>"
      ],
      "text/plain": [
       "       mon  diem\n",
       "0     Toán  2.00\n",
       "1  Ngữ văn  5.50\n",
       "2  Lịch sử  3.00\n",
       "3   Địa lí  5.00"
      ]
     },
     "execution_count": 83,
     "metadata": {},
     "output_type": "execute_result"
    }
   ],
   "source": [
    "df_mon_diem = pd.DataFrame({'mon':ten_mon, 'diem':so_diem}) #Tạo dataframe gồm môn và điểm\n",
    "df_mon_diem"
   ]
  },
  {
   "cell_type": "code",
   "execution_count": 20,
   "id": "c796f1f9-9459-4004-846b-7d6ce7e235d6",
   "metadata": {},
   "outputs": [],
   "source": [
    "#---------Làm cho nhiều học sinh-----# "
   ]
  },
  {
   "cell_type": "code",
   "execution_count": 84,
   "id": "5d575e84-58b1-4143-97f9-c3dc3ed9d91f",
   "metadata": {},
   "outputs": [],
   "source": [
    "def to_df_mon_diem(chuoi): #Tạo hàm để xử lý các thao tác trên\n",
    "    ten_mon = []\n",
    "    so_diem = []\n",
    "    lstHS = chuoi.split(' '*2)\n",
    "    for i in range(len(lstHS)):\n",
    "        if i%2 == 0: #Nhận thấy tên môn có số  index chẵn, nên thấy index chẵn thì cho phần tử đó vào ten_mon\n",
    "            ten_mon.append(lstHS[i].strip().rstrip(':')) #rstrip() để bỏ dấu hai chấm\n",
    "        else: #Ngược lại, điểm số có index lẻ, nên nếu thấy index lẻ thì cho phần tử đó vào so_diem\n",
    "            so_diem.append(lstHS[i].strip())\n",
    "\n",
    "    return pd.DataFrame({'mon':ten_mon, 'diem':so_diem}) #Tạo dataframe gồm môn và điểm"
   ]
  },
  {
   "cell_type": "code",
   "execution_count": 85,
   "id": "86886d56-674c-4334-988b-bbc9e276006e",
   "metadata": {},
   "outputs": [
    {
     "data": {
      "text/html": [
       "<div>\n",
       "<style scoped>\n",
       "    .dataframe tbody tr th:only-of-type {\n",
       "        vertical-align: middle;\n",
       "    }\n",
       "\n",
       "    .dataframe tbody tr th {\n",
       "        vertical-align: top;\n",
       "    }\n",
       "\n",
       "    .dataframe thead th {\n",
       "        text-align: right;\n",
       "    }\n",
       "</style>\n",
       "<table border=\"1\" class=\"dataframe\">\n",
       "  <thead>\n",
       "    <tr style=\"text-align: right;\">\n",
       "      <th></th>\n",
       "      <th>mon</th>\n",
       "      <th>diem</th>\n",
       "    </tr>\n",
       "  </thead>\n",
       "  <tbody>\n",
       "    <tr>\n",
       "      <th>0</th>\n",
       "      <td>Toán</td>\n",
       "      <td>2.00</td>\n",
       "    </tr>\n",
       "    <tr>\n",
       "      <th>1</th>\n",
       "      <td>Ngữ văn</td>\n",
       "      <td>5.50</td>\n",
       "    </tr>\n",
       "    <tr>\n",
       "      <th>2</th>\n",
       "      <td>Lịch sử</td>\n",
       "      <td>3.00</td>\n",
       "    </tr>\n",
       "    <tr>\n",
       "      <th>3</th>\n",
       "      <td>Địa lí</td>\n",
       "      <td>5.00</td>\n",
       "    </tr>\n",
       "  </tbody>\n",
       "</table>\n",
       "</div>"
      ],
      "text/plain": [
       "       mon  diem\n",
       "0     Toán  2.00\n",
       "1  Ngữ văn  5.50\n",
       "2  Lịch sử  3.00\n",
       "3   Địa lí  5.00"
      ]
     },
     "execution_count": 85,
     "metadata": {},
     "output_type": "execute_result"
    }
   ],
   "source": [
    "#Test hàm vừa mới tạo\n",
    "chuoi1 = thptqg.loc[0,'DIEM_THI']\n",
    "hs1 = to_df_mon_diem(chuoi1)\n",
    "\n",
    "hs1"
   ]
  },
  {
   "cell_type": "code",
   "execution_count": 88,
   "id": "ae456d48-2553-492f-a5ea-12030c3e2ead",
   "metadata": {},
   "outputs": [],
   "source": [
    "#Tạo các list thông tin cần dùng\n",
    "lst_sbd = []\n",
    "lst_mon = []\n",
    "lst_diem = []\n",
    "lst_cumthi = []"
   ]
  },
  {
   "cell_type": "code",
   "execution_count": 89,
   "id": "8e89ff22-92d6-465a-8b01-1875874d96e1",
   "metadata": {},
   "outputs": [],
   "source": [
    "#Bắt đầu xử lý:\n",
    "\n",
    "for i in range(thptqg.shape[0]):\n",
    "    df_1hs = to_df_mon_diem(thptqg.loc[i,'DIEM_THI']) #Dò từng học sinh để tạo dataframe tên môn và điểm tương ứng cho học sinh đó\n",
    "    \n",
    "    for j in range(df_1hs.shape[0]):\n",
    "        lst_sbd.append(thptqg.loc[i,'SOBAODANH']) #Thêm sbd của hs đó vào lst_sbd\n",
    "        lst_cumthi.append(thptqg.loc[i,'TEN_CUMTHI']) #Thêm tên cụm thi của hs đó vào lst_cumthi\n",
    "        lst_mon.append(df_1hs.loc[j,'mon']) #Thêm tên từng môn học mà hs đó thi vào lst_mon, để mỗi môn là một cột riêng sau này                                    \n",
    "        lst_diem.append(df_1hs.loc[j,'diem']) #Thêm điểm thi của từng học sinh tương ứng với từng môn vào\n",
    "\n",
    "df_allHS = pd.DataFrame({'SBD':lst_sbd, 'Cum_thi':lst_cumthi, 'Mon':lst_mon, 'Diem':lst_diem})"
   ]
  },
  {
   "cell_type": "code",
   "execution_count": 90,
   "id": "71786dae-9977-4488-b48b-c98db2c03afb",
   "metadata": {},
   "outputs": [
    {
     "data": {
      "text/html": [
       "<div>\n",
       "<style scoped>\n",
       "    .dataframe tbody tr th:only-of-type {\n",
       "        vertical-align: middle;\n",
       "    }\n",
       "\n",
       "    .dataframe tbody tr th {\n",
       "        vertical-align: top;\n",
       "    }\n",
       "\n",
       "    .dataframe thead th {\n",
       "        text-align: right;\n",
       "    }\n",
       "</style>\n",
       "<table border=\"1\" class=\"dataframe\">\n",
       "  <thead>\n",
       "    <tr style=\"text-align: right;\">\n",
       "      <th></th>\n",
       "      <th>SBD</th>\n",
       "      <th>Cum_thi</th>\n",
       "      <th>Mon</th>\n",
       "      <th>Diem</th>\n",
       "    </tr>\n",
       "  </thead>\n",
       "  <tbody>\n",
       "    <tr>\n",
       "      <th>0</th>\n",
       "      <td>18000001</td>\n",
       "      <td>Sở GDĐT Bắc Giang</td>\n",
       "      <td>Toán</td>\n",
       "      <td>2.00</td>\n",
       "    </tr>\n",
       "    <tr>\n",
       "      <th>1</th>\n",
       "      <td>18000001</td>\n",
       "      <td>Sở GDĐT Bắc Giang</td>\n",
       "      <td>Ngữ văn</td>\n",
       "      <td>5.50</td>\n",
       "    </tr>\n",
       "    <tr>\n",
       "      <th>2</th>\n",
       "      <td>18000001</td>\n",
       "      <td>Sở GDĐT Bắc Giang</td>\n",
       "      <td>Lịch sử</td>\n",
       "      <td>3.00</td>\n",
       "    </tr>\n",
       "    <tr>\n",
       "      <th>3</th>\n",
       "      <td>18000001</td>\n",
       "      <td>Sở GDĐT Bắc Giang</td>\n",
       "      <td>Địa lí</td>\n",
       "      <td>5.00</td>\n",
       "    </tr>\n",
       "    <tr>\n",
       "      <th>4</th>\n",
       "      <td>18000002</td>\n",
       "      <td>Sở GDĐT Bắc Giang</td>\n",
       "      <td>Toán</td>\n",
       "      <td>5.50</td>\n",
       "    </tr>\n",
       "  </tbody>\n",
       "</table>\n",
       "</div>"
      ],
      "text/plain": [
       "        SBD            Cum_thi      Mon  Diem\n",
       "0  18000001  Sở GDĐT Bắc Giang     Toán  2.00\n",
       "1  18000001  Sở GDĐT Bắc Giang  Ngữ văn  5.50\n",
       "2  18000001  Sở GDĐT Bắc Giang  Lịch sử  3.00\n",
       "3  18000001  Sở GDĐT Bắc Giang   Địa lí  5.00\n",
       "4  18000002  Sở GDĐT Bắc Giang     Toán  5.50"
      ]
     },
     "execution_count": 90,
     "metadata": {},
     "output_type": "execute_result"
    }
   ],
   "source": [
    "df_allHS.head() #Nhận thấy data frame tạo ra ở dạng bảng dài, có nhiều thông tin bị lặp lại\n",
    "                #Nên khi vẽ thì phải groupby"
   ]
  },
  {
   "cell_type": "code",
   "execution_count": 91,
   "id": "c54cda5a-c854-413d-b78b-eba863ade673",
   "metadata": {},
   "outputs": [
    {
     "data": {
      "text/html": [
       "<div>\n",
       "<style scoped>\n",
       "    .dataframe tbody tr th:only-of-type {\n",
       "        vertical-align: middle;\n",
       "    }\n",
       "\n",
       "    .dataframe tbody tr th {\n",
       "        vertical-align: top;\n",
       "    }\n",
       "\n",
       "    .dataframe thead th {\n",
       "        text-align: right;\n",
       "    }\n",
       "</style>\n",
       "<table border=\"1\" class=\"dataframe\">\n",
       "  <thead>\n",
       "    <tr style=\"text-align: right;\">\n",
       "      <th></th>\n",
       "      <th>SBD</th>\n",
       "      <th>Cum_thi</th>\n",
       "      <th>Mon</th>\n",
       "      <th>Diem</th>\n",
       "    </tr>\n",
       "  </thead>\n",
       "  <tbody>\n",
       "    <tr>\n",
       "      <th>145869</th>\n",
       "      <td>HUI014543</td>\n",
       "      <td>Trường Đại học Công nghiệp Tp. HCM</td>\n",
       "      <td>Ngữ văn</td>\n",
       "      <td>4.25</td>\n",
       "    </tr>\n",
       "    <tr>\n",
       "      <th>145870</th>\n",
       "      <td>HUI014543</td>\n",
       "      <td>Trường Đại học Công nghiệp Tp. HCM</td>\n",
       "      <td>Vật lí</td>\n",
       "      <td>4.20</td>\n",
       "    </tr>\n",
       "    <tr>\n",
       "      <th>145871</th>\n",
       "      <td>HUI014543</td>\n",
       "      <td>Trường Đại học Công nghiệp Tp. HCM</td>\n",
       "      <td>Hóa học</td>\n",
       "      <td>4.40</td>\n",
       "    </tr>\n",
       "    <tr>\n",
       "      <th>145872</th>\n",
       "      <td>HUI014543</td>\n",
       "      <td>Trường Đại học Công nghiệp Tp. HCM</td>\n",
       "      <td>Sinh học</td>\n",
       "      <td>4.40</td>\n",
       "    </tr>\n",
       "    <tr>\n",
       "      <th>145873</th>\n",
       "      <td>HUI014543</td>\n",
       "      <td>Trường Đại học Công nghiệp Tp. HCM</td>\n",
       "      <td>Tiếng Anh</td>\n",
       "      <td>3.00</td>\n",
       "    </tr>\n",
       "  </tbody>\n",
       "</table>\n",
       "</div>"
      ],
      "text/plain": [
       "              SBD                             Cum_thi        Mon  Diem\n",
       "145869  HUI014543  Trường Đại học Công nghiệp Tp. HCM    Ngữ văn  4.25\n",
       "145870  HUI014543  Trường Đại học Công nghiệp Tp. HCM     Vật lí  4.20\n",
       "145871  HUI014543  Trường Đại học Công nghiệp Tp. HCM    Hóa học  4.40\n",
       "145872  HUI014543  Trường Đại học Công nghiệp Tp. HCM   Sinh học  4.40\n",
       "145873  HUI014543  Trường Đại học Công nghiệp Tp. HCM  Tiếng Anh  3.00"
      ]
     },
     "execution_count": 91,
     "metadata": {},
     "output_type": "execute_result"
    }
   ],
   "source": [
    "df_allHS.tail()"
   ]
  },
  {
   "cell_type": "code",
   "execution_count": 97,
   "id": "dff88433-7530-495c-af00-b81c13bc0b13",
   "metadata": {},
   "outputs": [
    {
     "data": {
      "text/html": [
       "<div>\n",
       "<style scoped>\n",
       "    .dataframe tbody tr th:only-of-type {\n",
       "        vertical-align: middle;\n",
       "    }\n",
       "\n",
       "    .dataframe tbody tr th {\n",
       "        vertical-align: top;\n",
       "    }\n",
       "\n",
       "    .dataframe thead tr th {\n",
       "        text-align: left;\n",
       "    }\n",
       "</style>\n",
       "<table border=\"1\" class=\"dataframe\">\n",
       "  <thead>\n",
       "    <tr>\n",
       "      <th></th>\n",
       "      <th>SBD</th>\n",
       "      <th colspan=\"12\" halign=\"left\">Diem</th>\n",
       "    </tr>\n",
       "    <tr>\n",
       "      <th>Mon</th>\n",
       "      <th></th>\n",
       "      <th>Hóa học</th>\n",
       "      <th>Lịch sử</th>\n",
       "      <th>Ngữ văn</th>\n",
       "      <th>Sinh học</th>\n",
       "      <th>Tiếng Anh</th>\n",
       "      <th>Tiếng Nhật</th>\n",
       "      <th>Tiếng Pháp</th>\n",
       "      <th>Tiếng Trung</th>\n",
       "      <th>Tiếng Đức</th>\n",
       "      <th>Toán</th>\n",
       "      <th>Vật lí</th>\n",
       "      <th>Địa lí</th>\n",
       "    </tr>\n",
       "  </thead>\n",
       "  <tbody>\n",
       "    <tr>\n",
       "      <th>0</th>\n",
       "      <td>18000001</td>\n",
       "      <td>NaN</td>\n",
       "      <td>3.00</td>\n",
       "      <td>5.50</td>\n",
       "      <td>NaN</td>\n",
       "      <td>NaN</td>\n",
       "      <td>NaN</td>\n",
       "      <td>NaN</td>\n",
       "      <td>NaN</td>\n",
       "      <td>NaN</td>\n",
       "      <td>2.00</td>\n",
       "      <td>NaN</td>\n",
       "      <td>5.00</td>\n",
       "    </tr>\n",
       "    <tr>\n",
       "      <th>1</th>\n",
       "      <td>18000002</td>\n",
       "      <td>NaN</td>\n",
       "      <td>NaN</td>\n",
       "      <td>5.25</td>\n",
       "      <td>NaN</td>\n",
       "      <td>3.68</td>\n",
       "      <td>NaN</td>\n",
       "      <td>NaN</td>\n",
       "      <td>NaN</td>\n",
       "      <td>NaN</td>\n",
       "      <td>5.50</td>\n",
       "      <td>NaN</td>\n",
       "      <td>5.50</td>\n",
       "    </tr>\n",
       "    <tr>\n",
       "      <th>2</th>\n",
       "      <td>18000003</td>\n",
       "      <td>NaN</td>\n",
       "      <td>NaN</td>\n",
       "      <td>5.50</td>\n",
       "      <td>NaN</td>\n",
       "      <td>2.25</td>\n",
       "      <td>NaN</td>\n",
       "      <td>NaN</td>\n",
       "      <td>NaN</td>\n",
       "      <td>NaN</td>\n",
       "      <td>4.50</td>\n",
       "      <td>NaN</td>\n",
       "      <td>3.75</td>\n",
       "    </tr>\n",
       "    <tr>\n",
       "      <th>3</th>\n",
       "      <td>18000004</td>\n",
       "      <td>NaN</td>\n",
       "      <td>NaN</td>\n",
       "      <td>6.00</td>\n",
       "      <td>NaN</td>\n",
       "      <td>1.50</td>\n",
       "      <td>NaN</td>\n",
       "      <td>NaN</td>\n",
       "      <td>NaN</td>\n",
       "      <td>NaN</td>\n",
       "      <td>3.00</td>\n",
       "      <td>NaN</td>\n",
       "      <td>5.50</td>\n",
       "    </tr>\n",
       "    <tr>\n",
       "      <th>4</th>\n",
       "      <td>18000005</td>\n",
       "      <td>NaN</td>\n",
       "      <td>NaN</td>\n",
       "      <td>4.75</td>\n",
       "      <td>NaN</td>\n",
       "      <td>2.00</td>\n",
       "      <td>NaN</td>\n",
       "      <td>NaN</td>\n",
       "      <td>NaN</td>\n",
       "      <td>NaN</td>\n",
       "      <td>2.25</td>\n",
       "      <td>NaN</td>\n",
       "      <td>5.25</td>\n",
       "    </tr>\n",
       "  </tbody>\n",
       "</table>\n",
       "</div>"
      ],
      "text/plain": [
       "          SBD    Diem                                                \\\n",
       "Mon           Hóa học Lịch sử Ngữ văn Sinh học Tiếng Anh Tiếng Nhật   \n",
       "0    18000001     NaN    3.00    5.50      NaN       NaN        NaN   \n",
       "1    18000002     NaN     NaN    5.25      NaN      3.68        NaN   \n",
       "2    18000003     NaN     NaN    5.50      NaN      2.25        NaN   \n",
       "3    18000004     NaN     NaN    6.00      NaN      1.50        NaN   \n",
       "4    18000005     NaN     NaN    4.75      NaN      2.00        NaN   \n",
       "\n",
       "                                                          \n",
       "Mon Tiếng Pháp Tiếng Trung Tiếng Đức  Toán Vật lí Địa lí  \n",
       "0          NaN         NaN       NaN  2.00    NaN   5.00  \n",
       "1          NaN         NaN       NaN  5.50    NaN   5.50  \n",
       "2          NaN         NaN       NaN  4.50    NaN   3.75  \n",
       "3          NaN         NaN       NaN  3.00    NaN   5.50  \n",
       "4          NaN         NaN       NaN  2.25    NaN   5.25  "
      ]
     },
     "execution_count": 97,
     "metadata": {},
     "output_type": "execute_result"
    }
   ],
   "source": [
    "#Điều chỉnh lại bảng\n",
    "df_allHS_pivot = df_allHS.pivot(index='SBD', #Đặt index = SBD, khi đó các giá trị SBD chỉ lặp lại một lần duy nhất \n",
    "                               columns='Mon',\n",
    "                               values=['Diem']).reset_index()\n",
    "\n",
    "df_allHS_pivot.head()"
   ]
  },
  {
   "cell_type": "code",
   "execution_count": null,
   "id": "b35372eb-5ba7-4f5c-82ed-0fd94c7e611f",
   "metadata": {},
   "outputs": [],
   "source": []
  }
 ],
 "metadata": {
  "kernelspec": {
   "display_name": "Python 3 (ipykernel)",
   "language": "python",
   "name": "python3"
  },
  "language_info": {
   "codemirror_mode": {
    "name": "ipython",
    "version": 3
   },
   "file_extension": ".py",
   "mimetype": "text/x-python",
   "name": "python",
   "nbconvert_exporter": "python",
   "pygments_lexer": "ipython3",
   "version": "3.10.12"
  }
 },
 "nbformat": 4,
 "nbformat_minor": 5
}
