{
 "cells": [
  {
   "cell_type": "code",
   "execution_count": 1,
   "id": "a68f2a4b-d5dd-4e4e-a7fa-1e869984d8a9",
   "metadata": {},
   "outputs": [],
   "source": [
    "#Timestamp là một dạng dữ liệu thể hiện dưới dạng chuỗi số  integer, đại diện cho một mốc thời gian nào đó\n",
    "#Hàm pandas.to_datetime giúp chuyển đổi timestamp thành dạng datetime (dd/mm/yyyy) cho dễ đọc"
   ]
  },
  {
   "cell_type": "code",
   "execution_count": 2,
   "id": "d13317f1-a19a-4af7-a9e3-9f8246b65e80",
   "metadata": {},
   "outputs": [],
   "source": [
    "import numpy as np\n",
    "import pandas as pd"
   ]
  },
  {
   "cell_type": "code",
   "execution_count": 3,
   "id": "310f24e1-abf7-4dca-87d1-23c7445ab9fb",
   "metadata": {},
   "outputs": [],
   "source": [
    "tags = pd.read_excel('/home/long/Documents/Data Science/2. Python for DS/file of Bảng tin/movies(11).xlsx', 'tags')"
   ]
  },
  {
   "cell_type": "code",
   "execution_count": 4,
   "id": "3c8af32d-c081-4e55-a7b0-e9088013b62d",
   "metadata": {},
   "outputs": [
    {
     "data": {
      "text/html": [
       "<div>\n",
       "<style scoped>\n",
       "    .dataframe tbody tr th:only-of-type {\n",
       "        vertical-align: middle;\n",
       "    }\n",
       "\n",
       "    .dataframe tbody tr th {\n",
       "        vertical-align: top;\n",
       "    }\n",
       "\n",
       "    .dataframe thead th {\n",
       "        text-align: right;\n",
       "    }\n",
       "</style>\n",
       "<table border=\"1\" class=\"dataframe\">\n",
       "  <thead>\n",
       "    <tr style=\"text-align: right;\">\n",
       "      <th></th>\n",
       "      <th>userId</th>\n",
       "      <th>movieId</th>\n",
       "      <th>tag</th>\n",
       "      <th>timestamp</th>\n",
       "    </tr>\n",
       "  </thead>\n",
       "  <tbody>\n",
       "    <tr>\n",
       "      <th>0</th>\n",
       "      <td>15</td>\n",
       "      <td>339</td>\n",
       "      <td>sandra 'boring' bullock</td>\n",
       "      <td>1138537770</td>\n",
       "    </tr>\n",
       "    <tr>\n",
       "      <th>1</th>\n",
       "      <td>15</td>\n",
       "      <td>1955</td>\n",
       "      <td>dentist</td>\n",
       "      <td>1193435061</td>\n",
       "    </tr>\n",
       "    <tr>\n",
       "      <th>2</th>\n",
       "      <td>15</td>\n",
       "      <td>7478</td>\n",
       "      <td>Cambodia</td>\n",
       "      <td>1170560997</td>\n",
       "    </tr>\n",
       "    <tr>\n",
       "      <th>3</th>\n",
       "      <td>15</td>\n",
       "      <td>32892</td>\n",
       "      <td>Russian</td>\n",
       "      <td>1170626366</td>\n",
       "    </tr>\n",
       "    <tr>\n",
       "      <th>4</th>\n",
       "      <td>15</td>\n",
       "      <td>34162</td>\n",
       "      <td>forgettable</td>\n",
       "      <td>1141391765</td>\n",
       "    </tr>\n",
       "  </tbody>\n",
       "</table>\n",
       "</div>"
      ],
      "text/plain": [
       "   userId  movieId                      tag   timestamp\n",
       "0      15      339  sandra 'boring' bullock  1138537770\n",
       "1      15     1955                  dentist  1193435061\n",
       "2      15     7478                 Cambodia  1170560997\n",
       "3      15    32892                  Russian  1170626366\n",
       "4      15    34162              forgettable  1141391765"
      ]
     },
     "execution_count": 4,
     "metadata": {},
     "output_type": "execute_result"
    }
   ],
   "source": [
    "tags.head()"
   ]
  },
  {
   "cell_type": "code",
   "execution_count": 6,
   "id": "f8c8bf3d-2aea-444b-8b99-2663b48674e3",
   "metadata": {},
   "outputs": [
    {
     "data": {
      "text/plain": [
       "0      2006-01-29 12:29:30\n",
       "1      2007-10-26 21:44:21\n",
       "2      2007-02-04 03:49:57\n",
       "3      2007-02-04 21:59:26\n",
       "4      2006-03-03 13:16:05\n",
       "               ...        \n",
       "1291   2015-07-12 06:01:25\n",
       "1292   2015-07-12 06:01:25\n",
       "1293   2015-07-12 06:01:25\n",
       "1294   2015-08-01 03:01:18\n",
       "1295   2015-08-01 03:00:50\n",
       "Name: timestamp, Length: 1296, dtype: datetime64[ns]"
      ]
     },
     "execution_count": 6,
     "metadata": {},
     "output_type": "execute_result"
    }
   ],
   "source": [
    "pd.to_datetime(tags['timestamp'], unit='s') #Chuyển từ dạng timestamp sang dạng datetime\n",
    "                                             #unit='s' tức đổi tới đơn vị là giây (second)"
   ]
  },
  {
   "cell_type": "code",
   "execution_count": 8,
   "id": "1f773f1a-7d69-43ce-9d60-3c9854cdeef6",
   "metadata": {},
   "outputs": [],
   "source": [
    "tags['parsed_time'] = pd.to_datetime(tags['timestamp'], unit='s')\n",
    "#Tạo thêm một cột mới trong df tags với tên là 'parsed_time'\n",
    "#Cột đó chứa dữ liệu datetime, được chuyển đổi từ timestamp sang nhờ hàm pd.to_datetime"
   ]
  },
  {
   "cell_type": "code",
   "execution_count": 9,
   "id": "09c9a725-0374-4905-97e5-c6480b9c6ec8",
   "metadata": {},
   "outputs": [
    {
     "data": {
      "text/html": [
       "<div>\n",
       "<style scoped>\n",
       "    .dataframe tbody tr th:only-of-type {\n",
       "        vertical-align: middle;\n",
       "    }\n",
       "\n",
       "    .dataframe tbody tr th {\n",
       "        vertical-align: top;\n",
       "    }\n",
       "\n",
       "    .dataframe thead th {\n",
       "        text-align: right;\n",
       "    }\n",
       "</style>\n",
       "<table border=\"1\" class=\"dataframe\">\n",
       "  <thead>\n",
       "    <tr style=\"text-align: right;\">\n",
       "      <th></th>\n",
       "      <th>userId</th>\n",
       "      <th>movieId</th>\n",
       "      <th>tag</th>\n",
       "      <th>timestamp</th>\n",
       "      <th>parsed_time</th>\n",
       "    </tr>\n",
       "  </thead>\n",
       "  <tbody>\n",
       "    <tr>\n",
       "      <th>0</th>\n",
       "      <td>15</td>\n",
       "      <td>339</td>\n",
       "      <td>sandra 'boring' bullock</td>\n",
       "      <td>1138537770</td>\n",
       "      <td>2006-01-29 12:29:30</td>\n",
       "    </tr>\n",
       "    <tr>\n",
       "      <th>1</th>\n",
       "      <td>15</td>\n",
       "      <td>1955</td>\n",
       "      <td>dentist</td>\n",
       "      <td>1193435061</td>\n",
       "      <td>2007-10-26 21:44:21</td>\n",
       "    </tr>\n",
       "    <tr>\n",
       "      <th>2</th>\n",
       "      <td>15</td>\n",
       "      <td>7478</td>\n",
       "      <td>Cambodia</td>\n",
       "      <td>1170560997</td>\n",
       "      <td>2007-02-04 03:49:57</td>\n",
       "    </tr>\n",
       "    <tr>\n",
       "      <th>3</th>\n",
       "      <td>15</td>\n",
       "      <td>32892</td>\n",
       "      <td>Russian</td>\n",
       "      <td>1170626366</td>\n",
       "      <td>2007-02-04 21:59:26</td>\n",
       "    </tr>\n",
       "    <tr>\n",
       "      <th>4</th>\n",
       "      <td>15</td>\n",
       "      <td>34162</td>\n",
       "      <td>forgettable</td>\n",
       "      <td>1141391765</td>\n",
       "      <td>2006-03-03 13:16:05</td>\n",
       "    </tr>\n",
       "  </tbody>\n",
       "</table>\n",
       "</div>"
      ],
      "text/plain": [
       "   userId  movieId                      tag   timestamp         parsed_time\n",
       "0      15      339  sandra 'boring' bullock  1138537770 2006-01-29 12:29:30\n",
       "1      15     1955                  dentist  1193435061 2007-10-26 21:44:21\n",
       "2      15     7478                 Cambodia  1170560997 2007-02-04 03:49:57\n",
       "3      15    32892                  Russian  1170626366 2007-02-04 21:59:26\n",
       "4      15    34162              forgettable  1141391765 2006-03-03 13:16:05"
      ]
     },
     "execution_count": 9,
     "metadata": {},
     "output_type": "execute_result"
    }
   ],
   "source": [
    "tags.head()"
   ]
  },
  {
   "cell_type": "code",
   "execution_count": 10,
   "id": "135abbb1-5f11-4470-be20-57f91821dfa1",
   "metadata": {},
   "outputs": [
    {
     "name": "stdout",
     "output_type": "stream",
     "text": [
      "<class 'pandas.core.frame.DataFrame'>\n",
      "RangeIndex: 1296 entries, 0 to 1295\n",
      "Data columns (total 5 columns):\n",
      " #   Column       Non-Null Count  Dtype         \n",
      "---  ------       --------------  -----         \n",
      " 0   userId       1296 non-null   int64         \n",
      " 1   movieId      1296 non-null   int64         \n",
      " 2   tag          1296 non-null   object        \n",
      " 3   timestamp    1296 non-null   int64         \n",
      " 4   parsed_time  1296 non-null   datetime64[ns]\n",
      "dtypes: datetime64[ns](1), int64(3), object(1)\n",
      "memory usage: 50.8+ KB\n"
     ]
    }
   ],
   "source": [
    "tags.info() #Dữ liệu cột parsed_time là datetime"
   ]
  },
  {
   "cell_type": "code",
   "execution_count": null,
   "id": "a3e944e8-c959-494d-b2bc-708296d3e00d",
   "metadata": {},
   "outputs": [],
   "source": []
  }
 ],
 "metadata": {
  "kernelspec": {
   "display_name": "Python 3 (ipykernel)",
   "language": "python",
   "name": "python3"
  },
  "language_info": {
   "codemirror_mode": {
    "name": "ipython",
    "version": 3
   },
   "file_extension": ".py",
   "mimetype": "text/x-python",
   "name": "python",
   "nbconvert_exporter": "python",
   "pygments_lexer": "ipython3",
   "version": "3.10.12"
  }
 },
 "nbformat": 4,
 "nbformat_minor": 5
}
