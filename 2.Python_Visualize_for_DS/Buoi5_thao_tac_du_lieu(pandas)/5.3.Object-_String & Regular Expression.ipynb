{
 "cells": [
  {
   "cell_type": "code",
   "execution_count": 1,
   "id": "c0b7f1c2-55ac-4d62-a12e-b31639eceac9",
   "metadata": {},
   "outputs": [],
   "source": [
    "#Các cột trong df có kiểu dạng str nhưng thực chất lại là \"object\"\n",
    "#Do đó nếu muốn thao tác trên những chuỗi này thì phải chuyển nó từ object sang string trước"
   ]
  },
  {
   "cell_type": "code",
   "execution_count": 2,
   "id": "901b51f1-61e1-4af1-8e6d-49e6beaae546",
   "metadata": {},
   "outputs": [],
   "source": [
    "import numpy as np\n",
    "import pandas as pd"
   ]
  },
  {
   "cell_type": "code",
   "execution_count": 4,
   "id": "2ebc18b0-4a7b-4759-ab3e-1540b7e77cc0",
   "metadata": {},
   "outputs": [
    {
     "name": "stdout",
     "output_type": "stream",
     "text": [
      "WARNING *** OLE2 inconsistency: SSCS size is 0 but SSAT size is non-zero\n"
     ]
    }
   ],
   "source": [
    "emp = pd.read_excel('/home/long/Documents/Data Science/2. Python for DS/file of Bảng tin/employees.xls')\n",
    "dpmt = pd.read_excel('/home/long/Documents/Data Science/2. Python for DS/file of Bảng tin/departments(22).xls')"
   ]
  },
  {
   "cell_type": "code",
   "execution_count": 5,
   "id": "aefe0def-acdf-45a8-9041-d500dac6ae63",
   "metadata": {},
   "outputs": [],
   "source": [
    "emp1 = emp[['EMPLOYEE_ID', 'FIRST_NAME', 'SALARY', 'DEPARTMENT_ID']]"
   ]
  },
  {
   "cell_type": "code",
   "execution_count": 6,
   "id": "68b00787-0b9e-466b-85ce-001d9b525755",
   "metadata": {},
   "outputs": [],
   "source": [
    "df_emp1_dpmt = pd.merge(emp1,dpmt[['DEPARTMENT_ID','DEPARTMENT_NAME']])"
   ]
  },
  {
   "cell_type": "code",
   "execution_count": 15,
   "id": "a0f4f507-531d-42a0-85a1-8430af0b6129",
   "metadata": {},
   "outputs": [
    {
     "data": {
      "text/html": [
       "<div>\n",
       "<style scoped>\n",
       "    .dataframe tbody tr th:only-of-type {\n",
       "        vertical-align: middle;\n",
       "    }\n",
       "\n",
       "    .dataframe tbody tr th {\n",
       "        vertical-align: top;\n",
       "    }\n",
       "\n",
       "    .dataframe thead th {\n",
       "        text-align: right;\n",
       "    }\n",
       "</style>\n",
       "<table border=\"1\" class=\"dataframe\">\n",
       "  <thead>\n",
       "    <tr style=\"text-align: right;\">\n",
       "      <th></th>\n",
       "      <th>EMPLOYEE_ID</th>\n",
       "      <th>FIRST_NAME</th>\n",
       "      <th>SALARY</th>\n",
       "      <th>DEPARTMENT_ID</th>\n",
       "      <th>DEPARTMENT_NAME</th>\n",
       "    </tr>\n",
       "  </thead>\n",
       "  <tbody>\n",
       "    <tr>\n",
       "      <th>0</th>\n",
       "      <td>100</td>\n",
       "      <td>Steven</td>\n",
       "      <td>24000</td>\n",
       "      <td>90.0</td>\n",
       "      <td>Executive</td>\n",
       "    </tr>\n",
       "    <tr>\n",
       "      <th>1</th>\n",
       "      <td>101</td>\n",
       "      <td>Neena</td>\n",
       "      <td>17000</td>\n",
       "      <td>90.0</td>\n",
       "      <td>Executive</td>\n",
       "    </tr>\n",
       "    <tr>\n",
       "      <th>2</th>\n",
       "      <td>102</td>\n",
       "      <td>Lex</td>\n",
       "      <td>17000</td>\n",
       "      <td>90.0</td>\n",
       "      <td>Executive</td>\n",
       "    </tr>\n",
       "    <tr>\n",
       "      <th>3</th>\n",
       "      <td>103</td>\n",
       "      <td>Alexander</td>\n",
       "      <td>9000</td>\n",
       "      <td>60.0</td>\n",
       "      <td>IT</td>\n",
       "    </tr>\n",
       "    <tr>\n",
       "      <th>4</th>\n",
       "      <td>104</td>\n",
       "      <td>Bruce</td>\n",
       "      <td>6000</td>\n",
       "      <td>60.0</td>\n",
       "      <td>IT</td>\n",
       "    </tr>\n",
       "  </tbody>\n",
       "</table>\n",
       "</div>"
      ],
      "text/plain": [
       "   EMPLOYEE_ID FIRST_NAME  SALARY  DEPARTMENT_ID DEPARTMENT_NAME\n",
       "0          100     Steven   24000           90.0       Executive\n",
       "1          101      Neena   17000           90.0       Executive\n",
       "2          102        Lex   17000           90.0       Executive\n",
       "3          103  Alexander    9000           60.0              IT\n",
       "4          104      Bruce    6000           60.0              IT"
      ]
     },
     "execution_count": 15,
     "metadata": {},
     "output_type": "execute_result"
    }
   ],
   "source": [
    "df_emp1_dpmt.head()"
   ]
  },
  {
   "cell_type": "code",
   "execution_count": 10,
   "id": "da785010-ff0d-44ae-8cab-f6ec9c5553ec",
   "metadata": {},
   "outputs": [
    {
     "data": {
      "text/plain": [
       "Index(['EMPLOYEE_ID', 'FIRST_NAME', 'SALARY', 'DEPARTMENT_ID',\n",
       "       'DEPARTMENT_NAME'],\n",
       "      dtype='object')"
      ]
     },
     "execution_count": 10,
     "metadata": {},
     "output_type": "execute_result"
    }
   ],
   "source": [
    "df_emp1_dpmt.columns"
   ]
  },
  {
   "cell_type": "code",
   "execution_count": 11,
   "id": "ca42fcf5-7ee8-4c6e-8965-7de6f1da43c5",
   "metadata": {},
   "outputs": [
    {
     "name": "stdout",
     "output_type": "stream",
     "text": [
      "<class 'pandas.core.frame.DataFrame'>\n",
      "RangeIndex: 106 entries, 0 to 105\n",
      "Data columns (total 5 columns):\n",
      " #   Column           Non-Null Count  Dtype  \n",
      "---  ------           --------------  -----  \n",
      " 0   EMPLOYEE_ID      106 non-null    int64  \n",
      " 1   FIRST_NAME       106 non-null    object \n",
      " 2   SALARY           106 non-null    int64  \n",
      " 3   DEPARTMENT_ID    106 non-null    float64\n",
      " 4   DEPARTMENT_NAME  106 non-null    object \n",
      "dtypes: float64(1), int64(2), object(2)\n",
      "memory usage: 4.3+ KB\n"
     ]
    }
   ],
   "source": [
    "df_emp1_dpmt.info() #Xuất ra các thông tin liên quan tới df"
   ]
  },
  {
   "cell_type": "code",
   "execution_count": 12,
   "id": "123fd532-b154-4572-89ca-8dd7fc5e385f",
   "metadata": {},
   "outputs": [
    {
     "data": {
      "text/plain": [
       "0         Steven\n",
       "1          Neena\n",
       "2            Lex\n",
       "3      Alexander\n",
       "4          Bruce\n",
       "         ...    \n",
       "101          Pat\n",
       "102        Susan\n",
       "103      Hermann\n",
       "104      Shelley\n",
       "105      William\n",
       "Name: FIRST_NAME, Length: 106, dtype: object"
      ]
     },
     "execution_count": 12,
     "metadata": {},
     "output_type": "execute_result"
    }
   ],
   "source": [
    "df_emp1_dpmt['FIRST_NAME']"
   ]
  },
  {
   "cell_type": "code",
   "execution_count": 14,
   "id": "4ddc7f23-0a8a-4531-885c-016a53f591a9",
   "metadata": {},
   "outputs": [
    {
     "data": {
      "text/plain": [
       "0         STEVEN\n",
       "1          NEENA\n",
       "2            LEX\n",
       "3      ALEXANDER\n",
       "4          BRUCE\n",
       "         ...    \n",
       "101          PAT\n",
       "102        SUSAN\n",
       "103      HERMANN\n",
       "104      SHELLEY\n",
       "105      WILLIAM\n",
       "Name: FIRST_NAME, Length: 106, dtype: object"
      ]
     },
     "execution_count": 14,
     "metadata": {},
     "output_type": "execute_result"
    }
   ],
   "source": [
    "df_emp1_dpmt['FIRST_NAME'].str.upper() #Chuyển hết dữ liệu trong cột FIRST_NAME từ object thành string, rồi upper() để viết hoa lên"
   ]
  },
  {
   "cell_type": "code",
   "execution_count": 16,
   "id": "96dd5c5c-6375-4232-b36f-60de8b2656fa",
   "metadata": {},
   "outputs": [
    {
     "data": {
      "text/plain": [
       "'\\nimport re : để  import thư viện regular expression vào rồi mới dùng được mấy cái bên dưới\\n\\n^a...s$: dấu ^ là bắt đầu chuỗi, dấu $ là kết thúc chuỗi, mỗi dấu chấm \".\" là một ký tự\\n         Cách ghi này có nghĩa là tìm một chuỗi bắt đầu bằng \"a\", kết thúc bằng \"s\", ở giữa có ba ký tự bất kỳ\\n\\ncat|mat (or): tìm chuỗi \"cat\" hoặc \"mat\"\\ngr(e|a)y: tìm chuỗi \"grey\" hoặc \"gray\"\\n\\n\"colou?r\": tìm \"colour\" hoặc \"color\". Chữ \"u\" đứng trước dấu \"?\" thì nó có thể  không xuất hiện, hoặc chỉ xuất hiện một lần duy nhất\\n\"94*9\": tìm \"99\" hoặc \"949\" hoặc \"9449\" hoặc.... Số  \\'4\\' đứng trước dấu *, nghĩa là số 4 có thể không có, hoặc có thể có xuất hiện nhiều lần\\n\"36+40\": tìm 3640, hoặc 36640 hoặc.... Số 6 đứng trước dấu \\'+\\' nghĩa là nó phải xuất hiện ít nhất một lần, hoặc nhiều lần\\n\\n\"go{2,3}gle\": tìm \"google\" hoặc \"gooogle\"... o{2,3} nghĩa là chữ \"o\" chỉ xuất hiện 2 lần hoặc 3 lần\\n\"9{3}\": nghĩa là \"999\", tức số 9 xuất hiện đúng 3 lần\\n\"s{2,}: \"ss\" hoặc \"sss\" hoặc...nghĩa là chữ \"s\" xuất hiện ít nhất hai lần, hoặc nhiều hơn (phía sau dấu phẩy không có gì, \\n                                                                                            tức không áp giới hạn trên)\\n\\n[xyz]: là tìm \\'x\\' hoặc \\'y\\' hoặc \\'z\\'\\n\\n[a-z]: tìm từ \\'a\\' đến \\'z\\' chữ thường\\n[A-Z]: tìm từ \\'A\\' đến \\'Z\\' chữ hoa\\n[a-zA-Z]: tìm tất cả ký tự a-z chữ thường và chữ hoa\\n\\n[^0-9]: thấy các ký tự số  từ 0 đến 9 thì loại ra, không tìm\\n\\n\\\\d: ký số  [0-9]\\n\\\\D: không phải ký số \\n\\\\s: ký tự đơn là tab(\\t), newline (\\n), khoảng trắng (\\x0b)\\n\\\\w: ký tự [a-zA-Z0-9]\\n\\\\w+: 1 hoặc nhiều ký tự [a-zA-Z0-9]\\n'"
      ]
     },
     "execution_count": 16,
     "metadata": {},
     "output_type": "execute_result"
    }
   ],
   "source": [
    "#--------------------------------------------REGULAR EXPRESSION (RE)---------------------------------------#\n",
    "'''\n",
    "import re : để  import thư viện regular expression vào rồi mới dùng được mấy cái bên dưới\n",
    "\n",
    "^a...s$: dấu ^ là bắt đầu chuỗi, dấu $ là kết thúc chuỗi, mỗi dấu chấm \".\" là một ký tự\n",
    "         Cách ghi này có nghĩa là tìm một chuỗi bắt đầu bằng \"a\", kết thúc bằng \"s\", ở giữa có ba ký tự bất kỳ\n",
    "\n",
    "cat|mat (or): tìm chuỗi \"cat\" hoặc \"mat\"\n",
    "gr(e|a)y: tìm chuỗi \"grey\" hoặc \"gray\"\n",
    "\n",
    "\"colou?r\": tìm \"colour\" hoặc \"color\". Chữ \"u\" đứng trước dấu \"?\" thì nó có thể  không xuất hiện, hoặc chỉ xuất hiện một lần duy nhất\n",
    "\"94*9\": tìm \"99\" hoặc \"949\" hoặc \"9449\" hoặc.... Số  '4' đứng trước dấu *, nghĩa là số 4 có thể không có, hoặc có thể có xuất hiện nhiều lần\n",
    "\"36+40\": tìm 3640, hoặc 36640 hoặc.... Số 6 đứng trước dấu '+' nghĩa là nó phải xuất hiện ít nhất một lần, hoặc nhiều lần\n",
    "\n",
    "\"go{2,3}gle\": tìm \"google\" hoặc \"gooogle\"... o{2,3} nghĩa là chữ \"o\" chỉ xuất hiện 2 lần hoặc 3 lần\n",
    "\"9{3}\": nghĩa là \"999\", tức số 9 xuất hiện đúng 3 lần\n",
    "\"s{2,}: \"ss\" hoặc \"sss\" hoặc...nghĩa là chữ \"s\" xuất hiện ít nhất hai lần, hoặc nhiều hơn (phía sau dấu phẩy không có gì, \n",
    "                                                                                            tức không áp giới hạn trên)\n",
    "\n",
    "[xyz]: là tìm 'x' hoặc 'y' hoặc 'z'\n",
    "\n",
    "[a-z]: tìm từ 'a' đến 'z' chữ thường\n",
    "[A-Z]: tìm từ 'A' đến 'Z' chữ hoa\n",
    "[a-zA-Z]: tìm tất cả ký tự a-z chữ thường và chữ hoa\n",
    "\n",
    "[^0-9]: thấy các ký tự số  từ 0 đến 9 thì loại ra, không tìm\n",
    "\n",
    "\\d: ký số  [0-9]\n",
    "\\D: không phải ký số \n",
    "\\s: ký tự đơn là tab(\\t), newline (\\n), khoảng trắng (\\v)\n",
    "\\w: ký tự [a-zA-Z0-9]\n",
    "\\w+: 1 hoặc nhiều ký tự [a-zA-Z0-9]\n",
    "'''"
   ]
  },
  {
   "cell_type": "code",
   "execution_count": null,
   "id": "1d0147ec-8345-47b6-b7fc-86c4ec88ee6b",
   "metadata": {},
   "outputs": [],
   "source": []
  }
 ],
 "metadata": {
  "kernelspec": {
   "display_name": "Python 3 (ipykernel)",
   "language": "python",
   "name": "python3"
  },
  "language_info": {
   "codemirror_mode": {
    "name": "ipython",
    "version": 3
   },
   "file_extension": ".py",
   "mimetype": "text/x-python",
   "name": "python",
   "nbconvert_exporter": "python",
   "pygments_lexer": "ipython3",
   "version": "3.10.12"
  }
 },
 "nbformat": 4,
 "nbformat_minor": 5
}
