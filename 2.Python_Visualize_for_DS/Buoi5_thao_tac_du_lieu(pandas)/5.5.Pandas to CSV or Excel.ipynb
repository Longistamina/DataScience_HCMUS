{
 "cells": [
  {
   "cell_type": "code",
   "execution_count": 1,
   "id": "0fb07e03-b273-4cfc-9449-f7c73a6d5e3d",
   "metadata": {},
   "outputs": [],
   "source": [
    "#Trong pandas có hàm để chuyển dataframe thành file csv hoặc excel\n",
    "#Là to_csv hoặc to_excel"
   ]
  },
  {
   "cell_type": "code",
   "execution_count": 2,
   "id": "0f3c04e0-d48b-46bd-ba2d-bdc07cb5aa1c",
   "metadata": {},
   "outputs": [],
   "source": [
    "import numpy as np\n",
    "import pandas as pd"
   ]
  },
  {
   "cell_type": "code",
   "execution_count": 3,
   "id": "d60ab7ea-5178-4845-92b8-f133c0d751a4",
   "metadata": {},
   "outputs": [],
   "source": [
    "tags = pd.read_excel('/home/long/Documents/Data Science/2. Python for DS/file of Bảng tin/movies(11).xlsx', 'tags')"
   ]
  },
  {
   "cell_type": "code",
   "execution_count": 4,
   "id": "a40d8f63-4a77-48c7-afae-e7a9195125bd",
   "metadata": {},
   "outputs": [],
   "source": [
    "tags['parsed_time'] = pd.to_datetime(tags['timestamp'], unit='s')"
   ]
  },
  {
   "cell_type": "code",
   "execution_count": 5,
   "id": "d15c4a3c-0d62-41be-86a6-55ab4701759d",
   "metadata": {},
   "outputs": [],
   "source": [
    "tags.to_csv('tags.csv') #Lưu dữ liệu trong df tags thành file tags.csv, trong thư mục hiện hành (working directory)"
   ]
  },
  {
   "cell_type": "code",
   "execution_count": 6,
   "id": "005cd4ae-8c68-488d-bc1d-ff32eddfea96",
   "metadata": {},
   "outputs": [],
   "source": [
    "tags.to_excel('tags.xlsx') #Lưu dũ liệu trong df tags thành file  tags.xlsx, trong working directory"
   ]
  },
  {
   "cell_type": "code",
   "execution_count": null,
   "id": "7c14947d-813f-46df-acf7-0c969a5f7bd7",
   "metadata": {},
   "outputs": [],
   "source": []
  }
 ],
 "metadata": {
  "kernelspec": {
   "display_name": "Python 3 (ipykernel)",
   "language": "python",
   "name": "python3"
  },
  "language_info": {
   "codemirror_mode": {
    "name": "ipython",
    "version": 3
   },
   "file_extension": ".py",
   "mimetype": "text/x-python",
   "name": "python",
   "nbconvert_exporter": "python",
   "pygments_lexer": "ipython3",
   "version": "3.10.12"
  }
 },
 "nbformat": 4,
 "nbformat_minor": 5
}
