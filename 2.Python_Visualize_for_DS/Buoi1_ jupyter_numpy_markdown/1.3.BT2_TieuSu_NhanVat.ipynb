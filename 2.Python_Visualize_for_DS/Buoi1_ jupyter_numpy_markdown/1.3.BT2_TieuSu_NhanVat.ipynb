{
 "cells": [
  {
   "cell_type": "markdown",
   "id": "aa4f4b98-4353-4663-a3e5-a7c882520883",
   "metadata": {},
   "source": [
    "# BÀI TẬP 2: TIỂU SỬ  NHÂN VẬT NỔI TIẾNG - VICTOR HUGO"
   ]
  },
  {
   "cell_type": "markdown",
   "id": "7ab7a228-ca36-4ff8-98ae-cf141baf1f18",
   "metadata": {},
   "source": [
    "![Victor Hugo](https://nghiencuulichsudotcom.files.wordpress.com/2019/04/img_0964-2.jpg)"
   ]
  },
  {
   "cell_type": "markdown",
   "id": "1ec7df30-6f09-4818-9ffc-a1412e9a04b3",
   "metadata": {},
   "source": [
    "**Né:** 26 février, 1802\n",
    "\n",
    "**Mort:** 22 Mai, 1885\n",
    "\n",
    "**Oeuvres notables:** Les misérables, La Notre Dame, Hernani, etc."
   ]
  },
  {
   "cell_type": "code",
   "execution_count": null,
   "id": "fb85845e-5909-4067-b789-cf3e1f944cca",
   "metadata": {},
   "outputs": [],
   "source": []
  }
 ],
 "metadata": {
  "kernelspec": {
   "display_name": "Python 3 (ipykernel)",
   "language": "python",
   "name": "python3"
  },
  "language_info": {
   "codemirror_mode": {
    "name": "ipython",
    "version": 3
   },
   "file_extension": ".py",
   "mimetype": "text/x-python",
   "name": "python",
   "nbconvert_exporter": "python",
   "pygments_lexer": "ipython3",
   "version": "3.10.12"
  }
 },
 "nbformat": 4,
 "nbformat_minor": 5
}
