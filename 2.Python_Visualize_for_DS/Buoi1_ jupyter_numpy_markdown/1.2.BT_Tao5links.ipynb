{
 "cells": [
  {
   "cell_type": "markdown",
   "id": "9a6bcbe0-1ec7-4e93-9f67-eef6a7511cd8",
   "metadata": {},
   "source": [
    "# BÀI TẬP 1: TẠO 5 LINKS"
   ]
  },
  {
   "cell_type": "markdown",
   "id": "848325e2-9183-4a82-8115-68b1c524e226",
   "metadata": {},
   "source": [
    "1. [Drive của tôi](https://drive.google.com/drive/my-drive)\n",
    "2. [Drive Biotechnologie](https://studenthcmusedu-my.sharepoint.com/personal/21180191_student_hcmus_edu_vn/_layouts/15/onedrive.aspx?view=1)\n",
    "3. [Từ điển La bàn](https://dict.laban.vn/)\n",
    "4. [Dictionnaire Le Robert](https://dictionnaire.lerobert.com/)\n",
    "5. [Lịch học](https://docs.google.com/spreadsheets/d/1L2XehO2u4CWygNXvatVx1pfI7ECZQNax/edit#gid=1899869628)"
   ]
  },
  {
   "cell_type": "code",
   "execution_count": null,
   "id": "9ac94272-1c94-4076-b229-75a1f9bb6795",
   "metadata": {},
   "outputs": [],
   "source": []
  }
 ],
 "metadata": {
  "kernelspec": {
   "display_name": "Python 3 (ipykernel)",
   "language": "python",
   "name": "python3"
  },
  "language_info": {
   "codemirror_mode": {
    "name": "ipython",
    "version": 3
   },
   "file_extension": ".py",
   "mimetype": "text/x-python",
   "name": "python",
   "nbconvert_exporter": "python",
   "pygments_lexer": "ipython3",
   "version": "3.10.12"
  }
 },
 "nbformat": 4,
 "nbformat_minor": 5
}
