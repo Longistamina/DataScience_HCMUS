{
 "cells": [
  {
   "cell_type": "code",
   "execution_count": 1,
   "id": "91078921-3d7d-4350-886f-c87cc6852267",
   "metadata": {},
   "outputs": [],
   "source": [
    "import numpy as np"
   ]
  },
  {
   "cell_type": "code",
   "execution_count": 2,
   "id": "23b66c7d-88be-4642-b3a0-941ddb3e575d",
   "metadata": {},
   "outputs": [],
   "source": [
    "arr_2 = np.array([[1.5, 2.3, 4],[6.9, 23, 54]]) #Tạo array 2 chiều, gồm 2 hàng và 3 cột"
   ]
  },
  {
   "cell_type": "code",
   "execution_count": 3,
   "id": "10cd094b-a61d-46de-8f36-bf771618dc13",
   "metadata": {},
   "outputs": [
    {
     "data": {
      "text/plain": [
       "array([[ 1.5,  2.3,  4. ],\n",
       "       [ 6.9, 23. , 54. ]])"
      ]
     },
     "execution_count": 3,
     "metadata": {},
     "output_type": "execute_result"
    }
   ],
   "source": [
    "arr_2"
   ]
  },
  {
   "cell_type": "code",
   "execution_count": 4,
   "id": "ce7ca0d7-cf48-47a6-836b-db74f02689be",
   "metadata": {},
   "outputs": [
    {
     "data": {
      "text/plain": [
       "4.0"
      ]
     },
     "execution_count": 4,
     "metadata": {},
     "output_type": "execute_result"
    }
   ],
   "source": [
    "arr_2[0,2] #Tham chiếu đến dòng 0 (dòng đầu tiên) và cột 2 (cột thứ 3)"
   ]
  },
  {
   "cell_type": "code",
   "execution_count": 5,
   "id": "e98e5311-c7a9-4c00-9382-627675fa290e",
   "metadata": {},
   "outputs": [
    {
     "data": {
      "text/plain": [
       "23.0"
      ]
     },
     "execution_count": 5,
     "metadata": {},
     "output_type": "execute_result"
    }
   ],
   "source": [
    "arr_2[1,1]"
   ]
  },
  {
   "cell_type": "code",
   "execution_count": null,
   "id": "5452936f-6dbb-4d67-9e9b-a6362c004c35",
   "metadata": {},
   "outputs": [],
   "source": []
  }
 ],
 "metadata": {
  "kernelspec": {
   "display_name": "Python 3 (ipykernel)",
   "language": "python",
   "name": "python3"
  },
  "language_info": {
   "codemirror_mode": {
    "name": "ipython",
    "version": 3
   },
   "file_extension": ".py",
   "mimetype": "text/x-python",
   "name": "python",
   "nbconvert_exporter": "python",
   "pygments_lexer": "ipython3",
   "version": "3.10.12"
  }
 },
 "nbformat": 4,
 "nbformat_minor": 5
}
