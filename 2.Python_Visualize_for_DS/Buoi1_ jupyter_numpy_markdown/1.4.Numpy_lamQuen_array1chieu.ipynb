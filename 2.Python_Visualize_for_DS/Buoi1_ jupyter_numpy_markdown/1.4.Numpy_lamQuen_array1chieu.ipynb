{
 "cells": [
  {
   "cell_type": "code",
   "execution_count": 1,
   "id": "1abacb45-2a90-4db6-bd1a-db0c6ffdcf1b",
   "metadata": {},
   "outputs": [],
   "source": [
    "#Numpy = numeric python, thư viện chuyên dùng để xử lý số, tạo mảng (array)\n",
    "#Mảng có thể  một chiều hoặc nhiều chiều\n",
    "#Cấc giá trị trong mảng phải CÙNG kiểu dữ liệu"
   ]
  },
  {
   "cell_type": "code",
   "execution_count": 2,
   "id": "a2491fe7-7149-475c-a7ea-06ed8ea0ff2e",
   "metadata": {},
   "outputs": [],
   "source": [
    "import numpy as np"
   ]
  },
  {
   "cell_type": "code",
   "execution_count": 3,
   "id": "2d474421-4976-41e5-b500-17e2f15adec6",
   "metadata": {},
   "outputs": [],
   "source": [
    "#Tạo array 1 chiều:\n",
    "arr_1 = np.array([9.0, 7.5, 6.8, 8.9, 7.5])"
   ]
  },
  {
   "cell_type": "code",
   "execution_count": 4,
   "id": "e04f3acb-df7b-49a6-bcce-16bacdc6203d",
   "metadata": {},
   "outputs": [
    {
     "data": {
      "text/plain": [
       "array([9. , 7.5, 6.8, 8.9, 7.5])"
      ]
     },
     "execution_count": 4,
     "metadata": {},
     "output_type": "execute_result"
    }
   ],
   "source": [
    "arr_1"
   ]
  },
  {
   "cell_type": "code",
   "execution_count": 5,
   "id": "1b6ce3ce-8c68-4afa-8ec1-0a16597b4189",
   "metadata": {},
   "outputs": [
    {
     "data": {
      "text/plain": [
       "dtype('float64')"
      ]
     },
     "execution_count": 5,
     "metadata": {},
     "output_type": "execute_result"
    }
   ],
   "source": [
    "arr_1.dtype #Kiểm tra kiểu dữ liệu"
   ]
  },
  {
   "cell_type": "code",
   "execution_count": 6,
   "id": "87b43424-3190-44b1-8549-f34242cf87f1",
   "metadata": {},
   "outputs": [
    {
     "name": "stdout",
     "output_type": "stream",
     "text": [
      "mean: 7.94\n",
      "max: 9.0\n",
      "min: 6.8\n"
     ]
    }
   ],
   "source": [
    "print('mean:', arr_1.mean()) #Trả về giá trị trung bình mean\n",
    "print('max:',arr_1.max())\n",
    "print('min:',arr_1.min())"
   ]
  },
  {
   "cell_type": "code",
   "execution_count": 7,
   "id": "3d347b83-47a0-42fc-8a4a-dcf8ece40afc",
   "metadata": {},
   "outputs": [
    {
     "data": {
      "text/plain": [
       "array([9.5, 8. , 7.3, 9.4, 8. ])"
      ]
     },
     "execution_count": 7,
     "metadata": {},
     "output_type": "execute_result"
    }
   ],
   "source": [
    "arr_1 + 0.5 #Cộng 0.5 cho tất cả phần tử của arr_1, giá trị của arr_1 vẫn không đổi, nó chỉ xuất ra kết quả phép tính"
   ]
  },
  {
   "cell_type": "code",
   "execution_count": 8,
   "id": "34efce9b-3558-4fa7-bf7d-50437138aaef",
   "metadata": {},
   "outputs": [
    {
     "name": "stdout",
     "output_type": "stream",
     "text": [
      "[9.5 8.  7.3 9.4 8. ]\n"
     ]
    }
   ],
   "source": [
    "arr_2 = arr_1 + 0.5 #Gán arr_2 bằng phép tính arr_1 + 0/5\n",
    "print(arr_2)"
   ]
  },
  {
   "cell_type": "code",
   "execution_count": 9,
   "id": "2338b889-a993-40b6-972c-7d7557780515",
   "metadata": {},
   "outputs": [
    {
     "name": "stdout",
     "output_type": "stream",
     "text": [
      "arr_1: [9.  7.5 6.8 8.9 7.5]\n",
      "arr_2: [9.5 8.  7.3 9.4 8. ]\n"
     ]
    }
   ],
   "source": [
    "print('arr_1:',arr_1) #Giá trị của arr_1 vẫn không đổi\n",
    "print('arr_2:',arr_2)"
   ]
  },
  {
   "cell_type": "code",
   "execution_count": 10,
   "id": "9ba6234b-bbdc-4cac-b4a8-7ca2f5e80d95",
   "metadata": {},
   "outputs": [
    {
     "name": "stdout",
     "output_type": "stream",
     "text": [
      "[6.8 7.5 7.5 8.9 9. ]\n"
     ]
    }
   ],
   "source": [
    "arr_1.sort() #Sắp xếp tăng dần, làm thay đổi trật tự trong dãy arr_1\n",
    "print(arr_1)"
   ]
  },
  {
   "cell_type": "code",
   "execution_count": 11,
   "id": "7b21878d-84c4-4ba3-93c4-a85ab64205aa",
   "metadata": {},
   "outputs": [
    {
     "data": {
      "text/plain": [
       "array([9. , 8.9, 7.5, 7.5, 6.8])"
      ]
     },
     "execution_count": 11,
     "metadata": {},
     "output_type": "execute_result"
    }
   ],
   "source": [
    "arr_1[::-1] #Xếp giảm dần bằng cách đảo ngược thứ tự dãy tăng dần, lưu ý chỉ thực hiện cách này sau khi xếp tăng dần\n",
    "            #Cách này không làm thay đổi trật tự arr_1 ban đầu, chỉ show kết quả"
   ]
  },
  {
   "cell_type": "code",
   "execution_count": 17,
   "id": "9cd1d641-e18f-46a3-b970-61692841cd01",
   "metadata": {},
   "outputs": [
    {
     "name": "stdout",
     "output_type": "stream",
     "text": [
      "[6.8 7.5 7.5 8.9 9. ]\n"
     ]
    },
    {
     "data": {
      "text/plain": [
       "7.5"
      ]
     },
     "execution_count": 17,
     "metadata": {},
     "output_type": "execute_result"
    }
   ],
   "source": [
    "print(arr_1)\n",
    "arr_1[1] #Tham chiếu đến phần tử  thứ 2 (có index = 1)"
   ]
  },
  {
   "cell_type": "code",
   "execution_count": 14,
   "id": "f4bd1cac-66f7-4d1d-a0a2-7fc2605f27a1",
   "metadata": {},
   "outputs": [
    {
     "data": {
      "text/plain": [
       "8.9"
      ]
     },
     "execution_count": 14,
     "metadata": {},
     "output_type": "execute_result"
    }
   ],
   "source": [
    "arr_1[3]"
   ]
  },
  {
   "cell_type": "code",
   "execution_count": 15,
   "id": "6be7d4dc-f9d8-4e79-9d15-9c44612e2e17",
   "metadata": {},
   "outputs": [
    {
     "data": {
      "text/plain": [
       "9.0"
      ]
     },
     "execution_count": 15,
     "metadata": {},
     "output_type": "execute_result"
    }
   ],
   "source": [
    "arr_1[-1]"
   ]
  },
  {
   "cell_type": "code",
   "execution_count": 19,
   "id": "62b0829c-7ab9-4641-a4a9-1c1dbffebedc",
   "metadata": {},
   "outputs": [
    {
     "data": {
      "text/plain": [
       "8.9"
      ]
     },
     "execution_count": 19,
     "metadata": {},
     "output_type": "execute_result"
    }
   ],
   "source": [
    "arr_1[-2]"
   ]
  },
  {
   "cell_type": "code",
   "execution_count": null,
   "id": "400c9b4a-f6c0-4535-a86b-04fdfb418e74",
   "metadata": {},
   "outputs": [],
   "source": []
  }
 ],
 "metadata": {
  "kernelspec": {
   "display_name": "Python 3 (ipykernel)",
   "language": "python",
   "name": "python3"
  },
  "language_info": {
   "codemirror_mode": {
    "name": "ipython",
    "version": 3
   },
   "file_extension": ".py",
   "mimetype": "text/x-python",
   "name": "python",
   "nbconvert_exporter": "python",
   "pygments_lexer": "ipython3",
   "version": "3.10.12"
  }
 },
 "nbformat": 4,
 "nbformat_minor": 5
}
