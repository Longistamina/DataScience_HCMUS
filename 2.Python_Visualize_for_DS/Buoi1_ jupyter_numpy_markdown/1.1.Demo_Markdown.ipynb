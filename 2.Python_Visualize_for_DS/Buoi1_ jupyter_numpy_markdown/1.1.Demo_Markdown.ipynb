{
 "cells": [
  {
   "cell_type": "code",
   "execution_count": 1,
   "id": "8bec06fb-7ce9-4ac8-86de-bccfccc31587",
   "metadata": {},
   "outputs": [],
   "source": [
    "ages = [23,34,45,37,26]"
   ]
  },
  {
   "cell_type": "code",
   "execution_count": 2,
   "id": "9f4127a2-41bc-46b7-b1f9-7302b4219e81",
   "metadata": {},
   "outputs": [
    {
     "name": "stdout",
     "output_type": "stream",
     "text": [
      "[23, 34, 45, 37, 26]\n"
     ]
    }
   ],
   "source": [
    "print(ages)"
   ]
  },
  {
   "cell_type": "code",
   "execution_count": 9,
   "id": "f09d2d72-90de-43a0-8e57-cbdb56489fb0",
   "metadata": {},
   "outputs": [
    {
     "data": {
      "text/plain": [
       "[23, 34, 45, 37, 26]"
      ]
     },
     "execution_count": 9,
     "metadata": {},
     "output_type": "execute_result"
    }
   ],
   "source": [
    "ages #Trong jupyter thì dù không có lệnh print() thì nó vẫn trả về  giá trị của biến"
   ]
  },
  {
   "cell_type": "code",
   "execution_count": 3,
   "id": "d8680a51-0589-48ae-82a8-58f9a53ca583",
   "metadata": {},
   "outputs": [
    {
     "name": "stdout",
     "output_type": "stream",
     "text": [
      "23\n",
      "34\n",
      "45\n",
      "37\n",
      "26\n"
     ]
    }
   ],
   "source": [
    "for age in ages:\n",
    "    print(age)"
   ]
  },
  {
   "cell_type": "code",
   "execution_count": 4,
   "id": "84a4a777-02b5-4547-99a6-4b12ab9ed0ae",
   "metadata": {},
   "outputs": [
    {
     "name": "stdout",
     "output_type": "stream",
     "text": [
      "16\n"
     ]
    }
   ],
   "source": [
    "a,b = 12,4\n",
    "c = a+b\n",
    "print(c)"
   ]
  },
  {
   "cell_type": "code",
   "execution_count": 7,
   "id": "c058070c-6bf8-49b9-902a-ef75014d4c7f",
   "metadata": {},
   "outputs": [
    {
     "name": "stdout",
     "output_type": "stream",
     "text": [
      "165\n"
     ]
    }
   ],
   "source": [
    "print(sum(ages))"
   ]
  },
  {
   "cell_type": "code",
   "execution_count": 8,
   "id": "6ad7947b-ce32-4a17-b3d6-97edf0ad0240",
   "metadata": {},
   "outputs": [
    {
     "name": "stdout",
     "output_type": "stream",
     "text": [
      "33.0\n"
     ]
    }
   ],
   "source": [
    "print(sum(ages)/len(ages))"
   ]
  },
  {
   "cell_type": "code",
   "execution_count": 5,
   "id": "eda085e0-bb15-422a-9c62-c1168cc08d4b",
   "metadata": {},
   "outputs": [],
   "source": [
    "msg = 'Hi jupyter'"
   ]
  },
  {
   "cell_type": "code",
   "execution_count": 6,
   "id": "971523cc-a968-4079-bf3a-a780cbca4112",
   "metadata": {},
   "outputs": [
    {
     "name": "stdout",
     "output_type": "stream",
     "text": [
      "Hi jupyter\n"
     ]
    }
   ],
   "source": [
    "print(msg)"
   ]
  },
  {
   "cell_type": "markdown",
   "id": "f31c2b86-2645-4470-ba2f-7459b5636340",
   "metadata": {},
   "source": [
    "**Đỗ  Phủ**\n",
    "*Lý Bạch*\n",
    "\n",
    "# Tiêu đề 1\n",
    "## Tiêu đề 2"
   ]
  },
  {
   "cell_type": "markdown",
   "id": "d2bf5bf3-16ad-4181-a206-5f994fd3c95a",
   "metadata": {},
   "source": [
    "[Trung tâm tin học](http://csc.edu.vn)"
   ]
  },
  {
   "cell_type": "markdown",
   "id": "338dd5f3-c982-42c4-9022-265e6c61d315",
   "metadata": {},
   "source": [
    "<b><u>Hoàng hôn</b></u>"
   ]
  },
  {
   "cell_type": "markdown",
   "id": "8cc3450a-45b6-4122-9bf9-a5bb6a2e1358",
   "metadata": {},
   "source": [
    "$\\beta$\n",
    "\n",
    "$n^2$\n",
    "\n",
    "$k_{n+1}$"
   ]
  },
  {
   "cell_type": "code",
   "execution_count": null,
   "id": "02453007-ba10-4c83-a380-f72e7f3ef59a",
   "metadata": {},
   "outputs": [],
   "source": []
  }
 ],
 "metadata": {
  "kernelspec": {
   "display_name": "Python 3 (ipykernel)",
   "language": "python",
   "name": "python3"
  },
  "language_info": {
   "codemirror_mode": {
    "name": "ipython",
    "version": 3
   },
   "file_extension": ".py",
   "mimetype": "text/x-python",
   "name": "python",
   "nbconvert_exporter": "python",
   "pygments_lexer": "ipython3",
   "version": "3.12.3"
  }
 },
 "nbformat": 4,
 "nbformat_minor": 5
}
