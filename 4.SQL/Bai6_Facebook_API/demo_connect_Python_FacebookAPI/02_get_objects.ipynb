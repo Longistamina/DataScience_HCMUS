{
 "cells": [
  {
   "cell_type": "code",
   "execution_count": 1,
   "metadata": {},
   "outputs": [],
   "source": [
    "import facebook\n",
    "# import pandas as pd"
   ]
  },
  {
   "cell_type": "code",
   "execution_count": 4,
   "metadata": {},
   "outputs": [],
   "source": [
    "# truy cập bằng user token\n",
    "access_token = 'EAAGkUHbaa7cBAAp8WhlkJaNJQqi9TQORzbcyUrUOy7VYTmgCd1dyo10INvvmNIsBhFAMLWNHhK4dVZCXNgxTmSjfL52RfLHeSTAZCZAoPGFZAZA1Rjc3bNcfxI0HN91I7zk3TJgWKfr4SrMqqZAjqqAZCkXdZBXlh1J6vMIxIdBGnPZCt8fz7daK0DYyimee8GuTNbFxTTf4ZBJs234Sgl4P19mSZCX5wwNVG8ZD'\n",
    "graph = facebook.GraphAPI(access_token)"
   ]
  },
  {
   "cell_type": "code",
   "execution_count": 5,
   "metadata": {},
   "outputs": [
    {
     "data": {
      "text/plain": [
       "{'data': [{'created_time': '2020-10-13T03:24:48+0000',\n",
       "   'id': '294365239087404_132435391947057'},\n",
       "  {'created_time': '2020-10-12T11:05:52+0000',\n",
       "   'message': 'I am home',\n",
       "   'id': '294365239087404_132077995316130'},\n",
       "  {'created_time': '2020-10-12T09:24:24+0000',\n",
       "   'message': 'Dang lam viec',\n",
       "   'id': '294365239087404_132047198652543'},\n",
       "  {'created_time': '2020-10-12T08:28:52+0000',\n",
       "   'message': 'never on sunday, i am very busy',\n",
       "   'id': '294365239087404_132029461987650'},\n",
       "  {'created_time': '2020-10-12T08:28:20+0000',\n",
       "   'message': 'I am teach my knowledge',\n",
       "   'id': '294365239087404_132029341987662'},\n",
       "  {'created_time': '2020-10-12T07:12:40+0000',\n",
       "   'message': 'I am happy all day',\n",
       "   'id': '294365239087404_132014458655817'}],\n",
       " 'paging': {'previous': 'https://graph.facebook.com/v10.0/294365239087404/posts?access_token=EAAGkUHbaa7cBAAp8WhlkJaNJQqi9TQORzbcyUrUOy7VYTmgCd1dyo10INvvmNIsBhFAMLWNHhK4dVZCXNgxTmSjfL52RfLHeSTAZCZAoPGFZAZA1Rjc3bNcfxI0HN91I7zk3TJgWKfr4SrMqqZAjqqAZCkXdZBXlh1J6vMIxIdBGnPZCt8fz7daK0DYyimee8GuTNbFxTTf4ZBJs234Sgl4P19mSZCX5wwNVG8ZD&__previous=1&since=1602559488&until&__paging_token=enc_AdB6UXWBZBZAACSKb0A4SWzJLgkOYOXDZAPkZCZCae6U3OF4xbrzsu5sS7ayzwFshbmexei5rZBlEYdvP1v2SoX0EkxiuZAZAL4zpLbIOpRKbJVKWJLmlvGHnhyY7YKJRfxsRdu1bssS9sYGroF1XCOCbK6Vxczj',\n",
       "  'next': 'https://graph.facebook.com/v10.0/294365239087404/posts?access_token=EAAGkUHbaa7cBAAp8WhlkJaNJQqi9TQORzbcyUrUOy7VYTmgCd1dyo10INvvmNIsBhFAMLWNHhK4dVZCXNgxTmSjfL52RfLHeSTAZCZAoPGFZAZA1Rjc3bNcfxI0HN91I7zk3TJgWKfr4SrMqqZAjqqAZCkXdZBXlh1J6vMIxIdBGnPZCt8fz7daK0DYyimee8GuTNbFxTTf4ZBJs234Sgl4P19mSZCX5wwNVG8ZD&until=1602486760&since&__paging_token=enc_AdALaceURPaZAlFogxn0Sbn1ZCkZBLtHb26QqHexjVj77pKa8tQShW1Uei4963wsMbzHDhYbHzK1fqZCZA9jGTkoAdssTZCF0fQZADUkCOODzAlN4XZCD9OUWRySZB7gjsQZAORrgCQZAOzVDY67RZAzmcbZAUYurvtEu&__previous'}}"
      ]
     },
     "execution_count": 5,
     "metadata": {},
     "output_type": "execute_result"
    }
   ],
   "source": [
    "# lấy thông tin các bài viết được chia sẻ: id, message, created_time\n",
    "posts = graph.get_connections(id=\"me\", connection_name = \"posts\") # cấp quyền user_posts\n",
    "posts"
   ]
  },
  {
   "cell_type": "code",
   "execution_count": null,
   "metadata": {},
   "outputs": [],
   "source": [
    "df = pd.DataFrame(posts['data'])\n",
    "df"
   ]
  },
  {
   "cell_type": "code",
   "execution_count": null,
   "metadata": {},
   "outputs": [],
   "source": [
    "posts = graph.get_connections(id=\"me\", connection_name = \"posts\", fields='message,picture', limit=2)\n",
    "posts"
   ]
  },
  {
   "cell_type": "code",
   "execution_count": null,
   "metadata": {},
   "outputs": [],
   "source": [
    "df = pd.DataFrame(posts['data'])\n",
    "df"
   ]
  }
 ],
 "metadata": {
  "kernelspec": {
   "display_name": "Python 3",
   "language": "python",
   "name": "python3"
  },
  "language_info": {
   "codemirror_mode": {
    "name": "ipython",
    "version": 3
   },
   "file_extension": ".py",
   "mimetype": "text/x-python",
   "name": "python",
   "nbconvert_exporter": "python",
   "pygments_lexer": "ipython3",
   "version": "3.6.8"
  }
 },
 "nbformat": 4,
 "nbformat_minor": 4
}
