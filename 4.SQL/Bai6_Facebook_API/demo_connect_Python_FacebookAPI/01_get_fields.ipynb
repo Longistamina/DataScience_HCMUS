{
 "cells": [
  {
   "cell_type": "code",
   "execution_count": 1,
   "metadata": {},
   "outputs": [],
   "source": [
    "import facebook"
   ]
  },
  {
   "cell_type": "code",
   "execution_count": 2,
   "metadata": {},
   "outputs": [],
   "source": [
    "# truy cập bằng user token\n",
    "access_token = 'EAAGkUHbaa7cBAGMDu0M8C5jAsFKifnOdvp8DTI9Qb7nYwBdgGYxL9wVaohVixMBw2LRiiWkvTPynVGVAPMqO6vELxd8OSA4Q7uTb46fgdCZAm8du366VjjGADk0wFWFnhyGl9PWT6qv967fyhusXlTqrKBZCoaEP6SjA8576867ZAgC6ur2ioPChFBGlRmZBVQCJZBGQ66nmun8YN6ke4NKycTzm8uOIZD'\n",
    "graph = facebook.GraphAPI(access_token)"
   ]
  },
  {
   "cell_type": "code",
   "execution_count": 3,
   "metadata": {},
   "outputs": [
    {
     "data": {
      "text/plain": [
       "{'name': 'Dung Tien',\n",
       " 'email': 'ntdcsc2020@gmail.com',\n",
       " 'birthday': '05/19/1963',\n",
       " 'gender': 'male',\n",
       " 'id': '294365239087404'}"
      ]
     },
     "execution_count": 3,
     "metadata": {},
     "output_type": "execute_result"
    }
   ],
   "source": [
    "post = graph.get_object(id='me', fields='name, email, birthday, gender') \n",
    "# có thể cần cấp quyền email, quyền user_birthday và phát sinh lại user token\n",
    "post # json"
   ]
  },
  {
   "cell_type": "code",
   "execution_count": 4,
   "metadata": {},
   "outputs": [
    {
     "data": {
      "text/plain": [
       "{'id': '294365239087404'}"
      ]
     },
     "execution_count": 4,
     "metadata": {},
     "output_type": "execute_result"
    }
   ],
   "source": [
    "friends = graph.get_object(id='me', fields='friends') # cấp quyền user_friends\n",
    "friends"
   ]
  },
  {
   "cell_type": "code",
   "execution_count": 6,
   "metadata": {},
   "outputs": [],
   "source": [
    "import requests"
   ]
  },
  {
   "cell_type": "code",
   "execution_count": 8,
   "metadata": {},
   "outputs": [],
   "source": [
    "result = requests.get('https://graph.facebook.com/v8.0/me?fields=id,name,email,birthday,gender&access_token=' + access_token)"
   ]
  },
  {
   "cell_type": "code",
   "execution_count": 9,
   "metadata": {},
   "outputs": [],
   "source": [
    "result = result.json()"
   ]
  },
  {
   "cell_type": "code",
   "execution_count": 10,
   "metadata": {},
   "outputs": [
    {
     "data": {
      "text/plain": [
       "{'id': '294365239087404',\n",
       " 'name': 'Dung Tien',\n",
       " 'email': 'ntdcsc2020@gmail.com',\n",
       " 'birthday': '05/19/1963',\n",
       " 'gender': 'male'}"
      ]
     },
     "execution_count": 10,
     "metadata": {},
     "output_type": "execute_result"
    }
   ],
   "source": [
    "result"
   ]
  },
  {
   "cell_type": "code",
   "execution_count": 14,
   "metadata": {},
   "outputs": [],
   "source": [
    "result = requests.get('https://graph.facebook.com/v8.0/me/feed?access_token=' + access_token)"
   ]
  },
  {
   "cell_type": "code",
   "execution_count": 15,
   "metadata": {},
   "outputs": [],
   "source": [
    "result = result.json()"
   ]
  },
  {
   "cell_type": "code",
   "execution_count": 16,
   "metadata": {},
   "outputs": [
    {
     "data": {
      "text/plain": [
       "{'data': []}"
      ]
     },
     "execution_count": 16,
     "metadata": {},
     "output_type": "execute_result"
    }
   ],
   "source": [
    "result"
   ]
  },
  {
   "cell_type": "code",
   "execution_count": null,
   "metadata": {},
   "outputs": [],
   "source": []
  }
 ],
 "metadata": {
  "kernelspec": {
   "display_name": "Python 3",
   "language": "python",
   "name": "python3"
  },
  "language_info": {
   "codemirror_mode": {
    "name": "ipython",
    "version": 3
   },
   "file_extension": ".py",
   "mimetype": "text/x-python",
   "name": "python",
   "nbconvert_exporter": "python",
   "pygments_lexer": "ipython3",
   "version": "3.9.2"
  }
 },
 "nbformat": 4,
 "nbformat_minor": 4
}
