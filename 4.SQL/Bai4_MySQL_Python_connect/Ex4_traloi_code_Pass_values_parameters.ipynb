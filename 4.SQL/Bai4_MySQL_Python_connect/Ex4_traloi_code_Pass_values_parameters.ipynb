{
 "cells": [
  {
   "cell_type": "markdown",
   "metadata": {},
   "source": [
    "## Chapter 4 – Exercise 4:  Sử dụng Mysql Connector để thực hiện các truy vấn có tham số"
   ]
  },
  {
   "cell_type": "markdown",
   "metadata": {},
   "source": [
    "#### Học viên thực hiện các yêu cầu sau và đối chiếu với kết quả cho trước (nếu có):"
   ]
  },
  {
   "cell_type": "code",
   "execution_count": 4,
   "metadata": {},
   "outputs": [],
   "source": [
    "from mysql.connector import connect"
   ]
  },
  {
   "cell_type": "code",
   "execution_count": 6,
   "metadata": {},
   "outputs": [],
   "source": [
    "conn = connect(host='localhost', port=3306, database='salesdb', user='root', password='')"
   ]
  },
  {
   "cell_type": "code",
   "execution_count": 10,
   "metadata": {},
   "outputs": [
    {
     "name": "stdin",
     "output_type": "stream",
     "text": [
      "Input a company name:  Tokyo Traders\n"
     ]
    },
    {
     "name": "stdout",
     "output_type": "stream",
     "text": [
      "(9, 'Mishi Kobe Niku', 4, Decimal('97.00'), '18 - 500 g pkgs.', 1, 'Tokyo Traders')\n",
      "(10, 'Ikura', 4, Decimal('31.50'), '12 - 200 ml jars', 0, 'Tokyo Traders')\n",
      "(74, 'Longlife Tofu', 4, Decimal('10.00'), '5 kg pkg.', 0, 'Tokyo Traders')\n",
      "(79, 'Shushi', 4, Decimal('4.00'), '1 box x 2 bags', 1, 'Tokyo Traders')\n"
     ]
    }
   ],
   "source": [
    "# Câu 1: Liệt kê danh sách các sản phẩm do công ty 'Tokyo Traders' cung cấp, với tham số tên công ty do người dùng nhập vào\n",
    "\n",
    "supplier = input('Input a company name: ')\n",
    "\n",
    "data_1 = {'company_name':supplier}\n",
    "\n",
    "sql_cmd1 = '''\n",
    "SELECT p.Id as ProductId, p.ProductName, p.SupplierId, p.UnitPrice, \n",
    "\t   p.Package, p.IsDiscontinued, s.CompanyName\n",
    "FROM `suppliers` s JOIN `products` p ON s.Id=p.SupplierId\n",
    "WHERE s.CompanyName = %(company_name)s;\n",
    "'''\n",
    "\n",
    "\n",
    "curs1 = conn.cursor()\n",
    "\n",
    "curs1.execute(sql_cmd1, data_1)\n",
    "\n",
    "row = curs1.fetchone()\n",
    "while row:\n",
    "    print(row)\n",
    "    row = curs1.fetchone()"
   ]
  },
  {
   "cell_type": "markdown",
   "metadata": {},
   "source": [
    "<details>\n",
    "  <summary>Nhấn vào đây để xem kết quả!</summary>\n",
    "  <pre>Nhập tên nhà cung cấp: Tokyo Traders\n",
    "(9, 'Mishi Kobe Niku', 4, Decimal('97.00'), '18 - 500 g pkgs.', 1, 'Tokyo Traders')\n",
    "(10, 'Ikura', 4, Decimal('31.00'), '12 - 200 ml jars', 0, 'Tokyo Traders')\n",
    "(74, 'Longlife Tofu', 4, Decimal('10.00'), '5 kg pkg.', 0, 'Tokyo Traders')\n",
    "</pre>\n",
    "  \n",
    "</details>"
   ]
  },
  {
   "cell_type": "code",
   "execution_count": 17,
   "metadata": {},
   "outputs": [
    {
     "name": "stdin",
     "output_type": "stream",
     "text": [
      "Input a company name:  Tokyo Traders\n",
      "Input the amount of added price:  3\n"
     ]
    },
    {
     "name": "stdout",
     "output_type": "stream",
     "text": [
      "(9, 'Mishi Kobe Niku', 4, 100.0, '18 - 500 g pkgs.', 1, 'Tokyo Traders')\n",
      "(10, 'Ikura', 4, 34.5, '12 - 200 ml jars', 0, 'Tokyo Traders')\n",
      "(74, 'Longlife Tofu', 4, 13.0, '5 kg pkg.', 0, 'Tokyo Traders')\n"
     ]
    }
   ],
   "source": [
    "# Câu 2: Cập nhật đơn giá tăng thêm 3usd cho các sản phẩm do công ty 'Tokyo Traders' cung cấp, \n",
    "# với tham số đơn giá tăng và tên công ty do người dùng nhập vào\n",
    "\n",
    "supplier = input('Input a company name: ')\n",
    "add_price = input('Input the amount of added price: ')\n",
    "\n",
    "data_2 = {'company_name':supplier, 'increase_price':add_price}\n",
    "\n",
    "sql_cmd2 = '''\n",
    "SELECT p.Id as ProductId, p.ProductName, p.SupplierId, (p.UnitPrice + %(increase_price)s) as New_UnitPrice, \n",
    "\t   p.Package, p.IsDiscontinued, s.CompanyName\n",
    "FROM `suppliers` s JOIN `products` p ON s.Id=p.SupplierId\n",
    "WHERE s.CompanyName = %(company_name)s;\n",
    "'''\n",
    "\n",
    "\n",
    "curs2 = conn.cursor()\n",
    "\n",
    "curs2.execute(sql_cmd2, data_2)\n",
    "\n",
    "row = curs2.fetchone()\n",
    "while row:\n",
    "    print(row)\n",
    "    row = curs2.fetchone()"
   ]
  },
  {
   "cell_type": "markdown",
   "metadata": {},
   "source": [
    "<details>\n",
    "  <summary>Nhấn vào đây để xem kết quả!</summary>\n",
    "  <pre>Nhập giá trị đơn giá tăng thêm: 3\n",
    "Nhập tên nhà cung cấp: Tokyo Traders\n",
    "</pre>\n",
    "  \n",
    "</details>"
   ]
  },
  {
   "cell_type": "code",
   "execution_count": 34,
   "metadata": {},
   "outputs": [
    {
     "name": "stdin",
     "output_type": "stream",
     "text": [
      "Input a new product id:  80\n",
      "Input a new product name:  Salmon\n",
      "Input a supplier id:  6\n",
      "Input a unit price:  20\n",
      "Input a new packaging:  1 box x 1 kg\n",
      "Input discontinue status 0/1:  0\n",
      "Do you want to continue? Y/N:  Y\n",
      "Input a new product id:  81\n",
      "Input a new product name:  Marsmellow\n",
      "Input a supplier id:  8\n",
      "Input a unit price:  5\n",
      "Input a new packaging:  1 bag x 20 pieces\n",
      "Input discontinue status 0/1:  0\n",
      "Do you want to continue? Y/N:  N\n"
     ]
    },
    {
     "name": "stdout",
     "output_type": "stream",
     "text": [
      "(80, 'Salmon', 6, Decimal('20.00'), '1 box x 1 kg', 1)\n",
      "(81, 'Marsmellow', 8, Decimal('5.00'), '1 bag x 20 pieces', 1)\n"
     ]
    }
   ],
   "source": [
    "# Câu 3: Thêm sản phẩm mới vào bảng Products với các giá trị tương ứng do người dùng nhập vào. \n",
    "# Sau khi thêm, xuất thông báo hỏi người dùng có thêm tiếp hay không (Y/N). \n",
    "# Nếu trả lời Y sẽ cho phép thêm tiếp sản phẩm mới, nếu trả lời N sẽ thoát quá trình thêm sản phẩm.\n",
    "\n",
    "data_list = []\n",
    "while True:\n",
    "    print()\n",
    "    prod_id = input('Input a new product id: ')\n",
    "    prod_name = input('Input a new product name: ')\n",
    "    supp_id = input('Input a supplier id: ')\n",
    "    uprice = input('Input a unit price: ')\n",
    "    pkg = input('Input a new packaging: ')\n",
    "    dis_ctn = input('Input discontinue status 0/1: ')\n",
    "\n",
    "    value_dict = {\n",
    "        'product_id':prod_id,\n",
    "        'product_name':prod_name,\n",
    "        'supplier_id':supp_id,\n",
    "        'unit_price':uprice,\n",
    "        'package':pkg,\n",
    "        'discontinue':dis_ctn\n",
    "    }\n",
    "    data_list.append(value_dict)\n",
    "    \n",
    "    tt = input('Do you want to continue? Y/N: ')\n",
    "    if tt == 'Y': continue\n",
    "    else: break\n",
    "\n",
    "curs3 = conn.cursor()\n",
    "\n",
    "sql_cmd3='''\n",
    "INSERT INTO `products` (`Id`, `ProductName`, `SupplierId`, `UnitPrice`, `Package`, `IsDiscontinued`)\n",
    "VALUES(%(product_id)s, %(product_name)s, %(supplier_id)s, %(unit_price)s, %(package)s, %(discontinue)s);\n",
    "'''\n",
    "\n",
    "curs3.executemany(sql_cmd3, data_list)\n",
    "curs3.close()\n",
    "\n",
    "for i in range(len(data_list)):\n",
    "    prdname = data_list[i].get('product_name')\n",
    "    curs3 = conn.cursor()\n",
    "    curs3.execute(f\"SELECT * FROM `products` WHERE ProductName='{prdname}'\")\n",
    "    row = curs3.fetchone()\n",
    "    print(row)\n",
    "    curs3.close()"
   ]
  },
  {
   "cell_type": "code",
   "execution_count": 12,
   "metadata": {},
   "outputs": [
    {
     "name": "stdin",
     "output_type": "stream",
     "text": [
      "Input an order id to delete:  1\n"
     ]
    },
    {
     "data": {
      "text/plain": [
       "True"
      ]
     },
     "execution_count": 12,
     "metadata": {},
     "output_type": "execute_result"
    }
   ],
   "source": [
    "# Câu 4: Xóa thông tin đơn đặt hàng theo số đặt hàng (OrderId), trong đó số đặt hàng do người dùng nhập vào\n",
    "\n",
    "ord_id_delete = input('Input an order id to delete: ')\n",
    "\n",
    "sql_cmd4 = f'''\n",
    "DELETE FROM `orders` WHERE Id = {int(ord_id_delete)};\n",
    "DELETE FROM `orderitems` WHERE OrderId = {int(ord_id_delete)};\n",
    "'''\n",
    "\n",
    "curs4 = conn.cursor()\n",
    "curs4.execute(sql_cmd4)\n",
    "curs4.close()"
   ]
  },
  {
   "cell_type": "code",
   "execution_count": 14,
   "metadata": {},
   "outputs": [],
   "source": [
    "conn.close()"
   ]
  }
 ],
 "metadata": {
  "kernelspec": {
   "display_name": "Python 3 (ipykernel)",
   "language": "python",
   "name": "python3"
  },
  "language_info": {
   "codemirror_mode": {
    "name": "ipython",
    "version": 3
   },
   "file_extension": ".py",
   "mimetype": "text/x-python",
   "name": "python",
   "nbconvert_exporter": "python",
   "pygments_lexer": "ipython3",
   "version": "3.12.7"
  }
 },
 "nbformat": 4,
 "nbformat_minor": 4
}
