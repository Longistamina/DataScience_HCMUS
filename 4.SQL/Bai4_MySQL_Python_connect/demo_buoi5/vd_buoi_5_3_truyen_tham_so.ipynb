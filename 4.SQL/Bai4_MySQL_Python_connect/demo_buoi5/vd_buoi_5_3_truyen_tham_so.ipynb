{
 "cells": [
  {
   "cell_type": "code",
   "execution_count": 30,
   "id": "institutional-reproduction",
   "metadata": {},
   "outputs": [],
   "source": [
    "from mysql.connector import connect"
   ]
  },
  {
   "cell_type": "code",
   "execution_count": 32,
   "id": "facial-handling",
   "metadata": {},
   "outputs": [],
   "source": [
    "# tao connection\n",
    "# tao cursor de thuc hien cau truy van\n",
    "# doc va xu ly ket qua tra ve\n",
    "# dong cursor, dong connection"
   ]
  },
  {
   "cell_type": "code",
   "execution_count": 34,
   "id": "settled-academy",
   "metadata": {},
   "outputs": [],
   "source": [
    "# tao connection\n",
    "# chuan bi thong tin ket noi\n",
    "server ='localhost'\n",
    "db = 'salesdb'\n",
    "username = 'root'\n",
    "pwd = ''\n",
    "conn = connect(host=server, database=db, user=username, password=pwd)"
   ]
  },
  {
   "cell_type": "code",
   "execution_count": 36,
   "id": "subjective-momentum",
   "metadata": {},
   "outputs": [],
   "source": [
    "# tao cursor de thuc hien cau truy van\n",
    "sql = 'select * from customers where City = %s limit %s' #the %s represents the parameter to be passed in\n",
    "\n",
    "data=('London', 4)\n",
    "#Create a data tuple\n",
    "\n",
    "cur = conn.cursor()\n",
    "cur.execute(sql, data)\n",
    "#Fetch the 'London' value into the first parameter 'City = %s' => City = 'London'\n",
    "#Fetch the 4 value into the seconde parameter 'limit %s' => limit 4\n",
    "#Final command: \"select * from customers where City = 'London' limit 4\""
   ]
  },
  {
   "cell_type": "code",
   "execution_count": 38,
   "id": "municipal-valuation",
   "metadata": {},
   "outputs": [
    {
     "name": "stdout",
     "output_type": "stream",
     "text": [
      "(4, 'Thomas', 'Hardy', 'London', 'UK', '(171) 555-7788')\n",
      "(11, 'Victoria', 'Ashworth', 'London', 'UK', '(171) 555-1212')\n",
      "(16, 'Elizabeth', 'Brown', 'London', 'UK', '(171) 555-2282')\n",
      "(19, 'Ann', 'Devon', 'London', 'UK', '(171) 555-0297')\n"
     ]
    }
   ],
   "source": [
    "# doc va xu ly ket qua tra ve\n",
    "for row in cur: # fetch one\n",
    "    print(row)"
   ]
  },
  {
   "cell_type": "code",
   "execution_count": 40,
   "id": "entitled-feeding",
   "metadata": {},
   "outputs": [],
   "source": [
    "# dong cursor, dong connection\n",
    "cur.close()\n",
    "conn.close()"
   ]
  },
  {
   "cell_type": "code",
   "execution_count": null,
   "id": "779c2b13-bda9-4de1-92e4-0ae4bd18600d",
   "metadata": {},
   "outputs": [],
   "source": []
  }
 ],
 "metadata": {
  "kernelspec": {
   "display_name": "Python 3 (ipykernel)",
   "language": "python",
   "name": "python3"
  },
  "language_info": {
   "codemirror_mode": {
    "name": "ipython",
    "version": 3
   },
   "file_extension": ".py",
   "mimetype": "text/x-python",
   "name": "python",
   "nbconvert_exporter": "python",
   "pygments_lexer": "ipython3",
   "version": "3.12.7"
  }
 },
 "nbformat": 4,
 "nbformat_minor": 5
}
