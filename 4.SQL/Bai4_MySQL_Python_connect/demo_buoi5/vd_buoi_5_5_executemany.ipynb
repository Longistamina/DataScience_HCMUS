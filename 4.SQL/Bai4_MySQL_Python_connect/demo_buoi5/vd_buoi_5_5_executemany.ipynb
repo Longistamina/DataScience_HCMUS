{
 "cells": [
  {
   "cell_type": "code",
   "execution_count": 2,
   "id": "institutional-reproduction",
   "metadata": {},
   "outputs": [],
   "source": [
    "from mysql.connector import connect"
   ]
  },
  {
   "cell_type": "code",
   "execution_count": 4,
   "id": "facial-handling",
   "metadata": {},
   "outputs": [],
   "source": [
    "# tao connection\n",
    "# tao cursor de thuc hien cau truy van\n",
    "# doc va xu ly ket qua tra ve\n",
    "# dong cursor, dong connection"
   ]
  },
  {
   "cell_type": "code",
   "execution_count": 20,
   "id": "0e1c86ea-770f-4b32-b0a2-abf69a07de07",
   "metadata": {},
   "outputs": [],
   "source": [
    "server ='localhost'\n",
    "db = 'salesdb'\n",
    "username = 'root'\n",
    "pwd = ''\n",
    "conn = connect(host=server, database=db, user=username, password=pwd)\n",
    "curs = conn.cursor()\n",
    "\n",
    "sql1 = '''\n",
    "update products\n",
    "set UnitPrice = %(unit_price)s \n",
    "where ProductName = %(name)s and SupplierId = %(sid)s;\n",
    "'''\n",
    "\n",
    "data_list = [\n",
    "    {'unit_price': 20.0, 'sid': 1, 'name': 'Chang'},\n",
    "    {'unit_price': 31.5, 'sid': 4, 'name': 'Ikura'},\n",
    "    {'unit_price': 23.5, 'sid': 6, 'name': 'Tofu'},\n",
    "]\n",
    "\n",
    "curs.executemany(sql1, data_list) #Use EXECUTEMANY()\n",
    "\n",
    "curs.close()\n",
    "conn.close()"
   ]
  },
  {
   "cell_type": "code",
   "execution_count": 22,
   "id": "840fcbe1-68f6-431f-afd0-95deefd407dc",
   "metadata": {},
   "outputs": [
    {
     "name": "stdout",
     "output_type": "stream",
     "text": [
      "(2, 'Chang', 1, Decimal('20.00'), '24 - 12 oz bottles', 0)\n",
      "(10, 'Ikura', 4, Decimal('31.50'), '12 - 200 ml jars', 0)\n",
      "(14, 'Tofu', 6, Decimal('23.50'), '40 - 100 g pkgs.', 0)\n"
     ]
    }
   ],
   "source": [
    "conn = connect(host=server, database=db, user=username, password=pwd)\n",
    "curs = conn.cursor()\n",
    "\n",
    "sql2 = '''\n",
    "select * from products\n",
    "where ProductName = %(name)s and SupplierId = %(sid)s;\n",
    "'''\n",
    "\n",
    "data_list = [\n",
    "    {'unit_price': 20.0, 'sid': 1, 'name': 'Chang'},\n",
    "    {'unit_price': 31.5, 'sid': 4, 'name': 'Ikura'},\n",
    "    {'unit_price': 23.5, 'sid': 6, 'name': 'Tofu'},\n",
    "]\n",
    "\n",
    "for data in data_list:\n",
    "    result = curs.execute(sql2, data)\n",
    "    result=curs.fetchone()\n",
    "    print(result)\n",
    "\n",
    "curs.close()\n",
    "conn.close()"
   ]
  }
 ],
 "metadata": {
  "kernelspec": {
   "display_name": "Python 3 (ipykernel)",
   "language": "python",
   "name": "python3"
  },
  "language_info": {
   "codemirror_mode": {
    "name": "ipython",
    "version": 3
   },
   "file_extension": ".py",
   "mimetype": "text/x-python",
   "name": "python",
   "nbconvert_exporter": "python",
   "pygments_lexer": "ipython3",
   "version": "3.12.7"
  }
 },
 "nbformat": 4,
 "nbformat_minor": 5
}
