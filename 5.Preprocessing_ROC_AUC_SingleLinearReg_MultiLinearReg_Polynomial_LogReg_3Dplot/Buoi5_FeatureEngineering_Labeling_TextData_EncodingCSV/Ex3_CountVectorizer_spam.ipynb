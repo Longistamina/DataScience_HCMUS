{
 "cells": [
  {
   "cell_type": "markdown",
   "id": "b08acbe0-77a8-4d70-8750-c8d17086cffc",
   "metadata": {},
   "source": [
    "# Cho dữ liệu spam.csv chứa thông tin là nội dung các email. \n",
    "## Bộ dữ liệu này có thể được sử dụng để dự đoán một email gửi đến là ham hay spam. (link: https://www.kaggle.com/uciml/sms-spam-collection-dataset)\n",
    "\n",
    "# Yêu cầu:\n",
    "## Đọc dữ liệu, tìm hiểu sơ bộ về dữ liệu\n",
    "## Chọn phương pháp để chuẩn hóa dữ liệu và thực hiện việc chuẩn hóa."
   ]
  },
  {
   "cell_type": "code",
   "execution_count": 2,
   "id": "6ea35654-b40a-440e-be8f-55fe6c92e2a1",
   "metadata": {},
   "outputs": [],
   "source": [
    "import numpy as np\n",
    "import pandas as pd\n",
    "import matplotlib.pyplot as plt\n",
    "import seaborn as sbn\n",
    "import warnings\n",
    "warnings.filterwarnings('ignore')"
   ]
  },
  {
   "cell_type": "code",
   "execution_count": 4,
   "id": "c19cfab5-69ab-4945-a929-679c4d431bf6",
   "metadata": {},
   "outputs": [
    {
     "data": {
      "text/html": [
       "<div>\n",
       "<style scoped>\n",
       "    .dataframe tbody tr th:only-of-type {\n",
       "        vertical-align: middle;\n",
       "    }\n",
       "\n",
       "    .dataframe tbody tr th {\n",
       "        vertical-align: top;\n",
       "    }\n",
       "\n",
       "    .dataframe thead th {\n",
       "        text-align: right;\n",
       "    }\n",
       "</style>\n",
       "<table border=\"1\" class=\"dataframe\">\n",
       "  <thead>\n",
       "    <tr style=\"text-align: right;\">\n",
       "      <th></th>\n",
       "      <th>v1</th>\n",
       "      <th>v2</th>\n",
       "      <th>Unnamed: 2</th>\n",
       "      <th>Unnamed: 3</th>\n",
       "      <th>Unnamed: 4</th>\n",
       "    </tr>\n",
       "  </thead>\n",
       "  <tbody>\n",
       "    <tr>\n",
       "      <th>0</th>\n",
       "      <td>ham</td>\n",
       "      <td>Go until jurong point, crazy.. Available only ...</td>\n",
       "      <td>NaN</td>\n",
       "      <td>NaN</td>\n",
       "      <td>NaN</td>\n",
       "    </tr>\n",
       "    <tr>\n",
       "      <th>1</th>\n",
       "      <td>ham</td>\n",
       "      <td>Ok lar... Joking wif u oni...</td>\n",
       "      <td>NaN</td>\n",
       "      <td>NaN</td>\n",
       "      <td>NaN</td>\n",
       "    </tr>\n",
       "    <tr>\n",
       "      <th>2</th>\n",
       "      <td>spam</td>\n",
       "      <td>Free entry in 2 a wkly comp to win FA Cup fina...</td>\n",
       "      <td>NaN</td>\n",
       "      <td>NaN</td>\n",
       "      <td>NaN</td>\n",
       "    </tr>\n",
       "    <tr>\n",
       "      <th>3</th>\n",
       "      <td>ham</td>\n",
       "      <td>U dun say so early hor... U c already then say...</td>\n",
       "      <td>NaN</td>\n",
       "      <td>NaN</td>\n",
       "      <td>NaN</td>\n",
       "    </tr>\n",
       "    <tr>\n",
       "      <th>4</th>\n",
       "      <td>ham</td>\n",
       "      <td>Nah I don't think he goes to usf, he lives aro...</td>\n",
       "      <td>NaN</td>\n",
       "      <td>NaN</td>\n",
       "      <td>NaN</td>\n",
       "    </tr>\n",
       "    <tr>\n",
       "      <th>...</th>\n",
       "      <td>...</td>\n",
       "      <td>...</td>\n",
       "      <td>...</td>\n",
       "      <td>...</td>\n",
       "      <td>...</td>\n",
       "    </tr>\n",
       "    <tr>\n",
       "      <th>5567</th>\n",
       "      <td>spam</td>\n",
       "      <td>This is the 2nd time we have tried 2 contact u...</td>\n",
       "      <td>NaN</td>\n",
       "      <td>NaN</td>\n",
       "      <td>NaN</td>\n",
       "    </tr>\n",
       "    <tr>\n",
       "      <th>5568</th>\n",
       "      <td>ham</td>\n",
       "      <td>Will Ì_ b going to esplanade fr home?</td>\n",
       "      <td>NaN</td>\n",
       "      <td>NaN</td>\n",
       "      <td>NaN</td>\n",
       "    </tr>\n",
       "    <tr>\n",
       "      <th>5569</th>\n",
       "      <td>ham</td>\n",
       "      <td>Pity, * was in mood for that. So...any other s...</td>\n",
       "      <td>NaN</td>\n",
       "      <td>NaN</td>\n",
       "      <td>NaN</td>\n",
       "    </tr>\n",
       "    <tr>\n",
       "      <th>5570</th>\n",
       "      <td>ham</td>\n",
       "      <td>The guy did some bitching but I acted like i'd...</td>\n",
       "      <td>NaN</td>\n",
       "      <td>NaN</td>\n",
       "      <td>NaN</td>\n",
       "    </tr>\n",
       "    <tr>\n",
       "      <th>5571</th>\n",
       "      <td>ham</td>\n",
       "      <td>Rofl. Its true to its name</td>\n",
       "      <td>NaN</td>\n",
       "      <td>NaN</td>\n",
       "      <td>NaN</td>\n",
       "    </tr>\n",
       "  </tbody>\n",
       "</table>\n",
       "<p>5572 rows × 5 columns</p>\n",
       "</div>"
      ],
      "text/plain": [
       "        v1                                                 v2 Unnamed: 2  \\\n",
       "0      ham  Go until jurong point, crazy.. Available only ...        NaN   \n",
       "1      ham                      Ok lar... Joking wif u oni...        NaN   \n",
       "2     spam  Free entry in 2 a wkly comp to win FA Cup fina...        NaN   \n",
       "3      ham  U dun say so early hor... U c already then say...        NaN   \n",
       "4      ham  Nah I don't think he goes to usf, he lives aro...        NaN   \n",
       "...    ...                                                ...        ...   \n",
       "5567  spam  This is the 2nd time we have tried 2 contact u...        NaN   \n",
       "5568   ham              Will Ì_ b going to esplanade fr home?        NaN   \n",
       "5569   ham  Pity, * was in mood for that. So...any other s...        NaN   \n",
       "5570   ham  The guy did some bitching but I acted like i'd...        NaN   \n",
       "5571   ham                         Rofl. Its true to its name        NaN   \n",
       "\n",
       "     Unnamed: 3 Unnamed: 4  \n",
       "0           NaN        NaN  \n",
       "1           NaN        NaN  \n",
       "2           NaN        NaN  \n",
       "3           NaN        NaN  \n",
       "4           NaN        NaN  \n",
       "...         ...        ...  \n",
       "5567        NaN        NaN  \n",
       "5568        NaN        NaN  \n",
       "5569        NaN        NaN  \n",
       "5570        NaN        NaN  \n",
       "5571        NaN        NaN  \n",
       "\n",
       "[5572 rows x 5 columns]"
      ]
     },
     "execution_count": 4,
     "metadata": {},
     "output_type": "execute_result"
    }
   ],
   "source": [
    "spam = pd.read_csv('data5/Ex3_Spam_vs_Ham/spam.csv', encoding='latin-1')\n",
    "spam"
   ]
  },
  {
   "cell_type": "markdown",
   "id": "e8096f5a-c740-4208-a3f8-eb05c649995b",
   "metadata": {},
   "source": [
    "## Spam = emails that are not desired\n",
    "## Ham = emails that are desired"
   ]
  },
  {
   "cell_type": "code",
   "execution_count": 7,
   "id": "197a90ed-cf6a-4cdc-b540-d01bf47fd7eb",
   "metadata": {},
   "outputs": [
    {
     "name": "stdout",
     "output_type": "stream",
     "text": [
      "<class 'pandas.core.frame.DataFrame'>\n",
      "RangeIndex: 5572 entries, 0 to 5571\n",
      "Data columns (total 5 columns):\n",
      " #   Column      Non-Null Count  Dtype \n",
      "---  ------      --------------  ----- \n",
      " 0   v1          5572 non-null   object\n",
      " 1   v2          5572 non-null   object\n",
      " 2   Unnamed: 2  50 non-null     object\n",
      " 3   Unnamed: 3  12 non-null     object\n",
      " 4   Unnamed: 4  6 non-null      object\n",
      "dtypes: object(5)\n",
      "memory usage: 217.8+ KB\n"
     ]
    }
   ],
   "source": [
    "spam.info()"
   ]
  },
  {
   "cell_type": "code",
   "execution_count": 9,
   "id": "573a524c-004b-4a30-961c-d37281fb70cc",
   "metadata": {},
   "outputs": [
    {
     "data": {
      "text/plain": [
       "v1\n",
       "ham     4825\n",
       "spam     747\n",
       "Name: count, dtype: int64"
      ]
     },
     "execution_count": 9,
     "metadata": {},
     "output_type": "execute_result"
    }
   ],
   "source": [
    "spam['v1'].value_counts()"
   ]
  },
  {
   "cell_type": "markdown",
   "id": "0b31e3ae-f4e6-4257-9959-93b0b7a6909f",
   "metadata": {},
   "source": [
    "## Output Y: \"v1\" column, to identify the mail is spam or ham\n",
    "## Input X: \"v2\" column, the text contents of the email"
   ]
  },
  {
   "cell_type": "code",
   "execution_count": 12,
   "id": "bc462f25-ab77-4fed-aed7-ff247541501b",
   "metadata": {},
   "outputs": [
    {
     "data": {
      "text/html": [
       "<div>\n",
       "<style scoped>\n",
       "    .dataframe tbody tr th:only-of-type {\n",
       "        vertical-align: middle;\n",
       "    }\n",
       "\n",
       "    .dataframe tbody tr th {\n",
       "        vertical-align: top;\n",
       "    }\n",
       "\n",
       "    .dataframe thead th {\n",
       "        text-align: right;\n",
       "    }\n",
       "</style>\n",
       "<table border=\"1\" class=\"dataframe\">\n",
       "  <thead>\n",
       "    <tr style=\"text-align: right;\">\n",
       "      <th></th>\n",
       "      <th>v1_ham</th>\n",
       "    </tr>\n",
       "  </thead>\n",
       "  <tbody>\n",
       "    <tr>\n",
       "      <th>0</th>\n",
       "      <td>1</td>\n",
       "    </tr>\n",
       "    <tr>\n",
       "      <th>1</th>\n",
       "      <td>1</td>\n",
       "    </tr>\n",
       "    <tr>\n",
       "      <th>2</th>\n",
       "      <td>0</td>\n",
       "    </tr>\n",
       "    <tr>\n",
       "      <th>3</th>\n",
       "      <td>1</td>\n",
       "    </tr>\n",
       "    <tr>\n",
       "      <th>4</th>\n",
       "      <td>1</td>\n",
       "    </tr>\n",
       "    <tr>\n",
       "      <th>...</th>\n",
       "      <td>...</td>\n",
       "    </tr>\n",
       "    <tr>\n",
       "      <th>5567</th>\n",
       "      <td>0</td>\n",
       "    </tr>\n",
       "    <tr>\n",
       "      <th>5568</th>\n",
       "      <td>1</td>\n",
       "    </tr>\n",
       "    <tr>\n",
       "      <th>5569</th>\n",
       "      <td>1</td>\n",
       "    </tr>\n",
       "    <tr>\n",
       "      <th>5570</th>\n",
       "      <td>1</td>\n",
       "    </tr>\n",
       "    <tr>\n",
       "      <th>5571</th>\n",
       "      <td>1</td>\n",
       "    </tr>\n",
       "  </tbody>\n",
       "</table>\n",
       "<p>5572 rows × 1 columns</p>\n",
       "</div>"
      ],
      "text/plain": [
       "      v1_ham\n",
       "0          1\n",
       "1          1\n",
       "2          0\n",
       "3          1\n",
       "4          1\n",
       "...      ...\n",
       "5567       0\n",
       "5568       1\n",
       "5569       1\n",
       "5570       1\n",
       "5571       1\n",
       "\n",
       "[5572 rows x 1 columns]"
      ]
     },
     "execution_count": 12,
     "metadata": {},
     "output_type": "execute_result"
    }
   ],
   "source": [
    "y = pd.get_dummies(spam[['v1']]).drop('v1_spam', axis=1).astype(int)\n",
    "y"
   ]
  },
  {
   "cell_type": "code",
   "execution_count": 14,
   "id": "d75deaee-45fe-4acf-8717-95d4e1cfdf8a",
   "metadata": {},
   "outputs": [
    {
     "data": {
      "text/plain": [
       "0       go until jurong point crazy available only in ...\n",
       "1                                 ok lar joking wif u oni\n",
       "2       free entry in a wkly comp to win fa cup final ...\n",
       "3             u dun say so early hor u c already then say\n",
       "4       nah i don t think he goes to usf he lives arou...\n",
       "                              ...                        \n",
       "5567    this is the nd time we have tried contact u u ...\n",
       "5568                    will b going to esplanade fr home\n",
       "5569    pity was in mood for that so any other suggest...\n",
       "5570    the guy did some bitching but i acted like i d...\n",
       "5571                            rofl its true to its name\n",
       "Name: v2, Length: 5572, dtype: object"
      ]
     },
     "execution_count": 14,
     "metadata": {},
     "output_type": "execute_result"
    }
   ],
   "source": [
    "x = spam['v2'].str.replace('([^a-zA-Z])',' ', regex=True).str.lower() #Replace all non-alphabet characters with space character, then lower\n",
    "x = x.str.replace('(\\s+)', ' ', regex=True).str.strip() #Replace multiple consecutive space characters with only one space character\n",
    "                                                        #.strip() to remove the last space character\n",
    "x"
   ]
  },
  {
   "cell_type": "markdown",
   "id": "4967fccf-47d7-45bd-8bf3-5ebfd12fa7d5",
   "metadata": {},
   "source": [
    "# Use CountVectorizer to treat the text input X"
   ]
  },
  {
   "cell_type": "code",
   "execution_count": 17,
   "id": "edf7187d-502b-43a8-9171-41c1b7406961",
   "metadata": {},
   "outputs": [],
   "source": [
    "from sklearn.feature_extraction.text import CountVectorizer"
   ]
  },
  {
   "cell_type": "code",
   "execution_count": 19,
   "id": "d99f1803-ca36-47b6-804a-ce3b0fee0848",
   "metadata": {},
   "outputs": [
    {
     "data": {
      "text/plain": [
       "(5572, 7682)"
      ]
     },
     "execution_count": 19,
     "metadata": {},
     "output_type": "execute_result"
    }
   ],
   "source": [
    "cv = CountVectorizer()\n",
    "x_transformed = cv.fit_transform(x).toarray()\n",
    "x_transformed.shape"
   ]
  },
  {
   "cell_type": "code",
   "execution_count": 21,
   "id": "8ce24f6f-0810-4f71-b2b1-3ee20b84132e",
   "metadata": {},
   "outputs": [],
   "source": [
    "from sklearn.model_selection import train_test_split\n",
    "\n",
    "x_train, x_test, y_train, y_test = train_test_split(x_transformed, y, test_size=0.2)"
   ]
  },
  {
   "cell_type": "markdown",
   "id": "985aa8f9-6caf-4753-b6ff-e3cb77180fdd",
   "metadata": {},
   "source": [
    "# <span style='color:red'>Use Naive Bayes model to predict spam/ham"
   ]
  },
  {
   "cell_type": "code",
   "execution_count": 24,
   "id": "1176cbc2-61da-4682-8f40-78612276ad79",
   "metadata": {},
   "outputs": [],
   "source": [
    "from sklearn.naive_bayes import MultinomialNB\n",
    "\n",
    "'''\n",
    "Multinomial Naive Bayes is specifically designed for classification problems where the features are discrete counts \n",
    "(e.g., the number of times a word appears in a document).\n",
    "\n",
    "It is widely used in text classification tasks, where each feature represents the frequency of a particular word in a document.\n",
    "'''\n",
    "\n",
    "clf = MultinomialNB()\n",
    "model = clf.fit(x_train, y_train)\n",
    "\n",
    "y_pred_test = model.predict(x_test)"
   ]
  },
  {
   "cell_type": "code",
   "execution_count": 26,
   "id": "33b2bcc8-83bc-4f5d-aa59-688cdbd690f1",
   "metadata": {},
   "outputs": [
    {
     "name": "stdout",
     "output_type": "stream",
     "text": [
      "Model score in train set = 0.9916984518734575\n",
      "Model score in test set = 0.9847533632286996\n"
     ]
    }
   ],
   "source": [
    "print('Model score in train set =', model.score(x_train, y_train))\n",
    "print('Model score in test set =', model.score(x_test, y_test))"
   ]
  },
  {
   "cell_type": "code",
   "execution_count": 28,
   "id": "939a68c3-0c95-4815-8359-54a9fc8169e9",
   "metadata": {},
   "outputs": [
    {
     "name": "stdout",
     "output_type": "stream",
     "text": [
      "Model accuracy = 0.9847533632286996\n"
     ]
    }
   ],
   "source": [
    "from sklearn.metrics import accuracy_score\n",
    "\n",
    "print(\"Model accuracy =\", accuracy_score(y_test, y_pred_test))"
   ]
  },
  {
   "cell_type": "code",
   "execution_count": 30,
   "id": "8a37de33-2e59-420e-a30c-956d409c8293",
   "metadata": {},
   "outputs": [
    {
     "data": {
      "text/plain": [
       "array([[128,   4],\n",
       "       [ 13, 970]])"
      ]
     },
     "execution_count": 30,
     "metadata": {},
     "output_type": "execute_result"
    }
   ],
   "source": [
    "from sklearn.metrics import confusion_matrix\n",
    "\n",
    "confusion_matrix(y_test, y_pred_test, labels=[0,1])"
   ]
  },
  {
   "cell_type": "markdown",
   "id": "b23da73d-093f-4511-a4df-ba32e1990ba1",
   "metadata": {},
   "source": [
    "## Model validation"
   ]
  },
  {
   "cell_type": "code",
   "execution_count": 33,
   "id": "09db363c-bd73-451a-9d9f-5b4e52726a75",
   "metadata": {},
   "outputs": [],
   "source": [
    "from sklearn.metrics import classification_report, roc_auc_score, roc_curve"
   ]
  },
  {
   "cell_type": "code",
   "execution_count": 35,
   "id": "9234bd0d-14b9-438d-b111-55724e025f79",
   "metadata": {},
   "outputs": [
    {
     "name": "stdout",
     "output_type": "stream",
     "text": [
      "              precision    recall  f1-score   support\n",
      "\n",
      "           0       0.91      0.97      0.94       132\n",
      "           1       1.00      0.99      0.99       983\n",
      "\n",
      "    accuracy                           0.98      1115\n",
      "   macro avg       0.95      0.98      0.96      1115\n",
      "weighted avg       0.99      0.98      0.98      1115\n",
      "\n"
     ]
    }
   ],
   "source": [
    "print(classification_report(y_test, y_pred_test))"
   ]
  },
  {
   "cell_type": "markdown",
   "id": "6ccc7516-bb51-4b92-a7c7-2c417d4fe0eb",
   "metadata": {},
   "source": [
    "## Comments: model has high precision and high recall"
   ]
  },
  {
   "cell_type": "code",
   "execution_count": 38,
   "id": "dd9e8dc6-d0da-4e73-9577-f7322530336c",
   "metadata": {},
   "outputs": [
    {
     "data": {
      "text/plain": [
       "array([[2.27984407e-04, 9.99772016e-01],\n",
       "       [2.74740037e-07, 9.99999725e-01],\n",
       "       [5.31720056e-06, 9.99994683e-01],\n",
       "       ...,\n",
       "       [3.52987897e-07, 9.99999647e-01],\n",
       "       [9.44414081e-06, 9.99990556e-01],\n",
       "       [7.53385121e-06, 9.99992466e-01]])"
      ]
     },
     "execution_count": 38,
     "metadata": {},
     "output_type": "execute_result"
    }
   ],
   "source": [
    "y_prob_test = model.predict_proba(x_test)\n",
    "y_prob_test"
   ]
  },
  {
   "cell_type": "code",
   "execution_count": 40,
   "id": "c3736fd0-3204-4329-b080-35d4c7c91488",
   "metadata": {},
   "outputs": [
    {
     "data": {
      "text/plain": [
       "0.9910061962452604"
      ]
     },
     "execution_count": 40,
     "metadata": {},
     "output_type": "execute_result"
    }
   ],
   "source": [
    "roc_auc_score(y_test, y_prob_test[:,1])"
   ]
  },
  {
   "cell_type": "markdown",
   "id": "2b487084-376e-4671-a332-c4b66e463015",
   "metadata": {},
   "source": [
    "## Visualize AUC ROC"
   ]
  },
  {
   "cell_type": "code",
   "execution_count": 49,
   "id": "801fbc99-23e4-4704-b2ab-c763fe46c449",
   "metadata": {},
   "outputs": [
    {
     "data": {
      "image/png": "[encoded data removed]",
      "text/plain": [
       "<Figure size 640x480 with 1 Axes>"
      ]
     },
     "metadata": {},
     "output_type": "display_data"
    }
   ],
   "source": [
    "fpr, tpr, thresholds = roc_curve(y_test, y_prob_test[:,1])\n",
    "\n",
    "plt.plot([0,1], [0,1], linestyle='--')\n",
    "plt.plot(fpr, tpr, marker='.')\n",
    "plt.show()"
   ]
  },
  {
   "cell_type": "markdown",
   "id": "60d4a22c-99a4-4af6-9f52-9126aacf44bc",
   "metadata": {},
   "source": [
    "## Comments: ROC is high => based on all validations, this model is suitable"
   ]
  },
  {
   "cell_type": "markdown",
   "id": "e6b93db4-7465-4c57-a6cb-d852951d7086",
   "metadata": {},
   "source": [
    "# <span style='color:red'>Save model into a file for reuse"
   ]
  },
  {
   "cell_type": "code",
   "execution_count": 58,
   "id": "acb57255-2ae3-4ef2-957c-2c334d32f34a",
   "metadata": {},
   "outputs": [],
   "source": [
    "#Save model\n",
    "import pickle\n",
    "pkl_filename = \"ex3_ham_spam_model.pkl\"\n",
    "with open(pkl_filename, 'wb') as file:\n",
    "    pickle.dump(model, file)"
   ]
  },
  {
   "cell_type": "code",
   "execution_count": 61,
   "id": "e266d95a-23eb-46fa-83eb-9ceeeb1ff74b",
   "metadata": {},
   "outputs": [],
   "source": [
    "#Call model for reuse\n",
    "import pickle\n",
    "with open(pkl_filename, 'rb') as file:\n",
    "    ham_spam_model = pickle.load(file)"
   ]
  },
  {
   "cell_type": "code",
   "execution_count": 73,
   "id": "75ef2d75-94e4-438c-8cc7-6a79483df2ca",
   "metadata": {},
   "outputs": [],
   "source": [
    "#Create a x_new input\n",
    "x_new = np.array([\n",
    "    'Dear Ms. Phuong, I will come on time.',\n",
    "    'URGENT! We are trying to contact you. Today is the last day of sale. Discount up to 50%'\n",
    "])\n",
    "\n",
    "x_new = cv.transform(x_new)"
   ]
  },
  {
   "cell_type": "code",
   "execution_count": 75,
   "id": "d653dc5f-2d13-4409-811a-d8988cc2a68e",
   "metadata": {},
   "outputs": [
    {
     "data": {
      "text/plain": [
       "array([1, 0])"
      ]
     },
     "execution_count": 75,
     "metadata": {},
     "output_type": "execute_result"
    }
   ],
   "source": [
    "y_pred_new = ham_spam_model.predict(x_new)\n",
    "y_pred_new"
   ]
  },
  {
   "cell_type": "markdown",
   "id": "f999d6f0-5f3b-4150-abbe-73c726046966",
   "metadata": {},
   "source": [
    "## Results:\n",
    "## 1 = ham = needed mail\n",
    "## 2 = spam = junk mail\n",
    "## 'Dear Ms. Phuong, I will come on time.' => 1 => needed mail => TRUE\n",
    "## '.....Today is the last day of sale. Discount up to 50%' => 0 => junk mail => TRUE"
   ]
  }
 ],
 "metadata": {
  "kernelspec": {
   "display_name": "Python 3 (ipykernel)",
   "language": "python",
   "name": "python3"
  },
  "language_info": {
   "codemirror_mode": {
    "name": "ipython",
    "version": 3
   },
   "file_extension": ".py",
   "mimetype": "text/x-python",
   "name": "python",
   "nbconvert_exporter": "python",
   "pygments_lexer": "ipython3",
   "version": "3.12.7"
  }
 },
 "nbformat": 4,
 "nbformat_minor": 5
}
