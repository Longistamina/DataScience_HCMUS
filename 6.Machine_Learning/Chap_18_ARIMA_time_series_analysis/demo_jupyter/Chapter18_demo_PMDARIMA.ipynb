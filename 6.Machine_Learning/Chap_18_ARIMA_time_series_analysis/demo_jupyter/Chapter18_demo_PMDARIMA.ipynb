{
 "cells": [
  {
   "cell_type": "markdown",
   "metadata": {
    "id": "eg5mtwafW-_h"
   },
   "source": [
    "# Chapter 18: Demo Time Series với PMDARIMA"
   ]
  },
  {
   "cell_type": "code",
   "execution_count": null,
   "metadata": {
    "id": "lsagnKY-X6L7"
   },
   "outputs": [],
   "source": [
    "# from google.colab import drive\n",
    "# drive.mount(\"/content/gdrive\", force_remount=True)\n",
    "# %cd '/content/gdrive/My Drive/LDS6_MachineLearning/practice/Chapter18_ARIMA/'"
   ]
  },
  {
   "cell_type": "code",
   "execution_count": null,
   "metadata": {
    "id": "nasVzW6OW-_k"
   },
   "outputs": [],
   "source": [
    "import pandas as pd"
   ]
  },
  {
   "cell_type": "code",
   "execution_count": null,
   "metadata": {
    "id": "TidYmxlxW-_n"
   },
   "outputs": [],
   "source": [
    "data = pd.read_csv(\"electric_production.csv\",index_col=0)\n",
    "data.head()"
   ]
  },
  {
   "cell_type": "code",
   "execution_count": null,
   "metadata": {
    "id": "3XEGG--IW-_r"
   },
   "outputs": [],
   "source": [
    "data.index = pd.to_datetime(data.index)"
   ]
  },
  {
   "cell_type": "code",
   "execution_count": null,
   "metadata": {
    "id": "AgtsfyVzW-_t"
   },
   "outputs": [],
   "source": [
    "data.index"
   ]
  },
  {
   "cell_type": "code",
   "execution_count": null,
   "metadata": {
    "id": "yoqm9zcrW-_w"
   },
   "outputs": [],
   "source": [
    "data.info()"
   ]
  },
  {
   "cell_type": "code",
   "execution_count": null,
   "metadata": {
    "id": "X1BPrDrrW-_y"
   },
   "outputs": [],
   "source": [
    "data.columns = ['Energy Production']"
   ]
  },
  {
   "cell_type": "code",
   "execution_count": null,
   "metadata": {
    "id": "JNrCbuVRW-_1"
   },
   "outputs": [],
   "source": [
    "data.head()"
   ]
  },
  {
   "cell_type": "code",
   "execution_count": null,
   "metadata": {
    "id": "hzNdt1odW-_5"
   },
   "outputs": [],
   "source": [
    "import matplotlib.pyplot as plt"
   ]
  },
  {
   "cell_type": "code",
   "execution_count": null,
   "metadata": {
    "id": "ChB8b-YxW-_8"
   },
   "outputs": [],
   "source": [
    "data_1985 = data[data.index.year >=int(1985)]\n",
    "data_1985.head()"
   ]
  },
  {
   "cell_type": "code",
   "execution_count": null,
   "metadata": {
    "id": "uIgJ31LPW-_-"
   },
   "outputs": [],
   "source": [
    "plt.figure(figsize=(15,8))\n",
    "plt.plot(data_1985)\n",
    "plt.title(\"Energy Production Jan 1985--Jan 2018\")\n",
    "plt.show()"
   ]
  },
  {
   "cell_type": "code",
   "execution_count": null,
   "metadata": {
    "id": "H8Ic1DQtW_AB"
   },
   "outputs": [],
   "source": [
    "from statsmodels.tsa.seasonal import seasonal_decompose\n",
    "result = seasonal_decompose(data_1985, model='multiplicative')\n",
    "result"
   ]
  },
  {
   "cell_type": "code",
   "execution_count": null,
   "metadata": {
    "id": "vyHxyeUXW_AD"
   },
   "outputs": [],
   "source": [
    "result.plot()\n",
    "plt.show()"
   ]
  },
  {
   "cell_type": "code",
   "execution_count": null,
   "metadata": {
    "id": "USAKN3Es8jrT"
   },
   "outputs": [],
   "source": [
    "plt.figure(figsize=(15,4))\n",
    "plt.plot(result.trend)\n",
    "plt.show()"
   ]
  },
  {
   "cell_type": "code",
   "execution_count": null,
   "metadata": {
    "id": "C4xnqGGd9vwE"
   },
   "outputs": [],
   "source": [
    "plt.figure(figsize=(15,4))\n",
    "plt.plot(result.seasonal)\n",
    "plt.show()"
   ]
  },
  {
   "cell_type": "code",
   "execution_count": null,
   "metadata": {
    "id": "fiZqcR7392Cq"
   },
   "outputs": [],
   "source": [
    "plt.figure(figsize=(15,4))\n",
    "plt.plot(result.resid)\n",
    "plt.show()"
   ]
  },
  {
   "cell_type": "markdown",
   "metadata": {
    "id": "mWlYS9dwW_AG"
   },
   "source": [
    "- Với kết quả trên, ta có thể thấy rõ tính seasonal component của data, và cũng có thể thấy xu hướng dữ liệu ở trên được tách riêng."
   ]
  },
  {
   "cell_type": "markdown",
   "metadata": {
    "id": "Av64X8huW_AH"
   },
   "source": [
    "- Trend có thể lên hoặc xuống và có thể tuyến tính hoặc phi tuyến tính. Cần phải hiểu tập dữ liệu để biết liệu một khoảng thời gian đáng kể đã trôi qua có thể xác định xu hướng thực tế hay chưa.\n",
    "- Cũng có thể có biến động bất thường (Irregular fluctuation) là những thay đổi đột ngột ngẫu nhiên và không thể đoán trước"
   ]
  },
  {
   "cell_type": "markdown",
   "metadata": {
    "id": "gwfGMG9BW_AI"
   },
   "source": [
    "## Áp dụng  auto_arima để xây dựng mô hình\n",
    "### Cài pip install pmdarima"
   ]
  },
  {
   "cell_type": "code",
   "execution_count": null,
   "metadata": {
    "id": "b5uxr8OIY899"
   },
   "outputs": [],
   "source": [
    "# ! pip install pmdarima"
   ]
  },
  {
   "cell_type": "code",
   "execution_count": null,
   "metadata": {
    "id": "bkHIKG3UW_AJ"
   },
   "outputs": [],
   "source": [
    "from pmdarima import auto_arima"
   ]
  },
  {
   "cell_type": "code",
   "execution_count": null,
   "metadata": {
    "id": "EaEGCbg9W_AL"
   },
   "outputs": [],
   "source": [
    "stepwise_model = auto_arima(data_1985, start_p=1, start_q=1,\n",
    "                           max_p=5, max_q=5, m=12,\n",
    "                           start_P=1, seasonal=True,\n",
    "                           d=1, D=1, trace=True,\n",
    "                           error_action='ignore',  \n",
    "                           suppress_warnings=True, \n",
    "                           stepwise=True)"
   ]
  },
  {
   "cell_type": "code",
   "execution_count": null,
   "metadata": {
    "id": "0ooKAe_vW_AN"
   },
   "outputs": [],
   "source": [
    "print(stepwise_model.aic())"
   ]
  },
  {
   "cell_type": "code",
   "execution_count": null,
   "metadata": {
    "id": "o2QzFGqIW_AQ"
   },
   "outputs": [],
   "source": [
    "train = data.loc['1985-01-01':'2015-01-01'] # 1/1985 => 12/2014\n",
    "test = data.loc['2015-01-01':] # 1/2015 -> het"
   ]
  },
  {
   "cell_type": "code",
   "execution_count": null,
   "metadata": {
    "id": "IGQCFNV0W_AS"
   },
   "outputs": [],
   "source": [
    "test.head()"
   ]
  },
  {
   "cell_type": "code",
   "execution_count": null,
   "metadata": {
    "id": "i1Fs4gyUW_AU"
   },
   "outputs": [],
   "source": [
    "len(test) # so mau trong test"
   ]
  },
  {
   "cell_type": "markdown",
   "metadata": {
    "id": "fTkCXCciW_AX"
   },
   "source": [
    "### Bước 2: Fit mô hình"
   ]
  },
  {
   "cell_type": "code",
   "execution_count": null,
   "metadata": {
    "id": "eL1nwHTkW_AY"
   },
   "outputs": [],
   "source": [
    "stepwise_model.fit(train)"
   ]
  },
  {
   "cell_type": "markdown",
   "metadata": {
    "id": "ttGjvxfrW_Ad"
   },
   "source": [
    "### Bước 3: Dự đoán kết quả"
   ]
  },
  {
   "cell_type": "code",
   "execution_count": null,
   "metadata": {
    "id": "clChQ_jLW_Ae"
   },
   "outputs": [],
   "source": [
    "future_forecast = stepwise_model.predict(n_periods=len(test)) # so khoang thoi gian can du doan"
   ]
  },
  {
   "cell_type": "code",
   "execution_count": null,
   "metadata": {
    "id": "3MgwB4xTW_Ah"
   },
   "outputs": [],
   "source": [
    "future_forecast"
   ]
  },
  {
   "cell_type": "code",
   "execution_count": null,
   "metadata": {
    "id": "nLMQHw6aW_Aj"
   },
   "outputs": [],
   "source": [
    "future_forecast = pd.DataFrame(future_forecast,index = test.index,columns=['Prediction'])\n",
    "future_forecast"
   ]
  },
  {
   "cell_type": "markdown",
   "metadata": {
    "id": "3_w5OnYyW_Ap"
   },
   "source": [
    "### Bước 4: Trực quan hóa dữ liệu"
   ]
  },
  {
   "cell_type": "code",
   "execution_count": null,
   "metadata": {
    "id": "yxOarZ83W_Aq"
   },
   "outputs": [],
   "source": [
    "plt.plot(test, label='Energy Production')\n",
    "plt.plot(future_forecast, label='Prediction')\n",
    "plt.xticks(rotation='vertical')\n",
    "plt.legend()\n",
    "plt.show()"
   ]
  },
  {
   "cell_type": "code",
   "execution_count": null,
   "metadata": {
    "id": "FRot_rc0W_Av"
   },
   "outputs": [],
   "source": [
    "plt.figure(figsize=(15,8))\n",
    "plt.plot(data_1985, label='Energy Production')\n",
    "plt.plot(future_forecast, label='Prediction', color='red')\n",
    "plt.xticks(rotation='vertical')\n",
    "plt.legend()\n",
    "plt.show()"
   ]
  },
  {
   "cell_type": "code",
   "execution_count": null,
   "metadata": {
    "id": "tspUpblgAReL"
   },
   "outputs": [],
   "source": [
    "from sklearn.metrics import mean_absolute_error, mean_squared_error"
   ]
  },
  {
   "cell_type": "code",
   "execution_count": null,
   "metadata": {
    "id": "XbONa5OsAaCz"
   },
   "outputs": [],
   "source": [
    "mae = mean_absolute_error(test,future_forecast)\n",
    "print(mae)\n"
   ]
  },
  {
   "cell_type": "markdown",
   "metadata": {
    "id": "egYnRLcJW_Az"
   },
   "source": [
    "### Dự đoán 12 tháng tiếp theo"
   ]
  },
  {
   "cell_type": "code",
   "execution_count": null,
   "metadata": {
    "id": "JC_uAdVxW_A0"
   },
   "outputs": [],
   "source": [
    "future_forecast = stepwise_model.predict(n_periods=len(test)+12)  # 44 thang + 12 thang can du doan\n",
    "future_forecast"
   ]
  },
  {
   "cell_type": "code",
   "execution_count": null,
   "metadata": {
    "id": "MMmivGNpW_A7"
   },
   "outputs": [],
   "source": [
    "plt.figure(figsize=(8,5))\n",
    "plt.plot(future_forecast[len(test):], color='red')\n",
    "plt.xticks(rotation='vertical')\n",
    "plt.title(\"Prediction next 12 months\")\n",
    "plt.show()"
   ]
  },
  {
   "cell_type": "code",
   "execution_count": null,
   "metadata": {
    "id": "ILd_zFEnXaYn"
   },
   "outputs": [],
   "source": [
    "future_forecast[len(test):]"
   ]
  },
  {
   "cell_type": "code",
   "execution_count": null,
   "metadata": {
    "id": "gy0xwcYSeg3M"
   },
   "outputs": [],
   "source": [
    "months = pd.date_range('2018-09-01','2019-08-01', \n",
    "              freq='MS').strftime(\"%Y-%m-%d\").tolist()          "
   ]
  },
  {
   "cell_type": "code",
   "execution_count": null,
   "metadata": {
    "id": "OVSLE85yW_A_"
   },
   "outputs": [],
   "source": [
    "months"
   ]
  },
  {
   "cell_type": "code",
   "execution_count": null,
   "metadata": {
    "id": "GKvCxuriemGS"
   },
   "outputs": [],
   "source": [
    "new_predict = pd.DataFrame({\n",
    "    'Date' : months,\n",
    "    'Energy Production': future_forecast[len(test):]}    \n",
    "    )\n",
    "new_predict"
   ]
  },
  {
   "cell_type": "code",
   "execution_count": null,
   "metadata": {
    "id": "KPFzsUjrXzxb"
   },
   "outputs": [],
   "source": [
    "# Source: https://medium.com/@josemarcialportilla/using-python-and-auto-arima-to-forecast-seasonal-time-series-90877adff03c\n",
    "# Link: https://medium.com/analytics-vidhya/time-series-forecasting-sarima-vs-auto-arima-models-f95e76d71d8f"
   ]
  }
 ],
 "metadata": {
  "colab": {
   "collapsed_sections": [],
   "name": "Chapter18_demo_PMDARIMA.ipynb",
   "provenance": []
  },
  "kernelspec": {
   "display_name": "Python 3 (ipykernel)",
   "language": "python",
   "name": "python3"
  },
  "language_info": {
   "codemirror_mode": {
    "name": "ipython",
    "version": 3
   },
   "file_extension": ".py",
   "mimetype": "text/x-python",
   "name": "python",
   "nbconvert_exporter": "python",
   "pygments_lexer": "ipython3",
   "version": "3.12.7"
  }
 },
 "nbformat": 4,
 "nbformat_minor": 4
}
