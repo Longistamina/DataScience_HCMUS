{
 "cells": [
  {
   "cell_type": "markdown",
   "id": "874d7bcd-aa28-4953-b75f-6ca38e2393b8",
   "metadata": {},
   "source": [
    "# Chapter 4 - Exercise 3: Spam or ham\n",
    "# Cho dữ liệu spam.csv\n",
    "\n",
    "## Yêu cầu: đọc dữ liệu về, chuẩn hóa dữ liệu (nếu cần) và áp dụng thuật toán Naive Bayes để thực hiện việc dự đoán khả năng email là spam hay không dựa trên các thuộc tính v2\n",
    "\n",
    "1. Tạo X_train, X_test, y_train, y_test từ dữ liệu đọc được với tỷ lệ dữ liệu test là 0.2\n",
    "2. Áp dụng thuật toán Naive Bayes => kết quả\n",
    "3. Đánh giá mô hình\n",
    "4. Ghi mô hình\n",
    "5. Đọc mô hình vừa ghi => dự đoán kết quả cho câu 6\n",
    "6. Cho dữ liệu Test: \n",
    "+ x_new = np.array(['Dear Ms. Phuong. I will come on time.', 'URGENT! We are trying to contact you. Today is the last day of sale. Discount up to 50%']) \n",
    "+ => sẽ là ham hay spam?\n"
   ]
  },
  {
   "cell_type": "code",
   "execution_count": 45,
   "id": "8f4e0c77-5a8a-4b5c-a724-e3314a274dd1",
   "metadata": {},
   "outputs": [],
   "source": [
    "import numpy as np\n",
    "import pandas as pd\n",
    "import matplotlib.pyplot as plt\n",
    "import seaborn as sbn\n",
    "\n",
    "np.set_printoptions(suppress=True)\n",
    "pd.set_option('display.max_columns', 50)\n",
    "pd.set_option('display.max_rows',10)"
   ]
  },
  {
   "cell_type": "code",
   "execution_count": 47,
   "id": "827ef17d-767b-4309-bb61-7ad80ae965ee",
   "metadata": {},
   "outputs": [
    {
     "data": {
      "text/html": [
       "<div>\n",
       "<style scoped>\n",
       "    .dataframe tbody tr th:only-of-type {\n",
       "        vertical-align: middle;\n",
       "    }\n",
       "\n",
       "    .dataframe tbody tr th {\n",
       "        vertical-align: top;\n",
       "    }\n",
       "\n",
       "    .dataframe thead th {\n",
       "        text-align: right;\n",
       "    }\n",
       "</style>\n",
       "<table border=\"1\" class=\"dataframe\">\n",
       "  <thead>\n",
       "    <tr style=\"text-align: right;\">\n",
       "      <th></th>\n",
       "      <th>v1</th>\n",
       "      <th>v2</th>\n",
       "      <th>Unnamed: 2</th>\n",
       "      <th>Unnamed: 3</th>\n",
       "      <th>Unnamed: 4</th>\n",
       "    </tr>\n",
       "  </thead>\n",
       "  <tbody>\n",
       "    <tr>\n",
       "      <th>0</th>\n",
       "      <td>ham</td>\n",
       "      <td>Go until jurong point, crazy.. Available only ...</td>\n",
       "      <td>NaN</td>\n",
       "      <td>NaN</td>\n",
       "      <td>NaN</td>\n",
       "    </tr>\n",
       "    <tr>\n",
       "      <th>1</th>\n",
       "      <td>ham</td>\n",
       "      <td>Ok lar... Joking wif u oni...</td>\n",
       "      <td>NaN</td>\n",
       "      <td>NaN</td>\n",
       "      <td>NaN</td>\n",
       "    </tr>\n",
       "    <tr>\n",
       "      <th>2</th>\n",
       "      <td>spam</td>\n",
       "      <td>Free entry in 2 a wkly comp to win FA Cup fina...</td>\n",
       "      <td>NaN</td>\n",
       "      <td>NaN</td>\n",
       "      <td>NaN</td>\n",
       "    </tr>\n",
       "    <tr>\n",
       "      <th>3</th>\n",
       "      <td>ham</td>\n",
       "      <td>U dun say so early hor... U c already then say...</td>\n",
       "      <td>NaN</td>\n",
       "      <td>NaN</td>\n",
       "      <td>NaN</td>\n",
       "    </tr>\n",
       "    <tr>\n",
       "      <th>4</th>\n",
       "      <td>ham</td>\n",
       "      <td>Nah I don't think he goes to usf, he lives aro...</td>\n",
       "      <td>NaN</td>\n",
       "      <td>NaN</td>\n",
       "      <td>NaN</td>\n",
       "    </tr>\n",
       "    <tr>\n",
       "      <th>...</th>\n",
       "      <td>...</td>\n",
       "      <td>...</td>\n",
       "      <td>...</td>\n",
       "      <td>...</td>\n",
       "      <td>...</td>\n",
       "    </tr>\n",
       "    <tr>\n",
       "      <th>5567</th>\n",
       "      <td>spam</td>\n",
       "      <td>This is the 2nd time we have tried 2 contact u...</td>\n",
       "      <td>NaN</td>\n",
       "      <td>NaN</td>\n",
       "      <td>NaN</td>\n",
       "    </tr>\n",
       "    <tr>\n",
       "      <th>5568</th>\n",
       "      <td>ham</td>\n",
       "      <td>Will Ì_ b going to esplanade fr home?</td>\n",
       "      <td>NaN</td>\n",
       "      <td>NaN</td>\n",
       "      <td>NaN</td>\n",
       "    </tr>\n",
       "    <tr>\n",
       "      <th>5569</th>\n",
       "      <td>ham</td>\n",
       "      <td>Pity, * was in mood for that. So...any other s...</td>\n",
       "      <td>NaN</td>\n",
       "      <td>NaN</td>\n",
       "      <td>NaN</td>\n",
       "    </tr>\n",
       "    <tr>\n",
       "      <th>5570</th>\n",
       "      <td>ham</td>\n",
       "      <td>The guy did some bitching but I acted like i'd...</td>\n",
       "      <td>NaN</td>\n",
       "      <td>NaN</td>\n",
       "      <td>NaN</td>\n",
       "    </tr>\n",
       "    <tr>\n",
       "      <th>5571</th>\n",
       "      <td>ham</td>\n",
       "      <td>Rofl. Its true to its name</td>\n",
       "      <td>NaN</td>\n",
       "      <td>NaN</td>\n",
       "      <td>NaN</td>\n",
       "    </tr>\n",
       "  </tbody>\n",
       "</table>\n",
       "<p>5572 rows × 5 columns</p>\n",
       "</div>"
      ],
      "text/plain": [
       "        v1                                                 v2 Unnamed: 2  \\\n",
       "0      ham  Go until jurong point, crazy.. Available only ...        NaN   \n",
       "1      ham                      Ok lar... Joking wif u oni...        NaN   \n",
       "2     spam  Free entry in 2 a wkly comp to win FA Cup fina...        NaN   \n",
       "3      ham  U dun say so early hor... U c already then say...        NaN   \n",
       "4      ham  Nah I don't think he goes to usf, he lives aro...        NaN   \n",
       "...    ...                                                ...        ...   \n",
       "5567  spam  This is the 2nd time we have tried 2 contact u...        NaN   \n",
       "5568   ham              Will Ì_ b going to esplanade fr home?        NaN   \n",
       "5569   ham  Pity, * was in mood for that. So...any other s...        NaN   \n",
       "5570   ham  The guy did some bitching but I acted like i'd...        NaN   \n",
       "5571   ham                         Rofl. Its true to its name        NaN   \n",
       "\n",
       "     Unnamed: 3 Unnamed: 4  \n",
       "0           NaN        NaN  \n",
       "1           NaN        NaN  \n",
       "2           NaN        NaN  \n",
       "3           NaN        NaN  \n",
       "4           NaN        NaN  \n",
       "...         ...        ...  \n",
       "5567        NaN        NaN  \n",
       "5568        NaN        NaN  \n",
       "5569        NaN        NaN  \n",
       "5570        NaN        NaN  \n",
       "5571        NaN        NaN  \n",
       "\n",
       "[5572 rows x 5 columns]"
      ]
     },
     "execution_count": 47,
     "metadata": {},
     "output_type": "execute_result"
    }
   ],
   "source": [
    "text = pd.read_csv('Data/spam.csv', encoding='latin')\n",
    "text"
   ]
  },
  {
   "cell_type": "code",
   "execution_count": 49,
   "id": "aaf8d690-d14e-4873-96b2-a97ab1890e44",
   "metadata": {},
   "outputs": [
    {
     "data": {
      "text/plain": [
       "0"
      ]
     },
     "execution_count": 49,
     "metadata": {},
     "output_type": "execute_result"
    }
   ],
   "source": [
    "x = text['v2']\n",
    "x.isnull().sum()"
   ]
  },
  {
   "cell_type": "code",
   "execution_count": 51,
   "id": "6d822d70-702f-434c-94d9-7cc065e40304",
   "metadata": {},
   "outputs": [
    {
     "data": {
      "text/plain": [
       "v1\n",
       "ham     4825\n",
       "spam     747\n",
       "Name: count, dtype: int64"
      ]
     },
     "execution_count": 51,
     "metadata": {},
     "output_type": "execute_result"
    }
   ],
   "source": [
    "y = text['v1']\n",
    "y.value_counts()"
   ]
  },
  {
   "cell_type": "markdown",
   "id": "042746b9-3230-41da-bd83-14f0de73f4ed",
   "metadata": {},
   "source": [
    "## <span style='color:yellow'> 1. Tạo X_train, X_test, y_train, y_test từ dữ liệu đọc được với tỷ lệ dữ liệu test là 0.2\n",
    "## <span style='color:yellow'> 2. Áp dụng thuật toán Naive Bayes => kết quả\n",
    "## <span style='color:yellow'> 3. Đánh giá mô hình"
   ]
  },
  {
   "cell_type": "code",
   "execution_count": 58,
   "id": "2b39d42a-04a6-4fc3-9b0e-994e406f0c2e",
   "metadata": {},
   "outputs": [],
   "source": [
    "from sklearn.model_selection import train_test_split\n",
    "x_train,  x_test, y_train, y_test = train_test_split(x, y, test_size=0.2, random_state=1)"
   ]
  },
  {
   "cell_type": "code",
   "execution_count": 66,
   "id": "438bae1d-fa68-4a21-84db-83d1428d0637",
   "metadata": {},
   "outputs": [
    {
     "name": "stdout",
     "output_type": "stream",
     "text": [
      "GaussianNB accuracy score on train set: 0.9946152120260264\n",
      "GaussianNB accuracy score on test set: 0.9874439461883409\n",
      "\n",
      "\n",
      "Confusion matrix:\n",
      "       ham  spam\n",
      "ham   969     7\n",
      "spam    7   132\n",
      "\n",
      "\n",
      "Classification report:\n",
      "               precision    recall  f1-score   support\n",
      "\n",
      "         ham       0.99      0.99      0.99       976\n",
      "        spam       0.95      0.95      0.95       139\n",
      "\n",
      "    accuracy                           0.99      1115\n",
      "   macro avg       0.97      0.97      0.97      1115\n",
      "weighted avg       0.99      0.99      0.99      1115\n",
      "\n"
     ]
    },
    {
     "data": {
      "image/png": "[encoded data removed]",
      "text/plain": [
       "<Figure size 2000x600 with 3 Axes>"
      ]
     },
     "metadata": {},
     "output_type": "display_data"
    }
   ],
   "source": [
    "from sklearn.naive_bayes import MultinomialNB\n",
    "from sklearn.feature_extraction.text import CountVectorizer\n",
    "from imblearn.pipeline import Pipeline\n",
    "from sklearn.metrics import accuracy_score, confusion_matrix, classification_report, roc_curve\n",
    "\n",
    "nbMulti_pipe = Pipeline([\n",
    "    ('CountVectorizer', CountVectorizer(stop_words='english')),\n",
    "    ('Multinomial_Naive_Bayes', MultinomialNB())\n",
    "])\n",
    "\n",
    "nbMulti_pipe.fit(x_train, y_train)\n",
    "\n",
    "y_test_pred = nbMulti_pipe.predict(x_test)\n",
    "y_test_proba = nbMulti_pipe.predict_proba(x_test)\n",
    "\n",
    "print(f'MultinomialNB accuracy score on train set: {accuracy_score(y_train, nbMulti_pipe.predict(x_train))}')\n",
    "print(f'MultinomialNB accuracy score on test set: {accuracy_score(y_test, y_test_pred)}')\n",
    "print()\n",
    "labels = ['ham', 'spam']\n",
    "cm_df = pd.DataFrame(confusion_matrix(y_test, y_test_pred), index=labels, columns=labels)\n",
    "print(f'\\nConfusion matrix:\\n {cm_df}')\n",
    "print()\n",
    "print(f'\\nClassification report:\\n {classification_report(y_test, y_test_pred, target_names=labels)}')\n",
    "\n",
    "sbn.set_theme(style='darkgrid')\n",
    "plt.figure(figsize=(20,6))\n",
    "\n",
    "plt.subplot(1,2,1)\n",
    "sbn.heatmap(cm_df, cmap=\"crest\", annot=True, fmt=\".0f\")\n",
    "plt.xlabel('Predict values', size=15)\n",
    "plt.ylabel('True values', size=15)\n",
    "plt.title(f'Confusion Matrix \\nAccuracy: {accuracy_score(y_test, y_test_pred):.2f}')\n",
    "\n",
    "fpr, tpr, thresholds = roc_curve(y_test, y_test_proba[:,1], pos_label='spam')\n",
    "\n",
    "plt.subplot(1,2,2)\n",
    "sbn.lineplot(x=[0,1], y=[0,1], linestyle='--', color='green')\n",
    "sbn.lineplot(x=fpr, y=tpr, linestyle='dotted', color='orange', linewidth=4)\n",
    "plt.xlabel('False Positive Rate', size=15)\n",
    "plt.ylabel('True Positive Rate', size=15)\n",
    "plt.title('ROC Curve', size=20)\n",
    "\n",
    "plt.show()"
   ]
  },
  {
   "cell_type": "markdown",
   "id": "318562b7-0319-45b9-9355-fe4458332aea",
   "metadata": {},
   "source": [
    "## <span style='color:yellow'> 5. Đọc mô hình vừa ghi => dự đoán kết quả cho câu 6\n"
   ]
  },
  {
   "cell_type": "code",
   "execution_count": 73,
   "id": "a315eb50-84b3-457b-ac48-ebd39bfd1864",
   "metadata": {},
   "outputs": [],
   "source": [
    "import pickle\n",
    "pkl_filename = 'model_ex3_MultinomialNB.pkl'\n",
    "\n",
    "file = open(pkl_filename, 'wb')\n",
    "pickle.dump(nbMulti_pipe, file)\n",
    "file.close()"
   ]
  },
  {
   "cell_type": "code",
   "execution_count": 77,
   "id": "242a2ddf-de23-4c9d-bbfe-6e56b1a36a2a",
   "metadata": {},
   "outputs": [],
   "source": [
    "file = open(pkl_filename, 'rb')\n",
    "nbMulti_model = pickle.load(file)\n",
    "file.close()"
   ]
  },
  {
   "cell_type": "markdown",
   "id": "be088997-394d-42ca-be34-77e4820c7a69",
   "metadata": {},
   "source": [
    "## <span style='color:yellow'> 6. Cho dữ liệu Test: \n",
    "+ x_new = np.array(['Dear Ms. Phuong. I will come on time.', 'URGENT! We are trying to contact you. Today is the last day of sale. Discount up to 50%']) \n",
    "+ => sẽ là ham hay spam?"
   ]
  },
  {
   "cell_type": "code",
   "execution_count": 109,
   "id": "914e192d-d341-48c7-9017-aaff5ae1916b",
   "metadata": {},
   "outputs": [
    {
     "data": {
      "text/html": [
       "<div>\n",
       "<style scoped>\n",
       "    .dataframe tbody tr th:only-of-type {\n",
       "        vertical-align: middle;\n",
       "    }\n",
       "\n",
       "    .dataframe tbody tr th {\n",
       "        vertical-align: top;\n",
       "    }\n",
       "\n",
       "    .dataframe thead th {\n",
       "        text-align: right;\n",
       "    }\n",
       "</style>\n",
       "<table border=\"1\" class=\"dataframe\">\n",
       "  <thead>\n",
       "    <tr style=\"text-align: right;\">\n",
       "      <th></th>\n",
       "      <th>Text</th>\n",
       "      <th>Predict</th>\n",
       "    </tr>\n",
       "  </thead>\n",
       "  <tbody>\n",
       "    <tr>\n",
       "      <th>0</th>\n",
       "      <td>Dear Ms. Phuong. I will come on time.</td>\n",
       "      <td>ham</td>\n",
       "    </tr>\n",
       "    <tr>\n",
       "      <th>1</th>\n",
       "      <td>URGENT! We are trying to contact you. Today is...</td>\n",
       "      <td>spam</td>\n",
       "    </tr>\n",
       "  </tbody>\n",
       "</table>\n",
       "</div>"
      ],
      "text/plain": [
       "                                                Text Predict\n",
       "0              Dear Ms. Phuong. I will come on time.     ham\n",
       "1  URGENT! We are trying to contact you. Today is...    spam"
      ]
     },
     "execution_count": 109,
     "metadata": {},
     "output_type": "execute_result"
    }
   ],
   "source": [
    "x_new = pd.DataFrame(\n",
    "    np.array(['Dear Ms. Phuong. I will come on time.', 'URGENT! We are trying to contact you. Today is the last day of sale. Discount up to 50%']),\n",
    "    columns=['Text'])\n",
    "\n",
    "y_new_pred = nbMulti_model.predict(x_new['Text'])\n",
    "\n",
    "x_new['Predict'] = y_new_pred\n",
    "\n",
    "x_new"
   ]
  }
 ],
 "metadata": {
  "kernelspec": {
   "display_name": "Python 3 (ipykernel)",
   "language": "python",
   "name": "python3"
  },
  "language_info": {
   "codemirror_mode": {
    "name": "ipython",
    "version": 3
   },
   "file_extension": ".py",
   "mimetype": "text/x-python",
   "name": "python",
   "nbconvert_exporter": "python",
   "pygments_lexer": "ipython3",
   "version": "3.12.7"
  }
 },
 "nbformat": 4,
 "nbformat_minor": 5
}
