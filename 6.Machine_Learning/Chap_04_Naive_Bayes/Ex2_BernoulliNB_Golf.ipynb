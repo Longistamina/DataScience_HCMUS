{
 "cells": [
  {
   "cell_type": "markdown",
   "id": "348f83b8-3985-4508-82a4-a77b9a66b9b4",
   "metadata": {},
   "source": [
    "# Chapter4 - Exercise 2: Play Goft\n",
    "# Cho dữ liệu play golf trong tập tin playgoft_data.xlsx.\n",
    "\n",
    "## Yêu cầu: Hãy đọc dữ liệu từ tập tin này, áp dụng Naive Bayes để thực hiện việc xác định có đi chơi golf hay không dựa trên các thông tin như: \n",
    "+ 'Outlook'\n",
    "+ 'Temperature'\n",
    "+ 'Humidity'\n",
    "+ 'Wind'\n",
    "+ 'Play Golf'\n",
    "\n",
    "\n",
    "## Yêu cầu:\n",
    "1. Hãy chuẩn hóa dữ liệu cho phù hợp\n",
    "2. Áp dụng Naive Bayes. Tìm kết quả\n",
    "3. Kiểm tra độ chính xác\n",
    "4. Xuất/ghi model\n",
    "5. Đọc model\n",
    "6. Cho dữ liệu Test: X_test = [[\"Overcast\", \"Cool\", \"High\", \"Strong\"], [\"Sunny\", \"Cool\", \"High\", \"Weak\"]] => Y_test"
   ]
  },
  {
   "cell_type": "code",
   "execution_count": 4,
   "id": "877a21fc-3702-4258-adc8-21e31be06f76",
   "metadata": {},
   "outputs": [],
   "source": [
    "import numpy as np\n",
    "import pandas as pd\n",
    "import matplotlib.pyplot as plt\n",
    "import seaborn as sbn\n",
    "\n",
    "np.set_printoptions(suppress=True)\n",
    "pd.set_option('display.max_columns', 50)\n",
    "pd.set_option('display.max_rows',10)"
   ]
  },
  {
   "cell_type": "markdown",
   "id": "c0131eec-5890-4810-959b-e9247addb42e",
   "metadata": {},
   "source": [
    "## <span style='color:yellow'> 1. Hãy chuẩn hóa dữ liệu cho phù hợp"
   ]
  },
  {
   "cell_type": "code",
   "execution_count": 11,
   "id": "42bc68c0-2324-4e16-b263-c68eb5f6dcae",
   "metadata": {},
   "outputs": [
    {
     "data": {
      "text/html": [
       "<div>\n",
       "<style scoped>\n",
       "    .dataframe tbody tr th:only-of-type {\n",
       "        vertical-align: middle;\n",
       "    }\n",
       "\n",
       "    .dataframe tbody tr th {\n",
       "        vertical-align: top;\n",
       "    }\n",
       "\n",
       "    .dataframe thead th {\n",
       "        text-align: right;\n",
       "    }\n",
       "</style>\n",
       "<table border=\"1\" class=\"dataframe\">\n",
       "  <thead>\n",
       "    <tr style=\"text-align: right;\">\n",
       "      <th></th>\n",
       "      <th>Outlook</th>\n",
       "      <th>Temperature</th>\n",
       "      <th>Humidity</th>\n",
       "      <th>Wind</th>\n",
       "      <th>Play Golf</th>\n",
       "    </tr>\n",
       "    <tr>\n",
       "      <th>Day</th>\n",
       "      <th></th>\n",
       "      <th></th>\n",
       "      <th></th>\n",
       "      <th></th>\n",
       "      <th></th>\n",
       "    </tr>\n",
       "  </thead>\n",
       "  <tbody>\n",
       "    <tr>\n",
       "      <th>1</th>\n",
       "      <td>Sunny</td>\n",
       "      <td>Hot</td>\n",
       "      <td>High</td>\n",
       "      <td>Weak</td>\n",
       "      <td>No</td>\n",
       "    </tr>\n",
       "    <tr>\n",
       "      <th>2</th>\n",
       "      <td>Sunny</td>\n",
       "      <td>Hot</td>\n",
       "      <td>High</td>\n",
       "      <td>Strong</td>\n",
       "      <td>No</td>\n",
       "    </tr>\n",
       "    <tr>\n",
       "      <th>3</th>\n",
       "      <td>Overcast</td>\n",
       "      <td>Hot</td>\n",
       "      <td>High</td>\n",
       "      <td>Weak</td>\n",
       "      <td>Yes</td>\n",
       "    </tr>\n",
       "    <tr>\n",
       "      <th>4</th>\n",
       "      <td>Rain</td>\n",
       "      <td>Mild</td>\n",
       "      <td>High</td>\n",
       "      <td>Weak</td>\n",
       "      <td>Yes</td>\n",
       "    </tr>\n",
       "    <tr>\n",
       "      <th>5</th>\n",
       "      <td>Rain</td>\n",
       "      <td>Cool</td>\n",
       "      <td>Normal</td>\n",
       "      <td>Weak</td>\n",
       "      <td>Yes</td>\n",
       "    </tr>\n",
       "    <tr>\n",
       "      <th>...</th>\n",
       "      <td>...</td>\n",
       "      <td>...</td>\n",
       "      <td>...</td>\n",
       "      <td>...</td>\n",
       "      <td>...</td>\n",
       "    </tr>\n",
       "    <tr>\n",
       "      <th>10</th>\n",
       "      <td>Rain</td>\n",
       "      <td>Mild</td>\n",
       "      <td>Normal</td>\n",
       "      <td>Weak</td>\n",
       "      <td>Yes</td>\n",
       "    </tr>\n",
       "    <tr>\n",
       "      <th>11</th>\n",
       "      <td>Sunny</td>\n",
       "      <td>Mild</td>\n",
       "      <td>Normal</td>\n",
       "      <td>Strong</td>\n",
       "      <td>Yes</td>\n",
       "    </tr>\n",
       "    <tr>\n",
       "      <th>12</th>\n",
       "      <td>Overcast</td>\n",
       "      <td>Mild</td>\n",
       "      <td>High</td>\n",
       "      <td>Strong</td>\n",
       "      <td>Yes</td>\n",
       "    </tr>\n",
       "    <tr>\n",
       "      <th>13</th>\n",
       "      <td>Overcast</td>\n",
       "      <td>Hot</td>\n",
       "      <td>Normal</td>\n",
       "      <td>Weak</td>\n",
       "      <td>Yes</td>\n",
       "    </tr>\n",
       "    <tr>\n",
       "      <th>14</th>\n",
       "      <td>Rain</td>\n",
       "      <td>Mild</td>\n",
       "      <td>High</td>\n",
       "      <td>Strong</td>\n",
       "      <td>No</td>\n",
       "    </tr>\n",
       "  </tbody>\n",
       "</table>\n",
       "<p>14 rows × 5 columns</p>\n",
       "</div>"
      ],
      "text/plain": [
       "      Outlook Temperature Humidity    Wind Play Golf\n",
       "Day                                                 \n",
       "1       Sunny         Hot     High    Weak        No\n",
       "2       Sunny         Hot     High  Strong        No\n",
       "3    Overcast         Hot     High    Weak       Yes\n",
       "4        Rain        Mild     High    Weak       Yes\n",
       "5        Rain        Cool   Normal    Weak       Yes\n",
       "..        ...         ...      ...     ...       ...\n",
       "10       Rain        Mild   Normal    Weak       Yes\n",
       "11      Sunny        Mild   Normal  Strong       Yes\n",
       "12   Overcast        Mild     High  Strong       Yes\n",
       "13   Overcast         Hot   Normal    Weak       Yes\n",
       "14       Rain        Mild     High  Strong        No\n",
       "\n",
       "[14 rows x 5 columns]"
      ]
     },
     "execution_count": 11,
     "metadata": {},
     "output_type": "execute_result"
    }
   ],
   "source": [
    "golf = pd.read_excel('Data/playgolf_data.xlsx', index_col=0)\n",
    "golf"
   ]
  },
  {
   "cell_type": "code",
   "execution_count": 13,
   "id": "d58fbdd9-041e-4c2c-b7c2-fbce295eeeb2",
   "metadata": {},
   "outputs": [
    {
     "name": "stdout",
     "output_type": "stream",
     "text": [
      "<class 'pandas.core.frame.DataFrame'>\n",
      "Index: 14 entries, 1 to 14\n",
      "Data columns (total 5 columns):\n",
      " #   Column       Non-Null Count  Dtype \n",
      "---  ------       --------------  ----- \n",
      " 0   Outlook      14 non-null     object\n",
      " 1   Temperature  14 non-null     object\n",
      " 2   Humidity     14 non-null     object\n",
      " 3   Wind         14 non-null     object\n",
      " 4   Play Golf    14 non-null     object\n",
      "dtypes: object(5)\n",
      "memory usage: 672.0+ bytes\n"
     ]
    }
   ],
   "source": [
    "golf.info()"
   ]
  },
  {
   "cell_type": "code",
   "execution_count": 15,
   "id": "1916b62f-b996-4a57-a0aa-b6afebba12c0",
   "metadata": {},
   "outputs": [
    {
     "data": {
      "text/plain": [
       "Outlook        0\n",
       "Temperature    0\n",
       "Humidity       0\n",
       "Wind           0\n",
       "Play Golf      0\n",
       "dtype: int64"
      ]
     },
     "execution_count": 15,
     "metadata": {},
     "output_type": "execute_result"
    }
   ],
   "source": [
    "golf.isnull().sum()"
   ]
  },
  {
   "cell_type": "code",
   "execution_count": 17,
   "id": "79c60d72-2f4c-4c33-bdc9-04479b50f213",
   "metadata": {},
   "outputs": [
    {
     "data": {
      "text/plain": [
       "Play Golf\n",
       "Yes    9\n",
       "No     5\n",
       "Name: count, dtype: int64"
      ]
     },
     "execution_count": 17,
     "metadata": {},
     "output_type": "execute_result"
    }
   ],
   "source": [
    "golf['Play Golf'].value_counts()"
   ]
  },
  {
   "cell_type": "markdown",
   "id": "f3c6db85-593f-41b4-a102-7b2b8d26559d",
   "metadata": {},
   "source": [
    "## <span style='color:yellow'> 2. Áp dụng Naive Bayes. Tìm kết quả\n",
    "## <span style='color:yellow'> 3. Kiểm tra độ chính xác"
   ]
  },
  {
   "cell_type": "code",
   "execution_count": 25,
   "id": "1c7d0b3a-6bd9-466e-950e-0343e80d9202",
   "metadata": {},
   "outputs": [],
   "source": [
    "x = golf.drop('Play Golf', axis=1)\n",
    "y = golf['Play Golf']"
   ]
  },
  {
   "cell_type": "code",
   "execution_count": 36,
   "id": "6c0cc7c7-8d1a-4cc8-9886-4826545259e1",
   "metadata": {},
   "outputs": [
    {
     "name": "stdout",
     "output_type": "stream",
     "text": [
      "BernoulliNB accuracy score on train set: 0.9285714285714286\n"
     ]
    }
   ],
   "source": [
    "from sklearn.naive_bayes import BernoulliNB\n",
    "from imblearn.pipeline import Pipeline\n",
    "from sklearn.compose import ColumnTransformer\n",
    "from sklearn.preprocessing import OneHotEncoder\n",
    "\n",
    "Onehot_transformer = ColumnTransformer(\n",
    "    transformers=[('Onehot_Encoder', OneHotEncoder(handle_unknown='ignore'), x.columns)],\n",
    "    remainder='passthrough'\n",
    ")\n",
    "\n",
    "nbBer_pipe = Pipeline([\n",
    "    ('Onehot_Encoder', Onehot_transformer),\n",
    "    ('Bernoulli_Naive_Bayes', BernoulliNB())\n",
    "])\n",
    "\n",
    "nbBer_pipe.fit(x,y)\n",
    "\n",
    "print(f'BernoulliNB accuracy score on train set: {nbBer_pipe.score(x, y)}')"
   ]
  },
  {
   "cell_type": "markdown",
   "id": "c81bef69-77d4-4324-8f97-0814a8949ed6",
   "metadata": {},
   "source": [
    "## <span style='color:yellow'> 4. Xuất/ghi model\n",
    "## <span style='color:yellow'> 5. Đọc model"
   ]
  },
  {
   "cell_type": "code",
   "execution_count": 54,
   "id": "06a7f65d-ade2-4592-bcaf-13a89ff30bee",
   "metadata": {},
   "outputs": [],
   "source": [
    "import pickle\n",
    "pkl_filename = 'model_ex2_BernoulliNB.pkl'\n",
    "with open(pkl_filename, 'wb') as file:\n",
    "    pickle.dump(nbBer_pipe, file)\n",
    "file.close()"
   ]
  },
  {
   "cell_type": "code",
   "execution_count": 58,
   "id": "bdfc745b-82cf-42db-aa6b-b9bc0ebdf9cb",
   "metadata": {},
   "outputs": [],
   "source": [
    "file = open(pkl_filename, 'rb')\n",
    "nbBer_model = pickle.load(file)\n",
    "file.close()"
   ]
  },
  {
   "cell_type": "markdown",
   "id": "24805e37-4f9d-4a2c-b70b-f2e165528f59",
   "metadata": {},
   "source": [
    "## <span style='color:yellow'> 6. Cho dữ liệu Test: X_test = [[\"Overcast\", \"Cool\", \"High\", \"Strong\"], [\"Sunny\", \"Cool\", \"High\", \"Weak\"]] => Y_test"
   ]
  },
  {
   "cell_type": "code",
   "execution_count": 67,
   "id": "7e8a0bde-3474-4d44-bebd-1ee28a655bec",
   "metadata": {},
   "outputs": [
    {
     "data": {
      "text/html": [
       "<div>\n",
       "<style scoped>\n",
       "    .dataframe tbody tr th:only-of-type {\n",
       "        vertical-align: middle;\n",
       "    }\n",
       "\n",
       "    .dataframe tbody tr th {\n",
       "        vertical-align: top;\n",
       "    }\n",
       "\n",
       "    .dataframe thead th {\n",
       "        text-align: right;\n",
       "    }\n",
       "</style>\n",
       "<table border=\"1\" class=\"dataframe\">\n",
       "  <thead>\n",
       "    <tr style=\"text-align: right;\">\n",
       "      <th></th>\n",
       "      <th>Outlook</th>\n",
       "      <th>Temperature</th>\n",
       "      <th>Humidity</th>\n",
       "      <th>Wind</th>\n",
       "      <th>Play_golf_Predict</th>\n",
       "    </tr>\n",
       "  </thead>\n",
       "  <tbody>\n",
       "    <tr>\n",
       "      <th>0</th>\n",
       "      <td>Overcast</td>\n",
       "      <td>Cool</td>\n",
       "      <td>High</td>\n",
       "      <td>Strong</td>\n",
       "      <td>Yes</td>\n",
       "    </tr>\n",
       "    <tr>\n",
       "      <th>1</th>\n",
       "      <td>Sunny</td>\n",
       "      <td>Cool</td>\n",
       "      <td>High</td>\n",
       "      <td>Weak</td>\n",
       "      <td>No</td>\n",
       "    </tr>\n",
       "  </tbody>\n",
       "</table>\n",
       "</div>"
      ],
      "text/plain": [
       "    Outlook Temperature Humidity    Wind Play_golf_Predict\n",
       "0  Overcast        Cool     High  Strong               Yes\n",
       "1     Sunny        Cool     High    Weak                No"
      ]
     },
     "execution_count": 67,
     "metadata": {},
     "output_type": "execute_result"
    }
   ],
   "source": [
    "X_test = pd.DataFrame([[\"Overcast\", \"Cool\", \"High\", \"Strong\"], [\"Sunny\", \"Cool\", \"High\", \"Weak\"]],\n",
    "                     columns = x.columns)\n",
    "\n",
    "Y_test = nbBer_model.predict(X_test)\n",
    "\n",
    "X_test['Play_golf_Predict'] = Y_test\n",
    "\n",
    "X_test"
   ]
  }
 ],
 "metadata": {
  "kernelspec": {
   "display_name": "Python 3 (ipykernel)",
   "language": "python",
   "name": "python3"
  },
  "language_info": {
   "codemirror_mode": {
    "name": "ipython",
    "version": 3
   },
   "file_extension": ".py",
   "mimetype": "text/x-python",
   "name": "python",
   "nbconvert_exporter": "python",
   "pygments_lexer": "ipython3",
   "version": "3.12.7"
  }
 },
 "nbformat": 4,
 "nbformat_minor": 5
}
