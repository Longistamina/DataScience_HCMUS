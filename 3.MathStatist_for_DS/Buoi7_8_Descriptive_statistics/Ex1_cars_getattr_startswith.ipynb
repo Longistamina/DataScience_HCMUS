{
 "cells": [
  {
   "cell_type": "code",
   "execution_count": 1,
   "id": "1f89e5cd-2e3a-4083-a3df-f9f5f0de03e4",
   "metadata": {},
   "outputs": [
    {
     "name": "stdout",
     "output_type": "stream",
     "text": [
      "\n"
     ]
    }
   ],
   "source": [
    "\"\"\"=============================================================================\n",
    "Bài toán: Một thanh tra giao thông đã đếm số lượng ô tô đi qua một điểm nhất định \n",
    "          trong 100 khoảng thời gian (cách nhau 20 phút). Các quan sát được liệt kê\n",
    "          trong tập tin count_cars.txt.\n",
    "   1. Tạo cars_array từ nội dung tập tin.\n",
    "   2. Vẽ biểu đồ phân phối tần suất của cars_array\n",
    "   3. Thống kê cơ bản cho cars_array; \n",
    "      mean, median, mode (những giá trị nào? số lần bao nhiêu?), max, min, ...\n",
    "   4. Tìm range\n",
    "   5. Cho biết giá trị ở phân vị thứ [5, 15, 25, 50, 75, 90] của cars_array. \n",
    "      Biểu diễn phân vị và giá trị tương ứng trên biểu đồ.\n",
    "   6. Vẽ boxplot của cars_array. \n",
    "      Dùng z-score để xác định outliers (indexes nào ? giá trị outliers ?)\n",
    "   7. Tìm IQR cho car_arrays\n",
    "   8. Tìm phương sai (variance) cùa cars_array\n",
    "   9. Tìm độ lệch chuẩn Standard deviation của cars_array\n",
    "   10. Tìm độ xiên (Skewness) của cars_array. Nhận xét kết quả.\n",
    "   11. Tìm độ nhọn Kurtosis của cars_array. Nhận xét kết quả.   \n",
    "=============================================================================\"\"\"\n",
    "print()"
   ]
  },
  {
   "cell_type": "code",
   "execution_count": 2,
   "id": "a04783f0-10e6-449e-bd78-231add3c33ae",
   "metadata": {},
   "outputs": [],
   "source": [
    "import numpy as np\n",
    "import pandas as pd\n",
    "import matplotlib.pyplot as plt\n",
    "import seaborn as sbn\n",
    "\n",
    "from matplotlib.gridspec import GridSpec\n",
    "from scipy import stats"
   ]
  },
  {
   "cell_type": "code",
   "execution_count": 4,
   "id": "04b076fa-1bf4-4cbc-923e-55a2d7999742",
   "metadata": {},
   "outputs": [
    {
     "name": "stdout",
     "output_type": "stream",
     "text": [
      "=====================================================\n",
      "*** 1. create cars_array from count_cars.txt file ***\n",
      "=====================================================\n"
     ]
    },
    {
     "data": {
      "text/plain": [
       "array([23, 20, 16, 18, 30, 22, 26, 15,  5, 18, 14, 17, 11, 37, 21,  6, 10,\n",
       "       20, 22, 25, 19, 19, 19, 20, 12, 23, 24, 17, 18, 16, 27, 16, 28, 26,\n",
       "       15, 29, 19, 35, 20, 17, 12, 30, 21, 22, 20, 15, 18, 16, 23, 24, 15,\n",
       "       24, 28, 19, 24, 22, 17, 19,  8, 18, 17, 18, 23, 21, 25, 19, 20, 22,\n",
       "       21, 21, 16, 20, 19, 11, 23, 17, 23, 13, 17, 26, 26, 14, 15, 16, 27,\n",
       "       18, 21, 24, 33, 20, 21, 27, 18, 22, 17, 20, 14, 21, 22, 19])"
      ]
     },
     "execution_count": 4,
     "metadata": {},
     "output_type": "execute_result"
    }
   ],
   "source": [
    "print('=====================================================')\n",
    "print('*** 1. create cars_array from count_cars.txt file ***')\n",
    "print('=====================================================')\n",
    "\n",
    "f1 = open('data_Buoi7&8/count_cars.txt')\n",
    "cars = f1.read().replace('\\n',' ').split(' ')\n",
    "cars_array = np.array([eval(number) for number in cars])\n",
    "f1.close()\n",
    "\n",
    "cars_array"
   ]
  },
  {
   "cell_type": "code",
   "execution_count": 7,
   "id": "6f523eee-6fd3-4c27-aa7f-af9a13b4c8d8",
   "metadata": {},
   "outputs": [
    {
     "name": "stdout",
     "output_type": "stream",
     "text": [
      "============================================================\n",
      "*** 2. Draw distribution plot (histogram) of cars_array ***\n",
      "============================================================\n"
     ]
    },
    {
     "data": {
      "image/png": "[encoded data removed]",
      "text/plain": [
       "<Figure size 1000x400 with 2 Axes>"
      ]
     },
     "metadata": {},
     "output_type": "display_data"
    }
   ],
   "source": [
    "print('============================================================')\n",
    "print('*** 2. Draw distribution plot (histogram) of cars_array ***')\n",
    "print('============================================================')\n",
    "\n",
    "fig = plt.figure(figsize=(10,4))\n",
    "grsp = GridSpec(nrows=1, ncols=2)\n",
    "\n",
    "hist_plt = fig.add_subplot(grsp[0,0])\n",
    "hist_plt.set_title('Histogram cars_array (using plt.hist())')\n",
    "hist_plt.hist(cars_array, edgecolor='black', bins=13)\n",
    "\n",
    "hist_sbn = fig.add_subplot(grsp[0,1])\n",
    "sbn.histplot(cars_array, color='green', kde=True)\n",
    "hist_sbn.set_title('Histogram cars_array (using sbn.histplot())')\n",
    "\n",
    "plt.show()"
   ]
  },
  {
   "cell_type": "code",
   "execution_count": 9,
   "id": "7ffc61d7-8052-4e1f-9265-1b667d54c62b",
   "metadata": {},
   "outputs": [
    {
     "name": "stdout",
     "output_type": "stream",
     "text": [
      "========================================================================================\n",
      "*** 3. Do basic descriptive statistics for cars_array (mean, median, mode, max, min) ***\n",
      "========================================================================================\n",
      "\n",
      "Mean of cars_array = 19.97\n",
      "Geometric mean of cars_array = 19.10751805565697\n",
      "Harmonic mean of cars_array = 18.01741946564974\n",
      "\n",
      "Median of cars_array = 20.0\n",
      "\n",
      "Max of cars_array = 37\n",
      "\n",
      "Min of cars_array = 5\n",
      "\n",
      "Mode value of cars_array = 19\n",
      "Mode frequency of cars_array = 9\n"
     ]
    }
   ],
   "source": [
    "print('========================================================================================')\n",
    "print('*** 3. Do basic descriptive statistics for cars_array (mean, median, mode, max, min) ***')\n",
    "print('========================================================================================')\n",
    "\n",
    "print(f'\\nMean of cars_array = {np.mean(cars_array)}')\n",
    "print(f'Geometric mean of cars_array = {stats.gmean(cars_array)}')\n",
    "print(f'Harmonic mean of cars_array = {stats.hmean(cars_array)}')\n",
    "\n",
    "print(f'\\nMedian of cars_array = {np.median(cars_array)}')\n",
    "print(f'\\nMax of cars_array = {np.max(cars_array)}')\n",
    "print(f'\\nMin of cars_array = {np.min(cars_array)}')\n",
    "\n",
    "mode_cars = stats.mode(cars_array)\n",
    "#scipy.stats.mode(x) returns a tuple having 2 elements\n",
    "#The first element [0] is the value of that mode\n",
    "#The second one [1] is the count (frequency) of that mode value\n",
    "\n",
    "print(f'\\nMode value of cars_array = {mode_cars[0]}')\n",
    "print(f'Mode frequency of cars_array = {mode_cars[1]}')"
   ]
  },
  {
   "cell_type": "code",
   "execution_count": 11,
   "id": "5a3c51f8-3973-49bd-baf5-098aa55002de",
   "metadata": {},
   "outputs": [
    {
     "name": "stdout",
     "output_type": "stream",
     "text": [
      "======================================================================\n",
      "*** 4. Find the range of cars_array ***\n",
      "======================================================================\n",
      "Range of cars_array's values: 32\n"
     ]
    }
   ],
   "source": [
    "print('======================================================================')\n",
    "print('*** 4. Find the range of cars_array ***')\n",
    "print('======================================================================')\n",
    "range_cars = np.ptp(cars_array) #ptp = 'peak to peak', this numpy.ptp(x) will return the range = max - min of x array\n",
    "print(f\"Range of cars_array's values: {range_cars}\")"
   ]
  },
  {
   "cell_type": "code",
   "execution_count": 13,
   "id": "2daa2050-17ac-48c9-8465-d06ff25cf7a2",
   "metadata": {},
   "outputs": [
    {
     "name": "stdout",
     "output_type": "stream",
     "text": [
      "=====================================================================\n",
      "*** 5. Calculate percentiles [5, 15, 25, 50, 75, 90] of cars_array ***\n",
      "======================================================================\n"
     ]
    },
    {
     "data": {
      "image/png": "[encoded data removed]",
      "text/plain": [
       "<Figure size 640x480 with 1 Axes>"
      ]
     },
     "metadata": {},
     "output_type": "display_data"
    }
   ],
   "source": [
    "print('=====================================================================')\n",
    "print('*** 5. Calculate percentiles [5, 15, 25, 50, 75, 90] of cars_array ***')\n",
    "print('======================================================================')\n",
    "percentiles = [5, 15, 25, 50, 75, 90] #x axis\n",
    "perc_values = np.percentile(cars_array, percentiles) #y axis\n",
    "\n",
    "plt.plot(percentiles, perc_values, marker = 'D', color = 'red', linestyle = 'none') #linestyle = 'none' to remove the line\n",
    "plt.xlabel('Percentiles (%)')\n",
    "plt.ylabel('Percentile values')\n",
    "plt.yticks(perc_values)\n",
    "plt.xticks(percentiles)\n",
    "plt.show()\n",
    "\n",
    "\n",
    "#Python, R and Excel calculate the index for specific percentile value by this following formula:\n",
    "#        index = [p*(n-1)]/100 + 1\n",
    "# where p is the percentile ranging from 0 to 100, and n is the size of the sample/population\n",
    "#So, what if the index is a float, not integer (for example 3.25)?\n",
    "\n",
    "#np.percentile(x, p, method='lower') ===> if calculated index = 3.25, then it will return: x[3]\n",
    "#np.percentile(x, p, method='upper') ===> if calculated index = 3.25, then it will return: x[4]\n",
    "#np.percentile(x, p, method='nearest') ===> if calculated index = 3.25, then it will return: x[3] because 3.25 is nearer to 3 than 4\n",
    "\n",
    "#np.percentile(x, method='midpoint') ===> if calculated index = 3.25, then it will return: (x[3] + x[4])/2\n",
    "\n",
    "#np.percentile(x, method='linear') ===> if calculated index = 3.25, then it will return: x[3] + (x[4] - x[3])*0.25"
   ]
  },
  {
   "cell_type": "code",
   "execution_count": 15,
   "id": "bb16d1f8-2c59-4bc3-9714-eaf7c67e3707",
   "metadata": {},
   "outputs": [
    {
     "name": "stdout",
     "output_type": "stream",
     "text": [
      "===========================================================================================\n",
      "*** 6. Draw boxplot for cars_array, and use z-score to find outliers (values, indexes) ***\n",
      "===========================================================================================\n"
     ]
    },
    {
     "data": {
      "image/png": "[encoded data removed]",
      "text/plain": [
       "<Figure size 1000x400 with 2 Axes>"
      ]
     },
     "metadata": {},
     "output_type": "display_data"
    },
    {
     "name": "stdout",
     "output_type": "stream",
     "text": [
      "\n",
      "The z-score of cars_array is:\n",
      "[ 0.54874468  0.00543312 -0.71898231 -0.3567746   1.81647168  0.36764083\n",
      "  1.09205625 -0.90008617 -2.71112473 -0.3567746  -1.08119002 -0.53787845\n",
      " -1.62450159  3.08419867  0.18653697 -2.53002087 -1.80560545  0.00543312\n",
      "  0.36764083  0.9109524  -0.17567074 -0.17567074 -0.17567074  0.00543312\n",
      " -1.44339773  0.54874468  0.72984854 -0.53787845 -0.3567746  -0.71898231\n",
      "  1.27316011 -0.71898231  1.45426396  1.09205625 -0.90008617  1.63536782\n",
      " -0.17567074  2.72199096  0.00543312 -0.53787845 -1.44339773  1.81647168\n",
      "  0.18653697  0.36764083  0.00543312 -0.90008617 -0.3567746  -0.71898231\n",
      "  0.54874468  0.72984854 -0.90008617  0.72984854  1.45426396 -0.17567074\n",
      "  0.72984854  0.36764083 -0.53787845 -0.17567074 -2.16781316 -0.3567746\n",
      " -0.53787845 -0.3567746   0.54874468  0.18653697  0.9109524  -0.17567074\n",
      "  0.00543312  0.36764083  0.18653697  0.18653697 -0.71898231  0.00543312\n",
      " -0.17567074 -1.62450159  0.54874468 -0.53787845  0.54874468 -1.26229388\n",
      " -0.53787845  1.09205625  1.09205625 -1.08119002 -0.90008617 -0.71898231\n",
      "  1.27316011 -0.3567746   0.18653697  0.72984854  2.35978325  0.00543312\n",
      "  0.18653697  1.27316011 -0.3567746   0.36764083 -0.53787845  0.00543312\n",
      " -1.08119002  0.18653697  0.36764083 -0.17567074]\n",
      "\n",
      "Outlier cars_array[8]: 5\n",
      "Outlier cars_array[13]: 37\n",
      "Outlier cars_array[15]: 6\n",
      "Outlier cars_array[37]: 35\n"
     ]
    }
   ],
   "source": [
    "print('===========================================================================================')\n",
    "print('*** 6. Draw boxplot for cars_array, and use z-score to find outliers (values, indexes) ***')\n",
    "print('===========================================================================================')\n",
    "\n",
    "fig = plt.figure(figsize=(10,4))\n",
    "grsp = GridSpec(nrows=1, ncols=2)\n",
    "\n",
    "box_plt = fig.add_subplot(grsp[0,0])\n",
    "box_plt.set_title('Boxplot cars_array (using plt.boxplot())')\n",
    "box_plt.boxplot(cars_array)\n",
    "\n",
    "box_sbn = fig.add_subplot(grsp[0,1])\n",
    "sbn.boxplot(cars_array, color='green')\n",
    "box_sbn.set_title('Boxplot cars_array (using sbn.boxplot())')\n",
    "\n",
    "plt.show()\n",
    "\n",
    "#------------z-score to find outliers--------------#\n",
    "\n",
    "#z-score is a standardized form of a sample/population\n",
    "\n",
    "#Formula:      z[i] = [x[i] - mean(x)] / standard_deviation\n",
    "#===> By doing this, the x now becomes z, with mean(z) = 0 and std(z) = 1\n",
    "\n",
    "#Conventionally, the x values that corresponds to z where (z <= -2.5) or (z >= 2.5) are considered outliers\n",
    "#For example, if the z[5] > 2.5 then x[5] is an outlier\n",
    "\n",
    "z_cars = stats.zscore(cars_array) #This scipy.stats.zscore() will compute the z-score for each value in cars_array\n",
    "print(f'\\nThe z-score of cars_array is:\\n{z_cars}')\n",
    "\n",
    "cars_out_index = np.where((z_cars <= -2.5) | (z_cars >= 2.5)) #must use | instead of or\n",
    "                                                              #Return the tuple indices of z_cars where z_cars <= -2.5 or >= 2.5\n",
    "                                                              # cars_out_index[0][0] => 1st index (not cars_out_index[0])\n",
    "print()\n",
    "for i in cars_out_index[0]:\n",
    "    print(f'Outlier cars_array[{i}]: {cars_array[i]}')"
   ]
  },
  {
   "cell_type": "code",
   "execution_count": 17,
   "id": "1b6f67c7-ccdd-4165-a77c-058ae23d6f71",
   "metadata": {},
   "outputs": [
    {
     "name": "stdout",
     "output_type": "stream",
     "text": [
      "===========================================================================================\n",
      "*** 7. Calculate IQR for cars_array ***\n",
      "===========================================================================================\n",
      "\n",
      "Interquantile range IQR of cars_array = 6.0\n"
     ]
    }
   ],
   "source": [
    "print('===========================================================================================')\n",
    "print('*** 7. Calculate IQR for cars_array ***')\n",
    "print('===========================================================================================')\n",
    "cars_IQR = stats.iqr(cars_array)\n",
    "print(f'\\nInterquantile range IQR of cars_array = {cars_IQR}')"
   ]
  },
  {
   "cell_type": "code",
   "execution_count": 19,
   "id": "94bcd5a1-3db4-4826-937a-7f752adf1678",
   "metadata": {},
   "outputs": [
    {
     "name": "stdout",
     "output_type": "stream",
     "text": [
      "===========================================================================================\n",
      "*** 8. Calculate variance of cars_array ***\n",
      "===========================================================================================\n",
      "\n",
      "Variance of cars_array = 30.489099999999993\n"
     ]
    }
   ],
   "source": [
    "print('===========================================================================================')\n",
    "print('*** 8. Calculate variance of cars_array ***')\n",
    "print('===========================================================================================')\n",
    "cars_var = np.var(cars_array)\n",
    "print(f'\\nVariance of cars_array = {cars_var}')"
   ]
  },
  {
   "cell_type": "code",
   "execution_count": 21,
   "id": "811d5016-037e-4b41-80b0-53c31a2af7a7",
   "metadata": {},
   "outputs": [
    {
     "name": "stdout",
     "output_type": "stream",
     "text": [
      "===========================================================================================\n",
      "*** 9. Calculate standard deviation (std) of cars_array ***\n",
      "===========================================================================================\n",
      "\n",
      "Standard deviation of cars_array = 5.52169358077755\n"
     ]
    }
   ],
   "source": [
    "print('===========================================================================================')\n",
    "print('*** 9. Calculate standard deviation (std) of cars_array ***')\n",
    "print('===========================================================================================')\n",
    "cars_std = np.std(cars_array)\n",
    "print(f'\\nStandard deviation of cars_array = {cars_std}')"
   ]
  },
  {
   "cell_type": "code",
   "execution_count": 23,
   "id": "897c27c1-1a30-4700-ad43-8cd2db003681",
   "metadata": {},
   "outputs": [
    {
     "name": "stdout",
     "output_type": "stream",
     "text": [
      "===========================================================================================\n",
      "*** 10. Calculate skewness of cars_array ***\n",
      "===========================================================================================\n",
      "\n",
      "Skewness of cars_array = 0.21285259034645865\n"
     ]
    }
   ],
   "source": [
    "print('===========================================================================================')\n",
    "print('*** 10. Calculate skewness of cars_array ***')\n",
    "print('===========================================================================================')\n",
    "\n",
    "#To calculate skewness (do nghieng) of a sample/population, we can use median\n",
    "\n",
    "#Formula: skewness = 3(mean(x) - median(x)) / std\n",
    "\n",
    "#If mean > median, the skewness > 0 and the tail (mean) of the density line will be to the right of median\n",
    "#If mean < median, the skewness < 0 and the tail (mean) of the density line will be to the left of median\n",
    "# (the tail and the mean always go along)\n",
    "\n",
    "#If mean = median, the skewness = 0 and the density line is symmetrical (no tail)\n",
    "\n",
    "cars_skew = stats.skew(cars_array)\n",
    "print(f'\\nSkewness of cars_array = {cars_skew}')"
   ]
  },
  {
   "cell_type": "code",
   "execution_count": 25,
   "id": "c871da67-13c5-49c9-bee9-fcd6d1b30655",
   "metadata": {},
   "outputs": [
    {
     "name": "stdout",
     "output_type": "stream",
     "text": [
      "===========================================================================================\n",
      "*** 11. Calculate kurtosis of cars_array ***\n",
      "===========================================================================================\n",
      "\n",
      "Kurtosis of normal distribution = 3\n",
      "\n",
      "Kurtosis of cars_array = 3.9396339028047\n",
      "\n",
      "Excess kurtosis of cars_array = 0.9396339028047\n"
     ]
    }
   ],
   "source": [
    "print('===========================================================================================')\n",
    "print('*** 11. Calculate kurtosis of cars_array ***')\n",
    "print('===========================================================================================')\n",
    "\n",
    "#Kurtosis = do nhon\n",
    "#It measures the tailedness of a distribution\n",
    "\n",
    "#The kurtosis of normal distribution is always = 3\n",
    "# => so, to calculate the excess kurtosis, use kurtosis - 3\n",
    "\n",
    "print('\\nKurtosis of normal distribution = 3')\n",
    "\n",
    "cars_kurt = stats.kurtosis(cars_array, fisher=False) #set fisher = False to calculate the original kurtosis of cars_array\n",
    "print(f'\\nKurtosis of cars_array = {cars_kurt}')\n",
    "\n",
    "cars_kurt_exc = stats.kurtosis(cars_array, fisher=True) #set fisher = True to calculate the excess kurtosis of cars_array (kurt -3)\n",
    "print(f'\\nExcess kurtosis of cars_array = {cars_kurt_exc}')\n",
    "\n",
    "#By default, the fisher = True if not explained"
   ]
  },
  {
   "cell_type": "code",
   "execution_count": 27,
   "id": "3d29e0b3-fa81-4f56-b306-7563c2645056",
   "metadata": {},
   "outputs": [
    {
     "name": "stdout",
     "output_type": "stream",
     "text": [
      "Descriptive statistics of cars_array:\n",
      "\n",
      "kurtosis: 0.9396339028047\n",
      "mean: 19.97\n",
      "minmax: (5, 37)\n",
      "nobs: 100\n",
      "skewness: 0.21285259034645865\n",
      "variance: 30.797070707070702\n"
     ]
    }
   ],
   "source": [
    "cars_desc = stats.describe(cars_array) #calculate descriptive statistics for cars_array\n",
    "print(\"Descriptive statistics of cars_array:\")\n",
    "print()\n",
    "\n",
    "for attribute in dir(cars_desc): #dir(cars_desc) will return a list of all cars_array object's attributes\n",
    "    if (attribute.startswith('__')) or (attribute.startswith('_')): continue #=> to remove the attribute that starts with '__' or '_'\n",
    "\n",
    "    elif attribute == 'index' or attribute == 'count': continue  #to remove attribute \"index\" and \"count\"\n",
    "    \n",
    "    else:  print(f'{attribute}: {getattr(cars_desc,attribute)}')  #getattr(sample, attribute) to get the value of sample's specific attribute"
   ]
  },
  {
   "cell_type": "code",
   "execution_count": 29,
   "id": "2431ba47-2e36-4ef6-8c7c-ccd5ed1d184d",
   "metadata": {},
   "outputs": [
    {
     "data": {
      "text/plain": [
       "['__add__',\n",
       " '__class__',\n",
       " '__class_getitem__',\n",
       " '__contains__',\n",
       " '__delattr__',\n",
       " '__dir__',\n",
       " '__doc__',\n",
       " '__eq__',\n",
       " '__format__',\n",
       " '__ge__',\n",
       " '__getattribute__',\n",
       " '__getitem__',\n",
       " '__getnewargs__',\n",
       " '__getstate__',\n",
       " '__gt__',\n",
       " '__hash__',\n",
       " '__init__',\n",
       " '__init_subclass__',\n",
       " '__iter__',\n",
       " '__le__',\n",
       " '__len__',\n",
       " '__lt__',\n",
       " '__match_args__',\n",
       " '__module__',\n",
       " '__mul__',\n",
       " '__ne__',\n",
       " '__new__',\n",
       " '__reduce__',\n",
       " '__reduce_ex__',\n",
       " '__repr__',\n",
       " '__rmul__',\n",
       " '__setattr__',\n",
       " '__sizeof__',\n",
       " '__slots__',\n",
       " '__str__',\n",
       " '__subclasshook__',\n",
       " '_asdict',\n",
       " '_field_defaults',\n",
       " '_fields',\n",
       " '_make',\n",
       " '_replace',\n",
       " 'count',\n",
       " 'index',\n",
       " 'kurtosis',\n",
       " 'mean',\n",
       " 'minmax',\n",
       " 'nobs',\n",
       " 'skewness',\n",
       " 'variance']"
      ]
     },
     "execution_count": 29,
     "metadata": {},
     "output_type": "execute_result"
    }
   ],
   "source": [
    "dir(cars_desc)"
   ]
  }
 ],
 "metadata": {
  "kernelspec": {
   "display_name": "Python 3 (ipykernel)",
   "language": "python",
   "name": "python3"
  },
  "language_info": {
   "codemirror_mode": {
    "name": "ipython",
    "version": 3
   },
   "file_extension": ".py",
   "mimetype": "text/x-python",
   "name": "python",
   "nbconvert_exporter": "python",
   "pygments_lexer": "ipython3",
   "version": "3.12.7"
  }
 },
 "nbformat": 4,
 "nbformat_minor": 5
}
