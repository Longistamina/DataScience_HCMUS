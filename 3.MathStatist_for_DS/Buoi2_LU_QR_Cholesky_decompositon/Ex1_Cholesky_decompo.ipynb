{
 "cells": [
  {
   "cell_type": "code",
   "execution_count": 1,
   "id": "a809ef9d-3d27-46ad-84e6-516417d31207",
   "metadata": {},
   "outputs": [
    {
     "name": "stdout",
     "output_type": "stream",
     "text": [
      "-------------------CAU 4------------------------\n"
     ]
    }
   ],
   "source": [
    "\"\"\"=============================================================================\n",
    "Ex1: DECOMPOSITION\n",
    "    Câu 4: Cholesky Decomposition\n",
    "        a) Tạo ma trận A(3 x 3) chứa các giá trị ngẫu nhiên trong khoảng 3 - 9\n",
    "        b) Chuyển A thành ma trận vuông đối xứng theo tam giác dưới\n",
    "        c) Thực hiện phân rã Cholesky, nếu có thể\n",
    "=============================================================================\"\"\"\n",
    "#Cholesky decomposition: A = L.Lt = Ut.U\n",
    "# meaning L = Ut, and Lt = U\n",
    "#Only applied for square symmetrical matrix having all positive eigenvalues\n",
    "\n",
    "#Hàm np.linalg.cholesky(matrix) mặc định trả về  ma trận L\n",
    "print('-------------------CAU 4------------------------')\n",
    "import numpy  as np\n",
    "import random       \n",
    "from numpy.linalg import cholesky\n",
    "## numpy.linalg.cholesky: Default --> LOWER\n",
    "## scipy.linalg.cholesky: Default --> UPPER\n",
    "\n",
    "##------------------------------------------------------------------------------\n",
    "## Hàm tạo 1 ma trận A[mxn] với giá trị ngẫu nhiên thuộc [start, end]\n",
    "##------------------------------------------------------------------------------\n",
    "def create_matrix_random(m, n, start, end):\n",
    "    mtr = []\n",
    "    for i in range(m):\n",
    "        row = []\n",
    "        for j in range(n):\n",
    "            a = random.randint(start, end + 1)\n",
    "            \n",
    "            # Thêm giá trị vào dòng hiện hành \n",
    "            row.append(a)\n",
    "            \n",
    "        # Thêm dòng vào ma trận    \n",
    "        mtr.append(row)\n",
    "        \n",
    "    return np.array(mtr)\n",
    "##------------------------------------------------------------------------------"
   ]
  },
  {
   "cell_type": "code",
   "execution_count": 2,
   "id": "ad06470d-ac6b-477a-9004-683b0756ea8b",
   "metadata": {},
   "outputs": [
    {
     "name": "stdout",
     "output_type": "stream",
     "text": [
      "Ma trận A =\n",
      " [[ 5  8  7]\n",
      " [ 4  6 10]\n",
      " [ 3  4  8]]\n"
     ]
    }
   ],
   "source": [
    "## a) Tạo ma trận A(3 x 3) chứa các giá trị ngẫu nhiên trong khoảng 3 - 9\n",
    "m, n, min, max = 3, 3, 3, 9\n",
    "A = create_matrix_random(m, n, min, max)\n",
    "\n",
    "print('Ma trận A =\\n',A)"
   ]
  },
  {
   "cell_type": "code",
   "execution_count": 3,
   "id": "0b964701-3f9d-4145-9930-d19b55f3c61f",
   "metadata": {},
   "outputs": [
    {
     "name": "stdout",
     "output_type": "stream",
     "text": [
      "\n",
      "Ma trận A đối xứng =\n",
      " [[5 4 3]\n",
      " [4 6 4]\n",
      " [3 4 8]]\n"
     ]
    }
   ],
   "source": [
    "## b) Chuyển A thành ma trận vuông đối xứng theo tam giác dưới\n",
    "## Điều kiện phân rã Cholesky: ma trận ĐỐI XỨNG\n",
    "for i in range(A.shape[0]):\n",
    "    for j in range(i):\n",
    "        A[j][i] = A[i][j]\n",
    "\n",
    "print('Ma trận A đối xứng =\\n',A)"
   ]
  },
  {
   "cell_type": "code",
   "execution_count": 5,
   "id": "93587d4a-87ca-4d6d-8a98-08d1d1de1a29",
   "metadata": {},
   "outputs": [
    {
     "name": "stdout",
     "output_type": "stream",
     "text": [
      "\n",
      "Ma trận L từ phân rã cholesky của A =\n",
      " [[2.23606798 0.         0.        ]\n",
      " [1.78885438 1.67332005 0.        ]\n",
      " [1.34164079 0.95618289 2.29906813]]\n",
      "\n",
      "Tái tạo ma trận A từ L.dot(L.T) =\n",
      " [[5. 4. 3.]\n",
      " [4. 6. 4.]\n",
      " [3. 4. 8.]]\n",
      "\n",
      "*** Ma trận B (3, 3) thỏa điều kiện XÁC ĐỊNH DƯƠNG:\n",
      " [[11  9  9]\n",
      " [ 9 11  6]\n",
      " [ 9  6 11]]\n",
      "\n",
      "Áp dụng phân rã Cholesky:\n",
      "Ma trận L (3, 3) :\n",
      " [[ 3.31662479  0.          0.        ]\n",
      " [ 2.7136021   1.90692518  0.        ]\n",
      " [ 2.7136021  -0.71509694  1.76776695]]\n",
      "\n",
      "Tái tạo B từ L, L_T (kiểm chứng lại phép phân rã)\n",
      " [[11.  9.  9.]\n",
      " [ 9. 11.  6.]\n",
      " [ 9.  6. 11.]]\n"
     ]
    }
   ],
   "source": [
    "## c) Thực hiện phân rã Cholesky, nếu có thể\n",
    "## Kiểm tra ma trận xác định dương\n",
    "test = np.linalg.eigvalsh(A) #Trả về  một list chứa toàn bộ trị riêng của matrix A đối xứng\n",
    "pos_def = np.all(test>0) #Kiểm tra xem toàn bộ trị riêng chứa trong list test có >0 hay không\n",
    "                         #np.all() để apply một hàm hay lệnh gì đó vào toạn bộ phần tử  của tập hợp\n",
    "\n",
    "if (pos_def == True):\n",
    "    L = cholesky(A)\n",
    "    print('\\nMa trận L từ phân rã cholesky của A =\\n', L)\n",
    "    print('\\nTái tạo ma trận A từ L.dot(L.T) =\\n',L.dot(L.T))\n",
    "else:\n",
    "    print('\\nMa trận A không thoả điều kiện xác định dương => không phân rã cholesky được')\n",
    "\n",
    "##------------------------------------------------------------------------------\n",
    "## Hàm tạo ma trận xác định dương (Bằng cách lồng những phần ở trên vào vòng lặp while)   \n",
    "##------------------------------------------------------------------------------\n",
    "def create_matrix_positive_definite(m, n, start, end):\n",
    "    B = None\n",
    "    pos_def = False\n",
    "    while (pos_def == False):\n",
    "        B = create_matrix_random(m,n,start,end+1)\n",
    "        for i in range(B.shape[0]):\n",
    "            for j in range(i):\n",
    "                B[j][i] = B[i][j]\n",
    "        test = np.linalg.eigvals(B)\n",
    "        pos_def = np.all(test>0)\n",
    "    return B\n",
    "##------------------------------------------------------------------------------\n",
    "B = create_matrix_positive_definite(3, 3, 3, 9) #Tạo ma trận B chắc chắn xác định dương\n",
    "print('\\n*** Ma trận B', B.shape, 'thỏa điều kiện XÁC ĐỊNH DƯƠNG:\\n', B)\n",
    "\n",
    "print('\\nÁp dụng phân rã Cholesky cho mtrB:')\n",
    "L = cholesky(B)\n",
    "print('Ma trận L', L.shape, ':\\n', L)\n",
    "\n",
    "print('\\nTái tạo B từ L, L_T (kiểm chứng lại phép phân rã)\\n', L.dot(L.T))"
   ]
  },
  {
   "cell_type": "code",
   "execution_count": null,
   "id": "6a5c54f6-cd34-499c-a734-c6d17554af0d",
   "metadata": {},
   "outputs": [],
   "source": []
  }
 ],
 "metadata": {
  "kernelspec": {
   "display_name": "Python 3 (ipykernel)",
   "language": "python",
   "name": "python3"
  },
  "language_info": {
   "codemirror_mode": {
    "name": "ipython",
    "version": 3
   },
   "file_extension": ".py",
   "mimetype": "text/x-python",
   "name": "python",
   "nbconvert_exporter": "python",
   "pygments_lexer": "ipython3",
   "version": "3.12.3"
  }
 },
 "nbformat": 4,
 "nbformat_minor": 5
}
