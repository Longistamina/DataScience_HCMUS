{
 "cells": [
  {
   "cell_type": "code",
   "execution_count": 1,
   "id": "4c61f743-198c-4319-9b29-14534b181b96",
   "metadata": {},
   "outputs": [
    {
     "name": "stdout",
     "output_type": "stream",
     "text": [
      "-------------------CAU 3-----------------------\n",
      "a) Matrix A (4, 4)  =\n",
      " [[ 6  6  7 11]\n",
      " [11 10  8  8]\n",
      " [10 10  6  8]\n",
      " [ 9 11  7  8]]\n",
      "\n",
      "b) Q_A matrix (4, 4)  =\n",
      " [[-0.32635698 -0.05639449  0.86694811 -0.37244027]\n",
      " [-0.59832112 -0.55723124 -0.01420884  0.57558951]\n",
      " [-0.54392829 -0.09399081 -0.49814517 -0.66869958]\n",
      " [-0.48953546  0.82309096 -0.00710442  0.28779476]]\n",
      "\n",
      "b) R_A matrix (4, 4)  =\n",
      " [[-18.38477631 -18.76552612 -13.76138582 -16.64420577]\n",
      " [  0.           2.20341317   0.34508055   0.75461194]\n",
      " [  0.           0.           2.91636414   5.38076183]\n",
      " [  0.           0.           0.          -2.5393655 ]]\n",
      "\n",
      "c) Recreate matrix A = Q.dot(R) = Q@R =\n",
      " [[ 6.  6.  7. 11.]\n",
      " [11. 10.  8.  8.]\n",
      " [10. 10.  6.  8.]\n",
      " [ 9. 11.  7.  8.]]\n"
     ]
    }
   ],
   "source": [
    "\"\"\"=============================================================================\n",
    "Ex1: DECOMPOSITION\n",
    "    Câu 3: QR Decomposition\n",
    "        a) Tạo ma trận A(4 x 4) chứa các giá trị ngẫu nhiên trong khoảng 5 - 10\n",
    "        b) Phân tích thành các thành phần Q và R. In kết quả\n",
    "        c) Tái tạo lại ma trận A từ các thành phần Q và R\n",
    "=============================================================================\"\"\"\n",
    "print('-------------------CAU 3-----------------------')\n",
    "#A = Q.R\n",
    "# Where Q is a square matrix having orthonormal columns, meaning Qt.Q = In\n",
    "#       R is an upper triangle and inversible matrix\n",
    "import numpy  as np\n",
    "import random       \n",
    "from scipy.linalg import qr\n",
    "\n",
    "def cre_mtrx(m,n,start,end):\n",
    "    mtrx = []\n",
    "    for i in range(m):\n",
    "        row =[]\n",
    "        for i in range(n):\n",
    "            value = random.randint(start,end+1)\n",
    "            row.append(value)\n",
    "        mtrx.append(row)\n",
    "    return np.array(mtrx)\n",
    "\n",
    "mtrA = cre_mtrx(4,4,5,10)\n",
    "print('a) Matrix A',mtrA.shape,' =\\n',mtrA)\n",
    "\n",
    "QR_A = qr(mtrA)\n",
    "#The qr(matrix) function returns an array contains two matrix\n",
    "#The first matrix is Q matrix, it has orthonormal columns, meaning Q.Qt = Q.inv(Q) = In\n",
    "#The second matrix is R matrix, it is an upper triangle matrix and inversable\n",
    "#And the A = Q.R\n",
    "\n",
    "Q_A = QR_A[0]\n",
    "print('\\nb) Q_A matrix',Q_A.shape,' =\\n',Q_A)\n",
    "\n",
    "R_A = QR_A[1]\n",
    "print('\\nb) R_A matrix',R_A.shape,' =\\n',R_A)\n",
    "\n",
    "print('\\nc) Recreate matrix A = Q.dot(R) = Q@R =\\n',Q_A.dot(R_A))"
   ]
  },
  {
   "cell_type": "code",
   "execution_count": null,
   "id": "28cec18b-a919-4b34-bbef-f6510a41a15e",
   "metadata": {},
   "outputs": [],
   "source": []
  }
 ],
 "metadata": {
  "kernelspec": {
   "display_name": "Python 3 (ipykernel)",
   "language": "python",
   "name": "python3"
  },
  "language_info": {
   "codemirror_mode": {
    "name": "ipython",
    "version": 3
   },
   "file_extension": ".py",
   "mimetype": "text/x-python",
   "name": "python",
   "nbconvert_exporter": "python",
   "pygments_lexer": "ipython3",
   "version": "3.12.7"
  }
 },
 "nbformat": 4,
 "nbformat_minor": 5
}
