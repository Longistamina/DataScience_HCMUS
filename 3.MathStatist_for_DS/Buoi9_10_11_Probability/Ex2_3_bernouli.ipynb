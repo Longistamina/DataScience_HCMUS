{
 "cells": [
  {
   "cell_type": "code",
   "execution_count": 6,
   "id": "60138838-6cd5-423f-b436-9df316ad94ce",
   "metadata": {},
   "outputs": [
    {
     "name": "stdout",
     "output_type": "stream",
     "text": [
      "\n"
     ]
    }
   ],
   "source": [
    "\"\"\"=============================================================================\n",
    "    Tại một trung tâm khai thác dữ liệu, xs thất bại là 0,001 mỗi ngày.  \n",
    "        1. Chọn loại phân phối. Tạo ra các mẫu (ngẫu nhiên) theo xs trên \n",
    "           với số lần lặp lại các thí nghiệm là 365\n",
    "        2. Vẽ histogram quan sát. Nhận xét.\n",
    "        3. Hãy cho biết khả năng thất bại trong năm tới là bao nhiêu ?\n",
    "=============================================================================\"\"\"\n",
    "\n",
    "#Probability of K sucessful cases out of 1 experiment within Size trials\n",
    "# X~bernouli(p, size)\n",
    "\n",
    "#(So bernouli distribution is also binominal distribution but with n=1)\n",
    "# X~binom(1,p,size)\n",
    "\n",
    "print()"
   ]
  },
  {
   "cell_type": "code",
   "execution_count": 8,
   "id": "c5f6f355-d5e2-4b42-bdf2-6c1e26810083",
   "metadata": {},
   "outputs": [],
   "source": [
    "import numpy as np\n",
    "import pandas as pd\n",
    "import matplotlib.pyplot as plt\n",
    "import seaborn as sbn\n",
    "\n",
    "from scipy import stats"
   ]
  },
  {
   "cell_type": "code",
   "execution_count": 9,
   "id": "a285c4f0-c0d2-4cd9-bfa7-845bb54b7317",
   "metadata": {},
   "outputs": [
    {
     "name": "stdout",
     "output_type": "stream",
     "text": [
      "==================================================================================================================\n",
      "*** 1. Chọn loại phân phối. Tạo ra các mẫu (ngẫu nhiên) theo xs trên, với số lần lặp lại các thí nghiệm là 365 ***\n",
      "==================================================================================================================\n"
     ]
    }
   ],
   "source": [
    "print('==================================================================================================================')\n",
    "print('*** 1. Chọn loại phân phối. Tạo ra các mẫu (ngẫu nhiên) theo xs trên, với số lần lặp lại các thí nghiệm là 365 ***')\n",
    "print('==================================================================================================================')\n",
    "\n",
    "#Choose bernouli distribution X~bernouli(p=0.001, size=365)\n",
    "# Or X~binom(n=1, p=0.001, size=365)\n",
    "\n",
    "q=0.001\n",
    "p=(1-q)\n",
    "size = 365\n",
    "\n",
    "ber_365 = stats.bernoulli.rvs(p=p, size=365)"
   ]
  },
  {
   "cell_type": "code",
   "execution_count": 30,
   "id": "d5352efd-56e1-4b23-8682-1007e81b22b1",
   "metadata": {},
   "outputs": [
    {
     "name": "stdout",
     "output_type": "stream",
     "text": [
      "==========================================\n",
      "*** 2. Vẽ histogram quan sát. Nhận xét.***\n",
      "==========================================\n"
     ]
    },
    {
     "data": {
      "image/png": "[encoded data removed]",
      "text/plain": [
       "<Figure size 640x480 with 1 Axes>"
      ]
     },
     "metadata": {},
     "output_type": "display_data"
    },
    {
     "name": "stdout",
     "output_type": "stream",
     "text": [
      "\n",
      "Comment: all values range from 0.5 to 1.5\n"
     ]
    }
   ],
   "source": [
    "print('==========================================')\n",
    "print('*** 2. Vẽ histogram quan sát. Nhận xét.***')\n",
    "print('==========================================')\n",
    "\n",
    "sbn.histplot(ber_365)\n",
    "plt.show()\n",
    "\n",
    "print('\\nComment: all values range from 0.5 to 1.5')"
   ]
  },
  {
   "cell_type": "code",
   "execution_count": 37,
   "id": "0a14d42a-688e-41f5-baba-0f60d7bb0d6e",
   "metadata": {},
   "outputs": [
    {
     "name": "stdout",
     "output_type": "stream",
     "text": [
      "=============================================================================================\n",
      "*** 3. Hãy cho biết khả năng thất bại trong năm tới là bao nhiêu ? (Ít nhất một lần fail) ***\n",
      "==============================================================================================\n",
      "\n",
      "Probability of success P(x=1) in all 365 days (no fail day) = p**365 = (1-0.001)**365 = 0.6940698870404745\n",
      "\n",
      "Probability of fail P(x=0) in at least 1 day = 1 - 0.6940698870404745 = 0.30593011295952555\n"
     ]
    }
   ],
   "source": [
    "print('=============================================================================================')\n",
    "print('*** 3. Hãy cho biết khả năng thất bại trong năm tới là bao nhiêu ? (Ít nhất một lần fail) ***')\n",
    "print('==============================================================================================')\n",
    "import math\n",
    "\n",
    "P_success_all = math.pow(p, 365)\n",
    "print(f'\\nProbability of success P(x=1) in all 365 days (no fail day) = p**365 = (1-0.001)**365 = {P_success_all}')\n",
    "\n",
    "print(f'\\nProbability of fail P(x=0) in at least 1 day = 1 - {P_success_all} = {1 - P_success_all}')"
   ]
  }
 ],
 "metadata": {
  "kernelspec": {
   "display_name": "Python 3 (ipykernel)",
   "language": "python",
   "name": "python3"
  },
  "language_info": {
   "codemirror_mode": {
    "name": "ipython",
    "version": 3
   },
   "file_extension": ".py",
   "mimetype": "text/x-python",
   "name": "python",
   "nbconvert_exporter": "python",
   "pygments_lexer": "ipython3",
   "version": "3.12.7"
  }
 },
 "nbformat": 4,
 "nbformat_minor": 5
}
