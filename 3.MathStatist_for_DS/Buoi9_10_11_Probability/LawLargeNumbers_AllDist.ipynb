{
 "cells": [
  {
   "cell_type": "code",
   "execution_count": 2,
   "id": "5cb90d29-ca52-4445-9c3a-8be1f4630551",
   "metadata": {},
   "outputs": [],
   "source": [
    "\"\"\"=============================================================================\n",
    "    Các tham số: \n",
    "        - Kích thước quần thể: sP\n",
    "        - Kích thước mẫu:      sS\n",
    "        - Số lần lấy mẫu:      n\n",
    "=============================================================================\"\"\"\n",
    "import numpy  as np\n",
    "import random\n",
    "\n",
    "from operator import itemgetter"
   ]
  },
  {
   "cell_type": "code",
   "execution_count": 5,
   "id": "fa971519-abdb-46dd-a797-378933f7f162",
   "metadata": {},
   "outputs": [],
   "source": [
    "'''-----------------------------------------------------------------------------\n",
    "   Hàm tính các trung bình mẫu\n",
    "-----------------------------------------------------------------------------'''\n",
    "def sampleMeans(data, n, sS, Mu):\n",
    "    import numpy as np\n",
    "    \n",
    "    result = np.zeros((len(n), 3))\n",
    "    for t in range(len(n)):\n",
    "        sampleMeans = []\n",
    "        for i in range(n[t]):\n",
    "            # Lấy mẫu S(i) gồm sS cá thể từ quần thể\n",
    "            sample = random.choices(data, k = sS)\n",
    "            sampleMeans.append(np.mean(sample))\n",
    "    \n",
    "        x_bar = np.mean(sampleMeans)\n",
    "        result[t, 0] = n[t]\n",
    "        result[t, 1] = x_bar\n",
    "        result[t, 2] = abs(Mu - x_bar)\n",
    "    return result"
   ]
  },
  {
   "cell_type": "code",
   "execution_count": 8,
   "id": "5ec1d032-a8b2-4790-959e-c1a3d7a6e004",
   "metadata": {},
   "outputs": [
    {
     "name": "stdout",
     "output_type": "stream",
     "text": [
      "-----------------------------------------------------------------------\n",
      "1) UNIFORM\n",
      "-----------------------------------------------------------------------\n",
      "Kỳ vọng Mu = 170.0000\n",
      "Lấy mẫu   100 lần --> trung bình mẫu = 169.9495 (epsilon = 0.0505)\n",
      "Lấy mẫu  1000 lần --> trung bình mẫu = 169.5247 (epsilon = 0.4753)\n",
      "Lấy mẫu 10000 lần --> trung bình mẫu = 169.5046 (epsilon = 0.4954)\n",
      "Lấy mẫu     1 lần --> trung bình mẫu = 164.2000 (epsilon = 5.8000)\n"
     ]
    }
   ],
   "source": [
    "#===============================================================================\n",
    "# Kích thước quần thể sP và kích thước mẫu sS    \n",
    "sP = np.power(10, 6)\n",
    "sS = 20\n",
    "n  = [1, 100, 1000, 10000]    # Thay đổi số lần lấy mẫu\n",
    "\n",
    "print('-----------------------------------------------------------------------')\n",
    "print('1) UNIFORM')\n",
    "print('-----------------------------------------------------------------------')\n",
    "# Tạo quần thể có chiều cao (cm) nằm trong khoảng [hMin, hMax]\n",
    "hMin = 145\n",
    "hMax = 195\n",
    "data = np.random.uniform(hMin, hMax, sP)\n",
    "data = data.astype(int) # chuyển sang kiểu INT\n",
    "Mu   = (hMin + hMax) / 2\n",
    "print('Kỳ vọng Mu = %.4f' %Mu)\n",
    "\n",
    "# Phân tích kết quả theo số lần lấy mẫu n\n",
    "means = sampleMeans(data, n, sS, Mu).tolist()\n",
    "means = sorted(means, key = itemgetter(2))\n",
    "\n",
    "for i in range(len(n)):\n",
    "    print('Lấy mẫu %5d' %means[i][0], 'lần --> trung bình mẫu = %.4f' %means[i][1], \n",
    "             '(epsilon = %.4f)' %abs(means[i][2]))"
   ]
  },
  {
   "cell_type": "code",
   "execution_count": 11,
   "id": "5aa3f2d7-ed77-4d8d-9810-96aaaf1a8fab",
   "metadata": {},
   "outputs": [
    {
     "name": "stdout",
     "output_type": "stream",
     "text": [
      "\n",
      "-----------------------------------------------------------------------\n",
      "2) BINOMIAL\n",
      "-----------------------------------------------------------------------\n",
      "Kỳ vọng Mu = 3.0000\n",
      "Lấy mẫu 10000 lần --> trung bình mẫu = 2.9987 (epsilon = 0.0013)\n",
      "Lấy mẫu  1000 lần --> trung bình mẫu = 3.0070 (epsilon = 0.0070)\n",
      "Lấy mẫu   100 lần --> trung bình mẫu = 2.9340 (epsilon = 0.0660)\n",
      "Lấy mẫu     1 lần --> trung bình mẫu = 3.1500 (epsilon = 0.1500)\n"
     ]
    }
   ],
   "source": [
    "print('\\n-----------------------------------------------------------------------')\n",
    "print('2) BINOMIAL')\n",
    "print('-----------------------------------------------------------------------')\n",
    "# Tạo quần thể từ thí nghiệm n phép thử Bernoulli\n",
    "trials = 10\n",
    "p      = 0.3\n",
    "data   = np.random.binomial(n = trials, p = p, size = sP)\n",
    "Mu     = (10 * 0.3)\n",
    "print('Kỳ vọng Mu = %.4f' %Mu)\n",
    "\n",
    "# Phân tích kết quả theo số lần lấy mẫu n \n",
    "means = sampleMeans(data, n, sS, Mu).tolist()\n",
    "means = sorted(means, key = itemgetter(2))\n",
    "\n",
    "for i in range(len(n)):\n",
    "    print('Lấy mẫu %5d' %means[i][0], 'lần --> trung bình mẫu = %.4f' %means[i][1], \n",
    "             '(epsilon = %.4f)' %abs(means[i][2]))"
   ]
  },
  {
   "cell_type": "code",
   "execution_count": 14,
   "id": "62d7b645-7993-446a-b792-e545a236ad54",
   "metadata": {},
   "outputs": [
    {
     "name": "stdout",
     "output_type": "stream",
     "text": [
      "\n",
      "-----------------------------------------------------------------------\n",
      "3) POISSON\n",
      "-----------------------------------------------------------------------\n",
      "Kỳ vọng Mu = 30.0000\n",
      "Lấy mẫu  1000 lần --> trung bình mẫu = 29.9868 (epsilon = 0.0132)\n",
      "Lấy mẫu 10000 lần --> trung bình mẫu = 29.9618 (epsilon = 0.0382)\n",
      "Lấy mẫu   100 lần --> trung bình mẫu = 29.9510 (epsilon = 0.0490)\n",
      "Lấy mẫu     1 lần --> trung bình mẫu = 28.9500 (epsilon = 1.0500)\n"
     ]
    }
   ],
   "source": [
    "print('\\n-----------------------------------------------------------------------')\n",
    "print('3) POISSON')\n",
    "print('-----------------------------------------------------------------------')\n",
    "# Tạo quần thể\n",
    "lambda_ = 30\n",
    "data    = np.random.poisson(lam = lambda_, size = sP)\n",
    "Mu      = lambda_\n",
    "print('Kỳ vọng Mu = %.4f' %Mu)\n",
    "\n",
    "# Phân tích kết quả theo số lần lấy mẫu n \n",
    "means = sampleMeans(data, n, sS, Mu).tolist()\n",
    "means = sorted(means, key = itemgetter(2))\n",
    "\n",
    "for i in range(len(n)):\n",
    "    print('Lấy mẫu %5d' %means[i][0], 'lần --> trung bình mẫu = %.4f' %means[i][1], \n",
    "             '(epsilon = %.4f)' %abs(means[i][2]))"
   ]
  },
  {
   "cell_type": "code",
   "execution_count": 17,
   "id": "63403110-a153-49ab-819c-e301c37620d8",
   "metadata": {},
   "outputs": [
    {
     "name": "stdout",
     "output_type": "stream",
     "text": [
      "\n",
      "-----------------------------------------------------------------------\n",
      "4) GEOMETRIC\n",
      "-----------------------------------------------------------------------\n",
      "Kỳ vọng Mu = 3.3333\n",
      "Lấy mẫu  1000 lần --> trung bình mẫu = 3.3326 (epsilon = 0.0007)\n",
      "Lấy mẫu   100 lần --> trung bình mẫu = 3.3460 (epsilon = 0.0127)\n",
      "Lấy mẫu 10000 lần --> trung bình mẫu = 3.3480 (epsilon = 0.0147)\n",
      "Lấy mẫu     1 lần --> trung bình mẫu = 3.3000 (epsilon = 0.0333)\n"
     ]
    }
   ],
   "source": [
    "print('\\n-----------------------------------------------------------------------')\n",
    "print('4) GEOMETRIC')\n",
    "print('-----------------------------------------------------------------------')\n",
    "# Tạo quần thể\n",
    "p    = 0.3\n",
    "data = np.random.geometric(p = p, size = sP)\n",
    "Mu   = 1 / p\n",
    "print('Kỳ vọng Mu = %.4f' %Mu)\n",
    "\n",
    "# Phân tích kết quả theo số lần lấy mẫu n \n",
    "means = sampleMeans(data, n, sS, Mu).tolist()\n",
    "means = sorted(means, key = itemgetter(2))\n",
    "\n",
    "for i in range(len(n)):\n",
    "    print('Lấy mẫu %5d' %means[i][0], 'lần --> trung bình mẫu = %.4f' %means[i][1], \n",
    "             '(epsilon = %.4f)' %abs(means[i][2]))"
   ]
  },
  {
   "cell_type": "code",
   "execution_count": 20,
   "id": "06767d54-6da5-424f-95fc-984bea635493",
   "metadata": {},
   "outputs": [
    {
     "name": "stdout",
     "output_type": "stream",
     "text": [
      "\n",
      "-----------------------------------------------------------------------\n",
      "5) EXPONENTIAL\n",
      "-----------------------------------------------------------------------\n",
      "Kỳ vọng Mu = 0.0333\n",
      "Lấy mẫu 10000 lần --> trung bình mẫu = 0.0334 (epsilon = 0.0001)\n",
      "Lấy mẫu  1000 lần --> trung bình mẫu = 0.0334 (epsilon = 0.0001)\n",
      "Lấy mẫu   100 lần --> trung bình mẫu = 0.0335 (epsilon = 0.0002)\n",
      "Lấy mẫu     1 lần --> trung bình mẫu = 0.0286 (epsilon = 0.0047)\n"
     ]
    }
   ],
   "source": [
    "print('\\n-----------------------------------------------------------------------')\n",
    "print('5) EXPONENTIAL')\n",
    "print('-----------------------------------------------------------------------')\n",
    "# Tạo quần thể\n",
    "lambda_ = 30\n",
    "data    = np.random.exponential(1. / lambda_, size = sP)\n",
    "Mu      = 1. / lambda_\n",
    "print('Kỳ vọng Mu = %.4f' %Mu)\n",
    "\n",
    "# Phân tích kết quả theo số lần lấy mẫu n \n",
    "means = sampleMeans(data, n, sS, Mu).tolist()\n",
    "means = sorted(means, key = itemgetter(2))\n",
    "\n",
    "for i in range(len(n)):\n",
    "    print('Lấy mẫu %5d' %means[i][0], 'lần --> trung bình mẫu = %.4f' %means[i][1], \n",
    "             '(epsilon = %.4f)' %abs(means[i][2]))"
   ]
  },
  {
   "cell_type": "code",
   "execution_count": 23,
   "id": "7a38d77a-cef6-48e8-9bbb-2cd311fe316a",
   "metadata": {},
   "outputs": [
    {
     "name": "stdout",
     "output_type": "stream",
     "text": [
      "\n",
      "-----------------------------------------------------------------------\n",
      "6) PARETO\n",
      "-----------------------------------------------------------------------\n",
      "Kỳ vọng Mu = 1.5000\n",
      "Lấy mẫu 10000 lần --> trung bình mẫu = 1.4999 (epsilon = 0.0001)\n",
      "Lấy mẫu  1000 lần --> trung bình mẫu = 1.5007 (epsilon = 0.0007)\n",
      "Lấy mẫu   100 lần --> trung bình mẫu = 1.4894 (epsilon = 0.0106)\n",
      "Lấy mẫu     1 lần --> trung bình mẫu = 1.6831 (epsilon = 0.1831)\n"
     ]
    }
   ],
   "source": [
    "print('\\n-----------------------------------------------------------------------')\n",
    "print('6) PARETO')\n",
    "print('-----------------------------------------------------------------------')\n",
    "# Tạo quần thể\n",
    "alpha = 3.0   # shape (độ dốc ở phần đầu, gần giá trị của k)\n",
    "k     = 1     # location hay là giá trị min, default = 0 --> dời curve k đơn vị\n",
    "data  = np.random.pareto(alpha, sP) + k\n",
    "Mu    = (k * alpha) / (alpha - 1)\n",
    "print('Kỳ vọng Mu = %.4f' %Mu)\n",
    "\n",
    "# Phân tích kết quả theo số lần lấy mẫu n \n",
    "means = sampleMeans(data, n, sS, Mu).tolist()\n",
    "means = sorted(means, key = itemgetter(2))\n",
    "\n",
    "for i in range(len(n)):\n",
    "    print('Lấy mẫu %5d' %means[i][0], 'lần --> trung bình mẫu = %.4f' %means[i][1], \n",
    "             '(epsilon = %.4f)' %abs(means[i][2]))"
   ]
  },
  {
   "cell_type": "code",
   "execution_count": null,
   "id": "1fa9a213-49d7-4ba3-909f-78720fa91467",
   "metadata": {},
   "outputs": [],
   "source": []
  }
 ],
 "metadata": {
  "kernelspec": {
   "display_name": "Python 3 (ipykernel)",
   "language": "python",
   "name": "python3"
  },
  "language_info": {
   "codemirror_mode": {
    "name": "ipython",
    "version": 3
   },
   "file_extension": ".py",
   "mimetype": "text/x-python",
   "name": "python",
   "nbconvert_exporter": "python",
   "pygments_lexer": "ipython3",
   "version": "3.12.7"
  }
 },
 "nbformat": 4,
 "nbformat_minor": 5
}
