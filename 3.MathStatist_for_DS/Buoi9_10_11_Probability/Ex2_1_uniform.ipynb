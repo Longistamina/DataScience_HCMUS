{
 "cells": [
  {
   "cell_type": "code",
   "execution_count": 5,
   "id": "df0ea555-be55-446e-8c69-92b89da979da",
   "metadata": {},
   "outputs": [
    {
     "name": "stdout",
     "output_type": "stream",
     "text": [
      "\n"
     ]
    }
   ],
   "source": [
    "\"\"\"=============================================================================\n",
    "    Trong 1 lần kiểm tra, một câu hỏi được đưa ra cho tất cả 30 người tham gia \n",
    "    và thời gian được phép trả lời là 25 giây. \n",
    "        1. Chọn loại phân phối. Tạo ra (ngẫu nhiên) thời gian trả lời cho 30 người.\n",
    "        2. Vẽ histogram quan sát. Nhận xét.\n",
    "        3. Tìm xác xuất 1 người trả lời trong vòng 6 giây. \n",
    "           Có bao nhiêu người trong số 30 người trả lời được trong 6 giây.\n",
    "=============================================================================\"\"\"\n",
    "print()"
   ]
  },
  {
   "cell_type": "code",
   "execution_count": 27,
   "id": "db7009ae-727d-4425-a28b-674a7f4e8ce2",
   "metadata": {},
   "outputs": [],
   "source": [
    "import numpy as np\n",
    "import pandas as pd\n",
    "import matplotlib.pyplot as plt\n",
    "import seaborn as sbn"
   ]
  },
  {
   "cell_type": "code",
   "execution_count": 25,
   "id": "6d8c1115-2614-4fe7-84b4-7a79778b3d24",
   "metadata": {},
   "outputs": [
    {
     "name": "stdout",
     "output_type": "stream",
     "text": [
      "===================================================================================\n",
      "*** 1. Chọn loại phân phối. Tạo ra (ngẫu nhiên) thời gian trả lời cho 30 người. ***\n",
      "===================================================================================\n",
      "Answer times (second) of 30 candidates:\n",
      "[1.08425721e+01 1.87284368e+01 2.97374525e-03 7.86064689e+00\n",
      " 3.81565316e+00 2.40080346e+00 4.84276550e+00 8.98457890e+00\n",
      " 1.03159543e+01 1.40092351e+01 1.08990574e+01 1.78157070e+01\n",
      " 5.31575849e+00 2.28310533e+01 7.12077423e-01 1.74321553e+01\n",
      " 1.08499249e+01 1.45259355e+01 3.65006040e+00 5.15063872e+00\n",
      " 2.08193588e+01 2.51748010e+01 8.14902863e+00 1.80003880e+01\n",
      " 2.27861180e+01 2.32597733e+01 2.21114950e+00 1.01542436e+00\n",
      " 4.41559091e+00 2.28317051e+01]\n"
     ]
    }
   ],
   "source": [
    "print('===================================================================================')\n",
    "print('*** 1. Chọn loại phân phối. Tạo ra (ngẫu nhiên) thời gian trả lời cho 30 người. ***')\n",
    "print('===================================================================================')\n",
    "\n",
    "#Choose uniform distribution X~uniform(a, b, n)\n",
    "n = 30 #Sample size (number of people)\n",
    "a = 0 #Lower limit\n",
    "b = 25 #Upper limit\n",
    "\n",
    "np.random.seed(1)\n",
    "\n",
    "ans_time = np.random.uniform(a, b+1, n) #b+1 to get the b cause the function will exclude b\n",
    "ans_time.astype(int) #convert the data array into integer\n",
    "\n",
    "print(f'Answer times (second) of 30 candidates:\\n{ans_time}')"
   ]
  },
  {
   "cell_type": "code",
   "execution_count": 43,
   "id": "2521960b-1c39-48de-9843-8732a35e4a99",
   "metadata": {},
   "outputs": [
    {
     "name": "stdout",
     "output_type": "stream",
     "text": [
      "===========================================\n",
      "*** 2. Vẽ histogram quan sát. Nhận xét. ***\n",
      "===========================================\n"
     ]
    },
    {
     "data": {
      "image/png": "[encoded data removed]",
      "text/plain": [
       "<Figure size 640x480 with 1 Axes>"
      ]
     },
     "metadata": {},
     "output_type": "display_data"
    }
   ],
   "source": [
    "print('===========================================')\n",
    "print('*** 2. Vẽ histogram quan sát. Nhận xét. ***')\n",
    "print('===========================================')\n",
    "\n",
    "sbn.set_theme(style='darkgrid')\n",
    "sbn.histplot(ans_time, kde = True);\n",
    "plt.xlabel('Answer time (second)')\n",
    "plt.show()\n",
    "\n",
    "print('\\nComments:')\n",
    "print('  1: Most of the answers are given within 5 seconds')\n",
    "print('  2: The number of people needing 15s to answer is the least')"
   ]
  },
  {
   "cell_type": "code",
   "execution_count": 49,
   "id": "29c1ef7b-88b5-44f6-ac93-590fad0570c7",
   "metadata": {},
   "outputs": [
    {
     "name": "stdout",
     "output_type": "stream",
     "text": [
      "===========================================================================================================================\n",
      "*** 3. Tìm xác suất 1 người trả lời trong vòng 6 giây? Có bao nhiêu người trong số 30 người trả lời được trong 6 giây? ***\n",
      "===========================================================================================================================\n",
      "\n",
      "Probability of 1 person answering within 6 seconds: 0.36666666666666664 \n",
      "The number of people answering within 6 seconds: 11\n"
     ]
    }
   ],
   "source": [
    "print('===========================================================================================================================')\n",
    "print('*** 3. Tìm xác suất 1 người trả lời trong vòng 6 giây? Có bao nhiêu người trong số 30 người trả lời được trong 6 giây? ***')\n",
    "print('===========================================================================================================================')\n",
    "\n",
    "#Calculate P(X<=6):\n",
    "N_6 = np.extract(ans_time <= 6, ans_time).size\n",
    "P_6 = N_6/ans_time.size\n",
    "\n",
    "print(f'\\nProbability of 1 person answering within 6 seconds: {P_6} ')\n",
    "print(f'The number of people answering within 6 seconds: {N_6}')"
   ]
  }
 ],
 "metadata": {
  "kernelspec": {
   "display_name": "Python 3 (ipykernel)",
   "language": "python",
   "name": "python3"
  },
  "language_info": {
   "codemirror_mode": {
    "name": "ipython",
    "version": 3
   },
   "file_extension": ".py",
   "mimetype": "text/x-python",
   "name": "python",
   "nbconvert_exporter": "python",
   "pygments_lexer": "ipython3",
   "version": "3.12.7"
  }
 },
 "nbformat": 4,
 "nbformat_minor": 5
}
