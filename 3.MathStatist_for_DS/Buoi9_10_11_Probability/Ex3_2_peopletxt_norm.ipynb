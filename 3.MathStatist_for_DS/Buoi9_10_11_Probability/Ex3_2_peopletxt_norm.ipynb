{
 "cells": [
  {
   "cell_type": "code",
   "execution_count": 3,
   "id": "e9ef7e79-148f-4c0f-a109-1a4a631e518a",
   "metadata": {},
   "outputs": [],
   "source": [
    "\"\"\"=============================================================================\n",
    "    File [people.txt] chứa nhiệt độ, giới tính, nhịp tim 130 người từ Journal of\n",
    "    Statistics Education (Shoemaker 1996).\n",
    "        1. Đọc dữ liệu từ tập tin nói trên.\n",
    "        2. Vẽ histogram cho cột Tempt.\n",
    "        3. Tìm thống kê chung của Tempt.\n",
    "        4. Tìm mean, median, mode => cho nhận xét\n",
    "        5. Cho biết giá trị Tempt ở phân vị thứ [0, 1, 2, 2.5, 97.5, 98, 99, 100]\n",
    "        6. Tạo bộ mẫu có 10.000 'temperatures' theo normal distribution \n",
    "           với mean, std của bộ dữ liệu trên. Vẽ histogram để quan sát.\n",
    "        7. Cho biết Three-Sigma-Rules ở các khoảng thứ 1, 2, 3.\n",
    "        8. Tìm z-score cho thân nhiệt 99.5. Xác định phân vị tương ứng.\n",
    "=============================================================================\"\"\"\n",
    "import numpy as np\n",
    "import pandas as pd\n",
    "import seaborn as sbn\n",
    "import matplotlib.pyplot as plt\n",
    "import re\n",
    "from scipy import stats\n",
    "\n",
    "import warnings\n",
    "warnings.filterwarnings('ignore')"
   ]
  },
  {
   "cell_type": "code",
   "execution_count": 4,
   "id": "6ae0c372-6258-47b2-9cc2-beb79aef995e",
   "metadata": {},
   "outputs": [
    {
     "name": "stdout",
     "output_type": "stream",
     "text": [
      "======================================================\n",
      "*** 1. Đọc dữ liệu từ tập tin people.txt nói trên. ***\n",
      "======================================================\n"
     ]
    },
    {
     "data": {
      "text/html": [
       "<div>\n",
       "<style scoped>\n",
       "    .dataframe tbody tr th:only-of-type {\n",
       "        vertical-align: middle;\n",
       "    }\n",
       "\n",
       "    .dataframe tbody tr th {\n",
       "        vertical-align: top;\n",
       "    }\n",
       "\n",
       "    .dataframe thead th {\n",
       "        text-align: right;\n",
       "    }\n",
       "</style>\n",
       "<table border=\"1\" class=\"dataframe\">\n",
       "  <thead>\n",
       "    <tr style=\"text-align: right;\">\n",
       "      <th></th>\n",
       "      <th>Temp</th>\n",
       "      <th>Gender</th>\n",
       "      <th>Heat</th>\n",
       "    </tr>\n",
       "  </thead>\n",
       "  <tbody>\n",
       "    <tr>\n",
       "      <th>0</th>\n",
       "      <td>96.3</td>\n",
       "      <td>1</td>\n",
       "      <td>70</td>\n",
       "    </tr>\n",
       "    <tr>\n",
       "      <th>1</th>\n",
       "      <td>96.7</td>\n",
       "      <td>1</td>\n",
       "      <td>71</td>\n",
       "    </tr>\n",
       "    <tr>\n",
       "      <th>2</th>\n",
       "      <td>96.9</td>\n",
       "      <td>1</td>\n",
       "      <td>74</td>\n",
       "    </tr>\n",
       "    <tr>\n",
       "      <th>3</th>\n",
       "      <td>97.0</td>\n",
       "      <td>1</td>\n",
       "      <td>80</td>\n",
       "    </tr>\n",
       "    <tr>\n",
       "      <th>4</th>\n",
       "      <td>97.1</td>\n",
       "      <td>1</td>\n",
       "      <td>73</td>\n",
       "    </tr>\n",
       "    <tr>\n",
       "      <th>...</th>\n",
       "      <td>...</td>\n",
       "      <td>...</td>\n",
       "      <td>...</td>\n",
       "    </tr>\n",
       "    <tr>\n",
       "      <th>125</th>\n",
       "      <td>99.3</td>\n",
       "      <td>2</td>\n",
       "      <td>68</td>\n",
       "    </tr>\n",
       "    <tr>\n",
       "      <th>126</th>\n",
       "      <td>99.4</td>\n",
       "      <td>2</td>\n",
       "      <td>77</td>\n",
       "    </tr>\n",
       "    <tr>\n",
       "      <th>127</th>\n",
       "      <td>99.9</td>\n",
       "      <td>2</td>\n",
       "      <td>79</td>\n",
       "    </tr>\n",
       "    <tr>\n",
       "      <th>128</th>\n",
       "      <td>100.0</td>\n",
       "      <td>2</td>\n",
       "      <td>78</td>\n",
       "    </tr>\n",
       "    <tr>\n",
       "      <th>129</th>\n",
       "      <td>100.8</td>\n",
       "      <td>2</td>\n",
       "      <td>77</td>\n",
       "    </tr>\n",
       "  </tbody>\n",
       "</table>\n",
       "<p>130 rows × 3 columns</p>\n",
       "</div>"
      ],
      "text/plain": [
       "      Temp Gender Heat\n",
       "0     96.3      1   70\n",
       "1     96.7      1   71\n",
       "2     96.9      1   74\n",
       "3     97.0      1   80\n",
       "4     97.1      1   73\n",
       "..     ...    ...  ...\n",
       "125   99.3      2   68\n",
       "126   99.4      2   77\n",
       "127   99.9      2   79\n",
       "128  100.0      2   78\n",
       "129  100.8      2   77\n",
       "\n",
       "[130 rows x 3 columns]"
      ]
     },
     "execution_count": 4,
     "metadata": {},
     "output_type": "execute_result"
    }
   ],
   "source": [
    "print('======================================================')\n",
    "print('*** 1. Đọc dữ liệu từ tập tin people.txt nói trên. ***')\n",
    "print('======================================================')\n",
    "\n",
    "f = open('data_buoi9&10&11/people.txt')\n",
    "data_raw = f.read().split('\\n')\n",
    "\n",
    "#print('Raw data:\\n') #display raw data\n",
    "#data_raw\n",
    "\n",
    "data_processed = []\n",
    "for row in data_raw:\n",
    "    row = row.replace('\\t',' ') #Convert all tab character ('\\t') into ' ' space character\n",
    "    new_row = []\n",
    "    for element in row.split(' '): #split the row into a list of strings by separator = ' '\n",
    "        if element != '': new_row.append(element) #find the elements that are not '' and put them in the new_row list\n",
    "    data_processed.append(new_row) #add new_row as an element into data_processed list\n",
    "\n",
    "#print('Processed data list:') #display processed data\n",
    "#data_processed\n",
    "\n",
    "#Create data frame from processed data:\n",
    "df_people = pd.DataFrame(data_processed[1:],columns=data_processed[0])\n",
    "\n",
    "df_people"
   ]
  },
  {
   "cell_type": "code",
   "execution_count": 9,
   "id": "65bb0e6d-2ee9-4302-93f8-5d8670660697",
   "metadata": {},
   "outputs": [
    {
     "name": "stdout",
     "output_type": "stream",
     "text": [
      "======================================\n",
      "*** 2. Vẽ histogram cho cột Temp. ***\n",
      "======================================\n"
     ]
    },
    {
     "data": {
      "image/png": "[encoded data removed]",
      "text/plain": [
       "<Figure size 600x600 with 1 Axes>"
      ]
     },
     "metadata": {},
     "output_type": "display_data"
    }
   ],
   "source": [
    "print('======================================')\n",
    "print('*** 2. Vẽ histogram cho cột Temp. ***')\n",
    "print('======================================')\n",
    "\n",
    "df_people.Temp = pd.to_numeric(df_people.Temp, errors='coerce') #pd.to_numeric(x, errors='coerce') to convert the numeric string into numeric data\n",
    "                                                                #the errors='coerce' to convert all non-numeric into NaN values\n",
    "fig = plt.figure(figsize=(6,6))\n",
    "sbn.histplot(data=df_people, x='Temp',kde=True) \n",
    "                                                         \n",
    "plt.xlabel('Temperature (fahrenheit)')\n",
    "plt.show()"
   ]
  },
  {
   "cell_type": "code",
   "execution_count": 11,
   "id": "a27dc4b3-f09d-4fcc-9f31-c836debfcd73",
   "metadata": {},
   "outputs": [
    {
     "name": "stdout",
     "output_type": "stream",
     "text": [
      "========================================\n",
      "*** 3. Tìm thống kê chung của Tempt. ***\n",
      "========================================\n"
     ]
    },
    {
     "data": {
      "text/plain": [
       "count    130.000000\n",
       "mean      98.249231\n",
       "std        0.733183\n",
       "min       96.300000\n",
       "25%       97.800000\n",
       "50%       98.300000\n",
       "75%       98.700000\n",
       "max      100.800000\n",
       "Name: Temp, dtype: float64"
      ]
     },
     "execution_count": 11,
     "metadata": {},
     "output_type": "execute_result"
    }
   ],
   "source": [
    "print('========================================')\n",
    "print('*** 3. Tìm thống kê chung của Tempt. ***')\n",
    "print('========================================')\n",
    "\n",
    "df_people.Temp.describe()"
   ]
  },
  {
   "cell_type": "code",
   "execution_count": 13,
   "id": "7ac128c1-b31d-4776-85d5-47f27187f66a",
   "metadata": {},
   "outputs": [
    {
     "name": "stdout",
     "output_type": "stream",
     "text": [
      "=================================================\n",
      "*** 4. Tìm mean, median, mode => cho nhận xét ***\n",
      "=================================================\n",
      "\n",
      "Mean of df_people.Temp = 98.24923076923078\n",
      "\n",
      "Median of df_people.Temp = 98.3\n",
      "\n",
      "Mode of df_people.Temp = 98.0\n",
      "\n",
      "Comment: the mean, median and mode of df_people.Temp are nearly the same.\n"
     ]
    }
   ],
   "source": [
    "print('=================================================')\n",
    "print('*** 4. Tìm mean, median, mode => cho nhận xét ***')\n",
    "print('=================================================')\n",
    "\n",
    "print(f'\\nMean of df_people.Temp = {np.mean(df_people.Temp)}')\n",
    "print(f'\\nMedian of df_people.Temp = {np.median(df_people.Temp)}')\n",
    "print(f'\\nMode of df_people.Temp = {stats.mode(df_people.Temp)[0]}')\n",
    "\n",
    "print('\\nComment: the mean, median and mode of df_people.Temp are nearly the same.')"
   ]
  },
  {
   "cell_type": "code",
   "execution_count": 15,
   "id": "1a4b44cd-2b23-41e2-9537-4978c210f5d4",
   "metadata": {},
   "outputs": [
    {
     "name": "stdout",
     "output_type": "stream",
     "text": [
      "=================================================================================\n",
      "*** 5. Cho biết giá trị Tempt ở phân vị thứ [0, 1, 2, 2.5, 97.5, 98, 99, 100] ***\n",
      "=================================================================================\n",
      "\n",
      "0-th percentile of df_people.Temp = 96.3\n",
      "1-th percentile of df_people.Temp = 96.48700000000001\n",
      "2-th percentile of df_people.Temp = 96.7\n",
      "2.5-th percentile of df_people.Temp = 96.7225\n",
      "97.5-th percentile of df_people.Temp = 99.4775\n",
      "98-th percentile of df_people.Temp = 99.668\n",
      "99-th percentile of df_people.Temp = 99.971\n",
      "100-th percentile of df_people.Temp = 100.8\n"
     ]
    }
   ],
   "source": [
    "print('=================================================================================')\n",
    "print('*** 5. Cho biết giá trị Tempt ở phân vị thứ [0, 1, 2, 2.5, 97.5, 98, 99, 100] ***')\n",
    "print('=================================================================================')\n",
    "\n",
    "qth_list = [0, 1, 2, 2.5, 97.5, 98, 99, 100]\n",
    "\n",
    "temp_perc_value = np.percentile(df_people.Temp, qth_list)\n",
    "\n",
    "print()\n",
    "for i in range(len(qth_list)):\n",
    "    print(f'{qth_list[i]}-th percentile of df_people.Temp = {temp_perc_value[i]}')"
   ]
  },
  {
   "cell_type": "code",
   "execution_count": 17,
   "id": "e168acf9-4bc4-4818-82ca-463df73f918c",
   "metadata": {},
   "outputs": [
    {
     "name": "stdout",
     "output_type": "stream",
     "text": [
      "=====================================================================================================================================\n",
      "***  6. Tạo bộ mẫu có 10.000 \"temperatures\" theo normal distribution với mean, std của bộ dữ liệu trên. Vẽ histogram để quan sát. ***\n",
      "=====================================================================================================================================\n"
     ]
    },
    {
     "data": {
      "text/plain": [
       "Text(0.5, 0, 'Temperature (fahrenheit)')"
      ]
     },
     "execution_count": 17,
     "metadata": {},
     "output_type": "execute_result"
    },
    {
     "data": {
      "image/png": "[encoded data removed]",
      "text/plain": [
       "<Figure size 640x480 with 1 Axes>"
      ]
     },
     "metadata": {},
     "output_type": "display_data"
    }
   ],
   "source": [
    "print('=====================================================================================================================================')\n",
    "print('***  6. Tạo bộ mẫu có 10.000 \"temperatures\" theo normal distribution với mean, std của bộ dữ liệu trên. Vẽ histogram để quan sát. ***')\n",
    "print('=====================================================================================================================================')\n",
    "\n",
    "mean_temp = np.mean(df_people.Temp)\n",
    "std_temp = np.std(df_people.Temp)\n",
    "\n",
    "temp_norm = stats.norm.rvs(loc = mean_temp, scale = std_temp, size = 10000)\n",
    "\n",
    "sbn.histplot(temp_norm, kde=True)\n",
    "plt.xlabel('Temperature (fahrenheit)')"
   ]
  },
  {
   "cell_type": "code",
   "execution_count": 19,
   "id": "40fa8e8f-2d0e-4bd1-9822-c255ed333a6b",
   "metadata": {},
   "outputs": [
    {
     "name": "stdout",
     "output_type": "stream",
     "text": [
      "================================================================\n",
      "***  7. Cho biết Three-Sigma-Rules ở các khoảng thứ 1, 2, 3. ***\n",
      "================================================================\n",
      "\n",
      "Three sigmas of df_people.Temp at 1, 2 and 3: [0.730357778905038, 1.460715557810076, 2.191073336715114]\n"
     ]
    }
   ],
   "source": [
    "print('================================================================')\n",
    "print('***  7. Cho biết Three-Sigma-Rules ở các khoảng thứ 1, 2, 3. ***')\n",
    "print('================================================================')\n",
    "\n",
    "#sigma here is the standard deviation\n",
    "\n",
    "three_sigma = [std_temp, std_temp*2, std_temp*3]\n",
    "\n",
    "print('\\nThree sigmas of df_people.Temp at 1, 2 and 3:',three_sigma)"
   ]
  },
  {
   "cell_type": "code",
   "execution_count": 29,
   "id": "24c38ccd-79e7-46aa-bfb3-49c3527ac232",
   "metadata": {},
   "outputs": [
    {
     "name": "stdout",
     "output_type": "stream",
     "text": [
      "========================================================================\n",
      "***  8. Tìm z-score cho thân nhiệt 99.5. Xác định phân vị tương ứng. ***\n",
      "========================================================================\n",
      "\n",
      "Z-score of 99.5 fahrenheit = 1.7125431766392523\n",
      "\n",
      "Q-th percentile of 99.5 fahrenheit = 98-th\n"
     ]
    }
   ],
   "source": [
    "print('========================================================================')\n",
    "print('***  8. Tìm z-score cho thân nhiệt 99.5. Xác định phân vị tương ứng. ***')\n",
    "print('========================================================================')\n",
    "\n",
    "z_99_point_5 = (99.5 - mean_temp)/std_temp\n",
    "print(f'\\nZ-score of 99.5 fahrenheit = {z_99_point_5}')\n",
    "\n",
    "P_99_point_5 = np.extract(df_people.Temp <= 99.5, df_people.Temp).size/df_people.Temp.size\n",
    "print(f'\\nQ-th percentile of 99.5 fahrenheit = {round(P_99_point_5*100)}-th')"
   ]
  }
 ],
 "metadata": {
  "kernelspec": {
   "display_name": "Python 3 (ipykernel)",
   "language": "python",
   "name": "python3"
  },
  "language_info": {
   "codemirror_mode": {
    "name": "ipython",
    "version": 3
   },
   "file_extension": ".py",
   "mimetype": "text/x-python",
   "name": "python",
   "nbconvert_exporter": "python",
   "pygments_lexer": "ipython3",
   "version": "3.12.7"
  }
 },
 "nbformat": 4,
 "nbformat_minor": 5
}
