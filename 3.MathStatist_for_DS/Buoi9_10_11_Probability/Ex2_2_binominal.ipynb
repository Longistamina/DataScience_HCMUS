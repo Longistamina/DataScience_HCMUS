{
 "cells": [
  {
   "cell_type": "code",
   "execution_count": 2,
   "id": "5a315f7c-a8ef-40d1-9df8-2472bf7f7034",
   "metadata": {},
   "outputs": [
    {
     "name": "stdout",
     "output_type": "stream",
     "text": [
      "\n"
     ]
    }
   ],
   "source": [
    "\"\"\"=============================================================================\n",
    "    Có 60% người mua xe thể thao là nam giới.  \n",
    "        1. Chọn loại phân phối. Tạo ra 10 mẫu (ngẫu nhiên) theo mô tả trên \n",
    "           với số lần lặp lại các thí nghiệm là 1000\n",
    "        2. Vẽ histogram quan sát. Nhận xét.\n",
    "        3. Trong 10 chủ xe thể thao được chọn ngẫu nhiên, tính xs có 7 nam giới.\n",
    "=============================================================================\"\"\"\n",
    "\n",
    "#Probability of X wanted cases out of N experiments within Size trials\n",
    "# X~binom(n, p, size)\n",
    "\n",
    "print()"
   ]
  },
  {
   "cell_type": "code",
   "execution_count": 3,
   "id": "ba1d9c9e-cf6a-4146-ab3b-d1e578d3c6b6",
   "metadata": {},
   "outputs": [],
   "source": [
    "import pandas as pd\n",
    "from scipy import stats\n",
    "import seaborn as sbn\n",
    "import matplotlib.pyplot as plt\n",
    "import numpy as np"
   ]
  },
  {
   "cell_type": "code",
   "execution_count": 6,
   "id": "13af6060-46ee-4873-a4e4-2c9ff862a9e7",
   "metadata": {},
   "outputs": [],
   "source": [
    "#-------------------------------------------------------------------------------\n",
    "#  Hàm tính tổ hợp n chập k\n",
    "#  Vơi Python 3.8 thì dùng math.comb(n, k)\n",
    "#-------------------------------------------------------------------------------\n",
    "def combination(n, k):\n",
    "    # n!/(k!)(n-k)!\n",
    "    numerator   = math.factorial(n) #Giai thừa\n",
    "    denominator = math.factorial(k) * math.factorial(n - k)\n",
    "\n",
    "    return (numerator / denominator)\n",
    "\n",
    "import math"
   ]
  },
  {
   "cell_type": "code",
   "execution_count": 8,
   "id": "d55b5644-65a2-4eab-8f20-0daf249e1809",
   "metadata": {},
   "outputs": [
    {
     "name": "stdout",
     "output_type": "stream",
     "text": [
      "=====================================================================================================================\n",
      "*** 1. Chọn loại phân phối. Tạo ra 10 mẫu (ngẫu nhiên) theo mô tả trên, với số lần lặp lại các thí nghiệm là 1000 ***\n",
      "=====================================================================================================================\n",
      "sport_10_06men_1000 = stats.binom.rvs(n=10, p=0.6, size=1000)\n"
     ]
    }
   ],
   "source": [
    "print('=====================================================================================================================')\n",
    "print('*** 1. Chọn loại phân phối. Tạo ra 10 mẫu (ngẫu nhiên) theo mô tả trên, với số lần lặp lại các thí nghiệm là 1000 ***')\n",
    "print('=====================================================================================================================')\n",
    "\n",
    "#Choose binominal distribution X~binominal(n, p, size)\n",
    "n = 10 #number of observations\n",
    "p = 0.6 #probability of wanted observations\n",
    "size = 1000 #number of trials (repetition of experiment)\n",
    "\n",
    "sport_10_06men_1000 = stats.binom.rvs(n=n, p=p, size=size)\n",
    "print('sport_10_06men_1000 = stats.binom.rvs(n=10, p=0.6, size=1000)')"
   ]
  },
  {
   "cell_type": "code",
   "execution_count": 10,
   "id": "55c28569-c2f7-44cf-aef7-35d4e9a96b42",
   "metadata": {},
   "outputs": [
    {
     "name": "stdout",
     "output_type": "stream",
     "text": [
      "===========================================\n",
      "*** 2. Vẽ histogram quan sát. Nhận xét. ***\n",
      "===========================================\n"
     ]
    },
    {
     "data": {
      "image/png": "[encoded data removed]",
      "text/plain": [
       "<Figure size 640x480 with 1 Axes>"
      ]
     },
     "metadata": {},
     "output_type": "display_data"
    },
    {
     "name": "stdout",
     "output_type": "stream",
     "text": [
      "\n",
      "Comments:\n",
      "  1: Out of 1000 trials, there are about 275 trials having 6 men / 10 people obtaining sport cars, also the largest count\n",
      "  2: The distribution and the density plot resembles normal distribution\n"
     ]
    }
   ],
   "source": [
    "print('===========================================')\n",
    "print('*** 2. Vẽ histogram quan sát. Nhận xét. ***')\n",
    "print('===========================================')\n",
    "\n",
    "sbn.set_theme(style='darkgrid')\n",
    "sbn.histplot(sport_10_06men_1000, kde=True)\n",
    "plt.xlabel('The number of men having sport cars out of 10 people')\n",
    "plt.show()\n",
    "\n",
    "print('\\nComments:')\n",
    "print('  1: Out of 1000 trials, there are about 275 trials having 6 men / 10 people obtaining sport cars, also the largest count')\n",
    "print('  2: The distribution and the density plot resembles normal distribution')"
   ]
  },
  {
   "cell_type": "code",
   "execution_count": 12,
   "id": "5d944ef5-a248-4722-80b4-c4563127231c",
   "metadata": {},
   "outputs": [
    {
     "name": "stdout",
     "output_type": "stream",
     "text": [
      "================================================================================\n",
      "*** 3. Trong 10 chủ xe thể thao được chọn ngẫu nhiên, tính xs có 7 nam giới. ***\n",
      "================================================================================\n",
      "Probalbility of drawing 7 men having sport cars within 10 people out of 1000 trials: 0.21499084799999998\n"
     ]
    }
   ],
   "source": [
    "print('================================================================================')\n",
    "print('*** 3. Trong 10 chủ xe thể thao được chọn ngẫu nhiên, tính xs có 7 nam giới. ***')\n",
    "print('================================================================================')\n",
    "\n",
    "P_7men_1000trials = math.comb(10,7) * math.pow(p,7) * math.pow(1-p,3)\n",
    "\n",
    "print('Probalbility of drawing 7 men having sport cars within 10 people out of 1000 trials:', P_7men_1000trials)"
   ]
  },
  {
   "cell_type": "code",
   "execution_count": 16,
   "id": "f11f8406-bde1-4813-94b6-de5b5b7c0c88",
   "metadata": {},
   "outputs": [
    {
     "data": {
      "text/html": [
       "<div>\n",
       "<style scoped>\n",
       "    .dataframe tbody tr th:only-of-type {\n",
       "        vertical-align: middle;\n",
       "    }\n",
       "\n",
       "    .dataframe tbody tr th {\n",
       "        vertical-align: top;\n",
       "    }\n",
       "\n",
       "    .dataframe thead th {\n",
       "        text-align: right;\n",
       "    }\n",
       "</style>\n",
       "<table border=\"1\" class=\"dataframe\">\n",
       "  <thead>\n",
       "    <tr style=\"text-align: right;\">\n",
       "      <th></th>\n",
       "      <th>number_of_trials_having_x</th>\n",
       "      <th>probability_of_trial</th>\n",
       "    </tr>\n",
       "    <tr>\n",
       "      <th>x_wanted_observations</th>\n",
       "      <th></th>\n",
       "      <th></th>\n",
       "    </tr>\n",
       "  </thead>\n",
       "  <tbody>\n",
       "    <tr>\n",
       "      <th>1</th>\n",
       "      <td>2</td>\n",
       "      <td>0.002</td>\n",
       "    </tr>\n",
       "    <tr>\n",
       "      <th>2</th>\n",
       "      <td>12</td>\n",
       "      <td>0.012</td>\n",
       "    </tr>\n",
       "    <tr>\n",
       "      <th>3</th>\n",
       "      <td>45</td>\n",
       "      <td>0.045</td>\n",
       "    </tr>\n",
       "    <tr>\n",
       "      <th>4</th>\n",
       "      <td>110</td>\n",
       "      <td>0.110</td>\n",
       "    </tr>\n",
       "    <tr>\n",
       "      <th>5</th>\n",
       "      <td>195</td>\n",
       "      <td>0.195</td>\n",
       "    </tr>\n",
       "    <tr>\n",
       "      <th>6</th>\n",
       "      <td>232</td>\n",
       "      <td>0.232</td>\n",
       "    </tr>\n",
       "    <tr>\n",
       "      <th>7</th>\n",
       "      <td>225</td>\n",
       "      <td>0.225</td>\n",
       "    </tr>\n",
       "    <tr>\n",
       "      <th>8</th>\n",
       "      <td>123</td>\n",
       "      <td>0.123</td>\n",
       "    </tr>\n",
       "    <tr>\n",
       "      <th>9</th>\n",
       "      <td>50</td>\n",
       "      <td>0.050</td>\n",
       "    </tr>\n",
       "    <tr>\n",
       "      <th>10</th>\n",
       "      <td>6</td>\n",
       "      <td>0.006</td>\n",
       "    </tr>\n",
       "  </tbody>\n",
       "</table>\n",
       "</div>"
      ],
      "text/plain": [
       "                       number_of_trials_having_x  probability_of_trial\n",
       "x_wanted_observations                                                 \n",
       "1                                              2                 0.002\n",
       "2                                             12                 0.012\n",
       "3                                             45                 0.045\n",
       "4                                            110                 0.110\n",
       "5                                            195                 0.195\n",
       "6                                            232                 0.232\n",
       "7                                            225                 0.225\n",
       "8                                            123                 0.123\n",
       "9                                             50                 0.050\n",
       "10                                             6                 0.006"
      ]
     },
     "execution_count": 16,
     "metadata": {},
     "output_type": "execute_result"
    }
   ],
   "source": [
    "#Create dataframe: k of wanted observation, number of trials having k sucess, probability\n",
    "\n",
    "x = np.unique(sport_10_06men_1000).tolist() #number k of wanted experiments (out of 10)\n",
    "\n",
    "trials_x =  [np.extract(sport_10_06men_1000 == i, sport_10_06men_1000).size for i in x] #number of trials having k wanted experiment (out of 1000)\n",
    "\n",
    "prob_trials = [i/1000 for i in trials_x] #probability of each number of trials\n",
    "\n",
    "df_10_06men_1000 = pd.DataFrame(\n",
    "    {'x_wanted_observations':x,\n",
    "    'number_of_trials_having_x':trials_x,\n",
    "    'probability_of_trial':prob_trials}\n",
    ")\n",
    "\n",
    "df_10_06men_1000.set_index('x_wanted_observations', inplace=True)\n",
    "\n",
    "df_10_06men_1000"
   ]
  },
  {
   "cell_type": "code",
   "execution_count": 18,
   "id": "f9175dda-e34b-44f6-84fd-0915aa95259a",
   "metadata": {},
   "outputs": [
    {
     "name": "stdout",
     "output_type": "stream",
     "text": [
      "Another example dataframe of X~binom(n=10, p=0.6, size=1000)\n"
     ]
    },
    {
     "data": {
      "text/html": [
       "<div>\n",
       "<style scoped>\n",
       "    .dataframe tbody tr th:only-of-type {\n",
       "        vertical-align: middle;\n",
       "    }\n",
       "\n",
       "    .dataframe tbody tr th {\n",
       "        vertical-align: top;\n",
       "    }\n",
       "\n",
       "    .dataframe thead th {\n",
       "        text-align: right;\n",
       "    }\n",
       "</style>\n",
       "<table border=\"1\" class=\"dataframe\">\n",
       "  <thead>\n",
       "    <tr style=\"text-align: right;\">\n",
       "      <th></th>\n",
       "      <th>number_of_trials_having_x</th>\n",
       "      <th>probability_of_trial</th>\n",
       "    </tr>\n",
       "    <tr>\n",
       "      <th>x_wanted_observations</th>\n",
       "      <th></th>\n",
       "      <th></th>\n",
       "    </tr>\n",
       "  </thead>\n",
       "  <tbody>\n",
       "    <tr>\n",
       "      <th>0</th>\n",
       "      <td>0.104858</td>\n",
       "      <td>0.000105</td>\n",
       "    </tr>\n",
       "    <tr>\n",
       "      <th>1</th>\n",
       "      <td>1.572864</td>\n",
       "      <td>0.001573</td>\n",
       "    </tr>\n",
       "    <tr>\n",
       "      <th>2</th>\n",
       "      <td>10.616832</td>\n",
       "      <td>0.010617</td>\n",
       "    </tr>\n",
       "    <tr>\n",
       "      <th>3</th>\n",
       "      <td>42.467328</td>\n",
       "      <td>0.042467</td>\n",
       "    </tr>\n",
       "    <tr>\n",
       "      <th>4</th>\n",
       "      <td>111.476736</td>\n",
       "      <td>0.111477</td>\n",
       "    </tr>\n",
       "    <tr>\n",
       "      <th>5</th>\n",
       "      <td>200.658125</td>\n",
       "      <td>0.200658</td>\n",
       "    </tr>\n",
       "    <tr>\n",
       "      <th>6</th>\n",
       "      <td>250.822656</td>\n",
       "      <td>0.250823</td>\n",
       "    </tr>\n",
       "    <tr>\n",
       "      <th>7</th>\n",
       "      <td>214.990848</td>\n",
       "      <td>0.214991</td>\n",
       "    </tr>\n",
       "    <tr>\n",
       "      <th>8</th>\n",
       "      <td>120.932352</td>\n",
       "      <td>0.120932</td>\n",
       "    </tr>\n",
       "    <tr>\n",
       "      <th>9</th>\n",
       "      <td>40.310784</td>\n",
       "      <td>0.040311</td>\n",
       "    </tr>\n",
       "    <tr>\n",
       "      <th>10</th>\n",
       "      <td>6.046618</td>\n",
       "      <td>0.006047</td>\n",
       "    </tr>\n",
       "  </tbody>\n",
       "</table>\n",
       "</div>"
      ],
      "text/plain": [
       "                       number_of_trials_having_x  probability_of_trial\n",
       "x_wanted_observations                                                 \n",
       "0                                       0.104858              0.000105\n",
       "1                                       1.572864              0.001573\n",
       "2                                      10.616832              0.010617\n",
       "3                                      42.467328              0.042467\n",
       "4                                     111.476736              0.111477\n",
       "5                                     200.658125              0.200658\n",
       "6                                     250.822656              0.250823\n",
       "7                                     214.990848              0.214991\n",
       "8                                     120.932352              0.120932\n",
       "9                                      40.310784              0.040311\n",
       "10                                      6.046618              0.006047"
      ]
     },
     "execution_count": 18,
     "metadata": {},
     "output_type": "execute_result"
    }
   ],
   "source": [
    "print('Another example dataframe of X~binom(n=10, p=0.6, size=1000)')\n",
    "\n",
    "n=10\n",
    "p=0.6\n",
    "size=1000\n",
    "\n",
    "x2 = list(range(11))\n",
    "\n",
    "x2_prob = list(math.comb(n,i) * math.pow(p,i) * math.pow(1-p, n-i) for i in x2)\n",
    "\n",
    "x2_trials = list(i*1000 for i in x2_prob)\n",
    "\n",
    "df = pd.DataFrame(\n",
    "    {'x_wanted_observations':x2,\n",
    "    'number_of_trials_having_x':x2_trials,\n",
    "    'probability_of_trial':x2_prob}\n",
    ")\n",
    "\n",
    "df.set_index('x_wanted_observations', inplace=True)\n",
    "\n",
    "df"
   ]
  },
  {
   "cell_type": "code",
   "execution_count": null,
   "id": "011aab92-93c5-4d47-844a-c8acd0529851",
   "metadata": {},
   "outputs": [],
   "source": []
  }
 ],
 "metadata": {
  "kernelspec": {
   "display_name": "Python 3 (ipykernel)",
   "language": "python",
   "name": "python3"
  },
  "language_info": {
   "codemirror_mode": {
    "name": "ipython",
    "version": 3
   },
   "file_extension": ".py",
   "mimetype": "text/x-python",
   "name": "python",
   "nbconvert_exporter": "python",
   "pygments_lexer": "ipython3",
   "version": "3.12.7"
  }
 },
 "nbformat": 4,
 "nbformat_minor": 5
}
