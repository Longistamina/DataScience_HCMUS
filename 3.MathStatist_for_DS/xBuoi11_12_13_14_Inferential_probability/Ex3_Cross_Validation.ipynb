{
 "cells": [
  {
   "cell_type": "code",
   "execution_count": 2,
   "id": "1fdca1fa-a49d-48c7-9f59-af903d5afb95",
   "metadata": {},
   "outputs": [],
   "source": [
    "'''=============================================================================\n",
    "Ex3: Hypothesis testing\n",
    "    Câu 1: Cross Validation và K-fold\n",
    "        Cho dữ liệu fruit_data_with_colors.txt\n",
    "        a) Đọc dữ liệu vào dataframe.\n",
    "        b) In thông tin shape, info, head\n",
    "        c) Bỏ 2 cột là fruit_name và fruit_subtype trong dataframe.\n",
    "           Tạo X (chứa các cột giá trị), y (là cột fruit_label)\n",
    "        d) Áp dụng train/test split cho dữ liệu X, y theo tỷ lệ 70:30. \n",
    "           In các index của mỗi bộ (train, test).\n",
    "        e) Áp dụng k-fold với n_splits = 10. In các index của mỗi bộ.\n",
    "============================================================================='''\n",
    "import pandas as pd\n",
    "from sklearn.model_selection import train_test_split, KFold"
   ]
  },
  {
   "cell_type": "code",
   "execution_count": 4,
   "id": "0f17e62c-503d-4c49-ada4-c52f5cd51aae",
   "metadata": {},
   "outputs": [],
   "source": [
    "#Assumming we have a dataset with 10000 data\n",
    "\n",
    "#Then, we divide it into 5 part:\n",
    "# 1st: 2000 data\n",
    "# 2nd: 2000 data\n",
    "# 3rd: 2000 data\n",
    "# 4th: 2000 data\n",
    "# 5th: 2000 data\n",
    "\n",
    "#After that, we conduct the model training like this:\n",
    "# Row 1: we use the 1st part for testing and 2nd, 3rd, 4th, 5th for training\n",
    "# Row 2: we use the 2nd part for testing and 1st, 3rd, 4th, 5th for training\n",
    "#.... keep doing like that until the 5th part as testing set\n",
    "\n",
    "#Finally, we calculate the average accuracy of 5 training rows to get the final result\n",
    "\n",
    "#This method is called k-fold cross validation (in this case is 5-fold)\n",
    "#With this method, all the datasets can become the test set, enhancing the reliability of our model"
   ]
  },
  {
   "cell_type": "code",
   "execution_count": 14,
   "id": "a7884554-0f74-4df0-ae5b-e8eee6c29e8a",
   "metadata": {},
   "outputs": [
    {
     "name": "stdout",
     "output_type": "stream",
     "text": [
      "=======================================================================\n",
      "*** a) Đọc dữ liệu vào dataframe.                                   ***\n",
      "=======================================================================\n"
     ]
    }
   ],
   "source": [
    "print('=======================================================================')\n",
    "print('*** a) Đọc dữ liệu vào dataframe.                                   ***')\n",
    "print('=======================================================================')\n",
    "data   = pd.read_csv('data/fruit_data_with_colors.txt', sep='\\t')"
   ]
  },
  {
   "cell_type": "code",
   "execution_count": 24,
   "id": "fe0dc3b9-bf54-4d7d-b144-bd66b21ea342",
   "metadata": {},
   "outputs": [
    {
     "name": "stdout",
     "output_type": "stream",
     "text": [
      "=======================================================================\n",
      "*** b) In thông tin shape, info, head.                              ***\n",
      "=======================================================================\n",
      "\n",
      "<class 'pandas.core.frame.DataFrame'>\n",
      "RangeIndex: 59 entries, 0 to 58\n",
      "Data columns (total 7 columns):\n",
      " #   Column         Non-Null Count  Dtype  \n",
      "---  ------         --------------  -----  \n",
      " 0   fruit_label    59 non-null     int64  \n",
      " 1   fruit_name     59 non-null     object \n",
      " 2   fruit_subtype  59 non-null     object \n",
      " 3   mass           59 non-null     int64  \n",
      " 4   width          59 non-null     float64\n",
      " 5   height         59 non-null     float64\n",
      " 6   color_score    59 non-null     float64\n",
      "dtypes: float64(3), int64(2), object(2)\n",
      "memory usage: 3.4+ KB\n",
      "\n"
     ]
    },
    {
     "data": {
      "text/html": [
       "<div>\n",
       "<style scoped>\n",
       "    .dataframe tbody tr th:only-of-type {\n",
       "        vertical-align: middle;\n",
       "    }\n",
       "\n",
       "    .dataframe tbody tr th {\n",
       "        vertical-align: top;\n",
       "    }\n",
       "\n",
       "    .dataframe thead th {\n",
       "        text-align: right;\n",
       "    }\n",
       "</style>\n",
       "<table border=\"1\" class=\"dataframe\">\n",
       "  <thead>\n",
       "    <tr style=\"text-align: right;\">\n",
       "      <th></th>\n",
       "      <th>fruit_label</th>\n",
       "      <th>fruit_name</th>\n",
       "      <th>fruit_subtype</th>\n",
       "      <th>mass</th>\n",
       "      <th>width</th>\n",
       "      <th>height</th>\n",
       "      <th>color_score</th>\n",
       "    </tr>\n",
       "  </thead>\n",
       "  <tbody>\n",
       "    <tr>\n",
       "      <th>0</th>\n",
       "      <td>1</td>\n",
       "      <td>apple</td>\n",
       "      <td>granny_smith</td>\n",
       "      <td>192</td>\n",
       "      <td>8.4</td>\n",
       "      <td>7.3</td>\n",
       "      <td>0.55</td>\n",
       "    </tr>\n",
       "    <tr>\n",
       "      <th>1</th>\n",
       "      <td>1</td>\n",
       "      <td>apple</td>\n",
       "      <td>granny_smith</td>\n",
       "      <td>180</td>\n",
       "      <td>8.0</td>\n",
       "      <td>6.8</td>\n",
       "      <td>0.59</td>\n",
       "    </tr>\n",
       "    <tr>\n",
       "      <th>2</th>\n",
       "      <td>1</td>\n",
       "      <td>apple</td>\n",
       "      <td>granny_smith</td>\n",
       "      <td>176</td>\n",
       "      <td>7.4</td>\n",
       "      <td>7.2</td>\n",
       "      <td>0.60</td>\n",
       "    </tr>\n",
       "    <tr>\n",
       "      <th>3</th>\n",
       "      <td>2</td>\n",
       "      <td>mandarin</td>\n",
       "      <td>mandarin</td>\n",
       "      <td>86</td>\n",
       "      <td>6.2</td>\n",
       "      <td>4.7</td>\n",
       "      <td>0.80</td>\n",
       "    </tr>\n",
       "    <tr>\n",
       "      <th>4</th>\n",
       "      <td>2</td>\n",
       "      <td>mandarin</td>\n",
       "      <td>mandarin</td>\n",
       "      <td>84</td>\n",
       "      <td>6.0</td>\n",
       "      <td>4.6</td>\n",
       "      <td>0.79</td>\n",
       "    </tr>\n",
       "  </tbody>\n",
       "</table>\n",
       "</div>"
      ],
      "text/plain": [
       "   fruit_label fruit_name fruit_subtype  mass  width  height  color_score\n",
       "0            1      apple  granny_smith   192    8.4     7.3         0.55\n",
       "1            1      apple  granny_smith   180    8.0     6.8         0.59\n",
       "2            1      apple  granny_smith   176    7.4     7.2         0.60\n",
       "3            2   mandarin      mandarin    86    6.2     4.7         0.80\n",
       "4            2   mandarin      mandarin    84    6.0     4.6         0.79"
      ]
     },
     "execution_count": 24,
     "metadata": {},
     "output_type": "execute_result"
    }
   ],
   "source": [
    "print('=======================================================================')\n",
    "print('*** b) In thông tin shape, info, head.                              ***')\n",
    "print('=======================================================================')\n",
    "data.shape\n",
    "print()\n",
    "data.info()\n",
    "print()\n",
    "data.head()"
   ]
  },
  {
   "cell_type": "code",
   "execution_count": 27,
   "id": "bbe93233-efd5-40d5-a171-9f69fdc5a546",
   "metadata": {},
   "outputs": [
    {
     "name": "stdout",
     "output_type": "stream",
     "text": [
      "=======================================================================\n",
      "*** c) Bỏ 2 cột là fruit_name và fruit_subtype trong dataframe.     ***\n",
      "***    Tạo X (chứa các cột giá trị), y (là cột fruit_label)         ***\n",
      "=======================================================================\n"
     ]
    }
   ],
   "source": [
    "print('=======================================================================')\n",
    "print('*** c) Bỏ 2 cột là fruit_name và fruit_subtype trong dataframe.     ***')\n",
    "print('***    Tạo X (chứa các cột giá trị), y (là cột fruit_label)         ***')                              \n",
    "print('=======================================================================')\n",
    "X = data[['mass', 'width', 'height', 'color_score']]\n",
    "y = data['fruit_label']"
   ]
  },
  {
   "cell_type": "code",
   "execution_count": 32,
   "id": "4904b7d8-3ada-41d0-ae9d-9d8ffecf40e6",
   "metadata": {},
   "outputs": [
    {
     "name": "stdout",
     "output_type": "stream",
     "text": [
      "=======================================================================\n",
      "*** d) Áp dụng train/test split cho X, y theo tỷ lệ 70:30.          ***\n",
      "***    In các index của mỗi bộ (train, test).                       ***\n",
      "=======================================================================\n",
      "Index([13, 42, 35, 15, 11, 34, 16, 30, 36,  0, 50, 44, 47, 25, 45, 28, 24,  3,\n",
      "       14,  9, 43, 18,  8, 58, 19,  7, 26, 20,  1, 37, 29, 48, 54, 31, 23, 21,\n",
      "       38, 17, 56, 27, 32],\n",
      "      dtype='int64')\n",
      "Index([12, 22, 40, 49, 52, 57, 4, 10, 39, 51, 2, 46, 53, 6, 5, 33, 55, 41], dtype='int64')\n"
     ]
    }
   ],
   "source": [
    "print('=======================================================================')\n",
    "print('*** d) Áp dụng train/test split cho X, y theo tỷ lệ 70:30.          ***')\n",
    "print('***    In các index của mỗi bộ (train, test).                       ***')\n",
    "print('=======================================================================')\n",
    "X_train, X_test, y_train, y_test = train_test_split(X, y, test_size = 0.3)\n",
    "print(X_train.index)\n",
    "print(X_test.index)"
   ]
  },
  {
   "cell_type": "code",
   "execution_count": 35,
   "id": "8e031ba3-498e-43d9-8867-17283ff1dbd6",
   "metadata": {},
   "outputs": [
    {
     "name": "stdout",
     "output_type": "stream",
     "text": [
      "=======================================================================\n",
      "*** e) Áp dụng k-fold với n_splits = 10. In các index của mỗi bộ.   ***\n",
      "=======================================================================\n",
      "*** Time: 1\n",
      "   - Train Index:  [0, 1, 3, 4, 5, 6, 7, 8, 9, 10, 11, 12, 13, 14, 15, 16, 17, 18, 19, 20, 21, 22, 23, 24, 25, 26, 27, 28, 29, 30, 31, 32, 33, 36, 37, 38, 40, 41, 42, 43, 44, 45, 46, 48, 50, 51, 52, 53, 54, 55, 56, 57, 58]\n",
      "   - Test Index:  [2, 34, 35, 39, 47, 49] \n",
      "\n",
      "*** Time: 2\n",
      "   - Train Index:  [0, 1, 2, 4, 5, 6, 7, 8, 9, 10, 11, 12, 13, 14, 15, 16, 17, 18, 20, 22, 23, 24, 25, 26, 27, 28, 29, 30, 31, 32, 33, 34, 35, 36, 37, 39, 40, 41, 42, 43, 45, 46, 47, 48, 49, 50, 51, 53, 54, 55, 56, 57, 58]\n",
      "   - Test Index:  [3, 19, 21, 38, 44, 52] \n",
      "\n",
      "*** Time: 3\n",
      "   - Train Index:  [0, 1, 2, 3, 4, 5, 6, 7, 8, 9, 11, 12, 13, 14, 15, 16, 17, 18, 19, 20, 21, 22, 23, 25, 27, 28, 29, 30, 31, 32, 33, 34, 35, 37, 38, 39, 41, 42, 43, 44, 45, 46, 47, 48, 49, 50, 52, 53, 54, 55, 56, 57, 58]\n",
      "   - Test Index:  [10, 24, 26, 36, 40, 51] \n",
      "\n",
      "*** Time: 4\n",
      "   - Train Index:  [0, 1, 2, 3, 4, 5, 6, 7, 8, 9, 10, 11, 12, 13, 14, 15, 16, 17, 18, 19, 20, 21, 22, 23, 24, 25, 26, 28, 29, 31, 32, 33, 34, 35, 36, 37, 38, 39, 40, 42, 43, 44, 45, 47, 49, 50, 51, 52, 53, 54, 56, 57, 58]\n",
      "   - Test Index:  [27, 30, 41, 46, 48, 55] \n",
      "\n",
      "*** Time: 5\n",
      "   - Train Index:  [0, 1, 2, 3, 4, 5, 6, 7, 8, 9, 10, 11, 12, 14, 15, 16, 17, 18, 19, 20, 21, 23, 24, 25, 26, 27, 28, 29, 30, 33, 34, 35, 36, 37, 38, 39, 40, 41, 42, 43, 44, 45, 46, 47, 48, 49, 51, 52, 53, 54, 55, 56, 58]\n",
      "   - Test Index:  [13, 22, 31, 32, 50, 57] \n",
      "\n",
      "*** Time: 6\n",
      "   - Train Index:  [0, 1, 2, 3, 5, 6, 7, 8, 9, 10, 11, 12, 13, 15, 16, 18, 19, 20, 21, 22, 24, 25, 26, 27, 28, 29, 30, 31, 32, 34, 35, 36, 37, 38, 39, 40, 41, 42, 43, 44, 45, 46, 47, 48, 49, 50, 51, 52, 53, 55, 56, 57, 58]\n",
      "   - Test Index:  [4, 14, 17, 23, 33, 54] \n",
      "\n",
      "*** Time: 7\n",
      "   - Train Index:  [0, 1, 2, 3, 4, 5, 6, 7, 8, 9, 10, 11, 12, 13, 14, 15, 16, 17, 19, 20, 21, 22, 23, 24, 25, 26, 27, 30, 31, 32, 33, 34, 35, 36, 37, 38, 39, 40, 41, 43, 44, 45, 46, 47, 48, 49, 50, 51, 52, 54, 55, 56, 57]\n",
      "   - Test Index:  [18, 28, 29, 42, 53, 58] \n",
      "\n",
      "*** Time: 8\n",
      "   - Train Index:  [0, 1, 2, 3, 4, 5, 8, 9, 10, 11, 12, 13, 14, 15, 16, 17, 18, 19, 21, 22, 23, 24, 26, 27, 28, 29, 30, 31, 32, 33, 34, 35, 36, 37, 38, 39, 40, 41, 42, 43, 44, 46, 47, 48, 49, 50, 51, 52, 53, 54, 55, 57, 58]\n",
      "   - Test Index:  [6, 7, 20, 25, 45, 56] \n",
      "\n",
      "*** Time: 9\n",
      "   - Train Index:  [2, 3, 4, 6, 7, 8, 9, 10, 12, 13, 14, 17, 18, 19, 20, 21, 22, 23, 24, 25, 26, 27, 28, 29, 30, 31, 32, 33, 34, 35, 36, 37, 38, 39, 40, 41, 42, 43, 44, 45, 46, 47, 48, 49, 50, 51, 52, 53, 54, 55, 56, 57, 58]\n",
      "   - Test Index:  [0, 1, 5, 11, 15, 16] \n",
      "\n",
      "*** Time: 10\n",
      "   - Train Index:  [0, 1, 2, 3, 4, 5, 6, 7, 10, 11, 13, 14, 15, 16, 17, 18, 19, 20, 21, 22, 23, 24, 25, 26, 27, 28, 29, 30, 31, 32, 33, 34, 35, 36, 38, 39, 40, 41, 42, 44, 45, 46, 47, 48, 49, 50, 51, 52, 53, 54, 55, 56, 57, 58]\n",
      "   - Test Index:  [8, 9, 12, 37, 43] \n",
      "\n"
     ]
    }
   ],
   "source": [
    "print('=======================================================================')\n",
    "print('*** e) Áp dụng k-fold với n_splits = 10. In các index của mỗi bộ.   ***')\n",
    "print('=======================================================================')\n",
    "#\n",
    "# scikit-learn.org/stable/modules/generated/sklearn.model_selection.KFold.html\n",
    "#    KFold(n_splits=5, *, shuffle=False, random_state=None)\n",
    "#       shuffle: bool (default=False)\n",
    "#                Whether to shuffle the data before splitting into batches. \n",
    "#                Note that the samples within each split will not be shuffled.\n",
    "#       random_state: int or RandomState instance (default=None)\n",
    "#                When shuffle is True, random_state affects the ordering \n",
    "#                of the indices, which controls the randomness of each fold.\n",
    "#                Otherwise, this parameter has no effect.\n",
    "#                Pass an int for reproducible output across multiple function calls.\n",
    "#\n",
    "cv = KFold(n_splits=10, shuffle=True, random_state=1) \n",
    "# random_state tương tự seed()\n",
    "time = 0\n",
    "for train_index, test_index in cv.split(X):\n",
    "    time += 1\n",
    "    print('*** Time:', time)\n",
    "    print('   - Train Index: ', train_index.tolist())\n",
    "    print('   - Test Index: ', test_index.tolist(), '\\n')\n",
    "    X_train, X_test= X.iloc[train_index.tolist()], X.iloc[test_index.tolist()]\n",
    "    y_train, y_test = y.iloc[train_index.tolist()], y.iloc[test_index.tolist()]   "
   ]
  },
  {
   "cell_type": "code",
   "execution_count": null,
   "id": "e062380d-dd00-4b2f-895a-d7a626c5b8c5",
   "metadata": {},
   "outputs": [],
   "source": []
  }
 ],
 "metadata": {
  "kernelspec": {
   "display_name": "Python 3 (ipykernel)",
   "language": "python",
   "name": "python3"
  },
  "language_info": {
   "codemirror_mode": {
    "name": "ipython",
    "version": 3
   },
   "file_extension": ".py",
   "mimetype": "text/x-python",
   "name": "python",
   "nbconvert_exporter": "python",
   "pygments_lexer": "ipython3",
   "version": "3.12.7"
  }
 },
 "nbformat": 4,
 "nbformat_minor": 5
}
