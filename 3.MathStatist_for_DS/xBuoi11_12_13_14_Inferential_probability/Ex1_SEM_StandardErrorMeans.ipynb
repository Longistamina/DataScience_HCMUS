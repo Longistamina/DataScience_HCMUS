{
 "cells": [
  {
   "cell_type": "code",
   "execution_count": 2,
   "id": "f63410b7-62ba-45dd-9d9b-20590399446b",
   "metadata": {},
   "outputs": [],
   "source": [
    "\"\"\"=============================================================================\n",
    "Ex1:\n",
    "    Câu 1: SEM \n",
    "        1) Tính SEM của sample distribution với std = 38 và sample size là 45.\n",
    "        2) Tính SEM của dữ liệu sau: 14, 8, 11, 12, 16, 10\n",
    "        3) Một số điểm IQ như sau: 96, 104, 126, 134, 140. Tính SEM.\n",
    "=============================================================================\"\"\"\n",
    "# Tham khảo: https://math.tutorvista.com/algebra/standard-error-of-the-mean.html\n",
    "import numpy  as np\n",
    "import math"
   ]
  },
  {
   "cell_type": "code",
   "execution_count": 4,
   "id": "ff2dee60-28c0-4e21-891f-49f09a140fda",
   "metadata": {},
   "outputs": [
    {
     "name": "stdout",
     "output_type": "stream",
     "text": [
      "=======================================================================\n",
      "*** 1) Tính SEM của sample distribution: std = 38, sample size = 45.***\n",
      "=======================================================================\n",
      "Standard error of means (SEM) = std/sqrt(sample_size) = 38/6.708203932499369 = 5.664705542999467\n"
     ]
    }
   ],
   "source": [
    "print('=======================================================================')\n",
    "print('*** 1) Tính SEM của sample distribution: std = 38, sample size = 45.***')\n",
    "print('=======================================================================')\n",
    "std = 38\n",
    "sample_size = 45\n",
    "\n",
    "SEM = std / math.sqrt(sample_size)\n",
    "\n",
    "print(f'Standard error of means (SEM) = std/sqrt(sample_size) = {std}/{math.sqrt(sample_size)} = {SEM}')"
   ]
  },
  {
   "cell_type": "code",
   "execution_count": 6,
   "id": "c3657992-0382-4aba-b167-d9882b4891d5",
   "metadata": {},
   "outputs": [
    {
     "name": "stdout",
     "output_type": "stream",
     "text": [
      "=======================================================================\n",
      "*** 2) Tính SEM của dữ liệu sau: 14, 8, 11, 12, 16, 10.             ***\n",
      "=======================================================================\n",
      "SEM of this data = 1.065016084037823\n"
     ]
    }
   ],
   "source": [
    "print('=======================================================================')\n",
    "print('*** 2) Tính SEM của dữ liệu sau: 14, 8, 11, 12, 16, 10.             ***')\n",
    "print('=======================================================================')\n",
    "data = np.array([14, 8, 11, 12, 16, 10])\n",
    "\n",
    "std2 = np.std(data)\n",
    "\n",
    "print(f'SEM of this data = {std2/math.sqrt(data.size)}')"
   ]
  },
  {
   "cell_type": "code",
   "execution_count": 8,
   "id": "2dfe9cc8-0d6d-4040-848f-4d248bfd9a97",
   "metadata": {},
   "outputs": [
    {
     "name": "stdout",
     "output_type": "stream",
     "text": [
      "=======================================================================\n",
      "*** 3) Một số điểm IQ như sau: 96, 104, 126, 134, 140. Tính SEM.    ***\n",
      "=======================================================================\n",
      "SEM = 6.985700 \n",
      "\n"
     ]
    }
   ],
   "source": [
    "print('=======================================================================')\n",
    "print('*** 3) Một số điểm IQ như sau: 96, 104, 126, 134, 140. Tính SEM.    ***')\n",
    "print('=======================================================================')\n",
    "IQ  = np.array([96, 104, 126, 134, 140])\n",
    "std = np.std(IQ)\n",
    "\n",
    "SEM = std / (data.size**0.5)\n",
    "print('SEM = %f \\n' %SEM)"
   ]
  }
 ],
 "metadata": {
  "kernelspec": {
   "display_name": "Python 3 (ipykernel)",
   "language": "python",
   "name": "python3"
  },
  "language_info": {
   "codemirror_mode": {
    "name": "ipython",
    "version": 3
   },
   "file_extension": ".py",
   "mimetype": "text/x-python",
   "name": "python",
   "nbconvert_exporter": "python",
   "pygments_lexer": "ipython3",
   "version": "3.12.7"
  }
 },
 "nbformat": 4,
 "nbformat_minor": 5
}
