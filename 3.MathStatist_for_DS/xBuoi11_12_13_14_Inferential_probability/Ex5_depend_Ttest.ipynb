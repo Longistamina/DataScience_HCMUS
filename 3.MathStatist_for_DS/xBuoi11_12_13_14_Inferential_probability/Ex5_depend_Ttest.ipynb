{
 "cells": [
  {
   "cell_type": "code",
   "execution_count": 17,
   "id": "c1f5b55d-364e-40bc-b25f-e15b8b47d2d6",
   "metadata": {},
   "outputs": [],
   "source": [
    "\"\"\"=============================================================================\n",
    "Ex3: Hypothesis testing\n",
    "    Câu 3: P-test và T-test\n",
    "        Cho 2 bộ dữ liệu phụ thuộc nhau như sau:\n",
    "            np.random.seed(11)\n",
    "            before = stats.norm.rvs(scale=30, loc=250, size=100)\n",
    "            after  = before + stats.norm.rvs(scale=5, loc=-1.25, size=100) \n",
    "        a) Tạo dataframe chứa before, after, và change = after - before.\n",
    "        b) Áp dụng t-test để kiểm định H0: 'The mean are equal', với alpha = 0.05\n",
    "\n",
    "=============================================================================\"\"\"\n",
    "import numpy       as np\n",
    "import pandas      as pd\n",
    "import scipy.stats as stats"
   ]
  },
  {
   "cell_type": "code",
   "execution_count": 19,
   "id": "1f3c9fdc-7eca-42c9-9cf7-62cfc5b7e672",
   "metadata": {},
   "outputs": [],
   "source": [
    "#Dependent t-test is used for testing two samples coming from the same object\n",
    "# example: compare the blood sugar of the same patients before and after a treatment..."
   ]
  },
  {
   "cell_type": "code",
   "execution_count": 23,
   "id": "9fea2ba2-5a4c-4cd2-92e7-991ea50afc77",
   "metadata": {},
   "outputs": [],
   "source": [
    "np.random.seed(11)\n",
    "before = stats.norm.rvs(scale=30, loc=250, size=100)\n",
    "after  = before + stats.norm.rvs(scale=5, loc=-1.25, size=100)\n",
    "change = after - before"
   ]
  },
  {
   "cell_type": "code",
   "execution_count": 36,
   "id": "7e1ae23b-4fdc-42a6-99fc-c212bd6dd25d",
   "metadata": {},
   "outputs": [
    {
     "name": "stdout",
     "output_type": "stream",
     "text": [
      "=======================================================================\n",
      "*** Tạo dataframe chứa before, after, và change = after - before.   ***\n",
      "=======================================================================\n",
      "       before       after    change\n",
      "0  302.483642  305.605006  3.121364\n",
      "1  241.417810  240.526071 -0.891739\n",
      "2  235.463046  226.017788 -9.445258\n",
      "3  170.400443  165.913930 -4.486513\n",
      "4  249.751461  252.590309  2.838848\n",
      "\n",
      "df.describe()\n",
      "            before       after      change\n",
      "count  100.000000  100.000000  100.000000\n",
      "mean   250.345546  249.115171   -1.230375\n",
      "std     28.132539   28.422183    4.783696\n",
      "min    170.400443  165.913930  -11.495286\n",
      "25%    230.421042  229.148236   -4.046211\n",
      "50%    250.830805  251.134089   -1.413463\n",
      "75%    270.637145  268.927258    1.738673\n",
      "max    314.700233  316.720357    9.759282\n"
     ]
    }
   ],
   "source": [
    "print('========================================================================')\n",
    "print('*** a) Tạo dataframe chứa before, after, và change = after - before. ***')\n",
    "print('========================================================================')\n",
    "\n",
    "df = pd.DataFrame({\n",
    "    \"before\":before,\n",
    "    \"after\":after,\n",
    "    \"change\":change\n",
    "})\n",
    "\n",
    "print(df.head())\n",
    "\n",
    "print('\\ndf.describe()\\n',df.describe())"
   ]
  },
  {
   "cell_type": "code",
   "execution_count": 49,
   "id": "f9138671-48a1-4645-bceb-a2fbaf2b99b6",
   "metadata": {},
   "outputs": [
    {
     "name": "stdout",
     "output_type": "stream",
     "text": [
      "================================================================================\n",
      "*** b) Áp dụng t-test để kiểm định H0: 'The mean are equal', với alpha = 0.05  *\n",
      "================================================================================\n",
      "\n",
      "------------------------------------------\n",
      "Các giả thuyết kiểm định                  \n",
      "    H0: Mean_1 = Mean_2                   \n",
      "    Ha: Mean_1 <> Mean_2                  \n",
      "------------------------------------------\n",
      "\n",
      "Method 1: use scipy.stats.ttest_rel\n",
      "TtestResult(statistic=2.5720175998568284, pvalue=0.011596444318439857, df=99)\n",
      "\n",
      "P-value = 0.012 < alpha = 0.05, reject H0, acept Ha that Mean_before <> Mean_after\n"
     ]
    }
   ],
   "source": [
    "print('================================================================================')\n",
    "print(\"*** b) Áp dụng t-test để kiểm định H0: 'The mean are equal', với alpha = 0.05  *\")\n",
    "print('================================================================================')\n",
    "print()\n",
    "print('------------------------------------------')\n",
    "print('Các giả thuyết kiểm định                  ')\n",
    "print('    H0: Mean_1 = Mean_2                   ')\n",
    "print('    Ha: Mean_1 <> Mean_2                  ')\n",
    "print('------------------------------------------')\n",
    "\n",
    "print('\\nMethod 1: use scipy.stats.ttest_rel')\n",
    "print(stats.ttest_rel(before, after, alternative='two-sided'))\n",
    "print('\\nP-value = 0.012 < alpha = 0.05, reject H0, acept Ha that Mean_before <> Mean_after')"
   ]
  },
  {
   "cell_type": "code",
   "execution_count": 57,
   "id": "837c53d5-f71e-4ac4-95ab-48d24bcc8d6f",
   "metadata": {},
   "outputs": [
    {
     "name": "stdout",
     "output_type": "stream",
     "text": [
      "Method 2:\n",
      "\n",
      "**** Phương pháp CRITICAL VALUE (giá trị tới hạn)\n",
      "    - critical value = 1.6604, statistic = 2.5720\n",
      "    Bác bỏ H0 ==> Mean_1 <> Mean_2\n",
      "\n",
      "**** Phương pháp TRỊ SỐ p (p-value) ----\n",
      "    - alpha = 0.05, p = 0.01160\n",
      "    Bác bỏ H0 ==> Mean_1 <> Mean_2\n"
     ]
    }
   ],
   "source": [
    "print('Method 2:')\n",
    "alpha            = .05\n",
    "confidence_level = 1 - alpha\n",
    "\n",
    "t, p = stats.ttest_rel(before, after)\n",
    "\n",
    "##------------------------------------------------------------------------------\n",
    "print('\\n**** Phương pháp CRITICAL VALUE (giá trị tới hạn)')\n",
    "##------------------------------------------------------------------------------    \n",
    "df       = len(before) - 1\n",
    "critical = stats.t.ppf(confidence_level, df)\n",
    "print('    - critical value = %.4f, statistic = %.4f' % (critical, t))\n",
    "\n",
    "if (abs(t) >= critical):\n",
    "    print('    Bác bỏ H0 ==> Mean_1 <> Mean_2')\n",
    "else:\n",
    "    print('    KHÔNG bác bỏ H0 ==> Mean_1 = Mean_2')\n",
    "\n",
    "\n",
    "##------------------------------------------------------------------------------\n",
    "print('\\n**** Phương pháp TRỊ SỐ p (p-value) ----')\n",
    "##------------------------------------------------------------------------------    \n",
    "print('    - alpha = %.2f, p = %.5f' % (alpha, p))\n",
    "\n",
    "if (p <= alpha):\n",
    "    print('    Bác bỏ H0 ==> Mean_1 <> Mean_2')\n",
    "else:\n",
    "    print('    KHÔNG bác bỏ H0 ==> Mean_1 = Mean_2')"
   ]
  }
 ],
 "metadata": {
  "kernelspec": {
   "display_name": "Python 3 (ipykernel)",
   "language": "python",
   "name": "python3"
  },
  "language_info": {
   "codemirror_mode": {
    "name": "ipython",
    "version": 3
   },
   "file_extension": ".py",
   "mimetype": "text/x-python",
   "name": "python",
   "nbconvert_exporter": "python",
   "pygments_lexer": "ipython3",
   "version": "3.12.7"
  }
 },
 "nbformat": 4,
 "nbformat_minor": 5
}
