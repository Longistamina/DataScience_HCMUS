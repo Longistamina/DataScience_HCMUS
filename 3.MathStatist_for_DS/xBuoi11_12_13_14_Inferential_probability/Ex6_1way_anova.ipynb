{
 "cells": [
  {
   "cell_type": "code",
   "execution_count": 3,
   "id": "f58423b1-3b09-4214-b869-2f62521a3055",
   "metadata": {},
   "outputs": [],
   "source": [
    "\"\"\"=============================================================================\n",
    "   Sở GTCC muốn kiểm tra sự an toàn của các xe nhỏ, hạng trung và cỡ lớn. \n",
    "    1. Tạo dataframe như hình vẽ.\n",
    "    2. Vẽ boxplot, quan sát kết quả.\n",
    "    3. Áp dụng ANOVA để xem có sự khác biệt đáng kể giữa 3 loại xe (alpha = 5%).\n",
    "=============================================================================\"\"\"\n",
    "import matplotlib.pyplot as plt\n",
    "import pandas            as pd\n",
    "import scipy.stats       as stats\n",
    "import seaborn           as sns\n",
    "import statsmodels.api   as sm\n",
    "\n",
    "from statsmodels.formula.api     import ols\n",
    "from statsmodels.stats.multicomp import pairwise_tukeyhsd"
   ]
  },
  {
   "cell_type": "code",
   "execution_count": 5,
   "id": "f921e861-97ec-4a01-8d77-89b42b80d079",
   "metadata": {},
   "outputs": [],
   "source": [
    "#Anova-1way is to compare many samples differing by only one factor (one categorical variable)\n",
    "# example: compare the height between 54 ethnic groups in Vietnam (the only factor here is ethnic)\n",
    "\n",
    "#The Anova only let us know if there are significant differences in the group, but not exactly what group\n",
    "#Therefore, after Anova, we have to conduct post-hoc analysis to define the exact groups where the differences occur"
   ]
  },
  {
   "cell_type": "code",
   "execution_count": 9,
   "id": "e7393a93-f359-4b1f-9b91-eeb5f85708f0",
   "metadata": {},
   "outputs": [
    {
     "name": "stdout",
     "output_type": "stream",
     "text": [
      "   S_cars  M_cars  X_cars\n",
      "0     643     469     484\n"
     ]
    }
   ],
   "source": [
    "alpha      = .05\n",
    "confidence = (1 - alpha)\n",
    "\n",
    "# 1. Tạo dataframe \n",
    "df = pd.DataFrame({'S_cars': [643, 655, 702],\n",
    "                   'M_cars': [469, 427, 525],\n",
    "                   'X_cars': [484, 456, 402]})\n",
    "\n",
    "print(df.loc[[0]])"
   ]
  },
  {
   "cell_type": "code",
   "execution_count": 32,
   "id": "6e27b1b0-3c3a-4666-a516-bbbf1a27c92e",
   "metadata": {},
   "outputs": [
    {
     "data": {
      "image/png": "[encoded data removed]",
      "text/plain": [
       "<Figure size 640x480 with 1 Axes>"
      ]
     },
     "metadata": {},
     "output_type": "display_data"
    }
   ],
   "source": [
    "# 2. Vẽ boxplot, quan sát kết quả.\n",
    "box=plt.boxplot(df, notch=True, tick_labels=list(df.columns), patch_artist=True)\n",
    "\n",
    "colors=['lightgreen','lightblue','brown']\n",
    "for patch, color in zip(box['boxes'],colors):\n",
    "    patch.set_facecolor(color)\n",
    "\n",
    "plt.show()"
   ]
  },
  {
   "cell_type": "code",
   "execution_count": 35,
   "id": "235bcfc7-2ff2-4357-8221-72a9140873cd",
   "metadata": {},
   "outputs": [
    {
     "data": {
      "text/html": [
       "<div>\n",
       "<style scoped>\n",
       "    .dataframe tbody tr th:only-of-type {\n",
       "        vertical-align: middle;\n",
       "    }\n",
       "\n",
       "    .dataframe tbody tr th {\n",
       "        vertical-align: top;\n",
       "    }\n",
       "\n",
       "    .dataframe thead th {\n",
       "        text-align: right;\n",
       "    }\n",
       "</style>\n",
       "<table border=\"1\" class=\"dataframe\">\n",
       "  <thead>\n",
       "    <tr style=\"text-align: right;\">\n",
       "      <th></th>\n",
       "      <th>index</th>\n",
       "      <th>cars</th>\n",
       "      <th>value</th>\n",
       "    </tr>\n",
       "  </thead>\n",
       "  <tbody>\n",
       "    <tr>\n",
       "      <th>0</th>\n",
       "      <td>0</td>\n",
       "      <td>S_cars</td>\n",
       "      <td>643</td>\n",
       "    </tr>\n",
       "    <tr>\n",
       "      <th>1</th>\n",
       "      <td>1</td>\n",
       "      <td>S_cars</td>\n",
       "      <td>655</td>\n",
       "    </tr>\n",
       "    <tr>\n",
       "      <th>2</th>\n",
       "      <td>2</td>\n",
       "      <td>S_cars</td>\n",
       "      <td>702</td>\n",
       "    </tr>\n",
       "    <tr>\n",
       "      <th>3</th>\n",
       "      <td>0</td>\n",
       "      <td>M_cars</td>\n",
       "      <td>469</td>\n",
       "    </tr>\n",
       "    <tr>\n",
       "      <th>4</th>\n",
       "      <td>1</td>\n",
       "      <td>M_cars</td>\n",
       "      <td>427</td>\n",
       "    </tr>\n",
       "    <tr>\n",
       "      <th>5</th>\n",
       "      <td>2</td>\n",
       "      <td>M_cars</td>\n",
       "      <td>525</td>\n",
       "    </tr>\n",
       "    <tr>\n",
       "      <th>6</th>\n",
       "      <td>0</td>\n",
       "      <td>X_cars</td>\n",
       "      <td>484</td>\n",
       "    </tr>\n",
       "    <tr>\n",
       "      <th>7</th>\n",
       "      <td>1</td>\n",
       "      <td>X_cars</td>\n",
       "      <td>456</td>\n",
       "    </tr>\n",
       "    <tr>\n",
       "      <th>8</th>\n",
       "      <td>2</td>\n",
       "      <td>X_cars</td>\n",
       "      <td>402</td>\n",
       "    </tr>\n",
       "  </tbody>\n",
       "</table>\n",
       "</div>"
      ],
      "text/plain": [
       "   index    cars  value\n",
       "0      0  S_cars    643\n",
       "1      1  S_cars    655\n",
       "2      2  S_cars    702\n",
       "3      0  M_cars    469\n",
       "4      1  M_cars    427\n",
       "5      2  M_cars    525\n",
       "6      0  X_cars    484\n",
       "7      1  X_cars    456\n",
       "8      2  X_cars    402"
      ]
     },
     "execution_count": 35,
     "metadata": {},
     "output_type": "execute_result"
    }
   ],
   "source": [
    "# 3. Áp dụng ANOVA\n",
    "# 3a) Chuẩn bị dữ liệu theo statsmodels\n",
    "df_melt = pd.melt(df.reset_index(), id_vars = ['index'],      #Create tall dataframe so that the anova function return a result table\n",
    "                  value_vars = ['S_cars', 'M_cars', 'X_cars'])\n",
    "\n",
    "# Đổi tên các cột\n",
    "df_melt.columns = ['index', 'cars', 'value']\n",
    "\n",
    "# Ordinary Least Squares (OLS) model\n",
    "model = ols('value ~ C(cars)', data = df_melt).fit()\n",
    "\n",
    "df_melt"
   ]
  },
  {
   "cell_type": "code",
   "execution_count": 42,
   "id": "c2c62d7e-a8f2-4cb7-8a2a-1a50ec32a3fd",
   "metadata": {},
   "outputs": [
    {
     "name": "stdout",
     "output_type": "stream",
     "text": [
      "-------------------------------------------------\n",
      "* Kiểm định LEVENE:                              \n",
      "    H0: VAR(S_cars) = VAR(M_cars) = VAR(X_cars)  \n",
      "    Ha: Các phương sai KHÔNG BẰNG NHAU           \n",
      "-------------------------------------------------\n",
      "* Levene-statistic = 0.1767, p-value = 0.8422\n",
      "\n",
      "P-value > alpha => không bác bỏ H0: VAR(S_cars) = VAR(M_cars) = VAR(X_cars)\n",
      "Condition of ANOVA-1way is satisfied!\n"
     ]
    }
   ],
   "source": [
    "# 3b) Kiểm định Levene: S_cars, M_cars, X_cars có cùng phương sai\n",
    "print('-------------------------------------------------')\n",
    "print('* Kiểm định LEVENE:                              ')\n",
    "print('    H0: VAR(S_cars) = VAR(M_cars) = VAR(X_cars)  ')\n",
    "print('    Ha: Các phương sai KHÔNG BẰNG NHAU           ')\n",
    "print('-------------------------------------------------')\n",
    "levene, pvalue = stats.levene(df.S_cars, df.M_cars, df.X_cars)\n",
    "print('* Levene-statistic = %.4f, p-value = %.4f' % (levene, pvalue))\n",
    "print('\\nP-value > alpha => không bác bỏ H0: VAR(S_cars) = VAR(M_cars) = VAR(X_cars)')\n",
    "print('Condition of ANOVA-1way is satisfied!')"
   ]
  },
  {
   "cell_type": "code",
   "execution_count": 47,
   "id": "5b630a4c-ab52-4027-88c0-15299881d53c",
   "metadata": {},
   "outputs": [
    {
     "name": "stdout",
     "output_type": "stream",
     "text": [
      "--------------------------------------------------\n",
      "* Kiểm định SHAPIRO                               \n",
      "    H0: S_cars, M_cars, X_cars ~ Norm(Muy, Sigma) \n",
      "    Ha: S_cars, M_cars, X_cars KHÔNG pp chuẩn     \n",
      "--------------------------------------------------\n",
      "* Shapiro-statistic = 0.9348, p-value = 0.5284\n",
      "\n",
      "p-value > alpha => không bác bỏ H0: dữ liệu được rút ra từ phân phối chuẩn.\n",
      "Condition of ANOVA-1way is satisfied!\n"
     ]
    }
   ],
   "source": [
    "# 3c) Kiểm định Shapiro: S_cars, M_cars, X_cars có pp chuẩn\n",
    "print('--------------------------------------------------')\n",
    "print('* Kiểm định SHAPIRO                               ')\n",
    "print('    H0: S_cars, M_cars, X_cars ~ Norm(Muy, Sigma) ')\n",
    "print('    Ha: S_cars, M_cars, X_cars KHÔNG pp chuẩn     ')\n",
    "print('--------------------------------------------------')\n",
    "shapiro, pvalue = stats.shapiro(model.resid)\n",
    "print('* Shapiro-statistic = %.4f, p-value = %.4f' % (shapiro, pvalue))\n",
    "print('\\np-value > alpha => không bác bỏ H0: dữ liệu được rút ra từ phân phối chuẩn.')\n",
    "print('Condition of ANOVA-1way is satisfied!')"
   ]
  },
  {
   "cell_type": "code",
   "execution_count": 53,
   "id": "d5c9a792-f828-408c-b508-cedb09e7f721",
   "metadata": {},
   "outputs": [
    {
     "name": "stdout",
     "output_type": "stream",
     "text": [
      "\n",
      "* Hàm f_oneway() chỉ trả về F-statistic và p-value; KHÔNG tạo ANOVA table\n",
      "   F-statistic = 25.1754, p-value = 0.0012\n",
      "\n",
      "Giá trị P-value có ý nghĩa về mặt thống kê (P < 0.05)\n",
      "do đó, có thể kết luận rằng có sự khác biệt đáng kể giữa các loại xe.\n",
      "\n",
      "* Hàm anova_lm() tạo ANOVA table\n",
      "                sum_sq   df          F    PR(>F)\n",
      "C(cars)   86049.555556  2.0  25.175411  0.001207\n",
      "Residual  10254.000000  6.0        NaN       NaN \n",
      "\n"
     ]
    }
   ],
   "source": [
    "# 3d) One-way ANOVA\n",
    "print('\\n* Hàm f_oneway() chỉ trả về F-statistic và p-value; KHÔNG tạo ANOVA table')\n",
    "fvalue, pvalue = stats.f_oneway(df.S_cars, df.M_cars, df.X_cars)\n",
    "print('   F-statistic = %.4f, p-value = %.4f' %(fvalue, pvalue))\n",
    "print('\\nGiá trị P-value có ý nghĩa về mặt thống kê (P < 0.05)')\n",
    "print('do đó, có thể kết luận rằng có sự khác biệt đáng kể giữa các loại xe.')\n",
    "\n",
    "print('\\n* Hàm anova_lm() tạo ANOVA table')\n",
    "anova_table = sm.stats.anova_lm(model, typ=2)\n",
    "print(anova_table, '\\n')"
   ]
  },
  {
   "cell_type": "code",
   "execution_count": 58,
   "id": "813ad306-2280-422e-949a-39dcd59b7f00",
   "metadata": {},
   "outputs": [
    {
     "name": "stdout",
     "output_type": "stream",
     "text": [
      "   Multiple Comparison of Means - Tukey HSD, FWER=0.05   \n",
      "=========================================================\n",
      "group1 group2  meandiff p-adj    lower     upper   reject\n",
      "---------------------------------------------------------\n",
      "M_cars S_cars     193.0  0.003   89.4334  296.5666   True\n",
      "M_cars X_cars  -26.3333 0.7279 -129.8999   77.2332  False\n",
      "S_cars X_cars -219.3333 0.0015 -322.8999 -115.7668   True\n",
      "---------------------------------------------------------\n",
      "\n",
      "Ngoại trừ X_cars và M_cars, tất cả các so sánh cặp khác đều bác bỏ H0\n",
      "và chỉ ra sự khác biệt đáng kể về mặt thống kê (True là cặp đó có khác biệt).\n"
     ]
    }
   ],
   "source": [
    "# 3e) Kiểm định Tukey HSD\n",
    "m_comp = pairwise_tukeyhsd(endog = df_melt['value'], groups = df_melt['cars'], alpha = 0.05)\n",
    "print(m_comp)\n",
    "\n",
    "print('\\nNgoại trừ X_cars và M_cars, tất cả các so sánh cặp khác đều bác bỏ H0')\n",
    "print('và chỉ ra sự khác biệt đáng kể về mặt thống kê (True là cặp đó có khác biệt).')"
   ]
  }
 ],
 "metadata": {
  "kernelspec": {
   "display_name": "Python 3 (ipykernel)",
   "language": "python",
   "name": "python3"
  },
  "language_info": {
   "codemirror_mode": {
    "name": "ipython",
    "version": 3
   },
   "file_extension": ".py",
   "mimetype": "text/x-python",
   "name": "python",
   "nbconvert_exporter": "python",
   "pygments_lexer": "ipython3",
   "version": "3.12.7"
  }
 },
 "nbformat": 4,
 "nbformat_minor": 5
}
