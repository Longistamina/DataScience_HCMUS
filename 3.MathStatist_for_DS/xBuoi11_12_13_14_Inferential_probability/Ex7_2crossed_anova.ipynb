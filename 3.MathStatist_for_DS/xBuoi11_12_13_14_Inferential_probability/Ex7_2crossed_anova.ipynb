{
 "cells": [
  {
   "cell_type": "code",
   "execution_count": 9,
   "id": "bc7810bd-b2de-47c4-a78b-ce63d33f1058",
   "metadata": {},
   "outputs": [],
   "source": [
    "'''=============================================================================\n",
    "   1. Cho tập tin data.xlsx. Đọc dữ liệu\n",
    "   2. Dữ liệu có 2 factors: Detergent (super, best), Temperature (hot, warm, cold).\n",
    "   3. Sử dụng ANOVA hai chiều, đánh giá chất tẩy rửa và nhiệt độ ảnh hưởng \n",
    "      như thế nào đối với chất bẩn bị loại bỏ.\n",
    "      a) Ảnh hưởng của chất tẩy rửa đến lượng chất bẩn bị loại bỏ \n",
    "      b) Ảnh hưởng của nhiệt độ đến lượng chất bẩn bị loại bỏ \n",
    "      c) Ảnh hưởng của chất tẩy rửa và nhiệt độ đến lượng chất bẩn bị loại bỏ\n",
    "      H0D: Lượng chất bẩn bị loại bỏ không phụ thuộc vào loại chất tẩy rửa.\n",
    "      H0T: Lượng chất bẩn bị loại bỏ không phụ thuộc vào nhiệt độ.\n",
    "============================================================================='''\n",
    "import pandas            as pd\n",
    "import matplotlib.pyplot as plt\n",
    "import scipy.stats       as stats\n",
    "import seaborn           as sns\n",
    "import statsmodels.api   as sm\n",
    "\n",
    "from statsmodels.formula.api     import ols\n",
    "from statsmodels.stats.multicomp import pairwise_tukeyhsd"
   ]
  },
  {
   "cell_type": "code",
   "execution_count": 11,
   "id": "4823eb09-3e64-4018-8f8a-0f7deb7a33f1",
   "metadata": {},
   "outputs": [],
   "source": [
    "#Anova-2-crossed-factor is to compare samples affected by two crossed factors (or two crossed categorical variables)\n",
    "# example: the influence of temperature and humidity on productivity of crops"
   ]
  },
  {
   "cell_type": "code",
   "execution_count": 14,
   "id": "f16ca976-22d0-4d91-9059-ac62c46080fc",
   "metadata": {},
   "outputs": [
    {
     "name": "stdout",
     "output_type": "stream",
     "text": [
      "    type  cold  warm  hot\n",
      "0  super     4     7   10\n",
      "1  super     5     9   12\n",
      "2  super     6     8   11\n",
      "3  super     5    12    9\n",
      "4   best     6    13   12\n",
      "5   best     6    15   13\n",
      "6   best     4    12   10\n",
      "7   best     4    12   13\n"
     ]
    },
    {
     "data": {
      "text/html": [
       "<div>\n",
       "<style scoped>\n",
       "    .dataframe tbody tr th:only-of-type {\n",
       "        vertical-align: middle;\n",
       "    }\n",
       "\n",
       "    .dataframe tbody tr th {\n",
       "        vertical-align: top;\n",
       "    }\n",
       "\n",
       "    .dataframe thead th {\n",
       "        text-align: right;\n",
       "    }\n",
       "</style>\n",
       "<table border=\"1\" class=\"dataframe\">\n",
       "  <thead>\n",
       "    <tr style=\"text-align: right;\">\n",
       "      <th></th>\n",
       "      <th>type</th>\n",
       "      <th>temperature</th>\n",
       "      <th>value</th>\n",
       "    </tr>\n",
       "  </thead>\n",
       "  <tbody>\n",
       "    <tr>\n",
       "      <th>0</th>\n",
       "      <td>super</td>\n",
       "      <td>cold</td>\n",
       "      <td>4</td>\n",
       "    </tr>\n",
       "    <tr>\n",
       "      <th>1</th>\n",
       "      <td>super</td>\n",
       "      <td>cold</td>\n",
       "      <td>5</td>\n",
       "    </tr>\n",
       "    <tr>\n",
       "      <th>2</th>\n",
       "      <td>super</td>\n",
       "      <td>cold</td>\n",
       "      <td>6</td>\n",
       "    </tr>\n",
       "    <tr>\n",
       "      <th>3</th>\n",
       "      <td>super</td>\n",
       "      <td>cold</td>\n",
       "      <td>5</td>\n",
       "    </tr>\n",
       "    <tr>\n",
       "      <th>4</th>\n",
       "      <td>best</td>\n",
       "      <td>cold</td>\n",
       "      <td>6</td>\n",
       "    </tr>\n",
       "  </tbody>\n",
       "</table>\n",
       "</div>"
      ],
      "text/plain": [
       "    type temperature  value\n",
       "0  super        cold      4\n",
       "1  super        cold      5\n",
       "2  super        cold      6\n",
       "3  super        cold      5\n",
       "4   best        cold      6"
      ]
     },
     "execution_count": 14,
     "metadata": {},
     "output_type": "execute_result"
    }
   ],
   "source": [
    "# 1. Đọc tập tin dữ liệu.\n",
    "folder = 'data/'\n",
    "data   = pd.read_excel(folder + 'data.xlsx')\n",
    "print(data)\n",
    "\n",
    "# Chuẩn bị dữ liệu theo statsmodels\n",
    "d_melt = pd.melt(data, id_vars=['type'], value_vars=['cold', 'warm', 'hot'])\n",
    "\n",
    "# Đổi tên các cột\n",
    "d_melt.columns = ['type', 'temperature', 'value']\n",
    "d_melt.head()"
   ]
  },
  {
   "cell_type": "code",
   "execution_count": 17,
   "id": "496a69a9-0083-42d2-a717-00636933def9",
   "metadata": {},
   "outputs": [
    {
     "data": {
      "image/png": "[encoded data removed]",
      "text/plain": [
       "<Figure size 1200x1000 with 1 Axes>"
      ]
     },
     "metadata": {},
     "output_type": "display_data"
    }
   ],
   "source": [
    "# 2. Vẽ boxplot, quan sát kết quả.\n",
    "plt.figure(figsize = (12,10))\n",
    "sns.boxplot(x='type', y='value', hue='temperature', data=d_melt, palette='Set3')\n",
    "plt.autoscale(enable=True)\n",
    "plt.show()"
   ]
  },
  {
   "cell_type": "code",
   "execution_count": 21,
   "id": "554d01e5-5b31-492d-b5fe-faf26b8ea4c2",
   "metadata": {},
   "outputs": [
    {
     "name": "stdout",
     "output_type": "stream",
     "text": [
      "-------------------------------------------------\n",
      "* Kiểm định LEVENE:                              \n",
      "    H0: Các mẫu dữ liệu có phương sai BẰNG NHAU  \n",
      "    Ha: Các phương sai KHÔNG BẰNG NHAU           \n",
      "-------------------------------------------------\n",
      "* Levene-statistic = 2.0152, p-value = 0.1583\n",
      "p-value > alpha => không bác bỏ H0: Các mẫu dữ liệu có phương sai bằng nhau\n"
     ]
    }
   ],
   "source": [
    "# Ordinary Least Squares (OLS) model\n",
    "model  = ols('value ~ C(type) + C(temperature) + C(type):C(temperature)', data=d_melt).fit()\n",
    "\n",
    "# 3. Áp dụng ANOVA.\n",
    "# 3a) Kiểm định Levene: Các mẫu dữ liệu có cùng phương sai\n",
    "print('-------------------------------------------------')\n",
    "print('* Kiểm định LEVENE:                              ')\n",
    "print('    H0: Các mẫu dữ liệu có phương sai BẰNG NHAU  ')\n",
    "print('    Ha: Các phương sai KHÔNG BẰNG NHAU           ')\n",
    "print('-------------------------------------------------')\n",
    "levene, pvalue = stats.levene(data['hot'], data['warm'], data['cold'])\n",
    "print('* Levene-statistic = %.4f, p-value = %.4f' % (levene, pvalue))\n",
    "\n",
    "print('p-value > alpha => không bác bỏ H0: Các mẫu dữ liệu có phương sai bằng nhau')"
   ]
  },
  {
   "cell_type": "code",
   "execution_count": 26,
   "id": "15cc0b87-a6ba-4cae-ab9b-5295784cead8",
   "metadata": {},
   "outputs": [
    {
     "name": "stdout",
     "output_type": "stream",
     "text": [
      "\n",
      "* Hàm anova_lm() tạo ANOVA table\n",
      "                            sum_sq    df          F        PR(>F)\n",
      "C(type)                  20.166667   1.0   9.810811  5.758440e-03\n",
      "C(temperature)          200.333333   2.0  48.729730  5.439849e-08\n",
      "C(type):C(temperature)   16.333333   2.0   3.972973  3.722434e-02\n",
      "Residual                 37.000000  18.0        NaN           NaN \n",
      "\n",
      "\n",
      "Sự khác biệt về chất tẩy rửa và nhiệt độ có ý nghĩa thống kê,\n",
      "nhưng ANOVA không cho biết chất tẩy rửa và nhiệt độ khác nhau đáng kể với nhau.\n",
      "Để biết các cặp chất tẩy rửa và nhiệt độ khác nhau đáng kể,\n",
      "thực hiện nhiều phân tích so sánh cặp bằng cách sử dụng Tukey HSD test.\n"
     ]
    }
   ],
   "source": [
    "# 3b) Two-way ANOVA\n",
    "print('\\n* Hàm anova_lm() tạo ANOVA table')\n",
    "anova_table = sm.stats.anova_lm(model, typ=2)\n",
    "print(anova_table, '\\n')\n",
    "\n",
    "print('\\nSự khác biệt về chất tẩy rửa và nhiệt độ có ý nghĩa thống kê,')\n",
    "print('nhưng ANOVA không cho biết chất tẩy rửa và nhiệt độ khác nhau đáng kể với nhau.')\n",
    "print('Để biết các cặp chất tẩy rửa và nhiệt độ khác nhau đáng kể,') \n",
    "print('thực hiện nhiều phân tích so sánh cặp bằng cách sử dụng Tukey HSD test.')"
   ]
  },
  {
   "cell_type": "code",
   "execution_count": 35,
   "id": "a8598352-eb26-4b9b-a89a-1c5e152e6457",
   "metadata": {},
   "outputs": [
    {
     "name": "stdout",
     "output_type": "stream",
     "text": [
      "Multiple Comparison of Means - Tukey HSD, FWER=0.05\n",
      "===================================================\n",
      "group1 group2 meandiff p-adj   lower  upper  reject\n",
      "---------------------------------------------------\n",
      "  best  super  -1.8333 0.1996 -4.7083 1.0416  False\n",
      "---------------------------------------------------\n",
      "type: best Multiple Comparison of Means - Tukey HSD, FWER=0.05 \n",
      "====================================================\n",
      "group1 group2 meandiff p-adj   lower   upper  reject\n",
      "----------------------------------------------------\n",
      "  cold    hot      7.0 0.0001  4.3677  9.6323   True\n",
      "  cold   warm      8.0    0.0  5.3677 10.6323   True\n",
      "   hot   warm      1.0 0.5601 -1.6323  3.6323  False\n",
      "----------------------------------------------------\n",
      "type: super Multiple Comparison of Means - Tukey HSD, FWER=0.05\n",
      "===================================================\n",
      "group1 group2 meandiff p-adj   lower  upper  reject\n",
      "---------------------------------------------------\n",
      "  cold    hot      5.5 0.0017  2.4843 8.5157   True\n",
      "  cold   warm      4.0 0.0122  0.9843 7.0157   True\n",
      "   hot   warm     -1.5 0.3863 -4.5157 1.5157  False\n",
      "---------------------------------------------------\n",
      "\n",
      "temperature: cold Multiple Comparison of Means - Tukey HSD, FWER=0.05\n",
      "==================================================\n",
      "group1 group2 meandiff p-adj  lower  upper  reject\n",
      "--------------------------------------------------\n",
      "  best  super      0.0   1.0 -1.7302 1.7302  False\n",
      "--------------------------------------------------\n",
      "temperature: hot Multiple Comparison of Means - Tukey HSD, FWER=0.05\n",
      "===================================================\n",
      "group1 group2 meandiff p-adj   lower  upper  reject\n",
      "---------------------------------------------------\n",
      "  best  super     -1.5 0.1682 -3.8427 0.8427  False\n",
      "---------------------------------------------------\n",
      "temperature: warm Multiple Comparison of Means - Tukey HSD, FWER=0.05 \n",
      "====================================================\n",
      "group1 group2 meandiff p-adj   lower   upper  reject\n",
      "----------------------------------------------------\n",
      "  best  super     -4.0 0.0212 -7.1589 -0.8411   True\n",
      "----------------------------------------------------\n"
     ]
    }
   ],
   "source": [
    "# 3c) Kiểm định Tukey HSD\n",
    "m_comp = pairwise_tukeyhsd(endog = d_melt['value'], groups = d_melt['type'], alpha=0.05)\n",
    "print(m_comp)\n",
    "\n",
    "for name, grouped_df in d_melt.groupby('type'):\n",
    "    print('type: {}'.format(name), pairwise_tukeyhsd(grouped_df['value'], \n",
    "                                                     grouped_df['temperature'], \n",
    "                                                     alpha=0.05))\n",
    "print()\n",
    "\n",
    "for name, grouped_df in d_melt.groupby('temperature'):\n",
    "   print('temperature: {}'.format(name), pairwise_tukeyhsd(grouped_df['value'], grouped_df['type'], alpha = 0.05))"
   ]
  }
 ],
 "metadata": {
  "kernelspec": {
   "display_name": "Python 3 (ipykernel)",
   "language": "python",
   "name": "python3"
  },
  "language_info": {
   "codemirror_mode": {
    "name": "ipython",
    "version": 3
   },
   "file_extension": ".py",
   "mimetype": "text/x-python",
   "name": "python",
   "nbconvert_exporter": "python",
   "pygments_lexer": "ipython3",
   "version": "3.12.7"
  }
 },
 "nbformat": 4,
 "nbformat_minor": 5
}
