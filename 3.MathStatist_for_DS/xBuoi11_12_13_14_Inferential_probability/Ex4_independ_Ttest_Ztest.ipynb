{
 "cells": [
  {
   "cell_type": "code",
   "execution_count": 3,
   "id": "1d531184-8cb3-40ba-a0a3-611455cc07a9",
   "metadata": {},
   "outputs": [],
   "source": [
    "'''=============================================================================\n",
    "Ex3: Hypothesis testing\n",
    "    Câu 2: P-test và T-test\n",
    "        Cho 2 bộ dữ liệu life_battery Chapter 5. Hai bộ dữ liệu này độc lập nhau.\n",
    "        Đọc dữ liệu và gán cho 2 biến là life1_array và life2_array.\n",
    "        Áp dụng t-test để kiểm định H0: 'The mean are equal', với alpha = 0.05\n",
    "============================================================================='''\n",
    "import numpy as np\n",
    "import matplotlib.pyplot as plt\n",
    "import scipy.stats as stats\n",
    "import pandas as pd"
   ]
  },
  {
   "cell_type": "code",
   "execution_count": 5,
   "id": "03d95ca3-1f59-46d5-9bf8-fdccc0b78047",
   "metadata": {},
   "outputs": [],
   "source": [
    "#To compare two normally distributed samples knowing their standard deviation population (sigma) => Use Z-test\n",
    "\n",
    "#If the two samples are normally distributed, but do not know the sd of population => Use T-test\n",
    "\n",
    "#If they are not normally distributed, and don't know the sigma either => use Wilcoxon rank sum test"
   ]
  },
  {
   "cell_type": "code",
   "execution_count": 7,
   "id": "7f29a6dc-6ebc-4ca4-9d3b-b53d7e1c2a6c",
   "metadata": {},
   "outputs": [
    {
     "name": "stdout",
     "output_type": "stream",
     "text": [
      "\n",
      "Batteries_1 life:\n",
      " [130 145 126 146 164 130 132 152 145 129 133 155 140 127 139 137 131 126\n",
      " 145 148 125 132 126 126 126 135 131 129 147 136 129 136 156 146 130 146\n",
      " 132 142 132 132]\n",
      "\n",
      "Batteries_2 life:\n",
      " [134 130 140 151 143 134 136 144 150 135 160 141 143 140 138 141 148 146\n",
      " 140 146 151 138 151 139 151 128 146 147 152 142 144 134 142 146 142 136\n",
      " 122 134 145 147]\n"
     ]
    }
   ],
   "source": [
    "#Cho 2 bộ dữ liệu life_battery Chapter 5. Hai bộ dữ liệu này độc lập nhau.\n",
    "#Đọc dữ liệu và gán cho 2 biến là life1_array và life2_array.\n",
    "\n",
    "f1 = open('data/life_batteries.txt')\n",
    "batt1 = np.array(f1.read().replace('\\n','\\t').strip('\\t').split('\\t'))\n",
    "f1.close()\n",
    "batt1 = batt1.astype(int)\n",
    "print('\\nBatteries_1 life:\\n',batt1)\n",
    "\n",
    "\n",
    "f2 = open('data/life_batteries_2.txt')\n",
    "batt2 = np.array(f2.read().replace('\\n','\\t').strip('\\t').split('\\t'))\n",
    "f2.close()\n",
    "batt2 = batt2.astype(int)\n",
    "print('\\nBatteries_2 life:\\n',batt2)"
   ]
  },
  {
   "cell_type": "code",
   "execution_count": 13,
   "id": "d777825f-c091-4ef5-9aa7-e63c10b1dadd",
   "metadata": {},
   "outputs": [
    {
     "name": "stdout",
     "output_type": "stream",
     "text": [
      "    batteries_life batteries_name\n",
      "0              130      battery_1\n",
      "1              145      battery_1\n",
      "2              126      battery_1\n",
      "3              146      battery_1\n",
      "4              164      battery_1\n",
      "..             ...            ...\n",
      "75             136      battery_2\n",
      "76             122      battery_2\n",
      "77             134      battery_2\n",
      "78             145      battery_2\n",
      "79             147      battery_2\n",
      "\n",
      "[80 rows x 2 columns]\n"
     ]
    },
    {
     "data": {
      "image/png": "[encoded data removed]",
      "text/plain": [
       "<Figure size 640x480 with 1 Axes>"
      ]
     },
     "metadata": {},
     "output_type": "display_data"
    },
    {
     "name": "stdout",
     "output_type": "stream",
     "text": [
      "\n",
      "Shapiro-wilk test of batteries_1: ShapiroResult(statistic=0.9043743178387402, pvalue=0.0025690561719209845)\n",
      "\n",
      "Shapiro-wilk test of batteries_2: ShapiroResult(statistic=0.9833054030492363, pvalue=0.8091436840754751)\n",
      "\n",
      "The batteries_1 group is not normally distributed => Cannot use T-test\n",
      "\n",
      "Use Mann-whitney U test instead of T-test for batt1 and batt2: MannwhitneyuResult(statistic=507.0, pvalue=0.004838315951387339)\n",
      "       p-value = 0.0048 < alpha = 0.05 => batt1 and batt2 are different samples\n",
      "\n",
      "Try out t-test for batt1 and batt2: TtestResult(statistic=-2.6113890791026946, pvalue=0.010811240390727006, df=78.0)\n",
      "       The result of t-test is the same as mann-whitney, but not for all the cases\n"
     ]
    }
   ],
   "source": [
    "#Áp dụng t-test để kiểm định H0: 'The mean are equal', với alpha = 0.05\n",
    "\n",
    "#Create dataframe batt as a tall dataframe for easier to draw boxplot\n",
    "batt = pd.DataFrame({\n",
    "    'batteries_life':np.concatenate((batt1,batt2)),\n",
    "    'batteries_name':['battery_1']*batt1.size + ['battery_2']*batt2.size\n",
    "})\n",
    "print(batt)\n",
    "\n",
    "#Draw notch boxplot to see the difference\n",
    "box = plt.boxplot([batt1,batt2], tick_labels=['Battery_1','Battery_2'], notch=True, patch_artist=True)\n",
    "\n",
    "# Set box colors\n",
    "colors = ['lightblue', 'lightgreen']\n",
    "for patch, color in zip(box['boxes'], colors):\n",
    "    patch.set_facecolor(color)\n",
    "\n",
    "plt.show()\n",
    "\n",
    "#Check shapiro-wilk test for normality\n",
    "print('\\nShapiro-wilk test of batteries_1:',stats.shapiro(batt1))\n",
    "print('\\nShapiro-wilk test of batteries_2:',stats.shapiro(batt2))\n",
    "print('\\nThe batteries_1 group is not normally distributed => Cannot use T-test')\n",
    "\n",
    "#Use Mann-whitney U test instead of T-test\n",
    "print('\\nUse Mann-whitney U test instead of T-test for batt1 and batt2:', stats.mannwhitneyu(batt1, batt2, alternative='two-sided'))\n",
    "print('       p-value = 0.0048 < alpha = 0.05 => batt1 and batt2 are different samples')\n",
    "\n",
    "print('\\nTry out t-test for batt1 and batt2:', stats.ttest_ind(batt1, batt2, alternative='two-sided'))\n",
    "print('       The result of t-test is the same as mann-whitney, but not for all the cases')"
   ]
  },
  {
   "cell_type": "code",
   "execution_count": 15,
   "id": "970ffc48-3052-4323-a731-ed8823e5e975",
   "metadata": {},
   "outputs": [
    {
     "name": "stdout",
     "output_type": "stream",
     "text": [
      "------------------------------------------\n",
      "Các giả thuyết kiểm định                  \n",
      "    H0: Mean_1 = Mean_2                   \n",
      "    Ha: Mean_1 <> Mean_2                  \n",
      "------------------------------------------\n",
      "\n",
      "**** Phương pháp CRITICAL VALUE (giá trị tới hạn)\n",
      "    - critical value = 1.6644, statistic = -2.6114\n",
      "    Bác bỏ H0 ==> Mean_1 <> Mean_2\n",
      "\n",
      "**** Phương pháp TRỊ SỐ p (p-value) ----\n",
      "    - alpha = 0.05, p = 0.01081\n",
      "    Bác bỏ H0 ==> Mean_1 <> Mean_2\n"
     ]
    }
   ],
   "source": [
    "print('------------------------------------------')\n",
    "print('Các giả thuyết kiểm định                  ')\n",
    "print('    H0: Mean_1 = Mean_2                   ')\n",
    "print('    Ha: Mean_1 <> Mean_2                  ')\n",
    "print('------------------------------------------')\n",
    "alpha            = .05\n",
    "confidence_level = 1 - alpha\n",
    "\n",
    "t, p = stats.ttest_ind(batt1, batt2)\n",
    "\n",
    "##------------------------------------------------------------------------------\n",
    "print('\\n**** Phương pháp CRITICAL VALUE (giá trị tới hạn)')\n",
    "##------------------------------------------------------------------------------    \n",
    "df       = batt.shape[0] - 1\n",
    "critical = stats.t.ppf(confidence_level, df)\n",
    "print('    - critical value = %.4f, statistic = %.4f' % (critical, t))\n",
    "\n",
    "if (abs(t) >= critical):\n",
    "    print('    Bác bỏ H0 ==> Mean_1 <> Mean_2')\n",
    "else:\n",
    "    print('    KHÔNG bác bỏ H0 ==> Mean_1 = Mean_2')\n",
    "\n",
    "\n",
    "##------------------------------------------------------------------------------\n",
    "print('\\n**** Phương pháp TRỊ SỐ p (p-value) ----')\n",
    "##------------------------------------------------------------------------------    \n",
    "print('    - alpha = %.2f, p = %.5f' % (alpha, p))\n",
    "\n",
    "if (p <= alpha):\n",
    "    print('    Bác bỏ H0 ==> Mean_1 <> Mean_2')\n",
    "else:\n",
    "    print('    KHÔNG bác bỏ H0 ==> Mean_1 = Mean_2')"
   ]
  }
 ],
 "metadata": {
  "kernelspec": {
   "display_name": "Python 3 (ipykernel)",
   "language": "python",
   "name": "python3"
  },
  "language_info": {
   "codemirror_mode": {
    "name": "ipython",
    "version": 3
   },
   "file_extension": ".py",
   "mimetype": "text/x-python",
   "name": "python",
   "nbconvert_exporter": "python",
   "pygments_lexer": "ipython3",
   "version": "3.12.7"
  }
 },
 "nbformat": 4,
 "nbformat_minor": 5
}
