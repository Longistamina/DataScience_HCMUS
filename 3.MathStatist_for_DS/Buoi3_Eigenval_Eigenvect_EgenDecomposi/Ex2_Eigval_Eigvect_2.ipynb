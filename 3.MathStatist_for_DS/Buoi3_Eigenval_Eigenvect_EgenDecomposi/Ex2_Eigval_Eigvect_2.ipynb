{
 "cells": [
  {
   "cell_type": "code",
   "execution_count": 1,
   "id": "67ac3e9e-025d-434a-b733-00040c09157f",
   "metadata": {},
   "outputs": [
    {
     "name": "stdout",
     "output_type": "stream",
     "text": [
      "\n",
      "--------------------------CAU 2----------------------------------------\n",
      "Matrix A (4, 4) =\n",
      " [[ 6 10  4  7]\n",
      " [ 7  1  1  6]\n",
      " [ 3  2  8  6]\n",
      " [ 2  4  4  2]]\n",
      "\n",
      "Matrix B = mtrA @ mtrA_T =\n",
      " [[201  98 112  82]\n",
      " [ 98  87  67  34]\n",
      " [112  67 113  58]\n",
      " [ 82  34  58  40]]\n",
      "\n",
      "Eigenvalues[0] of mtrB = (368.1259085769249 ; 0.0)\n",
      "Eigenvalues[1] of mtrB = (1.0201909792254973 ; 0.0)\n",
      "Eigenvalues[2] of mtrB = (36.87118014157712 ; 0.0)\n",
      "Eigenvalues[3] of mtrB = (34.98272030227285 ; 0.0)\n",
      "\n",
      "Eigenvectos of mtrB =\n",
      " [[ 0.71232641  0.32038221 -0.49543403  0.3801203 ]\n",
      " [ 0.4015312  -0.22977457 -0.22849815 -0.85660081]\n",
      " [ 0.48768428  0.27174888  0.82710441 -0.06492214]\n",
      " [ 0.3058232  -0.87790172  0.13502595  0.34282465]]\n"
     ]
    }
   ],
   "source": [
    "\"\"\"=============================================================================\n",
    "Ex2: EIGENDECOMPOSITION\n",
    "    Câu 2:\n",
    "        a) Tạo ma trận A(4 x 4) chứa các giá trị ngẫu nhiên trong khoảng 1 - 9\n",
    "        b) Tạo ma trận đối xứng B = A @ A.T\n",
    "        c) Phân tích eigenvalues và eigenvectors của B\n",
    "=============================================================================\"\"\"\n",
    "#mtrA = eigenvectors @ diag(eigenvalues) @ transpose(eigenvectors)\n",
    "#or mtrA = eigenvectors @ diag(eigenvalues) @ inv(eigenvectors)\n",
    "\n",
    "#This only works if all eigenvalues of A are > 0\n",
    "\n",
    "print('\\n--------------------------CAU 2----------------------------------------')\n",
    "import numpy as np\n",
    "import random\n",
    "from numpy.linalg import eig\n",
    "\n",
    "def cre_matrix(m,n,start,end):\n",
    "    matrix = []\n",
    "    for i in range(m):\n",
    "        row = []\n",
    "        for j in range(n):\n",
    "            value = random.randint(start,end+1)\n",
    "            row.append(value)\n",
    "        matrix.append(row)\n",
    "    return np.array(matrix)\n",
    "\n",
    "#a) Create matrix A(4x4) whose values range from 1 to 9\n",
    "mtrA = cre_matrix(4,4,1,9)\n",
    "print('Matrix A',mtrA.shape,'=\\n',mtrA)\n",
    "\n",
    "#b) Create matrix B = A @ A.T (THIS KIND OF MATRIX CAN ALWAYS APPLY Eigendecomposition)\n",
    "mtrB = mtrA@np.transpose(mtrA) #mtrA @ mtrA.T\n",
    "print('\\nMatrix B = mtrA @ mtrA_T =\\n',mtrB)\n",
    "print()\n",
    "\n",
    "#c) Analyze eigenvalues and eigenvectors of matrix B = A @ A.T\n",
    "eigvalB,eigvectB = eig(mtrB)\n",
    "\n",
    "for j in range(len(eigvalB)):\n",
    "    r = eigvalB[j].real\n",
    "    i = eigvalB[j].imag\n",
    "    print('Eigenvalues['+str(j)+'] of mtrB = ('+str(r)+' ; '+str(i)+')')\n",
    "\n",
    "print('\\nEigenvectos of mtrB =\\n',eigvectB)"
   ]
  },
  {
   "cell_type": "code",
   "execution_count": null,
   "id": "0971b9fe-90d6-4e2d-8635-e33121ee4bdd",
   "metadata": {},
   "outputs": [],
   "source": []
  }
 ],
 "metadata": {
  "kernelspec": {
   "display_name": "Python 3 (ipykernel)",
   "language": "python",
   "name": "python3"
  },
  "language_info": {
   "codemirror_mode": {
    "name": "ipython",
    "version": 3
   },
   "file_extension": ".py",
   "mimetype": "text/x-python",
   "name": "python",
   "nbconvert_exporter": "python",
   "pygments_lexer": "ipython3",
   "version": "3.12.7"
  }
 },
 "nbformat": 4,
 "nbformat_minor": 5
}
