{
 "cells": [
  {
   "cell_type": "code",
   "execution_count": null,
   "id": "4d16822c-1837-4a1e-be05-3632264f80a9",
   "metadata": {},
   "outputs": [],
   "source": [
    "#Theory of Singular Value Decomposition (SVD)\n",
    "# A = U.S.Vt\n",
    "#while Vt is a right-singular vectors\n",
    "#      S is a diagonal vectors, containing sqrt(eigenvalue > 0), in a descending order\n",
    "#      U is a left-singular vectors\n",
    "\n",
    "#To do a SVD of matrix A(mxn):\n",
    "#   1st: calculate a matrix P = At.A (if m>n, tall matrix, to create P(nxn) smaller)\n",
    "#                    or     P = A.At (if m<n, wide matrix, to create P(mxm) smaller)\n",
    "#   2nd: find the eigenvalues of P\n",
    "#   3rd: create S matrix by arranging the sqrt(eigval) of P into a diagonal matrix, in a desceding order\n",
    "#   4th: Calculate the inv(S) matrix by inverse the sqrt(eigval) -> 1/sqrt(eigval)\n",
    "#   5th: Calculate the eigenvectors of P\n",
    "#   6th: Normalize the eigenvectors by dividing them by their length (or module)\n",
    "#   7th: Create Vt matrix by arranging the normalized eigenvectors in rows\n",
    "#   8th: Calculate the U matrix = A.inv(S).V (V is transpose of Vt)\n",
    "#   9th: We have decomposed matrix A = U.S.Vt\n",
    "\n",
    "#The function numpy.linalg.svd(matrix) can do all the above jobs for us\n",
    "# it returns a list containing 3 sub-matrix\n",
    "# the first one [0] is U matrix\n",
    "# the second one [1] is list containing sqrt(eigval), to make S matrix, use numpy.diag(...)\n",
    "# and the third one [2] is the Vt matrix"
   ]
  },
  {
   "cell_type": "code",
   "execution_count": 3,
   "id": "f4ba58cd-3d78-4685-89ec-6764ed619591",
   "metadata": {},
   "outputs": [
    {
     "name": "stdout",
     "output_type": "stream",
     "text": [
      "--------------------------CAU 1-------------------------------\n",
      "Dataframe of ex3.csv =\n",
      "        post1  post2  post3  post4\n",
      "word                             \n",
      "ice        4      4      6      2\n",
      "snow       6      1      0      5\n",
      "tahoe      3      0      0      5\n",
      "goal       0      6      5      1\n",
      "puck       0      4      5      0\n",
      "\n",
      "The U left-singular vectors matrix of df_ex3 =\n",
      " [[-0.62610079  0.01852561  0.6259093   0.23487748 -0.40090488]\n",
      " [-0.35134826 -0.67829097  0.0779915  -0.56006159  0.311005  ]\n",
      " [-0.21940528 -0.51980146 -0.50346468  0.6484906  -0.08747016]\n",
      " [-0.51965373  0.37026259 -0.59046979 -0.38005352 -0.31586445]\n",
      " [-0.40788911  0.36371724 -0.00485878  0.25726028  0.79695031]]\n",
      "\n",
      "The S diagonal sqrt(eigenval) matrix of df_ex3 =\n",
      " [[13.3221948   0.          0.          0.        ]\n",
      " [ 0.          9.2609512   0.          0.        ]\n",
      " [ 0.          0.          2.41918664  0.        ]\n",
      " [ 0.          0.          0.          1.37892883]]\n",
      "\n",
      "The Vt transpose normalized eigenvectors matrix of df_ex3 =\n",
      " [[-0.39563365 -0.57086917 -0.6301003  -0.34721178]\n",
      " [-0.59983555  0.33174302  0.4082791  -0.60286986]\n",
      " [ 0.60400142 -0.40535325  0.32193174 -0.60599586]\n",
      " [-0.34475152 -0.63225288  0.57675103  0.38569539]]\n",
      "\n",
      "Recreate dataframe approximate dataframe df_ex3_approx = U[:,:4].dot(np.diag(S)).dot(Vt) =\n",
      "               post1         post2         post3         post4\n",
      "ice    4.000000e+00  4.000000e+00  6.000000e+00  2.000000e+00\n",
      "snow   6.000000e+00  1.000000e+00 -4.662937e-15  5.000000e+00\n",
      "tahoe  3.000000e+00  3.663736e-15 -6.439294e-15  5.000000e+00\n",
      "goal   4.357625e-15  6.000000e+00  5.000000e+00  1.000000e+00\n",
      "puck   5.578871e-15  4.000000e+00  5.000000e+00 -6.356027e-15\n",
      "\n",
      "Errors between original and approximate dataframe = df_ex3 - df_ex3_approx =\n",
      "               post1         post2         post3         post4\n",
      "word                                                         \n",
      "ice    1.776357e-15  7.549517e-15  7.105427e-15  2.442491e-15\n",
      "snow   1.332268e-14 -7.993606e-15  4.662937e-15 -8.881784e-15\n",
      "tahoe  1.243450e-14 -3.663736e-15  6.439294e-15 -7.993606e-15\n",
      "goal  -4.357625e-15  7.993606e-15  1.776357e-15  5.995204e-15\n",
      "puck  -5.578871e-15  7.549517e-15 -8.881784e-16  6.356027e-15\n"
     ]
    },
    {
     "data": {
      "text/plain": [
       "<matplotlib.colorbar.Colorbar at 0x6ffb5406caa0>"
      ]
     },
     "execution_count": 3,
     "metadata": {},
     "output_type": "execute_result"
    },
    {
     "data": {
      "image/png": "[encoded data removed]",
      "text/plain": [
       "<Figure size 640x480 with 2 Axes>"
      ]
     },
     "metadata": {},
     "output_type": "display_data"
    }
   ],
   "source": [
    "\"\"\"=============================================================================\n",
    "Ex3: SVD\n",
    "    Câu 1: \n",
    "        a) Cho tập tin ex3.csv. Đọc tập tin vào dataframe\n",
    "        b) Phân tích SVD: U, s, VT từ dataframe\n",
    "        c) Tạo dataframe mới từ U, s, VT, nhận xét và rút gọn thành phần, nếu có thể\n",
    "        d) Tìm error nếu có rút gọn thành phần \n",
    "=============================================================================\"\"\"\n",
    "print('--------------------------CAU 1-------------------------------')\n",
    "import numpy as np\n",
    "import pandas as pd #Install pandas via linux: sudo apt install python3-pandas\n",
    "\n",
    "#a) Read file ex3.csv into a dataframe\n",
    "df_ex3 = pd.read_csv('data_Buoi4/ex3.csv', index_col=0)\n",
    "print('Dataframe of ex3.csv =\\n',df_ex3)\n",
    "\n",
    "#b) Do SVD analysis for the df_ex3\n",
    "U, S, Vt = np.linalg.svd(df_ex3)\n",
    "print('\\nThe U left-singular vectors matrix of df_ex3 =\\n',U)\n",
    "print('\\nThe S diagonal sqrt(eigenval) matrix of df_ex3 =\\n',np.diag(S))\n",
    "print('\\nThe Vt transpose normalized eigenvectors matrix of df_ex3 =\\n',Vt)\n",
    "\n",
    "#c) Recreate dataframe = U.dot(S).dot(Vt)\n",
    "'''\n",
    "in this example, the size of U is 5x5, while the size of S is 4x4\n",
    "Therefore, cannot recreate an exact df_ex3 by multiplying U .dot( np.diag(S) ) .dot(Vt)\n",
    "\n",
    "So we can only use a part of matrix U to recreate an approximate dataframe (or matrix)\n",
    "In this case, I use only first 4 columns of Vt matrix, meaning Vt[:,:4] = 5x4\n",
    "By this, we can multiply Vt(5x4) with diag(S)(4x4)\n",
    "'''\n",
    "col_headers=['post1','post2','post3','post4']\n",
    "words = ['ice', 'snow', 'tahoe', 'goal', 'puck']\n",
    "\n",
    "mtr_ex3_approx = np.matrix(U[:,:4].dot(np.diag(S)).dot(Vt)) #Create approximate matrix of ex3\n",
    "\n",
    "df_ex3_approx = pd.DataFrame(mtr_ex3_approx, index=words, columns=col_headers) #Create approximate df of ex3\n",
    "\n",
    "print('\\nRecreate dataframe approximate dataframe df_ex3_approx = U[:,:4].dot(np.diag(S)).dot(Vt) =\\n',df_ex3_approx)\n",
    "\n",
    "#d) Calculate the errors between df_ex3 and df_ex3_approx\n",
    "df_ex3_errors = df_ex3 - df_ex3_approx\n",
    "print('\\nErrors between original and approximate dataframe = df_ex3 - df_ex3_approx =\\n',df_ex3_errors)\n",
    "\n",
    "## e) Hiển thị\n",
    "import matplotlib.pyplot as plt\n",
    "\n",
    "plt.imshow(Vt, interpolation = 'none')\n",
    "plt.xticks(range(len(col_headers)))\n",
    "plt.yticks(range(len(words)))\n",
    "plt.ylim([len(words) - 1.5, -.5])\n",
    "ax = plt.gca()\n",
    "ax.set_xticklabels(col_headers)\n",
    "ax.set_yticklabels(range(1, len(words) + 1))\n",
    "plt.title(\"$V$\")\n",
    "plt.colorbar()"
   ]
  },
  {
   "cell_type": "code",
   "execution_count": null,
   "id": "35412741-ca6a-43ef-91be-1b8c6f4195d1",
   "metadata": {},
   "outputs": [],
   "source": []
  }
 ],
 "metadata": {
  "kernelspec": {
   "display_name": "Python 3 (ipykernel)",
   "language": "python",
   "name": "python3"
  },
  "language_info": {
   "codemirror_mode": {
    "name": "ipython",
    "version": 3
   },
   "file_extension": ".py",
   "mimetype": "text/x-python",
   "name": "python",
   "nbconvert_exporter": "python",
   "pygments_lexer": "ipython3",
   "version": "3.12.7"
  }
 },
 "nbformat": 4,
 "nbformat_minor": 5
}
