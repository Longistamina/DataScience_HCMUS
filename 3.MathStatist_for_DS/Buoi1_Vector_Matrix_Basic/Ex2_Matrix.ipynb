{
 "cells": [
  {
   "cell_type": "code",
   "execution_count": 1,
   "id": "a64090ab-2ba0-4300-ac83-80042d70301d",
   "metadata": {},
   "outputs": [
    {
     "name": "stdout",
     "output_type": "stream",
     "text": [
      "-------------------------CAU 1---------------------------------\n",
      "Matrix m1 =\n",
      " [[1 2]\n",
      " [3 4]]\n",
      "\n",
      "Matrix m2 =\n",
      " [[5 6]\n",
      " [7 8]]\n",
      "\n",
      "m1 + m2 =\n",
      " [[ 6  8]\n",
      " [10 12]]\n",
      "\n",
      "m1 - m2 =\n",
      " [[-4 -4]\n",
      " [-4 -4]]\n",
      "\n",
      "m1 * m2 =\n",
      " [[ 5 12]\n",
      " [21 32]]\n"
     ]
    }
   ],
   "source": [
    "import numpy as np\n",
    "\"\"\"=============================================================================\n",
    "Ex2: MATRICES\n",
    "    Câu 1:\n",
    "        a) Viết hàm cal_matrices(op, m1, m2) với:\n",
    "            op là một trong các toán tử +, -, *, /\n",
    "            u và v là 2 ma trận (numpy array) \n",
    "        b) Thực hiện tính toán theo các toán tử với 2 ma trận được truyền vào.\n",
    "=============================================================================\"\"\"\n",
    "print('-------------------------CAU 1---------------------------------')\n",
    "\n",
    "def cals_matrixs (op,u,v):\n",
    "    if op == '+':\n",
    "        result = u + v\n",
    "    elif op == '-':\n",
    "        result = u - v\n",
    "    elif op == '*':\n",
    "        result = u * v\n",
    "    else:\n",
    "        result = None\n",
    "    return result\n",
    "\n",
    "m1 = np.array([[1,2],[3,4]])\n",
    "print('Matrix m1 =\\n',m1)\n",
    "print()\n",
    "m2 = np.array([[5,6],[7,8]])\n",
    "print('Matrix m2 =\\n',m2)\n",
    "print()\n",
    "\n",
    "print('m1 + m2 =\\n',cals_matrixs('+',m1,m2))\n",
    "print('\\nm1 - m2 =\\n',cals_matrixs('-',m1,m2))\n",
    "print('\\nm1 * m2 =\\n',cals_matrixs('*',m1,m2)) #Not the .dot() or @"
   ]
  },
  {
   "cell_type": "code",
   "execution_count": 2,
   "id": "cb156f85-2391-496c-862f-f30e4a3c3061",
   "metadata": {},
   "outputs": [
    {
     "name": "stdout",
     "output_type": "stream",
     "text": [
      "--------------------CAU 2----------------------------\n",
      "mA =\n",
      " [[1 3 3]\n",
      " [4 5 6]\n",
      " [7 8 9]]\n",
      "\n",
      "mB =\n",
      " [[2 3]\n",
      " [6 8]\n",
      " [5 7]]\n",
      "\n",
      "mA.dot(mB) =\n",
      " [[ 35  48]\n",
      " [ 68  94]\n",
      " [107 148]]\n",
      "\n",
      "mA @ mB =\n",
      " [[ 35  48]\n",
      " [ 68  94]\n",
      " [107 148]]\n"
     ]
    }
   ],
   "source": [
    "\"\"\"=============================================================================\n",
    "Ex2: MATRICES\n",
    "    Câu 2:\n",
    "        Cho các ma trận A = [[1, 3, 3], [4, 5, 6], [7, 8, 9]] và \n",
    "                ma trận B = [[2, 3], [6, 8], [5, 7]]\n",
    "        Thực hiện nhân 2 ma trận. \n",
    "=============================================================================\"\"\"\n",
    "print('--------------------CAU 2----------------------------')\n",
    "mA = np.array([[1, 3, 3], [4, 5, 6], [7, 8, 9]])\n",
    "mB = np.array([[2, 3], [6, 8], [5, 7]])\n",
    "print('mA =\\n',mA)\n",
    "print('\\nmB =\\n',mB)\n",
    "print('\\nmA.dot(mB) =\\n',mA.dot(mB))\n",
    "print('\\nmA @ mB =\\n',mA@mB)\n",
    "\n",
    "#Để nhân ma trận có thể dùng mA.dot(mB) hoặc mA@mB, cho kết quả như nhau"
   ]
  },
  {
   "cell_type": "code",
   "execution_count": null,
   "id": "016f6e7c-66aa-41ed-970c-cb7acf47e317",
   "metadata": {},
   "outputs": [],
   "source": []
  }
 ],
 "metadata": {
  "kernelspec": {
   "display_name": "Python 3 (ipykernel)",
   "language": "python",
   "name": "python3"
  },
  "language_info": {
   "codemirror_mode": {
    "name": "ipython",
    "version": 3
   },
   "file_extension": ".py",
   "mimetype": "text/x-python",
   "name": "python",
   "nbconvert_exporter": "python",
   "pygments_lexer": "ipython3",
   "version": "3.12.7"
  }
 },
 "nbformat": 4,
 "nbformat_minor": 5
}
