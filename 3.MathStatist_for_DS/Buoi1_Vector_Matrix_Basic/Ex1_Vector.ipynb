{
 "cells": [
  {
   "cell_type": "code",
   "execution_count": 1,
   "id": "558ce359-9aa5-4242-8d3e-cf46a92d40b1",
   "metadata": {},
   "outputs": [
    {
     "name": "stdout",
     "output_type": "stream",
     "text": [
      "-----------CAU 1-----------------\n",
      "\n",
      "Vector u = [1 3 2 5 8]\n",
      "Vector v = [ 2  5  8 10 11]\n",
      "\n",
      "u + v = [ 3  8 10 15 19]\n",
      "u - v = [-1 -2 -6 -5 -3]\n",
      "u * v = [ 2 15 16 50 88]\n",
      "u / v = [0.5        0.6        0.25       0.5        0.72727273]\n",
      "u.v = 171\n"
     ]
    }
   ],
   "source": [
    "# -*- coding: utf-8 -*-\n",
    "\"\"\"=============================================================================\n",
    "Ex1: VECTORS\n",
    "    - Câu 1:\n",
    "        a) Viết hàm cal_vectors(op, u, v) với:\n",
    "            op là một trong các toán tử +, -, *, /, \"dot\"\n",
    "            u và v là 2 vectors (numpy array) \n",
    "        b) Thực hiện tính toán theo các toán tử với 2 vectors được truyền vào.\n",
    "=============================================================================\"\"\"\n",
    "print('-----------CAU 1-----------------')\n",
    "\n",
    "import numpy as np\n",
    "\n",
    "#------Tạo hàm thực hiện các phép toán vector-----#\n",
    "def cal_vectors(op,u,v):\n",
    "    if op == '+':\n",
    "        result = u + v\n",
    "    elif op == '-':\n",
    "        result = u - v\n",
    "    elif op == '*':\n",
    "        result = u * v\n",
    "    elif op == '/':\n",
    "        result = u / v\n",
    "    elif op == 'dot':\n",
    "        result = u.dot(v)\n",
    "    else:\n",
    "        result = None\n",
    "    return result\n",
    "\n",
    "#-------Thực hiện ví dụ-----------#\n",
    "u = np.array([1,3,2,5,8]) #Tạo vector u\n",
    "print('\\nVector u =',u)\n",
    "\n",
    "v = np.array([2,5,8,10,11]) #Tạo vector v\n",
    "print('Vector v =',v)\n",
    "print()\n",
    "##Phép cộng vector\n",
    "print('u + v =',cal_vectors('+',u,v))\n",
    "\n",
    "##Phép trừ vector\n",
    "print('u - v =',cal_vectors('-',u,v))\n",
    "\n",
    "##Phép nhân vector\n",
    "print('u * v =',cal_vectors('*',u,v))\n",
    "\n",
    "##Phép chia vector\n",
    "print('u / v =',cal_vectors('/',u,v))\n",
    "\n",
    "##Phép lấy tích vô hướng vector\n",
    "print('u.v =',cal_vectors('dot',u,v))"
   ]
  },
  {
   "cell_type": "code",
   "execution_count": 2,
   "id": "8f230e68-de31-419a-b1fc-4997c080ebd6",
   "metadata": {},
   "outputs": [
    {
     "name": "stdout",
     "output_type": "stream",
     "text": [
      "----------------------------CAU 2---------------------------------------\n",
      "vtr = [ 1  3 -4  5  7  9 -6]\n",
      "L1 (Manhattan) của vtr = 35.0\n",
      "L2 (Euclid) của vtr = 14.730919862656235\n",
      "Max (Chebyshev) của vtr = 9.0\n"
     ]
    }
   ],
   "source": [
    "\"\"\"=============================================================================\n",
    "Ex1: VECTOR NORMS (Chuẩn vector, hay module vector)\n",
    "    Câu 2:\n",
    "        Viết hàm cal_vector_norm(t, v) với:\n",
    "            t là một trong các loại L1, L2, Max\n",
    "            v là vector.\n",
    "=============================================================================\"\"\"\n",
    "print('----------------------------CAU 2---------------------------------------')\n",
    "import numpy as np\n",
    "import math\n",
    "from numpy.linalg import norm\n",
    "\n",
    "def cal_vector_norm(t,v):\n",
    "    t=t.upper()\n",
    "    if t == 'L1': #Khoảng cách Manhatan (lấy tổng giá trị tuyệt đối các phần tử)\n",
    "        result = norm(v,1)\n",
    "    elif t =='L2':  #Khoảng cách Euclid (lấy căn bậc hai tổng bình phương các thành phần, giống pythago)\n",
    "        result = norm(v)\n",
    "    elif t=='MAX': #Khoảng cách Chebyshev (trả về thành phần có giá trị tuyệt đối lớn nhất )\n",
    "        result = norm(v,math.inf)\n",
    "    else:\n",
    "        result = None\n",
    "    return result\n",
    "\n",
    "vtr = np.array([1, 3, -4, 5, 7, 9, -6])\n",
    "print('vtr =',vtr,end='\\n')\n",
    "print('L1 (Manhattan) của vtr =',cal_vector_norm('L1',vtr))\n",
    "print('L2 (Euclid) của vtr =',cal_vector_norm('L2',vtr))\n",
    "print('Max (Chebyshev) của vtr =',cal_vector_norm('Max',vtr))"
   ]
  },
  {
   "cell_type": "code",
   "execution_count": null,
   "id": "3b68d50b-4121-4997-9d18-410fa35e9821",
   "metadata": {},
   "outputs": [],
   "source": []
  }
 ],
 "metadata": {
  "kernelspec": {
   "display_name": "Python 3 (ipykernel)",
   "language": "python",
   "name": "python3"
  },
  "language_info": {
   "codemirror_mode": {
    "name": "ipython",
    "version": 3
   },
   "file_extension": ".py",
   "mimetype": "text/x-python",
   "name": "python",
   "nbconvert_exporter": "python",
   "pygments_lexer": "ipython3",
   "version": "3.12.3"
  }
 },
 "nbformat": 4,
 "nbformat_minor": 5
}
