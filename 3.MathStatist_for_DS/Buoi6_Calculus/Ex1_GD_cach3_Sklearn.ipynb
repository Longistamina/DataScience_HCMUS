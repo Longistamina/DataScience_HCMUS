{
 "cells": [
  {
   "cell_type": "code",
   "execution_count": null,
   "id": "1d3212d4-5cac-4d89-a3f2-3d87be8740e6",
   "metadata": {},
   "outputs": [],
   "source": [
    "#Method 3: Using sklearn.linear_model.LinearRegression() to calculate"
   ]
  },
  {
   "cell_type": "code",
   "execution_count": 6,
   "id": "0867acdf-5e59-4163-ba83-9bc8dd5c6251",
   "metadata": {},
   "outputs": [
    {
     "name": "stdout",
     "output_type": "stream",
     "text": [
      "-------------GRADIENT DESCENT: Method 3 - Using Sklearn to calculate ---------------------------------\n"
     ]
    }
   ],
   "source": [
    "\"\"\"=============================================================================\n",
    "Ex5: Gradient Descent\n",
    "    Cho dữ liệu chiều cao heights (heights_1.txt), weights (weights_1.txt)\n",
    "        1) Tạo 2 numpy array heights và weights chứa 2 danh sách từ 2 tập tin trên.\n",
    "        2) Chuyển inches --> mét (h * 0.0254), lbs --> kg (w * 0.453592)\n",
    "        3) Trực quan hóa dữ liệu theo heights, weights\n",
    "        4) x = heights đã chuyển theo định dạng chuẩn, y = weights\n",
    "        5) Với phương trình: y = mx + b (weights = (m * heights) + b) \n",
    "            gọi hàm tính m, b: theta = gradient_descent_2(alpha, x, y, 1000)\n",
    "        6) Từ m, b (m = theta[1], b = theta[0]), dự đoán weights_predict theo m, b\n",
    "        7) Trực quan hóa dữ liệu\n",
    "        8) Với chiều cao là 1.8, 1.9, 2.0 thì cân nặng lần lượt là bao nhiêu?   \n",
    "=============================================================================\"\"\"\n",
    "print('-------------GRADIENT DESCENT: Method 3 - Using Sklearn to calculate ---------------------------------')"
   ]
  },
  {
   "cell_type": "code",
   "execution_count": 10,
   "id": "333eccc8-6c4a-4984-8c75-c4a0dfc147a1",
   "metadata": {},
   "outputs": [],
   "source": [
    "import numpy as np\n",
    "import pandas as pd\n",
    "import matplotlib.pyplot as plt\n",
    "import seaborn as sbn\n",
    "from matplotlib.gridspec import GridSpec\n",
    "from sklearn import linear_model"
   ]
  },
  {
   "cell_type": "code",
   "execution_count": 13,
   "id": "2684f5d9-7145-448b-9113-89db8a77db12",
   "metadata": {},
   "outputs": [
    {
     "name": "stdout",
     "output_type": "stream",
     "text": [
      "Heights (inches) array: [74 74 72 ... 75 75 73]\n",
      "Weights (pounds) array: [180 215 210 ... 205 190 195]\n"
     ]
    }
   ],
   "source": [
    "f1 = open('data_Buoi6/heights_1.txt', 'r')\n",
    "heights = np.array(eval(f1.read()))\n",
    "f1.close()\n",
    "print(f'Heights (inches) array: {heights}')\n",
    "\n",
    "f2 = open('data_Buoi6/weights_1.txt', 'r')\n",
    "weights = np.array(eval(f2.read()))\n",
    "print(f'Weights (pounds) array: {weights}')"
   ]
  },
  {
   "cell_type": "code",
   "execution_count": 18,
   "id": "b588871d-7b6f-41ec-a3c1-e51c7d0c2b3c",
   "metadata": {},
   "outputs": [
    {
     "name": "stdout",
     "output_type": "stream",
     "text": [
      "Heights (meters) array: [1.8796 1.8796 1.8288 ... 1.905  1.905  1.8542]\n",
      "Weights (kg) array: [81.64656 97.52228 95.25432 ... 92.98636 86.18248 88.45044]\n"
     ]
    }
   ],
   "source": [
    "#Convert unit\n",
    "heights = heights*0.0254\n",
    "print(f'Heights (meters) array: {heights}')\n",
    "\n",
    "weights = weights*0.453592\n",
    "print(f'Weights (kg) array: {weights}')"
   ]
  },
  {
   "cell_type": "code",
   "execution_count": 22,
   "id": "4826d913-4ee2-4f13-9723-012fe7bb76a1",
   "metadata": {},
   "outputs": [
    {
     "name": "stdout",
     "output_type": "stream",
     "text": [
      "Y = [81.64656 97.52228 95.25432 ... 92.98636 86.18248 88.45044]\n",
      "X = [1.8796 1.8796 1.8288 ... 1.905  1.905  1.8542]\n",
      "\n",
      "X^ = X_1 (1015, 2) =\n",
      "[[1.     1.8796]\n",
      " [1.     1.8796]\n",
      " [1.     1.8288]\n",
      " ...\n",
      " [1.     1.905 ]\n",
      " [1.     1.905 ]\n",
      " [1.     1.8542]]\n"
     ]
    }
   ],
   "source": [
    "#Set X, X_1 and Y\n",
    "y = weights\n",
    "print(f'Y = {y}')\n",
    "\n",
    "x = heights\n",
    "print(f'X = {x}')\n",
    "\n",
    "x_1 = np.c_[np.ones(x.shape), x]\n",
    "print(f'\\nX^ = X_1 {x_1.shape} =\\n{x_1}')"
   ]
  },
  {
   "cell_type": "code",
   "execution_count": 26,
   "id": "d5da4ea4-ceb7-4551-a55b-f83179380739",
   "metadata": {},
   "outputs": [
    {
     "name": "stdout",
     "output_type": "stream",
     "text": [
      "Use scikit-learn: [-68.55285156  85.42051044]\n"
     ]
    }
   ],
   "source": [
    "regr = linear_model.LinearRegression(fit_intercept = False) \n",
    "#Create a regr object from LinearRegression class\n",
    "## fit_intercept = False for calculating the bias\n",
    "\n",
    "regr.fit(x_1, y) #Apply the regr object model to x_1 and y\n",
    "\n",
    "## Print out the coef_ or theta0 and theta1\n",
    "print('Use scikit-learn:', regr.coef_)"
   ]
  },
  {
   "cell_type": "code",
   "execution_count": null,
   "id": "7cefad4b-6c70-44be-8a70-d2dc987885ed",
   "metadata": {},
   "outputs": [],
   "source": []
  }
 ],
 "metadata": {
  "kernelspec": {
   "display_name": "Python 3 (ipykernel)",
   "language": "python",
   "name": "python3"
  },
  "language_info": {
   "codemirror_mode": {
    "name": "ipython",
    "version": 3
   },
   "file_extension": ".py",
   "mimetype": "text/x-python",
   "name": "python",
   "nbconvert_exporter": "python",
   "pygments_lexer": "ipython3",
   "version": "3.12.7"
  }
 },
 "nbformat": 4,
 "nbformat_minor": 5
}
